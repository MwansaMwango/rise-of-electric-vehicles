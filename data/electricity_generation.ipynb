{
 "metadata": {
  "language_info": {
   "codemirror_mode": {
    "name": "ipython",
    "version": 3
   },
   "file_extension": ".py",
   "mimetype": "text/x-python",
   "name": "python",
   "nbconvert_exporter": "python",
   "pygments_lexer": "ipython3",
   "version": "3.6.10-final"
  },
  "orig_nbformat": 2,
  "kernelspec": {
   "name": "python3610jvsc74a57bd02bf60f7f62a9b17f7cccd910bdb7d19f5f505debd48b14e89e2e5eef6906d64c",
   "display_name": "Python 3.6.10 64-bit ('PythonData': conda)"
  }
 },
 "nbformat": 4,
 "nbformat_minor": 2,
 "cells": [
  {
   "source": [
    "# Electricity Production Data\n",
    "\n",
    "This notebook has been used to extract API data from the world bank.\n",
    "\n",
    "API electricity production data by source, country and year.  The electricity sources include:\n",
    "* Electricity production from oil, gas and coal sources\n",
    "* Renewable electricity output\n",
    "\n",
    "https://datacatalog.worldbank.org/search?search_api_views_fulltext_op=AND&query=electricity&nid=&sort_by=search_api_relevance&q=search&page=0%2C0"
   ],
   "cell_type": "markdown",
   "metadata": {}
  },
  {
   "cell_type": "code",
   "execution_count": 51,
   "metadata": {},
   "outputs": [],
   "source": [
    "# Python Dependencies\n",
    "import requests\n",
    "import json\n",
    "import pandas as pd\n",
    "import pymongo\n",
    "# import numpy as np\n",
    "# import matplotlib.pyplot as plt\n",
    "from config import api_key"
   ]
  },
  {
   "cell_type": "code",
   "execution_count": 2,
   "metadata": {},
   "outputs": [],
   "source": [
    "url = \"https://api.worldbank.org/v2/en/country/all/indicator/EG.ELC.FOSL.ZS?format=json&per_page=20000&source=2\"\n",
    "\n",
    "# Get coal data\n",
    "coal_response = requests.get(url)\n",
    "coal_json = coal_response.json()\n"
   ]
  },
  {
   "cell_type": "code",
   "execution_count": 28,
   "metadata": {
    "tags": []
   },
   "outputs": [
    {
     "output_type": "stream",
     "name": "stdout",
     "text": [
      "{'indicator': {'id': 'EG.ELC.FOSL.ZS', 'value': 'Electricity production from oil, gas and coal sources (% of total)'}, 'country': {'id': '1A', 'value': 'Arab World'}, 'countryiso3code': 'ARB', 'date': '2019', 'value': None, 'unit': '', 'obs_status': '', 'decimal': 1}\n"
     ]
    }
   ],
   "source": [
    "print(coal_json[1][1])"
   ]
  },
  {
   "cell_type": "code",
   "execution_count": 53,
   "metadata": {},
   "outputs": [
    {
     "output_type": "stream",
     "name": "stdout",
     "text": [
      "[{'id': 'EG.ELC.FOSL.ZS', 'value': 'Electricity production from oil, gas and coal sources (% of total)'}]\n"
     ]
    }
   ],
   "source": [
    "production_type = [{'id' : coal_json[1][1]['indicator']['id'], 'value' : coal_json[1][1]['indicator']['value']}]\n",
    "print(production_type)"
   ]
  },
  {
   "cell_type": "code",
   "execution_count": 55,
   "metadata": {},
   "outputs": [
    {
     "output_type": "execute_result",
     "data": {
      "text/plain": [
       "               id                                              value\n",
       "0  EG.ELC.FOSL.ZS  Electricity production from oil, gas and coal ..."
      ],
      "text/html": "<div>\n<style scoped>\n    .dataframe tbody tr th:only-of-type {\n        vertical-align: middle;\n    }\n\n    .dataframe tbody tr th {\n        vertical-align: top;\n    }\n\n    .dataframe thead th {\n        text-align: right;\n    }\n</style>\n<table border=\"1\" class=\"dataframe\">\n  <thead>\n    <tr style=\"text-align: right;\">\n      <th></th>\n      <th>id</th>\n      <th>value</th>\n    </tr>\n  </thead>\n  <tbody>\n    <tr>\n      <th>0</th>\n      <td>EG.ELC.FOSL.ZS</td>\n      <td>Electricity production from oil, gas and coal ...</td>\n    </tr>\n  </tbody>\n</table>\n</div>"
     },
     "metadata": {},
     "execution_count": 55
    }
   ],
   "source": [
    "production_type_df = pd.DataFrame(production_type)\n",
    "production_type_df"
   ]
  },
  {
   "cell_type": "code",
   "execution_count": null,
   "metadata": {},
   "outputs": [],
   "source": [
    "# useful for checking man page with options for json_normalize\r\n",
    "pd.json_normalize?"
   ]
  },
  {
   "cell_type": "code",
   "execution_count": 48,
   "metadata": {},
   "outputs": [
    {
     "output_type": "execute_result",
     "data": {
      "text/plain": [
       "  countryiso3code  date  value unit obs_status  decimal    indicator.id  \\\n",
       "0             ARB  2020    NaN                        1  EG.ELC.FOSL.ZS   \n",
       "1             ARB  2019    NaN                        1  EG.ELC.FOSL.ZS   \n",
       "2             ARB  2018    NaN                        1  EG.ELC.FOSL.ZS   \n",
       "3             ARB  2017    NaN                        1  EG.ELC.FOSL.ZS   \n",
       "4             ARB  2016    NaN                        1  EG.ELC.FOSL.ZS   \n",
       "\n",
       "                                     indicator.value country.id country.value  \n",
       "0  Electricity production from oil, gas and coal ...         1A    Arab World  \n",
       "1  Electricity production from oil, gas and coal ...         1A    Arab World  \n",
       "2  Electricity production from oil, gas and coal ...         1A    Arab World  \n",
       "3  Electricity production from oil, gas and coal ...         1A    Arab World  \n",
       "4  Electricity production from oil, gas and coal ...         1A    Arab World  "
      ],
      "text/html": "<div>\n<style scoped>\n    .dataframe tbody tr th:only-of-type {\n        vertical-align: middle;\n    }\n\n    .dataframe tbody tr th {\n        vertical-align: top;\n    }\n\n    .dataframe thead th {\n        text-align: right;\n    }\n</style>\n<table border=\"1\" class=\"dataframe\">\n  <thead>\n    <tr style=\"text-align: right;\">\n      <th></th>\n      <th>countryiso3code</th>\n      <th>date</th>\n      <th>value</th>\n      <th>unit</th>\n      <th>obs_status</th>\n      <th>decimal</th>\n      <th>indicator.id</th>\n      <th>indicator.value</th>\n      <th>country.id</th>\n      <th>country.value</th>\n    </tr>\n  </thead>\n  <tbody>\n    <tr>\n      <th>0</th>\n      <td>ARB</td>\n      <td>2020</td>\n      <td>NaN</td>\n      <td></td>\n      <td></td>\n      <td>1</td>\n      <td>EG.ELC.FOSL.ZS</td>\n      <td>Electricity production from oil, gas and coal ...</td>\n      <td>1A</td>\n      <td>Arab World</td>\n    </tr>\n    <tr>\n      <th>1</th>\n      <td>ARB</td>\n      <td>2019</td>\n      <td>NaN</td>\n      <td></td>\n      <td></td>\n      <td>1</td>\n      <td>EG.ELC.FOSL.ZS</td>\n      <td>Electricity production from oil, gas and coal ...</td>\n      <td>1A</td>\n      <td>Arab World</td>\n    </tr>\n    <tr>\n      <th>2</th>\n      <td>ARB</td>\n      <td>2018</td>\n      <td>NaN</td>\n      <td></td>\n      <td></td>\n      <td>1</td>\n      <td>EG.ELC.FOSL.ZS</td>\n      <td>Electricity production from oil, gas and coal ...</td>\n      <td>1A</td>\n      <td>Arab World</td>\n    </tr>\n    <tr>\n      <th>3</th>\n      <td>ARB</td>\n      <td>2017</td>\n      <td>NaN</td>\n      <td></td>\n      <td></td>\n      <td>1</td>\n      <td>EG.ELC.FOSL.ZS</td>\n      <td>Electricity production from oil, gas and coal ...</td>\n      <td>1A</td>\n      <td>Arab World</td>\n    </tr>\n    <tr>\n      <th>4</th>\n      <td>ARB</td>\n      <td>2016</td>\n      <td>NaN</td>\n      <td></td>\n      <td></td>\n      <td>1</td>\n      <td>EG.ELC.FOSL.ZS</td>\n      <td>Electricity production from oil, gas and coal ...</td>\n      <td>1A</td>\n      <td>Arab World</td>\n    </tr>\n  </tbody>\n</table>\n</div>"
     },
     "metadata": {},
     "execution_count": 48
    }
   ],
   "source": [
    "test = pd.json_normalize(coal_json[1])\n",
    "test.head()"
   ]
  },
  {
   "cell_type": "code",
   "execution_count": 58,
   "metadata": {},
   "outputs": [],
   "source": [
    "url = \"https://api.worldbank.org/v2/en/country/all/indicator/EG.ELC.RNEW.ZS?format=json&per_page=20000&source=2\"\n",
    "\n",
    "# Get renewables data\n",
    "renewable_response = requests.get(url)\n",
    "renewable_json = renewable_response.json()"
   ]
  },
  {
   "cell_type": "code",
   "execution_count": 59,
   "metadata": {
    "tags": [
     "outputPrepend"
    ]
   },
   "outputs": [
    {
     "output_type": "stream",
     "name": "stdout",
     "text": [
      " 'country': {'id': 'ZM', 'value': 'Zambia'}, 'countryiso3code': 'ZMB', 'date': '1974', 'value': None, 'unit': '', 'obs_status': '', 'decimal': 2}, {'indicator': {'id': 'EG.ELC.RNEW.ZS', 'value': 'Renewable electricity output (% of total electricity output)'}, 'country': {'id': 'ZM', 'value': 'Zambia'}, 'countryiso3code': 'ZMB', 'date': '1973', 'value': None, 'unit': '', 'obs_status': '', 'decimal': 2}, {'indicator': {'id': 'EG.ELC.RNEW.ZS', 'value': 'Renewable electricity output (% of total electricity output)'}, 'country': {'id': 'ZM', 'value': 'Zambia'}, 'countryiso3code': 'ZMB', 'date': '1972', 'value': None, 'unit': '', 'obs_status': '', 'decimal': 2}, {'indicator': {'id': 'EG.ELC.RNEW.ZS', 'value': 'Renewable electricity output (% of total electricity output)'}, 'country': {'id': 'ZM', 'value': 'Zambia'}, 'countryiso3code': 'ZMB', 'date': '1971', 'value': None, 'unit': '', 'obs_status': '', 'decimal': 2}, {'indicator': {'id': 'EG.ELC.RNEW.ZS', 'value': 'Renewable electricity output (% of total electricity output)'}, 'country': {'id': 'ZM', 'value': 'Zambia'}, 'countryiso3code': 'ZMB', 'date': '1970', 'value': None, 'unit': '', 'obs_status': '', 'decimal': 2}, {'indicator': {'id': 'EG.ELC.RNEW.ZS', 'value': 'Renewable electricity output (% of total electricity output)'}, 'country': {'id': 'ZM', 'value': 'Zambia'}, 'countryiso3code': 'ZMB', 'date': '1969', 'value': None, 'unit': '', 'obs_status': '', 'decimal': 2}, {'indicator': {'id': 'EG.ELC.RNEW.ZS', 'value': 'Renewable electricity output (% of total electricity output)'}, 'country': {'id': 'ZM', 'value': 'Zambia'}, 'countryiso3code': 'ZMB', 'date': '1968', 'value': None, 'unit': '', 'obs_status': '', 'decimal': 2}, {'indicator': {'id': 'EG.ELC.RNEW.ZS', 'value': 'Renewable electricity output (% of total electricity output)'}, 'country': {'id': 'ZM', 'value': 'Zambia'}, 'countryiso3code': 'ZMB', 'date': '1967', 'value': None, 'unit': '', 'obs_status': '', 'decimal': 2}, {'indicator': {'id': 'EG.ELC.RNEW.ZS', 'value': 'Renewable electricity output (% of total electricity output)'}, 'country': {'id': 'ZM', 'value': 'Zambia'}, 'countryiso3code': 'ZMB', 'date': '1966', 'value': None, 'unit': '', 'obs_status': '', 'decimal': 2}, {'indicator': {'id': 'EG.ELC.RNEW.ZS', 'value': 'Renewable electricity output (% of total electricity output)'}, 'country': {'id': 'ZM', 'value': 'Zambia'}, 'countryiso3code': 'ZMB', 'date': '1965', 'value': None, 'unit': '', 'obs_status': '', 'decimal': 2}, {'indicator': {'id': 'EG.ELC.RNEW.ZS', 'value': 'Renewable electricity output (% of total electricity output)'}, 'country': {'id': 'ZM', 'value': 'Zambia'}, 'countryiso3code': 'ZMB', 'date': '1964', 'value': None, 'unit': '', 'obs_status': '', 'decimal': 2}, {'indicator': {'id': 'EG.ELC.RNEW.ZS', 'value': 'Renewable electricity output (% of total electricity output)'}, 'country': {'id': 'ZM', 'value': 'Zambia'}, 'countryiso3code': 'ZMB', 'date': '1963', 'value': None, 'unit': '', 'obs_status': '', 'decimal': 2}, {'indicator': {'id': 'EG.ELC.RNEW.ZS', 'value': 'Renewable electricity output (% of total electricity output)'}, 'country': {'id': 'ZM', 'value': 'Zambia'}, 'countryiso3code': 'ZMB', 'date': '1962', 'value': None, 'unit': '', 'obs_status': '', 'decimal': 2}, {'indicator': {'id': 'EG.ELC.RNEW.ZS', 'value': 'Renewable electricity output (% of total electricity output)'}, 'country': {'id': 'ZM', 'value': 'Zambia'}, 'countryiso3code': 'ZMB', 'date': '1961', 'value': None, 'unit': '', 'obs_status': '', 'decimal': 2}, {'indicator': {'id': 'EG.ELC.RNEW.ZS', 'value': 'Renewable electricity output (% of total electricity output)'}, 'country': {'id': 'ZM', 'value': 'Zambia'}, 'countryiso3code': 'ZMB', 'date': '1960', 'value': None, 'unit': '', 'obs_status': '', 'decimal': 2}, {'indicator': {'id': 'EG.ELC.RNEW.ZS', 'value': 'Renewable electricity output (% of total electricity output)'}, 'country': {'id': 'ZW', 'value': 'Zimbabwe'}, 'countryiso3code': 'ZWE', 'date': '2020', 'value': None, 'unit': '', 'obs_status': '', 'decimal': 2}, {'indicator': {'id': 'EG.ELC.RNEW.ZS', 'value': 'Renewable electricity output (% of total electricity output)'}, 'country': {'id': 'ZW', 'value': 'Zimbabwe'}, 'countryiso3code': 'ZWE', 'date': '2019', 'value': None, 'unit': '', 'obs_status': '', 'decimal': 2}, {'indicator': {'id': 'EG.ELC.RNEW.ZS', 'value': 'Renewable electricity output (% of total electricity output)'}, 'country': {'id': 'ZW', 'value': 'Zimbabwe'}, 'countryiso3code': 'ZWE', 'date': '2018', 'value': None, 'unit': '', 'obs_status': '', 'decimal': 2}, {'indicator': {'id': 'EG.ELC.RNEW.ZS', 'value': 'Renewable electricity output (% of total electricity output)'}, 'country': {'id': 'ZW', 'value': 'Zimbabwe'}, 'countryiso3code': 'ZWE', 'date': '2017', 'value': None, 'unit': '', 'obs_status': '', 'decimal': 2}, {'indicator': {'id': 'EG.ELC.RNEW.ZS', 'value': 'Renewable electricity output (% of total electricity output)'}, 'country': {'id': 'ZW', 'value': 'Zimbabwe'}, 'countryiso3code': 'ZWE', 'date': '2016', 'value': None, 'unit': '', 'obs_status': '', 'decimal': 2}, {'indicator': {'id': 'EG.ELC.RNEW.ZS', 'value': 'Renewable electricity output (% of total electricity output)'}, 'country': {'id': 'ZW', 'value': 'Zimbabwe'}, 'countryiso3code': 'ZWE', 'date': '2015', 'value': 52.724276444536, 'unit': '', 'obs_status': '', 'decimal': 2}, {'indicator': {'id': 'EG.ELC.RNEW.ZS', 'value': 'Renewable electricity output (% of total electricity output)'}, 'country': {'id': 'ZW', 'value': 'Zimbabwe'}, 'countryiso3code': 'ZWE', 'date': '2014', 'value': 55.605425892679, 'unit': '', 'obs_status': '', 'decimal': 2}, {'indicator': {'id': 'EG.ELC.RNEW.ZS', 'value': 'Renewable electricity output (% of total electricity output)'}, 'country': {'id': 'ZW', 'value': 'Zimbabwe'}, 'countryiso3code': 'ZWE', 'date': '2013', 'value': 53.9393939393939, 'unit': '', 'obs_status': '', 'decimal': 2}, {'indicator': {'id': 'EG.ELC.RNEW.ZS', 'value': 'Renewable electricity output (% of total electricity output)'}, 'country': {'id': 'ZW', 'value': 'Zimbabwe'}, 'countryiso3code': 'ZWE', 'date': '2012', 'value': 60.393349994567, 'unit': '', 'obs_status': '', 'decimal': 2}, {'indicator': {'id': 'EG.ELC.RNEW.ZS', 'value': 'Renewable electricity output (% of total electricity output)'}, 'country': {'id': 'ZW', 'value': 'Zimbabwe'}, 'countryiso3code': 'ZWE', 'date': '2011', 'value': 57.8559027777778, 'unit': '', 'obs_status': '', 'decimal': 2}, {'indicator': {'id': 'EG.ELC.RNEW.ZS', 'value': 'Renewable electricity output (% of total electricity output)'}, 'country': {'id': 'ZW', 'value': 'Zimbabwe'}, 'countryiso3code': 'ZWE', 'date': '2010', 'value': 68.0092325447201, 'unit': '', 'obs_status': '', 'decimal': 2}, {'indicator': {'id': 'EG.ELC.RNEW.ZS', 'value': 'Renewable electricity output (% of total electricity output)'}, 'country': {'id': 'ZW', 'value': 'Zimbabwe'}, 'countryiso3code': 'ZWE', 'date': '2009', 'value': 75.6412014812783, 'unit': '', 'obs_status': '', 'decimal': 2}, {'indicator': {'id': 'EG.ELC.RNEW.ZS', 'value': 'Renewable electricity output (% of total electricity output)'}, 'country': {'id': 'ZW', 'value': 'Zimbabwe'}, 'countryiso3code': 'ZWE', 'date': '2008', 'value': 75.8950819672131, 'unit': '', 'obs_status': '', 'decimal': 2}, {'indicator': {'id': 'EG.ELC.RNEW.ZS', 'value': 'Renewable electricity output (% of total electricity output)'}, 'country': {'id': 'ZW', 'value': 'Zimbabwe'}, 'countryiso3code': 'ZWE', 'date': '2007', 'value': 71.573137074517, 'unit': '', 'obs_status': '', 'decimal': 2}, {'indicator': {'id': 'EG.ELC.RNEW.ZS', 'value': 'Renewable electricity output (% of total electricity output)'}, 'country': {'id': 'ZW', 'value': 'Zimbabwe'}, 'countryiso3code': 'ZWE', 'date': '2006', 'value': 67.8831201404565, 'unit': '', 'obs_status': '', 'decimal': 2}, {'indicator': {'id': 'EG.ELC.RNEW.ZS', 'value': 'Renewable electricity output (% of total electricity output)'}, 'country': {'id': 'ZW', 'value': 'Zimbabwe'}, 'countryiso3code': 'ZWE', 'date': '2005', 'value': 52.432259441007, 'unit': '', 'obs_status': '', 'decimal': 2}, {'indicator': {'id': 'EG.ELC.RNEW.ZS', 'value': 'Renewable electricity output (% of total electricity output)'}, 'country': {'id': 'ZW', 'value': 'Zimbabwe'}, 'countryiso3code': 'ZWE', 'date': '2004', 'value': 56.6004732997222, 'unit': '', 'obs_status': '', 'decimal': 2}, {'indicator': {'id': 'EG.ELC.RNEW.ZS', 'value': 'Renewable electricity output (% of total electricity output)'}, 'country': {'id': 'ZW', 'value': 'Zimbabwe'}, 'countryiso3code': 'ZWE', 'date': '2003', 'value': 60.734174337993, 'unit': '', 'obs_status': '', 'decimal': 2}, {'indicator': {'id': 'EG.ELC.RNEW.ZS', 'value': 'Renewable electricity output (% of total electricity output)'}, 'country': {'id': 'ZW', 'value': 'Zimbabwe'}, 'countryiso3code': 'ZWE', 'date': '2002', 'value': 44.3577500873413, 'unit': '', 'obs_status': '', 'decimal': 2}, {'indicator': {'id': 'EG.ELC.RNEW.ZS', 'value': 'Renewable electricity output (% of total electricity output)'}, 'country': {'id': 'ZW', 'value': 'Zimbabwe'}, 'countryiso3code': 'ZWE', 'date': '2001', 'value': 37.5031621553251, 'unit': '', 'obs_status': '', 'decimal': 2}, {'indicator': {'id': 'EG.ELC.RNEW.ZS', 'value': 'Renewable electricity output (% of total electricity output)'}, 'country': {'id': 'ZW', 'value': 'Zimbabwe'}, 'countryiso3code': 'ZWE', 'date': '2000', 'value': 45.6611865618299, 'unit': '', 'obs_status': '', 'decimal': 2}, {'indicator': {'id': 'EG.ELC.RNEW.ZS', 'value': 'Renewable electricity output (% of total electricity output)'}, 'country': {'id': 'ZW', 'value': 'Zimbabwe'}, 'countryiso3code': 'ZWE', 'date': '1999', 'value': 41.0097306444789, 'unit': '', 'obs_status': '', 'decimal': 2}, {'indicator': {'id': 'EG.ELC.RNEW.ZS', 'value': 'Renewable electricity output (% of total electricity output)'}, 'country': {'id': 'ZW', 'value': 'Zimbabwe'}, 'countryiso3code': 'ZWE', 'date': '1998', 'value': 29.2571775786116, 'unit': '', 'obs_status': '', 'decimal': 2}, {'indicator': {'id': 'EG.ELC.RNEW.ZS', 'value': 'Renewable electricity output (% of total electricity output)'}, 'country': {'id': 'ZW', 'value': 'Zimbabwe'}, 'countryiso3code': 'ZWE', 'date': '1997', 'value': 29.0901616881337, 'unit': '', 'obs_status': '', 'decimal': 2}, {'indicator': {'id': 'EG.ELC.RNEW.ZS', 'value': 'Renewable electricity output (% of total electricity output)'}, 'country': {'id': 'ZW', 'value': 'Zimbabwe'}, 'countryiso3code': 'ZWE', 'date': '1996', 'value': 29.5370749692749, 'unit': '', 'obs_status': '', 'decimal': 2}, {'indicator': {'id': 'EG.ELC.RNEW.ZS', 'value': 'Renewable electricity output (% of total electricity output)'}, 'country': {'id': 'ZW', 'value': 'Zimbabwe'}, 'countryiso3code': 'ZWE', 'date': '1995', 'value': 29.2536166944053, 'unit': '', 'obs_status': '', 'decimal': 2}, {'indicator': {'id': 'EG.ELC.RNEW.ZS', 'value': 'Renewable electricity output (% of total electricity output)'}, 'country': {'id': 'ZW', 'value': 'Zimbabwe'}, 'countryiso3code': 'ZWE', 'date': '1994', 'value': 27.8035832780358, 'unit': '', 'obs_status': '', 'decimal': 2}, {'indicator': {'id': 'EG.ELC.RNEW.ZS', 'value': 'Renewable electricity output (% of total electricity output)'}, 'country': {'id': 'ZW', 'value': 'Zimbabwe'}, 'countryiso3code': 'ZWE', 'date': '1993', 'value': 27.6111408677022, 'unit': '', 'obs_status': '', 'decimal': 2}, {'indicator': {'id': 'EG.ELC.RNEW.ZS', 'value': 'Renewable electricity output (% of total electricity output)'}, 'country': {'id': 'ZW', 'value': 'Zimbabwe'}, 'countryiso3code': 'ZWE', 'date': '1992', 'value': 38.3756221925458, 'unit': '', 'obs_status': '', 'decimal': 2}, {'indicator': {'id': 'EG.ELC.RNEW.ZS', 'value': 'Renewable electricity output (% of total electricity output)'}, 'country': {'id': 'ZW', 'value': 'Zimbabwe'}, 'countryiso3code': 'ZWE', 'date': '1991', 'value': 35.320484087853, 'unit': '', 'obs_status': '', 'decimal': 2}, {'indicator': {'id': 'EG.ELC.RNEW.ZS', 'value': 'Renewable electricity output (% of total electricity output)'}, 'country': {'id': 'ZW', 'value': 'Zimbabwe'}, 'countryiso3code': 'ZWE', 'date': '1990', 'value': 46.6673787652211, 'unit': '', 'obs_status': '', 'decimal': 2}, {'indicator': {'id': 'EG.ELC.RNEW.ZS', 'value': 'Renewable electricity output (% of total electricity output)'}, 'country': {'id': 'ZW', 'value': 'Zimbabwe'}, 'countryiso3code': 'ZWE', 'date': '1989', 'value': None, 'unit': '', 'obs_status': '', 'decimal': 2}, {'indicator': {'id': 'EG.ELC.RNEW.ZS', 'value': 'Renewable electricity output (% of total electricity output)'}, 'country': {'id': 'ZW', 'value': 'Zimbabwe'}, 'countryiso3code': 'ZWE', 'date': '1988', 'value': None, 'unit': '', 'obs_status': '', 'decimal': 2}, {'indicator': {'id': 'EG.ELC.RNEW.ZS', 'value': 'Renewable electricity output (% of total electricity output)'}, 'country': {'id': 'ZW', 'value': 'Zimbabwe'}, 'countryiso3code': 'ZWE', 'date': '1987', 'value': None, 'unit': '', 'obs_status': '', 'decimal': 2}, {'indicator': {'id': 'EG.ELC.RNEW.ZS', 'value': 'Renewable electricity output (% of total electricity output)'}, 'country': {'id': 'ZW', 'value': 'Zimbabwe'}, 'countryiso3code': 'ZWE', 'date': '1986', 'value': None, 'unit': '', 'obs_status': '', 'decimal': 2}, {'indicator': {'id': 'EG.ELC.RNEW.ZS', 'value': 'Renewable electricity output (% of total electricity output)'}, 'country': {'id': 'ZW', 'value': 'Zimbabwe'}, 'countryiso3code': 'ZWE', 'date': '1985', 'value': None, 'unit': '', 'obs_status': '', 'decimal': 2}, {'indicator': {'id': 'EG.ELC.RNEW.ZS', 'value': 'Renewable electricity output (% of total electricity output)'}, 'country': {'id': 'ZW', 'value': 'Zimbabwe'}, 'countryiso3code': 'ZWE', 'date': '1984', 'value': None, 'unit': '', 'obs_status': '', 'decimal': 2}, {'indicator': {'id': 'EG.ELC.RNEW.ZS', 'value': 'Renewable electricity output (% of total electricity output)'}, 'country': {'id': 'ZW', 'value': 'Zimbabwe'}, 'countryiso3code': 'ZWE', 'date': '1983', 'value': None, 'unit': '', 'obs_status': '', 'decimal': 2}, {'indicator': {'id': 'EG.ELC.RNEW.ZS', 'value': 'Renewable electricity output (% of total electricity output)'}, 'country': {'id': 'ZW', 'value': 'Zimbabwe'}, 'countryiso3code': 'ZWE', 'date': '1982', 'value': None, 'unit': '', 'obs_status': '', 'decimal': 2}, {'indicator': {'id': 'EG.ELC.RNEW.ZS', 'value': 'Renewable electricity output (% of total electricity output)'}, 'country': {'id': 'ZW', 'value': 'Zimbabwe'}, 'countryiso3code': 'ZWE', 'date': '1981', 'value': None, 'unit': '', 'obs_status': '', 'decimal': 2}, {'indicator': {'id': 'EG.ELC.RNEW.ZS', 'value': 'Renewable electricity output (% of total electricity output)'}, 'country': {'id': 'ZW', 'value': 'Zimbabwe'}, 'countryiso3code': 'ZWE', 'date': '1980', 'value': None, 'unit': '', 'obs_status': '', 'decimal': 2}, {'indicator': {'id': 'EG.ELC.RNEW.ZS', 'value': 'Renewable electricity output (% of total electricity output)'}, 'country': {'id': 'ZW', 'value': 'Zimbabwe'}, 'countryiso3code': 'ZWE', 'date': '1979', 'value': None, 'unit': '', 'obs_status': '', 'decimal': 2}, {'indicator': {'id': 'EG.ELC.RNEW.ZS', 'value': 'Renewable electricity output (% of total electricity output)'}, 'country': {'id': 'ZW', 'value': 'Zimbabwe'}, 'countryiso3code': 'ZWE', 'date': '1978', 'value': None, 'unit': '', 'obs_status': '', 'decimal': 2}, {'indicator': {'id': 'EG.ELC.RNEW.ZS', 'value': 'Renewable electricity output (% of total electricity output)'}, 'country': {'id': 'ZW', 'value': 'Zimbabwe'}, 'countryiso3code': 'ZWE', 'date': '1977', 'value': None, 'unit': '', 'obs_status': '', 'decimal': 2}, {'indicator': {'id': 'EG.ELC.RNEW.ZS', 'value': 'Renewable electricity output (% of total electricity output)'}, 'country': {'id': 'ZW', 'value': 'Zimbabwe'}, 'countryiso3code': 'ZWE', 'date': '1976', 'value': None, 'unit': '', 'obs_status': '', 'decimal': 2}, {'indicator': {'id': 'EG.ELC.RNEW.ZS', 'value': 'Renewable electricity output (% of total electricity output)'}, 'country': {'id': 'ZW', 'value': 'Zimbabwe'}, 'countryiso3code': 'ZWE', 'date': '1975', 'value': None, 'unit': '', 'obs_status': '', 'decimal': 2}, {'indicator': {'id': 'EG.ELC.RNEW.ZS', 'value': 'Renewable electricity output (% of total electricity output)'}, 'country': {'id': 'ZW', 'value': 'Zimbabwe'}, 'countryiso3code': 'ZWE', 'date': '1974', 'value': None, 'unit': '', 'obs_status': '', 'decimal': 2}, {'indicator': {'id': 'EG.ELC.RNEW.ZS', 'value': 'Renewable electricity output (% of total electricity output)'}, 'country': {'id': 'ZW', 'value': 'Zimbabwe'}, 'countryiso3code': 'ZWE', 'date': '1973', 'value': None, 'unit': '', 'obs_status': '', 'decimal': 2}, {'indicator': {'id': 'EG.ELC.RNEW.ZS', 'value': 'Renewable electricity output (% of total electricity output)'}, 'country': {'id': 'ZW', 'value': 'Zimbabwe'}, 'countryiso3code': 'ZWE', 'date': '1972', 'value': None, 'unit': '', 'obs_status': '', 'decimal': 2}, {'indicator': {'id': 'EG.ELC.RNEW.ZS', 'value': 'Renewable electricity output (% of total electricity output)'}, 'country': {'id': 'ZW', 'value': 'Zimbabwe'}, 'countryiso3code': 'ZWE', 'date': '1971', 'value': None, 'unit': '', 'obs_status': '', 'decimal': 2}, {'indicator': {'id': 'EG.ELC.RNEW.ZS', 'value': 'Renewable electricity output (% of total electricity output)'}, 'country': {'id': 'ZW', 'value': 'Zimbabwe'}, 'countryiso3code': 'ZWE', 'date': '1970', 'value': None, 'unit': '', 'obs_status': '', 'decimal': 2}, {'indicator': {'id': 'EG.ELC.RNEW.ZS', 'value': 'Renewable electricity output (% of total electricity output)'}, 'country': {'id': 'ZW', 'value': 'Zimbabwe'}, 'countryiso3code': 'ZWE', 'date': '1969', 'value': None, 'unit': '', 'obs_status': '', 'decimal': 2}, {'indicator': {'id': 'EG.ELC.RNEW.ZS', 'value': 'Renewable electricity output (% of total electricity output)'}, 'country': {'id': 'ZW', 'value': 'Zimbabwe'}, 'countryiso3code': 'ZWE', 'date': '1968', 'value': None, 'unit': '', 'obs_status': '', 'decimal': 2}, {'indicator': {'id': 'EG.ELC.RNEW.ZS', 'value': 'Renewable electricity output (% of total electricity output)'}, 'country': {'id': 'ZW', 'value': 'Zimbabwe'}, 'countryiso3code': 'ZWE', 'date': '1967', 'value': None, 'unit': '', 'obs_status': '', 'decimal': 2}, {'indicator': {'id': 'EG.ELC.RNEW.ZS', 'value': 'Renewable electricity output (% of total electricity output)'}, 'country': {'id': 'ZW', 'value': 'Zimbabwe'}, 'countryiso3code': 'ZWE', 'date': '1966', 'value': None, 'unit': '', 'obs_status': '', 'decimal': 2}, {'indicator': {'id': 'EG.ELC.RNEW.ZS', 'value': 'Renewable electricity output (% of total electricity output)'}, 'country': {'id': 'ZW', 'value': 'Zimbabwe'}, 'countryiso3code': 'ZWE', 'date': '1965', 'value': None, 'unit': '', 'obs_status': '', 'decimal': 2}, {'indicator': {'id': 'EG.ELC.RNEW.ZS', 'value': 'Renewable electricity output (% of total electricity output)'}, 'country': {'id': 'ZW', 'value': 'Zimbabwe'}, 'countryiso3code': 'ZWE', 'date': '1964', 'value': None, 'unit': '', 'obs_status': '', 'decimal': 2}, {'indicator': {'id': 'EG.ELC.RNEW.ZS', 'value': 'Renewable electricity output (% of total electricity output)'}, 'country': {'id': 'ZW', 'value': 'Zimbabwe'}, 'countryiso3code': 'ZWE', 'date': '1963', 'value': None, 'unit': '', 'obs_status': '', 'decimal': 2}, {'indicator': {'id': 'EG.ELC.RNEW.ZS', 'value': 'Renewable electricity output (% of total electricity output)'}, 'country': {'id': 'ZW', 'value': 'Zimbabwe'}, 'countryiso3code': 'ZWE', 'date': '1962', 'value': None, 'unit': '', 'obs_status': '', 'decimal': 2}, {'indicator': {'id': 'EG.ELC.RNEW.ZS', 'value': 'Renewable electricity output (% of total electricity output)'}, 'country': {'id': 'ZW', 'value': 'Zimbabwe'}, 'countryiso3code': 'ZWE', 'date': '1961', 'value': None, 'unit': '', 'obs_status': '', 'decimal': 2}, {'indicator': {'id': 'EG.ELC.RNEW.ZS', 'value': 'Renewable electricity output (% of total electricity output)'}, 'country': {'id': 'ZW', 'value': 'Zimbabwe'}, 'countryiso3code': 'ZWE', 'date': '1960', 'value': None, 'unit': '', 'obs_status': '', 'decimal': 2}]]\n"
     ]
    }
   ],
   "source": [
    "print(renewable_json)"
   ]
  },
  {
   "cell_type": "code",
   "execution_count": null,
   "metadata": {},
   "outputs": [],
   "source": [
    "# Save config information.\n",
    "url = f\"https://api.openchargemap.io/v3/poi/?key={api_key}output=json&countrycode=US&maxresults=10\"\n",
    "units = \"metric\"\n",
    "\n",
    "# Build partial query URL\n",
    "# query_url = f\"{url}appid={api_key}&units={units}&q=\"\n",
    "\n",
    "response = requests.get(url).json()"
   ]
  },
  {
   "cell_type": "code",
   "execution_count": null,
   "metadata": {
    "tags": [
     "outputPrepend"
    ]
   },
   "outputs": [],
   "source": [
    "print(response)"
   ]
  },
  {
   "cell_type": "code",
   "execution_count": null,
   "metadata": {},
   "outputs": [],
   "source": [
    "conn = 'mongodb://localhost:27017'\n",
    "client = pymongo.MongoClient(conn)\n",
    "\n",
    "# Define the 'electric_vehicles' database in Mongo\n",
    "db = client.electric_vehicles\n",
    "\n",
    "db.electric_vehicles.insert_many(response)"
   ]
  },
  {
   "cell_type": "code",
   "execution_count": null,
   "metadata": {},
   "outputs": [],
   "source": []
  }
 ]
}