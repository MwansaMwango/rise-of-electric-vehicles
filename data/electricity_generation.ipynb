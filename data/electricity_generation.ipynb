{
 "metadata": {
  "language_info": {
   "codemirror_mode": {
    "name": "ipython",
    "version": 3
   },
   "file_extension": ".py",
   "mimetype": "text/x-python",
   "name": "python",
   "nbconvert_exporter": "python",
   "pygments_lexer": "ipython3",
   "version": "3.6.10-final"
  },
  "orig_nbformat": 2,
  "kernelspec": {
   "name": "python3610jvsc74a57bd02bf60f7f62a9b17f7cccd910bdb7d19f5f505debd48b14e89e2e5eef6906d64c",
   "display_name": "Python 3.6.10 64-bit ('PythonData': conda)"
  }
 },
 "nbformat": 4,
 "nbformat_minor": 2,
 "cells": [
  {
   "source": [
    "# World Electricity Production Data\n",
    "\n",
    "This notebook has been used to extract API data from the world bank.\n",
    "\n",
    "API electricity production data by source, country and year.  The electricity sources include:\n",
    "* Electricity production from oil, gas and coal sources\n",
    "* Renewable electricity output excluding Hydro\n",
    "* Hydro Electricity production\n",
    "* Nuclear electricity production\n",
    "* Natrual Gas sources\n",
    "\n",
    "https://datacatalog.worldbank.org/search?search_api_views_fulltext_op=AND&query=electricity&nid=&sort_by=search_api_relevance&q=search&page=0%2C0"
   ],
   "cell_type": "markdown",
   "metadata": {}
  },
  {
   "cell_type": "code",
   "execution_count": 1,
   "metadata": {},
   "outputs": [],
   "source": [
    "# Python Dependencies\n",
    "import requests\n",
    "import json\n",
    "import pandas as pd\n",
    "import pymongo\n",
    "# import numpy as np\n",
    "# import matplotlib.pyplot as plt1"
   ]
  },
  {
   "source": [
    "## Electricity production from oil, gas and coal sources"
   ],
   "cell_type": "markdown",
   "metadata": {}
  },
  {
   "cell_type": "code",
   "execution_count": 2,
   "metadata": {},
   "outputs": [],
   "source": [
    "url = \"https://api.worldbank.org/v2/en/country/all/indicator/EG.ELC.FOSL.ZS?format=json&per_page=20000&source=2\"\n",
    "\n",
    "# Get coal data\n",
    "coal_response = requests.get(url)\n",
    "coal_json = coal_response.json()\n"
   ]
  },
  {
   "cell_type": "code",
   "execution_count": 3,
   "metadata": {
    "tags": []
   },
   "outputs": [
    {
     "output_type": "stream",
     "name": "stdout",
     "text": [
      "{'indicator': {'id': 'EG.ELC.FOSL.ZS', 'value': 'Electricity production from oil, gas and coal sources (% of total)'}, 'country': {'id': '1A', 'value': 'Arab World'}, 'countryiso3code': 'ARB', 'date': '2019', 'value': None, 'unit': '', 'obs_status': '', 'decimal': 1}\n"
     ]
    }
   ],
   "source": [
    "print(coal_json[1][1])"
   ]
  },
  {
   "cell_type": "code",
   "execution_count": 4,
   "metadata": {},
   "outputs": [
    {
     "output_type": "stream",
     "name": "stdout",
     "text": [
      "[{'id': 'EG.ELC.FOSL.ZS', 'value': 'Electricity production from oil, gas and coal sources (% of total)'}]\n"
     ]
    }
   ],
   "source": [
    "# Extract the header detail and push to the production type list and data frame\n",
    "production_type = [{'id' : coal_json[1][1]['indicator']['id'], 'value' : coal_json[1][1]['indicator']['value']}]\n",
    "print(production_type)"
   ]
  },
  {
   "cell_type": "code",
   "execution_count": null,
   "metadata": {},
   "outputs": [],
   "source": [
    "# useful for checking man page with options for json_normalize\n",
    "pd.json_normalize?"
   ]
  },
  {
   "cell_type": "code",
   "execution_count": 5,
   "metadata": {},
   "outputs": [
    {
     "output_type": "execute_result",
     "data": {
      "text/plain": [
       "  countryiso3code  date  value unit obs_status  decimal    indicator.id  \\\n",
       "0             ARB  2020    NaN                        1  EG.ELC.FOSL.ZS   \n",
       "1             ARB  2019    NaN                        1  EG.ELC.FOSL.ZS   \n",
       "2             ARB  2018    NaN                        1  EG.ELC.FOSL.ZS   \n",
       "3             ARB  2017    NaN                        1  EG.ELC.FOSL.ZS   \n",
       "4             ARB  2016    NaN                        1  EG.ELC.FOSL.ZS   \n",
       "\n",
       "                                     indicator.value country.id country.value  \n",
       "0  Electricity production from oil, gas and coal ...         1A    Arab World  \n",
       "1  Electricity production from oil, gas and coal ...         1A    Arab World  \n",
       "2  Electricity production from oil, gas and coal ...         1A    Arab World  \n",
       "3  Electricity production from oil, gas and coal ...         1A    Arab World  \n",
       "4  Electricity production from oil, gas and coal ...         1A    Arab World  "
      ],
      "text/html": "<div>\n<style scoped>\n    .dataframe tbody tr th:only-of-type {\n        vertical-align: middle;\n    }\n\n    .dataframe tbody tr th {\n        vertical-align: top;\n    }\n\n    .dataframe thead th {\n        text-align: right;\n    }\n</style>\n<table border=\"1\" class=\"dataframe\">\n  <thead>\n    <tr style=\"text-align: right;\">\n      <th></th>\n      <th>countryiso3code</th>\n      <th>date</th>\n      <th>value</th>\n      <th>unit</th>\n      <th>obs_status</th>\n      <th>decimal</th>\n      <th>indicator.id</th>\n      <th>indicator.value</th>\n      <th>country.id</th>\n      <th>country.value</th>\n    </tr>\n  </thead>\n  <tbody>\n    <tr>\n      <th>0</th>\n      <td>ARB</td>\n      <td>2020</td>\n      <td>NaN</td>\n      <td></td>\n      <td></td>\n      <td>1</td>\n      <td>EG.ELC.FOSL.ZS</td>\n      <td>Electricity production from oil, gas and coal ...</td>\n      <td>1A</td>\n      <td>Arab World</td>\n    </tr>\n    <tr>\n      <th>1</th>\n      <td>ARB</td>\n      <td>2019</td>\n      <td>NaN</td>\n      <td></td>\n      <td></td>\n      <td>1</td>\n      <td>EG.ELC.FOSL.ZS</td>\n      <td>Electricity production from oil, gas and coal ...</td>\n      <td>1A</td>\n      <td>Arab World</td>\n    </tr>\n    <tr>\n      <th>2</th>\n      <td>ARB</td>\n      <td>2018</td>\n      <td>NaN</td>\n      <td></td>\n      <td></td>\n      <td>1</td>\n      <td>EG.ELC.FOSL.ZS</td>\n      <td>Electricity production from oil, gas and coal ...</td>\n      <td>1A</td>\n      <td>Arab World</td>\n    </tr>\n    <tr>\n      <th>3</th>\n      <td>ARB</td>\n      <td>2017</td>\n      <td>NaN</td>\n      <td></td>\n      <td></td>\n      <td>1</td>\n      <td>EG.ELC.FOSL.ZS</td>\n      <td>Electricity production from oil, gas and coal ...</td>\n      <td>1A</td>\n      <td>Arab World</td>\n    </tr>\n    <tr>\n      <th>4</th>\n      <td>ARB</td>\n      <td>2016</td>\n      <td>NaN</td>\n      <td></td>\n      <td></td>\n      <td>1</td>\n      <td>EG.ELC.FOSL.ZS</td>\n      <td>Electricity production from oil, gas and coal ...</td>\n      <td>1A</td>\n      <td>Arab World</td>\n    </tr>\n  </tbody>\n</table>\n</div>"
     },
     "metadata": {},
     "execution_count": 5
    }
   ],
   "source": [
    "coal_df = pd.json_normalize(coal_json[1])\n",
    "coal_df.head()"
   ]
  },
  {
   "source": [
    "## Renewables excluding Hydroelectric"
   ],
   "cell_type": "markdown",
   "metadata": {}
  },
  {
   "cell_type": "code",
   "execution_count": 6,
   "metadata": {},
   "outputs": [],
   "source": [
    "# Excluding Hydro\n",
    "url = \"https://api.worldbank.org/v2/en/country/all/indicator/EG.ELC.RNWX.ZS?format=json&per_page=20000&source=2\"\n",
    "# Including Hydro\n",
    "# url = \"https://api.worldbank.org/v2/en/country/all/indicator/EG.ELC.RNEW.ZS?format=json&per_page=20000&source=2\"\n",
    "\n",
    "renewable_response = requests.get(url)\n",
    "renewable_json = renewable_response.json()"
   ]
  },
  {
   "cell_type": "code",
   "execution_count": 7,
   "metadata": {
    "tags": []
   },
   "outputs": [
    {
     "output_type": "stream",
     "name": "stdout",
     "text": [
      "{'indicator': {'id': 'EG.ELC.RNWX.ZS', 'value': 'Electricity production from renewable sources, excluding hydroelectric (% of total)'}, 'country': {'id': '1A', 'value': 'Arab World'}, 'countryiso3code': 'ARB', 'date': '2019', 'value': None, 'unit': '', 'obs_status': '', 'decimal': 1}\n"
     ]
    }
   ],
   "source": [
    "print(renewable_json[1][1])"
   ]
  },
  {
   "cell_type": "code",
   "execution_count": 8,
   "metadata": {},
   "outputs": [
    {
     "output_type": "stream",
     "name": "stdout",
     "text": [
      "[{'id': 'EG.ELC.FOSL.ZS', 'value': 'Electricity production from oil, gas and coal sources (% of total)'}, {'id': 'EG.ELC.RNWX.ZS', 'value': 'Electricity production from renewable sources, excluding hydroelectric (% of total)'}]\n"
     ]
    }
   ],
   "source": [
    "# Extract the header detail and push to the production type list and data frame\n",
    "production_type.append({'id' : renewable_json[1][1]['indicator']['id'], 'value' : renewable_json[1][1]['indicator']['value']})\n",
    "print(production_type)"
   ]
  },
  {
   "cell_type": "code",
   "execution_count": 9,
   "metadata": {
    "tags": []
   },
   "outputs": [
    {
     "output_type": "execute_result",
     "data": {
      "text/plain": [
       "  countryiso3code  date     value unit obs_status  decimal    indicator.id  \\\n",
       "0             ARB  2020       NaN                        1  EG.ELC.RNWX.ZS   \n",
       "1             ARB  2019       NaN                        1  EG.ELC.RNWX.ZS   \n",
       "2             ARB  2018       NaN                        1  EG.ELC.RNWX.ZS   \n",
       "3             ARB  2017       NaN                        1  EG.ELC.RNWX.ZS   \n",
       "4             ARB  2016       NaN                        1  EG.ELC.RNWX.ZS   \n",
       "5             ARB  2015  0.454259                        1  EG.ELC.RNWX.ZS   \n",
       "6             ARB  2014  0.418328                        1  EG.ELC.RNWX.ZS   \n",
       "7             ARB  2013  0.355385                        1  EG.ELC.RNWX.ZS   \n",
       "8             ARB  2012  0.253884                        1  EG.ELC.RNWX.ZS   \n",
       "9             ARB  2011  0.282034                        1  EG.ELC.RNWX.ZS   \n",
       "\n",
       "                                     indicator.value country.id country.value  \n",
       "0  Electricity production from renewable sources,...         1A    Arab World  \n",
       "1  Electricity production from renewable sources,...         1A    Arab World  \n",
       "2  Electricity production from renewable sources,...         1A    Arab World  \n",
       "3  Electricity production from renewable sources,...         1A    Arab World  \n",
       "4  Electricity production from renewable sources,...         1A    Arab World  \n",
       "5  Electricity production from renewable sources,...         1A    Arab World  \n",
       "6  Electricity production from renewable sources,...         1A    Arab World  \n",
       "7  Electricity production from renewable sources,...         1A    Arab World  \n",
       "8  Electricity production from renewable sources,...         1A    Arab World  \n",
       "9  Electricity production from renewable sources,...         1A    Arab World  "
      ],
      "text/html": "<div>\n<style scoped>\n    .dataframe tbody tr th:only-of-type {\n        vertical-align: middle;\n    }\n\n    .dataframe tbody tr th {\n        vertical-align: top;\n    }\n\n    .dataframe thead th {\n        text-align: right;\n    }\n</style>\n<table border=\"1\" class=\"dataframe\">\n  <thead>\n    <tr style=\"text-align: right;\">\n      <th></th>\n      <th>countryiso3code</th>\n      <th>date</th>\n      <th>value</th>\n      <th>unit</th>\n      <th>obs_status</th>\n      <th>decimal</th>\n      <th>indicator.id</th>\n      <th>indicator.value</th>\n      <th>country.id</th>\n      <th>country.value</th>\n    </tr>\n  </thead>\n  <tbody>\n    <tr>\n      <th>0</th>\n      <td>ARB</td>\n      <td>2020</td>\n      <td>NaN</td>\n      <td></td>\n      <td></td>\n      <td>1</td>\n      <td>EG.ELC.RNWX.ZS</td>\n      <td>Electricity production from renewable sources,...</td>\n      <td>1A</td>\n      <td>Arab World</td>\n    </tr>\n    <tr>\n      <th>1</th>\n      <td>ARB</td>\n      <td>2019</td>\n      <td>NaN</td>\n      <td></td>\n      <td></td>\n      <td>1</td>\n      <td>EG.ELC.RNWX.ZS</td>\n      <td>Electricity production from renewable sources,...</td>\n      <td>1A</td>\n      <td>Arab World</td>\n    </tr>\n    <tr>\n      <th>2</th>\n      <td>ARB</td>\n      <td>2018</td>\n      <td>NaN</td>\n      <td></td>\n      <td></td>\n      <td>1</td>\n      <td>EG.ELC.RNWX.ZS</td>\n      <td>Electricity production from renewable sources,...</td>\n      <td>1A</td>\n      <td>Arab World</td>\n    </tr>\n    <tr>\n      <th>3</th>\n      <td>ARB</td>\n      <td>2017</td>\n      <td>NaN</td>\n      <td></td>\n      <td></td>\n      <td>1</td>\n      <td>EG.ELC.RNWX.ZS</td>\n      <td>Electricity production from renewable sources,...</td>\n      <td>1A</td>\n      <td>Arab World</td>\n    </tr>\n    <tr>\n      <th>4</th>\n      <td>ARB</td>\n      <td>2016</td>\n      <td>NaN</td>\n      <td></td>\n      <td></td>\n      <td>1</td>\n      <td>EG.ELC.RNWX.ZS</td>\n      <td>Electricity production from renewable sources,...</td>\n      <td>1A</td>\n      <td>Arab World</td>\n    </tr>\n    <tr>\n      <th>5</th>\n      <td>ARB</td>\n      <td>2015</td>\n      <td>0.454259</td>\n      <td></td>\n      <td></td>\n      <td>1</td>\n      <td>EG.ELC.RNWX.ZS</td>\n      <td>Electricity production from renewable sources,...</td>\n      <td>1A</td>\n      <td>Arab World</td>\n    </tr>\n    <tr>\n      <th>6</th>\n      <td>ARB</td>\n      <td>2014</td>\n      <td>0.418328</td>\n      <td></td>\n      <td></td>\n      <td>1</td>\n      <td>EG.ELC.RNWX.ZS</td>\n      <td>Electricity production from renewable sources,...</td>\n      <td>1A</td>\n      <td>Arab World</td>\n    </tr>\n    <tr>\n      <th>7</th>\n      <td>ARB</td>\n      <td>2013</td>\n      <td>0.355385</td>\n      <td></td>\n      <td></td>\n      <td>1</td>\n      <td>EG.ELC.RNWX.ZS</td>\n      <td>Electricity production from renewable sources,...</td>\n      <td>1A</td>\n      <td>Arab World</td>\n    </tr>\n    <tr>\n      <th>8</th>\n      <td>ARB</td>\n      <td>2012</td>\n      <td>0.253884</td>\n      <td></td>\n      <td></td>\n      <td>1</td>\n      <td>EG.ELC.RNWX.ZS</td>\n      <td>Electricity production from renewable sources,...</td>\n      <td>1A</td>\n      <td>Arab World</td>\n    </tr>\n    <tr>\n      <th>9</th>\n      <td>ARB</td>\n      <td>2011</td>\n      <td>0.282034</td>\n      <td></td>\n      <td></td>\n      <td>1</td>\n      <td>EG.ELC.RNWX.ZS</td>\n      <td>Electricity production from renewable sources,...</td>\n      <td>1A</td>\n      <td>Arab World</td>\n    </tr>\n  </tbody>\n</table>\n</div>"
     },
     "metadata": {},
     "execution_count": 9
    }
   ],
   "source": [
    "renew_df = pd.json_normalize(renewable_json[1])\n",
    "renew_df.head(10)"
   ]
  },
  {
   "source": [
    "## Electricity production from nuclear sources"
   ],
   "cell_type": "markdown",
   "metadata": {}
  },
  {
   "cell_type": "code",
   "execution_count": 10,
   "metadata": {},
   "outputs": [],
   "source": [
    "url = \"https://api.worldbank.org/v2/en/country/all/indicator/EG.ELC.NUCL.ZS?format=json&per_page=20000&source=2\"\n",
    "\n",
    "nuclear_response = requests.get(url)\n",
    "nuclear_json = nuclear_response.json()"
   ]
  },
  {
   "cell_type": "code",
   "execution_count": 11,
   "metadata": {},
   "outputs": [
    {
     "output_type": "stream",
     "name": "stdout",
     "text": [
      "{'indicator': {'id': 'EG.ELC.NUCL.ZS', 'value': 'Electricity production from nuclear sources (% of total)'}, 'country': {'id': '1A', 'value': 'Arab World'}, 'countryiso3code': 'ARB', 'date': '2019', 'value': None, 'unit': '', 'obs_status': '', 'decimal': 1}\n"
     ]
    }
   ],
   "source": [
    "print(nuclear_json[1][1])"
   ]
  },
  {
   "cell_type": "code",
   "execution_count": 12,
   "metadata": {},
   "outputs": [
    {
     "output_type": "stream",
     "name": "stdout",
     "text": [
      "[{'id': 'EG.ELC.FOSL.ZS', 'value': 'Electricity production from oil, gas and coal sources (% of total)'}, {'id': 'EG.ELC.RNWX.ZS', 'value': 'Electricity production from renewable sources, excluding hydroelectric (% of total)'}, {'id': 'EG.ELC.NUCL.ZS', 'value': 'Electricity production from nuclear sources (% of total)'}]\n"
     ]
    }
   ],
   "source": [
    "# Extract the header detail and push to the production type list and data frame\n",
    "production_type.append({'id' : nuclear_json[1][1]['indicator']['id'], 'value' : nuclear_json[1][1]['indicator']['value']})\n",
    "print(production_type)"
   ]
  },
  {
   "cell_type": "code",
   "execution_count": 13,
   "metadata": {},
   "outputs": [
    {
     "output_type": "execute_result",
     "data": {
      "text/plain": [
       "  countryiso3code  date  value unit obs_status  decimal    indicator.id  \\\n",
       "0             ARB  2020    NaN                        1  EG.ELC.NUCL.ZS   \n",
       "1             ARB  2019    NaN                        1  EG.ELC.NUCL.ZS   \n",
       "2             ARB  2018    NaN                        1  EG.ELC.NUCL.ZS   \n",
       "3             ARB  2017    NaN                        1  EG.ELC.NUCL.ZS   \n",
       "4             ARB  2016    NaN                        1  EG.ELC.NUCL.ZS   \n",
       "5             ARB  2015    NaN                        1  EG.ELC.NUCL.ZS   \n",
       "6             ARB  2014    0.0                        1  EG.ELC.NUCL.ZS   \n",
       "7             ARB  2013    0.0                        1  EG.ELC.NUCL.ZS   \n",
       "8             ARB  2012    0.0                        1  EG.ELC.NUCL.ZS   \n",
       "9             ARB  2011    0.0                        1  EG.ELC.NUCL.ZS   \n",
       "\n",
       "                                     indicator.value country.id country.value  \n",
       "0  Electricity production from nuclear sources (%...         1A    Arab World  \n",
       "1  Electricity production from nuclear sources (%...         1A    Arab World  \n",
       "2  Electricity production from nuclear sources (%...         1A    Arab World  \n",
       "3  Electricity production from nuclear sources (%...         1A    Arab World  \n",
       "4  Electricity production from nuclear sources (%...         1A    Arab World  \n",
       "5  Electricity production from nuclear sources (%...         1A    Arab World  \n",
       "6  Electricity production from nuclear sources (%...         1A    Arab World  \n",
       "7  Electricity production from nuclear sources (%...         1A    Arab World  \n",
       "8  Electricity production from nuclear sources (%...         1A    Arab World  \n",
       "9  Electricity production from nuclear sources (%...         1A    Arab World  "
      ],
      "text/html": "<div>\n<style scoped>\n    .dataframe tbody tr th:only-of-type {\n        vertical-align: middle;\n    }\n\n    .dataframe tbody tr th {\n        vertical-align: top;\n    }\n\n    .dataframe thead th {\n        text-align: right;\n    }\n</style>\n<table border=\"1\" class=\"dataframe\">\n  <thead>\n    <tr style=\"text-align: right;\">\n      <th></th>\n      <th>countryiso3code</th>\n      <th>date</th>\n      <th>value</th>\n      <th>unit</th>\n      <th>obs_status</th>\n      <th>decimal</th>\n      <th>indicator.id</th>\n      <th>indicator.value</th>\n      <th>country.id</th>\n      <th>country.value</th>\n    </tr>\n  </thead>\n  <tbody>\n    <tr>\n      <th>0</th>\n      <td>ARB</td>\n      <td>2020</td>\n      <td>NaN</td>\n      <td></td>\n      <td></td>\n      <td>1</td>\n      <td>EG.ELC.NUCL.ZS</td>\n      <td>Electricity production from nuclear sources (%...</td>\n      <td>1A</td>\n      <td>Arab World</td>\n    </tr>\n    <tr>\n      <th>1</th>\n      <td>ARB</td>\n      <td>2019</td>\n      <td>NaN</td>\n      <td></td>\n      <td></td>\n      <td>1</td>\n      <td>EG.ELC.NUCL.ZS</td>\n      <td>Electricity production from nuclear sources (%...</td>\n      <td>1A</td>\n      <td>Arab World</td>\n    </tr>\n    <tr>\n      <th>2</th>\n      <td>ARB</td>\n      <td>2018</td>\n      <td>NaN</td>\n      <td></td>\n      <td></td>\n      <td>1</td>\n      <td>EG.ELC.NUCL.ZS</td>\n      <td>Electricity production from nuclear sources (%...</td>\n      <td>1A</td>\n      <td>Arab World</td>\n    </tr>\n    <tr>\n      <th>3</th>\n      <td>ARB</td>\n      <td>2017</td>\n      <td>NaN</td>\n      <td></td>\n      <td></td>\n      <td>1</td>\n      <td>EG.ELC.NUCL.ZS</td>\n      <td>Electricity production from nuclear sources (%...</td>\n      <td>1A</td>\n      <td>Arab World</td>\n    </tr>\n    <tr>\n      <th>4</th>\n      <td>ARB</td>\n      <td>2016</td>\n      <td>NaN</td>\n      <td></td>\n      <td></td>\n      <td>1</td>\n      <td>EG.ELC.NUCL.ZS</td>\n      <td>Electricity production from nuclear sources (%...</td>\n      <td>1A</td>\n      <td>Arab World</td>\n    </tr>\n    <tr>\n      <th>5</th>\n      <td>ARB</td>\n      <td>2015</td>\n      <td>NaN</td>\n      <td></td>\n      <td></td>\n      <td>1</td>\n      <td>EG.ELC.NUCL.ZS</td>\n      <td>Electricity production from nuclear sources (%...</td>\n      <td>1A</td>\n      <td>Arab World</td>\n    </tr>\n    <tr>\n      <th>6</th>\n      <td>ARB</td>\n      <td>2014</td>\n      <td>0.0</td>\n      <td></td>\n      <td></td>\n      <td>1</td>\n      <td>EG.ELC.NUCL.ZS</td>\n      <td>Electricity production from nuclear sources (%...</td>\n      <td>1A</td>\n      <td>Arab World</td>\n    </tr>\n    <tr>\n      <th>7</th>\n      <td>ARB</td>\n      <td>2013</td>\n      <td>0.0</td>\n      <td></td>\n      <td></td>\n      <td>1</td>\n      <td>EG.ELC.NUCL.ZS</td>\n      <td>Electricity production from nuclear sources (%...</td>\n      <td>1A</td>\n      <td>Arab World</td>\n    </tr>\n    <tr>\n      <th>8</th>\n      <td>ARB</td>\n      <td>2012</td>\n      <td>0.0</td>\n      <td></td>\n      <td></td>\n      <td>1</td>\n      <td>EG.ELC.NUCL.ZS</td>\n      <td>Electricity production from nuclear sources (%...</td>\n      <td>1A</td>\n      <td>Arab World</td>\n    </tr>\n    <tr>\n      <th>9</th>\n      <td>ARB</td>\n      <td>2011</td>\n      <td>0.0</td>\n      <td></td>\n      <td></td>\n      <td>1</td>\n      <td>EG.ELC.NUCL.ZS</td>\n      <td>Electricity production from nuclear sources (%...</td>\n      <td>1A</td>\n      <td>Arab World</td>\n    </tr>\n  </tbody>\n</table>\n</div>"
     },
     "metadata": {},
     "execution_count": 13
    }
   ],
   "source": [
    "nuclear_df = pd.json_normalize(nuclear_json[1])\n",
    "nuclear_df.head(10)"
   ]
  },
  {
   "source": [
    "## Electricity production from natural gas sources"
   ],
   "cell_type": "markdown",
   "metadata": {}
  },
  {
   "cell_type": "code",
   "execution_count": 14,
   "metadata": {},
   "outputs": [],
   "source": [
    "url = \"https://api.worldbank.org/v2/en/country/all/indicator/EG.ELC.NGAS.ZS?format=json&per_page=20000&source=2\"\n",
    "\n",
    "ngas_response = requests.get(url)\n",
    "ngas_json = ngas_response.json()"
   ]
  },
  {
   "cell_type": "code",
   "execution_count": 15,
   "metadata": {},
   "outputs": [
    {
     "output_type": "stream",
     "name": "stdout",
     "text": [
      "{'indicator': {'id': 'EG.ELC.NGAS.ZS', 'value': 'Electricity production from natural gas sources (% of total)'}, 'country': {'id': '1A', 'value': 'Arab World'}, 'countryiso3code': 'ARB', 'date': '2019', 'value': None, 'unit': '', 'obs_status': '', 'decimal': 1}\n"
     ]
    }
   ],
   "source": [
    "print(ngas_json[1][1])"
   ]
  },
  {
   "cell_type": "code",
   "execution_count": 16,
   "metadata": {},
   "outputs": [
    {
     "output_type": "stream",
     "name": "stdout",
     "text": [
      "[{'id': 'EG.ELC.FOSL.ZS', 'value': 'Electricity production from oil, gas and coal sources (% of total)'}, {'id': 'EG.ELC.RNWX.ZS', 'value': 'Electricity production from renewable sources, excluding hydroelectric (% of total)'}, {'id': 'EG.ELC.NUCL.ZS', 'value': 'Electricity production from nuclear sources (% of total)'}, {'id': 'EG.ELC.NGAS.ZS', 'value': 'Electricity production from natural gas sources (% of total)'}]\n"
     ]
    }
   ],
   "source": [
    "# Extract the header detail and push to the production type list and data frame\n",
    "production_type.append({'id' : ngas_json[1][1]['indicator']['id'], 'value' : ngas_json[1][1]['indicator']['value']})\n",
    "print(production_type)"
   ]
  },
  {
   "cell_type": "code",
   "execution_count": 17,
   "metadata": {},
   "outputs": [
    {
     "output_type": "execute_result",
     "data": {
      "text/plain": [
       "  countryiso3code  date      value unit obs_status  decimal    indicator.id  \\\n",
       "0             ARB  2020        NaN                        1  EG.ELC.NGAS.ZS   \n",
       "1             ARB  2019        NaN                        1  EG.ELC.NGAS.ZS   \n",
       "2             ARB  2018        NaN                        1  EG.ELC.NGAS.ZS   \n",
       "3             ARB  2017        NaN                        1  EG.ELC.NGAS.ZS   \n",
       "4             ARB  2016        NaN                        1  EG.ELC.NGAS.ZS   \n",
       "5             ARB  2015  64.071422                        1  EG.ELC.NGAS.ZS   \n",
       "6             ARB  2014  61.592526                        1  EG.ELC.NGAS.ZS   \n",
       "7             ARB  2013  63.035044                        1  EG.ELC.NGAS.ZS   \n",
       "8             ARB  2012  61.330974                        1  EG.ELC.NGAS.ZS   \n",
       "9             ARB  2011  61.779520                        1  EG.ELC.NGAS.ZS   \n",
       "\n",
       "                                     indicator.value country.id country.value  \n",
       "0  Electricity production from natural gas source...         1A    Arab World  \n",
       "1  Electricity production from natural gas source...         1A    Arab World  \n",
       "2  Electricity production from natural gas source...         1A    Arab World  \n",
       "3  Electricity production from natural gas source...         1A    Arab World  \n",
       "4  Electricity production from natural gas source...         1A    Arab World  \n",
       "5  Electricity production from natural gas source...         1A    Arab World  \n",
       "6  Electricity production from natural gas source...         1A    Arab World  \n",
       "7  Electricity production from natural gas source...         1A    Arab World  \n",
       "8  Electricity production from natural gas source...         1A    Arab World  \n",
       "9  Electricity production from natural gas source...         1A    Arab World  "
      ],
      "text/html": "<div>\n<style scoped>\n    .dataframe tbody tr th:only-of-type {\n        vertical-align: middle;\n    }\n\n    .dataframe tbody tr th {\n        vertical-align: top;\n    }\n\n    .dataframe thead th {\n        text-align: right;\n    }\n</style>\n<table border=\"1\" class=\"dataframe\">\n  <thead>\n    <tr style=\"text-align: right;\">\n      <th></th>\n      <th>countryiso3code</th>\n      <th>date</th>\n      <th>value</th>\n      <th>unit</th>\n      <th>obs_status</th>\n      <th>decimal</th>\n      <th>indicator.id</th>\n      <th>indicator.value</th>\n      <th>country.id</th>\n      <th>country.value</th>\n    </tr>\n  </thead>\n  <tbody>\n    <tr>\n      <th>0</th>\n      <td>ARB</td>\n      <td>2020</td>\n      <td>NaN</td>\n      <td></td>\n      <td></td>\n      <td>1</td>\n      <td>EG.ELC.NGAS.ZS</td>\n      <td>Electricity production from natural gas source...</td>\n      <td>1A</td>\n      <td>Arab World</td>\n    </tr>\n    <tr>\n      <th>1</th>\n      <td>ARB</td>\n      <td>2019</td>\n      <td>NaN</td>\n      <td></td>\n      <td></td>\n      <td>1</td>\n      <td>EG.ELC.NGAS.ZS</td>\n      <td>Electricity production from natural gas source...</td>\n      <td>1A</td>\n      <td>Arab World</td>\n    </tr>\n    <tr>\n      <th>2</th>\n      <td>ARB</td>\n      <td>2018</td>\n      <td>NaN</td>\n      <td></td>\n      <td></td>\n      <td>1</td>\n      <td>EG.ELC.NGAS.ZS</td>\n      <td>Electricity production from natural gas source...</td>\n      <td>1A</td>\n      <td>Arab World</td>\n    </tr>\n    <tr>\n      <th>3</th>\n      <td>ARB</td>\n      <td>2017</td>\n      <td>NaN</td>\n      <td></td>\n      <td></td>\n      <td>1</td>\n      <td>EG.ELC.NGAS.ZS</td>\n      <td>Electricity production from natural gas source...</td>\n      <td>1A</td>\n      <td>Arab World</td>\n    </tr>\n    <tr>\n      <th>4</th>\n      <td>ARB</td>\n      <td>2016</td>\n      <td>NaN</td>\n      <td></td>\n      <td></td>\n      <td>1</td>\n      <td>EG.ELC.NGAS.ZS</td>\n      <td>Electricity production from natural gas source...</td>\n      <td>1A</td>\n      <td>Arab World</td>\n    </tr>\n    <tr>\n      <th>5</th>\n      <td>ARB</td>\n      <td>2015</td>\n      <td>64.071422</td>\n      <td></td>\n      <td></td>\n      <td>1</td>\n      <td>EG.ELC.NGAS.ZS</td>\n      <td>Electricity production from natural gas source...</td>\n      <td>1A</td>\n      <td>Arab World</td>\n    </tr>\n    <tr>\n      <th>6</th>\n      <td>ARB</td>\n      <td>2014</td>\n      <td>61.592526</td>\n      <td></td>\n      <td></td>\n      <td>1</td>\n      <td>EG.ELC.NGAS.ZS</td>\n      <td>Electricity production from natural gas source...</td>\n      <td>1A</td>\n      <td>Arab World</td>\n    </tr>\n    <tr>\n      <th>7</th>\n      <td>ARB</td>\n      <td>2013</td>\n      <td>63.035044</td>\n      <td></td>\n      <td></td>\n      <td>1</td>\n      <td>EG.ELC.NGAS.ZS</td>\n      <td>Electricity production from natural gas source...</td>\n      <td>1A</td>\n      <td>Arab World</td>\n    </tr>\n    <tr>\n      <th>8</th>\n      <td>ARB</td>\n      <td>2012</td>\n      <td>61.330974</td>\n      <td></td>\n      <td></td>\n      <td>1</td>\n      <td>EG.ELC.NGAS.ZS</td>\n      <td>Electricity production from natural gas source...</td>\n      <td>1A</td>\n      <td>Arab World</td>\n    </tr>\n    <tr>\n      <th>9</th>\n      <td>ARB</td>\n      <td>2011</td>\n      <td>61.779520</td>\n      <td></td>\n      <td></td>\n      <td>1</td>\n      <td>EG.ELC.NGAS.ZS</td>\n      <td>Electricity production from natural gas source...</td>\n      <td>1A</td>\n      <td>Arab World</td>\n    </tr>\n  </tbody>\n</table>\n</div>"
     },
     "metadata": {},
     "execution_count": 17
    }
   ],
   "source": [
    "ngas_df = pd.json_normalize(ngas_json[1])\n",
    "ngas_df.head(10)"
   ]
  },
  {
   "source": [
    "## Electricity production from hydroelectric sources"
   ],
   "cell_type": "markdown",
   "metadata": {}
  },
  {
   "cell_type": "code",
   "execution_count": 18,
   "metadata": {},
   "outputs": [],
   "source": [
    "url = \"https://api.worldbank.org/v2/en/country/all/indicator/EG.ELC.HYRO.ZS?format=json&per_page=20000&source=2\"\n",
    "\n",
    "hydro_response = requests.get(url)\n",
    "hydro_json = hydro_response.json()"
   ]
  },
  {
   "cell_type": "code",
   "execution_count": 19,
   "metadata": {},
   "outputs": [
    {
     "output_type": "stream",
     "name": "stdout",
     "text": [
      "{'indicator': {'id': 'EG.ELC.HYRO.ZS', 'value': 'Electricity production from hydroelectric sources (% of total)'}, 'country': {'id': '1A', 'value': 'Arab World'}, 'countryiso3code': 'ARB', 'date': '2019', 'value': None, 'unit': '', 'obs_status': '', 'decimal': 1}\n"
     ]
    }
   ],
   "source": [
    "print(hydro_json[1][1])"
   ]
  },
  {
   "cell_type": "code",
   "execution_count": 20,
   "metadata": {},
   "outputs": [
    {
     "output_type": "stream",
     "name": "stdout",
     "text": [
      "[{'id': 'EG.ELC.FOSL.ZS', 'value': 'Electricity production from oil, gas and coal sources (% of total)'}, {'id': 'EG.ELC.RNWX.ZS', 'value': 'Electricity production from renewable sources, excluding hydroelectric (% of total)'}, {'id': 'EG.ELC.NUCL.ZS', 'value': 'Electricity production from nuclear sources (% of total)'}, {'id': 'EG.ELC.NGAS.ZS', 'value': 'Electricity production from natural gas sources (% of total)'}, {'id': 'EG.ELC.HYRO.ZS', 'value': 'Electricity production from hydroelectric sources (% of total)'}]\n"
     ]
    }
   ],
   "source": [
    "production_type.append({'id' : hydro_json[1][1]['indicator']['id'], 'value' : hydro_json[1][1]['indicator']['value']})\n",
    "print(production_type)"
   ]
  },
  {
   "cell_type": "code",
   "execution_count": 21,
   "metadata": {},
   "outputs": [
    {
     "output_type": "execute_result",
     "data": {
      "text/plain": [
       "      countryiso3code  date  value unit obs_status  decimal    indicator.id  \\\n",
       "16094             ZWE  1969    NaN                        1  EG.ELC.HYRO.ZS   \n",
       "16095             ZWE  1968    NaN                        1  EG.ELC.HYRO.ZS   \n",
       "16096             ZWE  1967    NaN                        1  EG.ELC.HYRO.ZS   \n",
       "16097             ZWE  1966    NaN                        1  EG.ELC.HYRO.ZS   \n",
       "16098             ZWE  1965    NaN                        1  EG.ELC.HYRO.ZS   \n",
       "16099             ZWE  1964    NaN                        1  EG.ELC.HYRO.ZS   \n",
       "16100             ZWE  1963    NaN                        1  EG.ELC.HYRO.ZS   \n",
       "16101             ZWE  1962    NaN                        1  EG.ELC.HYRO.ZS   \n",
       "16102             ZWE  1961    NaN                        1  EG.ELC.HYRO.ZS   \n",
       "16103             ZWE  1960    NaN                        1  EG.ELC.HYRO.ZS   \n",
       "\n",
       "                                         indicator.value country.id  \\\n",
       "16094  Electricity production from hydroelectric sour...         ZW   \n",
       "16095  Electricity production from hydroelectric sour...         ZW   \n",
       "16096  Electricity production from hydroelectric sour...         ZW   \n",
       "16097  Electricity production from hydroelectric sour...         ZW   \n",
       "16098  Electricity production from hydroelectric sour...         ZW   \n",
       "16099  Electricity production from hydroelectric sour...         ZW   \n",
       "16100  Electricity production from hydroelectric sour...         ZW   \n",
       "16101  Electricity production from hydroelectric sour...         ZW   \n",
       "16102  Electricity production from hydroelectric sour...         ZW   \n",
       "16103  Electricity production from hydroelectric sour...         ZW   \n",
       "\n",
       "      country.value  \n",
       "16094      Zimbabwe  \n",
       "16095      Zimbabwe  \n",
       "16096      Zimbabwe  \n",
       "16097      Zimbabwe  \n",
       "16098      Zimbabwe  \n",
       "16099      Zimbabwe  \n",
       "16100      Zimbabwe  \n",
       "16101      Zimbabwe  \n",
       "16102      Zimbabwe  \n",
       "16103      Zimbabwe  "
      ],
      "text/html": "<div>\n<style scoped>\n    .dataframe tbody tr th:only-of-type {\n        vertical-align: middle;\n    }\n\n    .dataframe tbody tr th {\n        vertical-align: top;\n    }\n\n    .dataframe thead th {\n        text-align: right;\n    }\n</style>\n<table border=\"1\" class=\"dataframe\">\n  <thead>\n    <tr style=\"text-align: right;\">\n      <th></th>\n      <th>countryiso3code</th>\n      <th>date</th>\n      <th>value</th>\n      <th>unit</th>\n      <th>obs_status</th>\n      <th>decimal</th>\n      <th>indicator.id</th>\n      <th>indicator.value</th>\n      <th>country.id</th>\n      <th>country.value</th>\n    </tr>\n  </thead>\n  <tbody>\n    <tr>\n      <th>16094</th>\n      <td>ZWE</td>\n      <td>1969</td>\n      <td>NaN</td>\n      <td></td>\n      <td></td>\n      <td>1</td>\n      <td>EG.ELC.HYRO.ZS</td>\n      <td>Electricity production from hydroelectric sour...</td>\n      <td>ZW</td>\n      <td>Zimbabwe</td>\n    </tr>\n    <tr>\n      <th>16095</th>\n      <td>ZWE</td>\n      <td>1968</td>\n      <td>NaN</td>\n      <td></td>\n      <td></td>\n      <td>1</td>\n      <td>EG.ELC.HYRO.ZS</td>\n      <td>Electricity production from hydroelectric sour...</td>\n      <td>ZW</td>\n      <td>Zimbabwe</td>\n    </tr>\n    <tr>\n      <th>16096</th>\n      <td>ZWE</td>\n      <td>1967</td>\n      <td>NaN</td>\n      <td></td>\n      <td></td>\n      <td>1</td>\n      <td>EG.ELC.HYRO.ZS</td>\n      <td>Electricity production from hydroelectric sour...</td>\n      <td>ZW</td>\n      <td>Zimbabwe</td>\n    </tr>\n    <tr>\n      <th>16097</th>\n      <td>ZWE</td>\n      <td>1966</td>\n      <td>NaN</td>\n      <td></td>\n      <td></td>\n      <td>1</td>\n      <td>EG.ELC.HYRO.ZS</td>\n      <td>Electricity production from hydroelectric sour...</td>\n      <td>ZW</td>\n      <td>Zimbabwe</td>\n    </tr>\n    <tr>\n      <th>16098</th>\n      <td>ZWE</td>\n      <td>1965</td>\n      <td>NaN</td>\n      <td></td>\n      <td></td>\n      <td>1</td>\n      <td>EG.ELC.HYRO.ZS</td>\n      <td>Electricity production from hydroelectric sour...</td>\n      <td>ZW</td>\n      <td>Zimbabwe</td>\n    </tr>\n    <tr>\n      <th>16099</th>\n      <td>ZWE</td>\n      <td>1964</td>\n      <td>NaN</td>\n      <td></td>\n      <td></td>\n      <td>1</td>\n      <td>EG.ELC.HYRO.ZS</td>\n      <td>Electricity production from hydroelectric sour...</td>\n      <td>ZW</td>\n      <td>Zimbabwe</td>\n    </tr>\n    <tr>\n      <th>16100</th>\n      <td>ZWE</td>\n      <td>1963</td>\n      <td>NaN</td>\n      <td></td>\n      <td></td>\n      <td>1</td>\n      <td>EG.ELC.HYRO.ZS</td>\n      <td>Electricity production from hydroelectric sour...</td>\n      <td>ZW</td>\n      <td>Zimbabwe</td>\n    </tr>\n    <tr>\n      <th>16101</th>\n      <td>ZWE</td>\n      <td>1962</td>\n      <td>NaN</td>\n      <td></td>\n      <td></td>\n      <td>1</td>\n      <td>EG.ELC.HYRO.ZS</td>\n      <td>Electricity production from hydroelectric sour...</td>\n      <td>ZW</td>\n      <td>Zimbabwe</td>\n    </tr>\n    <tr>\n      <th>16102</th>\n      <td>ZWE</td>\n      <td>1961</td>\n      <td>NaN</td>\n      <td></td>\n      <td></td>\n      <td>1</td>\n      <td>EG.ELC.HYRO.ZS</td>\n      <td>Electricity production from hydroelectric sour...</td>\n      <td>ZW</td>\n      <td>Zimbabwe</td>\n    </tr>\n    <tr>\n      <th>16103</th>\n      <td>ZWE</td>\n      <td>1960</td>\n      <td>NaN</td>\n      <td></td>\n      <td></td>\n      <td>1</td>\n      <td>EG.ELC.HYRO.ZS</td>\n      <td>Electricity production from hydroelectric sour...</td>\n      <td>ZW</td>\n      <td>Zimbabwe</td>\n    </tr>\n  </tbody>\n</table>\n</div>"
     },
     "metadata": {},
     "execution_count": 21
    }
   ],
   "source": [
    "hydro_df = pd.json_normalize(hydro_json[1])\n",
    "hydro_df.tail(10)"
   ]
  },
  {
   "cell_type": "code",
   "execution_count": 22,
   "metadata": {},
   "outputs": [
    {
     "output_type": "stream",
     "name": "stdout",
     "text": [
      "16104\n"
     ]
    }
   ],
   "source": [
    "print(len(hydro_df))"
   ]
  },
  {
   "source": [
    "## Data Cleansing and Database Insert (T)"
   ],
   "cell_type": "markdown",
   "metadata": {}
  },
  {
   "cell_type": "code",
   "execution_count": 23,
   "metadata": {},
   "outputs": [
    {
     "output_type": "execute_result",
     "data": {
      "text/plain": [
       "        source_id                                        source_name\n",
       "0  EG.ELC.FOSL.ZS  Electricity production from oil, gas and coal ...\n",
       "1  EG.ELC.RNWX.ZS  Electricity production from renewable sources,...\n",
       "2  EG.ELC.NUCL.ZS  Electricity production from nuclear sources (%...\n",
       "3  EG.ELC.NGAS.ZS  Electricity production from natural gas source...\n",
       "4  EG.ELC.HYRO.ZS  Electricity production from hydroelectric sour..."
      ],
      "text/html": "<div>\n<style scoped>\n    .dataframe tbody tr th:only-of-type {\n        vertical-align: middle;\n    }\n\n    .dataframe tbody tr th {\n        vertical-align: top;\n    }\n\n    .dataframe thead th {\n        text-align: right;\n    }\n</style>\n<table border=\"1\" class=\"dataframe\">\n  <thead>\n    <tr style=\"text-align: right;\">\n      <th></th>\n      <th>source_id</th>\n      <th>source_name</th>\n    </tr>\n  </thead>\n  <tbody>\n    <tr>\n      <th>0</th>\n      <td>EG.ELC.FOSL.ZS</td>\n      <td>Electricity production from oil, gas and coal ...</td>\n    </tr>\n    <tr>\n      <th>1</th>\n      <td>EG.ELC.RNWX.ZS</td>\n      <td>Electricity production from renewable sources,...</td>\n    </tr>\n    <tr>\n      <th>2</th>\n      <td>EG.ELC.NUCL.ZS</td>\n      <td>Electricity production from nuclear sources (%...</td>\n    </tr>\n    <tr>\n      <th>3</th>\n      <td>EG.ELC.NGAS.ZS</td>\n      <td>Electricity production from natural gas source...</td>\n    </tr>\n    <tr>\n      <th>4</th>\n      <td>EG.ELC.HYRO.ZS</td>\n      <td>Electricity production from hydroelectric sour...</td>\n    </tr>\n  </tbody>\n</table>\n</div>"
     },
     "metadata": {},
     "execution_count": 23
    }
   ],
   "source": [
    "# Concatenate all DataFrames into a single dataframe\n",
    "# Header Data\n",
    "production_type_df = pd.DataFrame(production_type)\n",
    "production_type_df = production_type_df.rename(columns={\"id\":\"source_id\", \"value\":\"source_name\"})\n",
    "production_type_df"
   ]
  },
  {
   "cell_type": "code",
   "execution_count": 24,
   "metadata": {},
   "outputs": [
    {
     "output_type": "stream",
     "name": "stdout",
     "text": [
      "80520\n"
     ]
    }
   ],
   "source": [
    "# Results Data\n",
    "frames = [coal_df, renew_df, nuclear_df, ngas_df, hydro_df]\n",
    "results_df = pd.concat(frames)\n",
    "\n",
    "print(len(results_df))"
   ]
  },
  {
   "cell_type": "code",
   "execution_count": 25,
   "metadata": {},
   "outputs": [
    {
     "output_type": "execute_result",
     "data": {
      "text/plain": [
       "      countryiso3code  date  value unit obs_status  decimal    indicator.id  \\\n",
       "16099             ZWE  1964    NaN                        1  EG.ELC.HYRO.ZS   \n",
       "16100             ZWE  1963    NaN                        1  EG.ELC.HYRO.ZS   \n",
       "16101             ZWE  1962    NaN                        1  EG.ELC.HYRO.ZS   \n",
       "16102             ZWE  1961    NaN                        1  EG.ELC.HYRO.ZS   \n",
       "16103             ZWE  1960    NaN                        1  EG.ELC.HYRO.ZS   \n",
       "\n",
       "                                         indicator.value country.id  \\\n",
       "16099  Electricity production from hydroelectric sour...         ZW   \n",
       "16100  Electricity production from hydroelectric sour...         ZW   \n",
       "16101  Electricity production from hydroelectric sour...         ZW   \n",
       "16102  Electricity production from hydroelectric sour...         ZW   \n",
       "16103  Electricity production from hydroelectric sour...         ZW   \n",
       "\n",
       "      country.value  \n",
       "16099      Zimbabwe  \n",
       "16100      Zimbabwe  \n",
       "16101      Zimbabwe  \n",
       "16102      Zimbabwe  \n",
       "16103      Zimbabwe  "
      ],
      "text/html": "<div>\n<style scoped>\n    .dataframe tbody tr th:only-of-type {\n        vertical-align: middle;\n    }\n\n    .dataframe tbody tr th {\n        vertical-align: top;\n    }\n\n    .dataframe thead th {\n        text-align: right;\n    }\n</style>\n<table border=\"1\" class=\"dataframe\">\n  <thead>\n    <tr style=\"text-align: right;\">\n      <th></th>\n      <th>countryiso3code</th>\n      <th>date</th>\n      <th>value</th>\n      <th>unit</th>\n      <th>obs_status</th>\n      <th>decimal</th>\n      <th>indicator.id</th>\n      <th>indicator.value</th>\n      <th>country.id</th>\n      <th>country.value</th>\n    </tr>\n  </thead>\n  <tbody>\n    <tr>\n      <th>16099</th>\n      <td>ZWE</td>\n      <td>1964</td>\n      <td>NaN</td>\n      <td></td>\n      <td></td>\n      <td>1</td>\n      <td>EG.ELC.HYRO.ZS</td>\n      <td>Electricity production from hydroelectric sour...</td>\n      <td>ZW</td>\n      <td>Zimbabwe</td>\n    </tr>\n    <tr>\n      <th>16100</th>\n      <td>ZWE</td>\n      <td>1963</td>\n      <td>NaN</td>\n      <td></td>\n      <td></td>\n      <td>1</td>\n      <td>EG.ELC.HYRO.ZS</td>\n      <td>Electricity production from hydroelectric sour...</td>\n      <td>ZW</td>\n      <td>Zimbabwe</td>\n    </tr>\n    <tr>\n      <th>16101</th>\n      <td>ZWE</td>\n      <td>1962</td>\n      <td>NaN</td>\n      <td></td>\n      <td></td>\n      <td>1</td>\n      <td>EG.ELC.HYRO.ZS</td>\n      <td>Electricity production from hydroelectric sour...</td>\n      <td>ZW</td>\n      <td>Zimbabwe</td>\n    </tr>\n    <tr>\n      <th>16102</th>\n      <td>ZWE</td>\n      <td>1961</td>\n      <td>NaN</td>\n      <td></td>\n      <td></td>\n      <td>1</td>\n      <td>EG.ELC.HYRO.ZS</td>\n      <td>Electricity production from hydroelectric sour...</td>\n      <td>ZW</td>\n      <td>Zimbabwe</td>\n    </tr>\n    <tr>\n      <th>16103</th>\n      <td>ZWE</td>\n      <td>1960</td>\n      <td>NaN</td>\n      <td></td>\n      <td></td>\n      <td>1</td>\n      <td>EG.ELC.HYRO.ZS</td>\n      <td>Electricity production from hydroelectric sour...</td>\n      <td>ZW</td>\n      <td>Zimbabwe</td>\n    </tr>\n  </tbody>\n</table>\n</div>"
     },
     "metadata": {},
     "execution_count": 25
    }
   ],
   "source": [
    "results_df.tail()"
   ]
  },
  {
   "cell_type": "code",
   "execution_count": 26,
   "metadata": {},
   "outputs": [
    {
     "output_type": "execute_result",
     "data": {
      "text/plain": [
       "       index     country  year       source_id  percentage\n",
       "0          5  Arab World  2015  EG.ELC.FOSL.ZS   86.100437\n",
       "1          6  Arab World  2014  EG.ELC.FOSL.ZS   86.243390\n",
       "2          7  Arab World  2013  EG.ELC.FOSL.ZS   87.057507\n",
       "3          8  Arab World  2012  EG.ELC.FOSL.ZS   86.745203\n",
       "4          9  Arab World  2011  EG.ELC.FOSL.ZS   86.036528\n",
       "...      ...         ...   ...             ...         ...\n",
       "39969  16088    Zimbabwe  1975  EG.ELC.HYRO.ZS   86.665571\n",
       "39970  16089    Zimbabwe  1974  EG.ELC.HYRO.ZS   88.078619\n",
       "39971  16090    Zimbabwe  1973  EG.ELC.HYRO.ZS   67.420727\n",
       "39972  16091    Zimbabwe  1972  EG.ELC.HYRO.ZS   82.729162\n",
       "39973  16092    Zimbabwe  1971  EG.ELC.HYRO.ZS   67.323709\n",
       "\n",
       "[39974 rows x 5 columns]"
      ],
      "text/html": "<div>\n<style scoped>\n    .dataframe tbody tr th:only-of-type {\n        vertical-align: middle;\n    }\n\n    .dataframe tbody tr th {\n        vertical-align: top;\n    }\n\n    .dataframe thead th {\n        text-align: right;\n    }\n</style>\n<table border=\"1\" class=\"dataframe\">\n  <thead>\n    <tr style=\"text-align: right;\">\n      <th></th>\n      <th>index</th>\n      <th>country</th>\n      <th>year</th>\n      <th>source_id</th>\n      <th>percentage</th>\n    </tr>\n  </thead>\n  <tbody>\n    <tr>\n      <th>0</th>\n      <td>5</td>\n      <td>Arab World</td>\n      <td>2015</td>\n      <td>EG.ELC.FOSL.ZS</td>\n      <td>86.100437</td>\n    </tr>\n    <tr>\n      <th>1</th>\n      <td>6</td>\n      <td>Arab World</td>\n      <td>2014</td>\n      <td>EG.ELC.FOSL.ZS</td>\n      <td>86.243390</td>\n    </tr>\n    <tr>\n      <th>2</th>\n      <td>7</td>\n      <td>Arab World</td>\n      <td>2013</td>\n      <td>EG.ELC.FOSL.ZS</td>\n      <td>87.057507</td>\n    </tr>\n    <tr>\n      <th>3</th>\n      <td>8</td>\n      <td>Arab World</td>\n      <td>2012</td>\n      <td>EG.ELC.FOSL.ZS</td>\n      <td>86.745203</td>\n    </tr>\n    <tr>\n      <th>4</th>\n      <td>9</td>\n      <td>Arab World</td>\n      <td>2011</td>\n      <td>EG.ELC.FOSL.ZS</td>\n      <td>86.036528</td>\n    </tr>\n    <tr>\n      <th>...</th>\n      <td>...</td>\n      <td>...</td>\n      <td>...</td>\n      <td>...</td>\n      <td>...</td>\n    </tr>\n    <tr>\n      <th>39969</th>\n      <td>16088</td>\n      <td>Zimbabwe</td>\n      <td>1975</td>\n      <td>EG.ELC.HYRO.ZS</td>\n      <td>86.665571</td>\n    </tr>\n    <tr>\n      <th>39970</th>\n      <td>16089</td>\n      <td>Zimbabwe</td>\n      <td>1974</td>\n      <td>EG.ELC.HYRO.ZS</td>\n      <td>88.078619</td>\n    </tr>\n    <tr>\n      <th>39971</th>\n      <td>16090</td>\n      <td>Zimbabwe</td>\n      <td>1973</td>\n      <td>EG.ELC.HYRO.ZS</td>\n      <td>67.420727</td>\n    </tr>\n    <tr>\n      <th>39972</th>\n      <td>16091</td>\n      <td>Zimbabwe</td>\n      <td>1972</td>\n      <td>EG.ELC.HYRO.ZS</td>\n      <td>82.729162</td>\n    </tr>\n    <tr>\n      <th>39973</th>\n      <td>16092</td>\n      <td>Zimbabwe</td>\n      <td>1971</td>\n      <td>EG.ELC.HYRO.ZS</td>\n      <td>67.323709</td>\n    </tr>\n  </tbody>\n</table>\n<p>39974 rows × 5 columns</p>\n</div>"
     },
     "metadata": {},
     "execution_count": 26
    }
   ],
   "source": [
    "# Clean up results data\n",
    "results_df = results_df[[\"country.value\", \"countryiso3code\", \"date\", \"indicator.id\", \"value\"]]\n",
    "results_df = results_df.rename(columns={\"country.value\":\"country\", \"countryiso3code\":\"iso3code\", \"date\":\"year\", \"indicator.id\":\"source_id\", \"value\":\"percentage\"})\n",
    "results_df = results_df.dropna(how='any')\n",
    "results_df.reset_index(inplace=True)\n",
    "results_df"
   ]
  },
  {
   "cell_type": "code",
   "execution_count": 27,
   "metadata": {},
   "outputs": [
    {
     "output_type": "stream",
     "name": "stdout",
     "text": [
      "39974\n"
     ]
    }
   ],
   "source": [
    "print(len(results_df))"
   ]
  },
  {
   "cell_type": "code",
   "execution_count": 30,
   "metadata": {},
   "outputs": [
    {
     "output_type": "execute_result",
     "data": {
      "text/plain": [
       "<pymongo.results.InsertManyResult at 0x21970721388>"
      ]
     },
     "metadata": {},
     "execution_count": 30
    }
   ],
   "source": [
    "# Insert into Mongo\n",
    "conn = 'mongodb://localhost:27017'\n",
    "client = pymongo.MongoClient(conn)\n",
    "\n",
    "# Define the 'electric_vehicles' database in Mongo\n",
    "db = client.electric_vehicles\n",
    "\n",
    "# Drop the 'electricity_production_sources' collection if it exists\n",
    "db['electricity_production_sources'].drop()\n",
    "\n",
    "# Insert Production Types\n",
    "# records = json.loads(production_type_df.T.to_json()).values()\n",
    "# db.electricity_production_sources.insert_many(records)\n",
    "\n",
    "data = production_type_df.to_dict(orient='records')  # Here's our added param..\n",
    "db.electricity_production_sources.insert_many(data)"
   ]
  },
  {
   "cell_type": "code",
   "execution_count": 29,
   "metadata": {},
   "outputs": [
    {
     "output_type": "execute_result",
     "data": {
      "text/plain": [
       "<pymongo.results.InsertManyResult at 0x219707bc748>"
      ]
     },
     "metadata": {},
     "execution_count": 29
    }
   ],
   "source": [
    "# Insert Results\n",
    "records = json.loads(results_df.T.to_json()).values()\n",
    "db.electricity_production_values.insert_many(records)"
   ]
  },
  {
   "cell_type": "code",
   "execution_count": null,
   "metadata": {},
   "outputs": [],
   "source": []
  }
 ]
}