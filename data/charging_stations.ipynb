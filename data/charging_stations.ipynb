{
 "metadata": {
  "language_info": {
   "codemirror_mode": {
    "name": "ipython",
    "version": 3
   },
   "file_extension": ".py",
   "mimetype": "text/x-python",
   "name": "python",
   "nbconvert_exporter": "python",
   "pygments_lexer": "ipython3",
   "version": "3.8.5"
  },
  "orig_nbformat": 2,
  "kernelspec": {
   "name": "python385jvsc74a57bd02c3c5b7e521ed385cd317e5adc75c961fe301f41d1ed6ee19f28764a4ab100bf",
   "display_name": "Python 3.8.5 64-bit ('Mwansa': virtualenv)"
  }
 },
 "nbformat": 4,
 "nbformat_minor": 2,
 "cells": [
  {
   "source": [
    "# Electric vehicle charging station locations - Worldwide \n",
    "This notebook has been used to extract API data from Open Charge Map.\n",
    "\n",
    "API used to extract all recorded charging stations in the world\n",
    "\n",
    "https://openchargemap.org/site\n",
    "\n",
    "API documentation: \n",
    "https://openchargemap.org/site/develop/api\n",
    "\n",
    "## Country Codes\n",
    "Country codes have been retreived from :\n",
    "https://datahub.io/core/country-list/r/data.json"
   ],
   "cell_type": "markdown",
   "metadata": {}
  },
  {
   "cell_type": "code",
   "execution_count": 1,
   "metadata": {},
   "outputs": [],
   "source": [
    "# Python Dependencies\n",
    "import requests\n",
    "import json\n",
    "import pprint\n",
    "import pymongo\n",
    "import time\n",
    "from config import api_key # Open Charge Map API"
   ]
  },
  {
   "cell_type": "code",
   "execution_count": 2,
   "metadata": {},
   "outputs": [
    {
     "output_type": "stream",
     "name": "stdout",
     "text": [
      "[{'AddressInfo': {'AddressLine1': '7388 Humin Road',\n                  'CountryID': 50,\n                  'DistanceUnit': 0,\n                  'ID': 164114,\n                  'Latitude': 31.13140735,\n                  'Longitude': 121.40009915,\n                  'Title': 'Shanghai - Southern Bailian Supercharger',\n                  'Town': 'Shanghai'},\n  'Connections': [{'ConnectionTypeID': 27,\n                   'CurrentTypeID': 30,\n                   'ID': 235354,\n                   'LevelID': 3,\n                   'PowerKW': 120.0,\n                   'Quantity': 10,\n                   'StatusTypeID': 50}],\n  'DataProviderID': 1,\n  'DataQualityLevel': 1,\n  'DateCreated': '2020-08-24T16:26:00Z',\n  'DateLastStatusUpdate': '2020-08-24T16:27:00Z',\n  'GeneralComments': 'Charging10 Superchargers, available 24/7, up to 120kW',\n  'ID': 163757,\n  'IsRecentlyVerified': False,\n  'NumberOfPoints': 10,\n  'OperatorID': 23,\n  'OperatorsReference': '49613',\n  'StatusTypeID': 50,\n  'SubmissionStatusTypeID': 200,\n  'UUID': '2629E818-9444-4814-BBF1-959CA1D62C75',\n  'UsageCost': 'CNY 1.95/kWh;其他关税老车/other tariffs for older cars',\n  'UsageTypeID': 4}]\n"
     ]
    }
   ],
   "source": [
    "# Get a small record set from the API to better understand the JSON structure \n",
    "\n",
    "units = \"metric\"\n",
    "country_code = \"CN\"\n",
    "count = 1\n",
    "distanceunit = \"KM\"\n",
    "url = f\"https://api.openchargemap.io/v3/poi/?key={api_key}&output=json&countrycode={country_code}&distanceunit={distanceunit}&maxresults={count}&compact=true&verbose=false\"\n",
    "# url = \"https://api.openchargemap.io/v3/referencedata/\"\n",
    "\n",
    "response = requests.get(url).json()\n",
    "\n",
    "pprint.pprint(response)"
   ]
  },
  {
   "cell_type": "code",
   "execution_count": 3,
   "metadata": {},
   "outputs": [
    {
     "output_type": "stream",
     "name": "stdout",
     "text": [
      "Shanghai Shanghai - Southern Bailian Supercharger 31.13140735 121.40009915 10 Charging10 Superchargers, available 24/7, up to 120kW\n30 120.0 3 10\n"
     ]
    }
   ],
   "source": [
    "for location in response:\n",
    "    print(f\"{location['AddressInfo']['Town']} {location['AddressInfo']['Title']} {location['AddressInfo']['Latitude']} {location['AddressInfo']['Longitude']} {location['NumberOfPoints']} {location['GeneralComments']}\")\n",
    "    connections = location['Connections']\n",
    "    for connection in connections:\n",
    "        print(f\"{connection['CurrentTypeID']} {connection['PowerKW']} {connection['LevelID']} {connection['Quantity']}\")"
   ]
  },
  {
   "source": [
    "## Country codes\n",
    "Obtained from datahub.io and stroed in Mongo"
   ],
   "cell_type": "markdown",
   "metadata": {}
  },
  {
   "cell_type": "code",
   "execution_count": 4,
   "metadata": {},
   "outputs": [],
   "source": [
    "# Obtain a list of Country Codes\n",
    "url = \"https://datahub.io/core/country-list/r/data.json\"\n",
    "\n",
    "countries = requests.get(url).json()"
   ]
  },
  {
   "cell_type": "code",
   "execution_count": 5,
   "metadata": {},
   "outputs": [
    {
     "output_type": "stream",
     "name": "stdout",
     "text": [
      "[{'Code': 'AF', 'Name': 'Afghanistan'},\n {'Code': 'AX', 'Name': 'Åland Islands'},\n {'Code': 'AL', 'Name': 'Albania'},\n {'Code': 'DZ', 'Name': 'Algeria'},\n {'Code': 'AS', 'Name': 'American Samoa'},\n {'Code': 'AD', 'Name': 'Andorra'},\n {'Code': 'AO', 'Name': 'Angola'},\n {'Code': 'AI', 'Name': 'Anguilla'},\n {'Code': 'AQ', 'Name': 'Antarctica'},\n {'Code': 'AG', 'Name': 'Antigua and Barbuda'},\n {'Code': 'AR', 'Name': 'Argentina'},\n {'Code': 'AM', 'Name': 'Armenia'},\n {'Code': 'AW', 'Name': 'Aruba'},\n {'Code': 'AU', 'Name': 'Australia'},\n {'Code': 'AT', 'Name': 'Austria'},\n {'Code': 'AZ', 'Name': 'Azerbaijan'},\n {'Code': 'BS', 'Name': 'Bahamas'},\n {'Code': 'BH', 'Name': 'Bahrain'},\n {'Code': 'BD', 'Name': 'Bangladesh'},\n {'Code': 'BB', 'Name': 'Barbados'},\n {'Code': 'BY', 'Name': 'Belarus'},\n {'Code': 'BE', 'Name': 'Belgium'},\n {'Code': 'BZ', 'Name': 'Belize'},\n {'Code': 'BJ', 'Name': 'Benin'},\n {'Code': 'BM', 'Name': 'Bermuda'},\n {'Code': 'BT', 'Name': 'Bhutan'},\n {'Code': 'BO', 'Name': 'Bolivia, Plurinational State of'},\n {'Code': 'BQ', 'Name': 'Bonaire, Sint Eustatius and Saba'},\n {'Code': 'BA', 'Name': 'Bosnia and Herzegovina'},\n {'Code': 'BW', 'Name': 'Botswana'},\n {'Code': 'BV', 'Name': 'Bouvet Island'},\n {'Code': 'BR', 'Name': 'Brazil'},\n {'Code': 'IO', 'Name': 'British Indian Ocean Territory'},\n {'Code': 'BN', 'Name': 'Brunei Darussalam'},\n {'Code': 'BG', 'Name': 'Bulgaria'},\n {'Code': 'BF', 'Name': 'Burkina Faso'},\n {'Code': 'BI', 'Name': 'Burundi'},\n {'Code': 'KH', 'Name': 'Cambodia'},\n {'Code': 'CM', 'Name': 'Cameroon'},\n {'Code': 'CA', 'Name': 'Canada'},\n {'Code': 'CV', 'Name': 'Cape Verde'},\n {'Code': 'KY', 'Name': 'Cayman Islands'},\n {'Code': 'CF', 'Name': 'Central African Republic'},\n {'Code': 'TD', 'Name': 'Chad'},\n {'Code': 'CL', 'Name': 'Chile'},\n {'Code': 'CN', 'Name': 'China'},\n {'Code': 'CX', 'Name': 'Christmas Island'},\n {'Code': 'CC', 'Name': 'Cocos (Keeling) Islands'},\n {'Code': 'CO', 'Name': 'Colombia'},\n {'Code': 'KM', 'Name': 'Comoros'},\n {'Code': 'CG', 'Name': 'Congo'},\n {'Code': 'CD', 'Name': 'Congo, the Democratic Republic of the'},\n {'Code': 'CK', 'Name': 'Cook Islands'},\n {'Code': 'CR', 'Name': 'Costa Rica'},\n {'Code': 'CI', 'Name': \"Côte d'Ivoire\"},\n {'Code': 'HR', 'Name': 'Croatia'},\n {'Code': 'CU', 'Name': 'Cuba'},\n {'Code': 'CW', 'Name': 'Curaçao'},\n {'Code': 'CY', 'Name': 'Cyprus'},\n {'Code': 'CZ', 'Name': 'Czech Republic'},\n {'Code': 'DK', 'Name': 'Denmark'},\n {'Code': 'DJ', 'Name': 'Djibouti'},\n {'Code': 'DM', 'Name': 'Dominica'},\n {'Code': 'DO', 'Name': 'Dominican Republic'},\n {'Code': 'EC', 'Name': 'Ecuador'},\n {'Code': 'EG', 'Name': 'Egypt'},\n {'Code': 'SV', 'Name': 'El Salvador'},\n {'Code': 'GQ', 'Name': 'Equatorial Guinea'},\n {'Code': 'ER', 'Name': 'Eritrea'},\n {'Code': 'EE', 'Name': 'Estonia'},\n {'Code': 'ET', 'Name': 'Ethiopia'},\n {'Code': 'FK', 'Name': 'Falkland Islands (Malvinas)'},\n {'Code': 'FO', 'Name': 'Faroe Islands'},\n {'Code': 'FJ', 'Name': 'Fiji'},\n {'Code': 'FI', 'Name': 'Finland'},\n {'Code': 'FR', 'Name': 'France'},\n {'Code': 'GF', 'Name': 'French Guiana'},\n {'Code': 'PF', 'Name': 'French Polynesia'},\n {'Code': 'TF', 'Name': 'French Southern Territories'},\n {'Code': 'GA', 'Name': 'Gabon'},\n {'Code': 'GM', 'Name': 'Gambia'},\n {'Code': 'GE', 'Name': 'Georgia'},\n {'Code': 'DE', 'Name': 'Germany'},\n {'Code': 'GH', 'Name': 'Ghana'},\n {'Code': 'GI', 'Name': 'Gibraltar'},\n {'Code': 'GR', 'Name': 'Greece'},\n {'Code': 'GL', 'Name': 'Greenland'},\n {'Code': 'GD', 'Name': 'Grenada'},\n {'Code': 'GP', 'Name': 'Guadeloupe'},\n {'Code': 'GU', 'Name': 'Guam'},\n {'Code': 'GT', 'Name': 'Guatemala'},\n {'Code': 'GG', 'Name': 'Guernsey'},\n {'Code': 'GN', 'Name': 'Guinea'},\n {'Code': 'GW', 'Name': 'Guinea-Bissau'},\n {'Code': 'GY', 'Name': 'Guyana'},\n {'Code': 'HT', 'Name': 'Haiti'},\n {'Code': 'HM', 'Name': 'Heard Island and McDonald Islands'},\n {'Code': 'VA', 'Name': 'Holy See (Vatican City State)'},\n {'Code': 'HN', 'Name': 'Honduras'},\n {'Code': 'HK', 'Name': 'Hong Kong'},\n {'Code': 'HU', 'Name': 'Hungary'},\n {'Code': 'IS', 'Name': 'Iceland'},\n {'Code': 'IN', 'Name': 'India'},\n {'Code': 'ID', 'Name': 'Indonesia'},\n {'Code': 'IR', 'Name': 'Iran, Islamic Republic of'},\n {'Code': 'IQ', 'Name': 'Iraq'},\n {'Code': 'IE', 'Name': 'Ireland'},\n {'Code': 'IM', 'Name': 'Isle of Man'},\n {'Code': 'IL', 'Name': 'Israel'},\n {'Code': 'IT', 'Name': 'Italy'},\n {'Code': 'JM', 'Name': 'Jamaica'},\n {'Code': 'JP', 'Name': 'Japan'},\n {'Code': 'JE', 'Name': 'Jersey'},\n {'Code': 'JO', 'Name': 'Jordan'},\n {'Code': 'KZ', 'Name': 'Kazakhstan'},\n {'Code': 'KE', 'Name': 'Kenya'},\n {'Code': 'KI', 'Name': 'Kiribati'},\n {'Code': 'KP', 'Name': \"Korea, Democratic People's Republic of\"},\n {'Code': 'KR', 'Name': 'Korea, Republic of'},\n {'Code': 'KW', 'Name': 'Kuwait'},\n {'Code': 'KG', 'Name': 'Kyrgyzstan'},\n {'Code': 'LA', 'Name': \"Lao People's Democratic Republic\"},\n {'Code': 'LV', 'Name': 'Latvia'},\n {'Code': 'LB', 'Name': 'Lebanon'},\n {'Code': 'LS', 'Name': 'Lesotho'},\n {'Code': 'LR', 'Name': 'Liberia'},\n {'Code': 'LY', 'Name': 'Libya'},\n {'Code': 'LI', 'Name': 'Liechtenstein'},\n {'Code': 'LT', 'Name': 'Lithuania'},\n {'Code': 'LU', 'Name': 'Luxembourg'},\n {'Code': 'MO', 'Name': 'Macao'},\n {'Code': 'MK', 'Name': 'Macedonia, the Former Yugoslav Republic of'},\n {'Code': 'MG', 'Name': 'Madagascar'},\n {'Code': 'MW', 'Name': 'Malawi'},\n {'Code': 'MY', 'Name': 'Malaysia'},\n {'Code': 'MV', 'Name': 'Maldives'},\n {'Code': 'ML', 'Name': 'Mali'},\n {'Code': 'MT', 'Name': 'Malta'},\n {'Code': 'MH', 'Name': 'Marshall Islands'},\n {'Code': 'MQ', 'Name': 'Martinique'},\n {'Code': 'MR', 'Name': 'Mauritania'},\n {'Code': 'MU', 'Name': 'Mauritius'},\n {'Code': 'YT', 'Name': 'Mayotte'},\n {'Code': 'MX', 'Name': 'Mexico'},\n {'Code': 'FM', 'Name': 'Micronesia, Federated States of'},\n {'Code': 'MD', 'Name': 'Moldova, Republic of'},\n {'Code': 'MC', 'Name': 'Monaco'},\n {'Code': 'MN', 'Name': 'Mongolia'},\n {'Code': 'ME', 'Name': 'Montenegro'},\n {'Code': 'MS', 'Name': 'Montserrat'},\n {'Code': 'MA', 'Name': 'Morocco'},\n {'Code': 'MZ', 'Name': 'Mozambique'},\n {'Code': 'MM', 'Name': 'Myanmar'},\n {'Code': 'NA', 'Name': 'Namibia'},\n {'Code': 'NR', 'Name': 'Nauru'},\n {'Code': 'NP', 'Name': 'Nepal'},\n {'Code': 'NL', 'Name': 'Netherlands'},\n {'Code': 'NC', 'Name': 'New Caledonia'},\n {'Code': 'NZ', 'Name': 'New Zealand'},\n {'Code': 'NI', 'Name': 'Nicaragua'},\n {'Code': 'NE', 'Name': 'Niger'},\n {'Code': 'NG', 'Name': 'Nigeria'},\n {'Code': 'NU', 'Name': 'Niue'},\n {'Code': 'NF', 'Name': 'Norfolk Island'},\n {'Code': 'MP', 'Name': 'Northern Mariana Islands'},\n {'Code': 'NO', 'Name': 'Norway'},\n {'Code': 'OM', 'Name': 'Oman'},\n {'Code': 'PK', 'Name': 'Pakistan'},\n {'Code': 'PW', 'Name': 'Palau'},\n {'Code': 'PS', 'Name': 'Palestine, State of'},\n {'Code': 'PA', 'Name': 'Panama'},\n {'Code': 'PG', 'Name': 'Papua New Guinea'},\n {'Code': 'PY', 'Name': 'Paraguay'},\n {'Code': 'PE', 'Name': 'Peru'},\n {'Code': 'PH', 'Name': 'Philippines'},\n {'Code': 'PN', 'Name': 'Pitcairn'},\n {'Code': 'PL', 'Name': 'Poland'},\n {'Code': 'PT', 'Name': 'Portugal'},\n {'Code': 'PR', 'Name': 'Puerto Rico'},\n {'Code': 'QA', 'Name': 'Qatar'},\n {'Code': 'RE', 'Name': 'Réunion'},\n {'Code': 'RO', 'Name': 'Romania'},\n {'Code': 'RU', 'Name': 'Russian Federation'},\n {'Code': 'RW', 'Name': 'Rwanda'},\n {'Code': 'BL', 'Name': 'Saint Barthélemy'},\n {'Code': 'SH', 'Name': 'Saint Helena, Ascension and Tristan da Cunha'},\n {'Code': 'KN', 'Name': 'Saint Kitts and Nevis'},\n {'Code': 'LC', 'Name': 'Saint Lucia'},\n {'Code': 'MF', 'Name': 'Saint Martin (French part)'},\n {'Code': 'PM', 'Name': 'Saint Pierre and Miquelon'},\n {'Code': 'VC', 'Name': 'Saint Vincent and the Grenadines'},\n {'Code': 'WS', 'Name': 'Samoa'},\n {'Code': 'SM', 'Name': 'San Marino'},\n {'Code': 'ST', 'Name': 'Sao Tome and Principe'},\n {'Code': 'SA', 'Name': 'Saudi Arabia'},\n {'Code': 'SN', 'Name': 'Senegal'},\n {'Code': 'RS', 'Name': 'Serbia'},\n {'Code': 'SC', 'Name': 'Seychelles'},\n {'Code': 'SL', 'Name': 'Sierra Leone'},\n {'Code': 'SG', 'Name': 'Singapore'},\n {'Code': 'SX', 'Name': 'Sint Maarten (Dutch part)'},\n {'Code': 'SK', 'Name': 'Slovakia'},\n {'Code': 'SI', 'Name': 'Slovenia'},\n {'Code': 'SB', 'Name': 'Solomon Islands'},\n {'Code': 'SO', 'Name': 'Somalia'},\n {'Code': 'ZA', 'Name': 'South Africa'},\n {'Code': 'GS', 'Name': 'South Georgia and the South Sandwich Islands'},\n {'Code': 'SS', 'Name': 'South Sudan'},\n {'Code': 'ES', 'Name': 'Spain'},\n {'Code': 'LK', 'Name': 'Sri Lanka'},\n {'Code': 'SD', 'Name': 'Sudan'},\n {'Code': 'SR', 'Name': 'Suriname'},\n {'Code': 'SJ', 'Name': 'Svalbard and Jan Mayen'},\n {'Code': 'SZ', 'Name': 'Swaziland'},\n {'Code': 'SE', 'Name': 'Sweden'},\n {'Code': 'CH', 'Name': 'Switzerland'},\n {'Code': 'SY', 'Name': 'Syrian Arab Republic'},\n {'Code': 'TW', 'Name': 'Taiwan, Province of China'},\n {'Code': 'TJ', 'Name': 'Tajikistan'},\n {'Code': 'TZ', 'Name': 'Tanzania, United Republic of'},\n {'Code': 'TH', 'Name': 'Thailand'},\n {'Code': 'TL', 'Name': 'Timor-Leste'},\n {'Code': 'TG', 'Name': 'Togo'},\n {'Code': 'TK', 'Name': 'Tokelau'},\n {'Code': 'TO', 'Name': 'Tonga'},\n {'Code': 'TT', 'Name': 'Trinidad and Tobago'},\n {'Code': 'TN', 'Name': 'Tunisia'},\n {'Code': 'TR', 'Name': 'Turkey'},\n {'Code': 'TM', 'Name': 'Turkmenistan'},\n {'Code': 'TC', 'Name': 'Turks and Caicos Islands'},\n {'Code': 'TV', 'Name': 'Tuvalu'},\n {'Code': 'UG', 'Name': 'Uganda'},\n {'Code': 'UA', 'Name': 'Ukraine'},\n {'Code': 'AE', 'Name': 'United Arab Emirates'},\n {'Code': 'GB', 'Name': 'United Kingdom'},\n {'Code': 'US', 'Name': 'United States'},\n {'Code': 'UM', 'Name': 'United States Minor Outlying Islands'},\n {'Code': 'UY', 'Name': 'Uruguay'},\n {'Code': 'UZ', 'Name': 'Uzbekistan'},\n {'Code': 'VU', 'Name': 'Vanuatu'},\n {'Code': 'VE', 'Name': 'Venezuela, Bolivarian Republic of'},\n {'Code': 'VN', 'Name': 'Viet Nam'},\n {'Code': 'VG', 'Name': 'Virgin Islands, British'},\n {'Code': 'VI', 'Name': 'Virgin Islands, U.S.'},\n {'Code': 'WF', 'Name': 'Wallis and Futuna'},\n {'Code': 'EH', 'Name': 'Western Sahara'},\n {'Code': 'YE', 'Name': 'Yemen'},\n {'Code': 'ZM', 'Name': 'Zambia'},\n {'Code': 'ZW', 'Name': 'Zimbabwe'}]\n"
     ]
    }
   ],
   "source": [
    "pprint.pprint(countries)"
   ]
  },
  {
   "cell_type": "code",
   "execution_count": 6,
   "metadata": {},
   "outputs": [
    {
     "output_type": "execute_result",
     "data": {
      "text/plain": [
       "<pymongo.results.InsertManyResult at 0x2a7703c6cc0>"
      ]
     },
     "metadata": {},
     "execution_count": 6
    }
   ],
   "source": [
    "# Connect to Mongo\n",
    "conn = 'mongodb://localhost:27017'\n",
    "client = pymongo.MongoClient(conn)\n",
    "\n",
    "# Use the 'electric_vehicles' database in Mongo\n",
    "db = client.electric_vehicles\n",
    "\n",
    "# Store in Mongo\n",
    "db.country_codes.insert_many(countries)"
   ]
  },
  {
   "source": [
    "## Charging Station Locations - Per Country\n",
    "Get the data for each country and store in the Mongo Database"
   ],
   "cell_type": "markdown",
   "metadata": {}
  },
  {
   "cell_type": "code",
   "execution_count": 7,
   "metadata": {},
   "outputs": [
    {
     "output_type": "stream",
     "name": "stdout",
     "text": [
      "{'Code': 'AU', 'Name': 'Australia'}\n{'Code': 'AT', 'Name': 'Austria'}\n"
     ]
    }
   ],
   "source": [
    "# For testing only - loop through two countries only\n",
    "countries = [{'Code': 'AU', 'Name': 'Australia'},\n",
    " {'Code': 'AT', 'Name': 'Austria'}]\n",
    "for country in countries:  \n",
    "    pprint.pprint(country)\n"
   ]
  },
  {
   "cell_type": "code",
   "execution_count": 8,
   "metadata": {},
   "outputs": [
    {
     "output_type": "stream",
     "name": "stdout",
     "text": [
      "'Trying Australia ....'\n",
      "'Trying Austria ....'\n",
      "COMPLETE - ALL API data retrieved and stored in Mongo\n"
     ]
    }
   ],
   "source": [
    "# Connect to Mongo\n",
    "conn = 'mongodb://localhost:27017'\n",
    "client = pymongo.MongoClient(conn)\n",
    "\n",
    "# Use the 'electric_vehicles' database in Mongo\n",
    "db = client.electric_vehicles\n",
    "\n",
    "# Set up the Open Charge Map API parameters\n",
    "units = \"metric\"\n",
    "distanceunit = \"KM\"\n",
    "\n",
    "# Loop through each country and use the country code for API call\n",
    "for country in countries: \n",
    "    pprint.pprint(f\"Trying {country['Name']} ....\")\n",
    "    url = f\"https://api.openchargemap.io/v3/poi/?key={api_key}&output=json&countrycode={country['Code']}&distanceunit={distanceunit}\"\n",
    "    country_response = requests.get(url).json()\n",
    "    \n",
    "    for location in country_response:\n",
    "        connections = []\n",
    "        location_connections = location['Connections']\n",
    "        for connection in location_connections:\n",
    "            connection_dict = {'currentTypeID':connection['CurrentTypeID'], 'powerKW':connection['PowerKW'], 'levelID':connection['LevelID'], 'quantity': connection['Quantity']}\n",
    "            connections.append(connection_dict)\n",
    "    \n",
    "        # Prepare the data \n",
    "        new_dict = {'country_code':country['Code'], 'town':location['AddressInfo']['Town'], 'location_name':location['AddressInfo']['Title'], 'Latitude':location['AddressInfo']['Latitude'], 'Longitude':location['AddressInfo']['Longitude'], 'charging_points': location['NumberOfPoints'], 'user_comments': location['GeneralComments'], 'connections': connections} \n",
    "    \n",
    "        # Insert a new record in the Charging Station Location collection\n",
    "        db.charging_station.insert_one(new_dict)\n",
    "    \n",
    "    time.sleep(1) # Break between API calls\n",
    "\n",
    "print(\"COMPLETE - ALL API data retrieved and stored in Mongo\")"
   ]
  },
  {
   "cell_type": "code",
   "execution_count": null,
   "metadata": {},
   "outputs": [],
   "source": []
  }
 ]
}