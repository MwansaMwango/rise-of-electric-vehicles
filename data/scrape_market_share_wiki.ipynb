{
 "metadata": {
  "language_info": {
   "codemirror_mode": {
    "name": "ipython",
    "version": 3
   },
   "file_extension": ".py",
   "mimetype": "text/x-python",
   "name": "python",
   "nbconvert_exporter": "python",
   "pygments_lexer": "ipython3",
   "version": "3.8.5"
  },
  "orig_nbformat": 2,
  "kernelspec": {
   "name": "python385jvsc74a57bd02c3c5b7e521ed385cd317e5adc75c961fe301f41d1ed6ee19f28764a4ab100bf",
   "display_name": "Python 3.8.5 64-bit ('Mwansa': virtualenv)"
  }
 },
 "nbformat": 4,
 "nbformat_minor": 2,
 "cells": [
  {
   "source": [
    "## (E) Extract - Raw Data from sources\n",
    "\n",
    "This notebook has been used to scrap data from Wikipedia and readily downloadable files\n",
    "\n",
    "Web Scraping:\n",
    "* EV Market share of total new car sales by Country 2013 - 2020\n",
    "* Current EV Situation by notable Countries\n",
    "\n"
   ],
   "cell_type": "markdown",
   "metadata": {}
  },
  {
   "cell_type": "code",
   "execution_count": 78,
   "metadata": {},
   "outputs": [],
   "source": [
    "#Import dependencies\n",
    "import pandas as pd\n",
    "import pymongo\n",
    "import json"
   ]
  },
  {
   "cell_type": "code",
   "execution_count": 79,
   "metadata": {},
   "outputs": [],
   "source": [
    "# Define url to scrape\n",
    "url = 'https://en.wikipedia.org/wiki/Electric_car_use_by_country#cite_note-34'\n"
   ]
  },
  {
   "cell_type": "code",
   "execution_count": 80,
   "metadata": {},
   "outputs": [
    {
     "output_type": "execute_result",
     "data": {
      "text/plain": [
       "    174\n",
       " 7           8      Tesla Model X    150\n",
       " 8           9      Hyundai Ioniq     98\n",
       " 9          10  Mitsubishi i-MiEV     31,\n",
       "                            Year           2015           2016  2017  2018  \\\n",
       " 0   Total new BEV registrations           3257           3295  4775  5139   \n",
       " 1  % of total new registrations  not available  not available  1.5%  1.7%   \n",
       " \n",
       "   SEM 1 2019  \n",
       " 0       5938  \n",
       " 1       3.8%  ,\n",
       "   .mw-parser-output .navbar{display:inline;font-size:88%;font-weight:normal}.mw-parser-output .navbar-collapse{float:left;text-align:left}.mw-parser-output .navbar-boxtext{word-spacing:0}.mw-parser-output .navbar ul{display:inline-block;white-space:nowrap;line-height:inherit}.mw-parser-output .navbar-brackets::before{margin-right:-0.125em;content:\"[ \"}.mw-parser-output .navbar-brackets::after{margin-left:-0.125em;content:\" ]\"}.mw-parser-output .navbar li{word-spacing:-0.125em}.mw-parser-output .navbar-mini abbr{font-variant:small-caps;border-bottom:none;text-decoration:none;cursor:inherit}.mw-parser-output .navbar-ct-full{font-size:114%;margin:0 7em}.mw-parser-output .navbar-ct-mini{font-size:114%;margin:0 4em}.mw-parser-output .infobox .navbar{font-size:100%}.mw-parser-output .navbox .navbar{display:block;font-size:100%}.mw-parser-output .navbox-title .navbar{float:left;text-align:left;margin-right:0.5em}vteRenewable energy by country and territory  \\\n",
       " 0                                             Africa                                                                                                                                                                                                                                                                                                                                                                                                                                                                                                                                                                                                                                                                                                                                                                                                                                                                                                                                                  \n",
       " 1                                               Asia                                                                                                                                                                                                                                                                                                                                                                                                                                                                                                                                                                                                                                                                                                                                                                                                                                                                                                                                                  \n",
       " 2                                             Europe                                                                                                                                                                                                                                                                                                                                                                                                                                                                                                                                                                                                                                                                                                                                                                                                                                                                                                                                                  \n",
       " 3                                     European Union                                                                                                                                                                                                                                                                                                                                                                                                                                                                                                                                                                                                                                                                                                                                                                                                                                                                                                                                                  \n",
       " 4                                              Other                                                                                                                                                                                                                                                                                                                                                                                                                                                                                                                                                                                                                                                                                                                                                                                                                                                                                                                                                  \n",
       " 5                                      North America                                                                                                                                                                                                                                                                                                                                                                                                                                                                                                                                                                                                                                                                                                                                                                                                                                                                                                                                                  \n",
       " 6                                            Oceania                                                                                                                                                                                                                                                                                                                                                                                                                                                                                                                                                                                                                                                                                                                                                                                                                                                                                                                                                  \n",
       " 7                                      South America                                                                                                                                                                                                                                                                                                                                                                                                                                                                                                                                                                                                                                                                                                                                                                                                                                                                                                                                                  \n",
       " 8        Category Portals:  Energy  Renewable energy                                                                                                                                                                                                                                                                                                                                                                                                                                                                                                                                                                                                                                                                                                                                                                                                                                                                                                                                                  \n",
       " \n",
       "   .mw-parser-output .navbar{display:inline;font-size:88%;font-weight:normal}.mw-parser-output .navbar-collapse{float:left;text-align:left}.mw-parser-output .navbar-boxtext{word-spacing:0}.mw-parser-output .navbar ul{display:inline-block;white-space:nowrap;line-height:inherit}.mw-parser-output .navbar-brackets::before{margin-right:-0.125em;content:\"[ \"}.mw-parser-output .navbar-brackets::after{margin-left:-0.125em;content:\" ]\"}.mw-parser-output .navbar li{word-spacing:-0.125em}.mw-parser-output .navbar-mini abbr{font-variant:small-caps;border-bottom:none;text-decoration:none;cursor:inherit}.mw-parser-output .navbar-ct-full{font-size:114%;margin:0 7em}.mw-parser-output .navbar-ct-mini{font-size:114%;margin:0 4em}.mw-parser-output .infobox .navbar{font-size:100%}.mw-parser-output .navbox .navbar{display:block;font-size:100%}.mw-parser-output .navbox-title .navbar{float:left;text-align:left;margin-right:0.5em}vteRenewable energy by country and territory.1  \n",
       " 0     Ethiopia Kenya Morocco Seychelles South Africa                                                                                                                                                                                                                                                                                                                                                                                                                                                                                                                                                                                                                                                                                                                                                                                                                                                                                                                                                   \n",
       " 1  Afghanistan Bangladesh Bhutan Brunei China Ind...                                                                                                                                                                                                                                                                                                                                                                                                                                                                                                                                                                                                                                                                                                                                                                                                                                                                                                                                                   \n",
       " 2  European Union Austria Czech Republic Cyprus D...                                                                                                                                                                                                                                                                                                                                                                                                                                                                                                                                                                                                                                                                                                                                                                                                                                                                                                                                                   \n",
       " 3  Austria Czech Republic Cyprus Denmark Finland ...                                                                                                                                                                                                                                                                                                                                                                                                                                                                                                                                                                                                                                                                                                                                                                                                                                                                                                                                                   \n",
       " 4  Albania Armenia Belarus Iceland Kosovo Norway ...                                                                                                                                                                                                                                                                                                                                                                                                                                                                                                                                                                                                                                                                                                                                                                                                                                                                                                                                                   \n",
       " 5    Canada Costa Rica Honduras Mexico United States                                                                                                                                                                                                                                                                                                                                                                                                                                                                                                                                                                                                                                                                                                                                                                                                                                                                                                                                                   \n",
       " 6          Australia Cook Islands New Zealand Tuvalu                                                                                                                                                                                                                                                                                                                                                                                                                                                                                                                                                                                                                                                                                                                                                                                                                                                                                                                                                   \n",
       " 7                    Argentina Brazil Chile Colombia                                                                                                                                                                                                                                                                                                                                                                                                                                                                                                                                                                                                                                                                                                                                                                                                                                                                                                                                                   \n",
       " 8        Category Portals:  Energy  Renewable energy                                                                                                                                                                                                                                                                                                                                                                                                                                                                                                                                                                                                                                                                                                                                                                                                                                                                                                                                                   ,\n",
       "                 0                                                  1\n",
       " 0  European Union  Austria Czech Republic Cyprus Denmark Finland ...\n",
       " 1           Other  Albania Armenia Belarus Iceland Kosovo Norway ...]"
      ]
     },
     "metadata": {},
     "execution_count": 80
    }
   ],
   "source": [
    "# Use Panda's `read_html` to parse the url\n",
    "tables = pd.read_html(url)\n",
    "tables"
   ]
  },
  {
   "cell_type": "code",
   "execution_count": 81,
   "metadata": {},
   "outputs": [
    {
     "output_type": "execute_result",
     "data": {
      "text/plain": [
       "                            Country   2020 2019[118]   2018    2017  \\\n",
       "0           Norway[90][92][93][124]  74.7%     55.9%  49.1%   39.2%   \n",
       "1  Iceland[125][126][127][128][129]  45.0%     22.6%    19%  14.05%   \n",
       "2        Sweden[106][130][131][132]  32.2%     11.4%   8.2%    5.2%   \n",
       "3         Netherlands[133][134][75]  24.6%     14.9%   6.2%    2.2%   \n",
       "4       Finland[125][135][136][137]  18.1%      6.9%   4.7%   2.57%   \n",
       "\n",
       "  2016[17][119] 2015[120][121] 2014[122] 2013[123]  \n",
       "0         29.1%          22.4%     13.8%      6.1%  \n",
       "1          4.6%          2.93%     2.71%     0.94%  \n",
       "2          3.5%          2.62%     1.53%     0.71%  \n",
       "3          6.7%           9.9%     3.87%     5.55%  \n",
       "4          1.2%            NaN       NaN       NaN  "
      ],
      "text/html": "<div>\n<style scoped>\n    .dataframe tbody tr th:only-of-type {\n        vertical-align: middle;\n    }\n\n    .dataframe tbody tr th {\n        vertical-align: top;\n    }\n\n    .dataframe thead th {\n        text-align: right;\n    }\n</style>\n<table border=\"1\" class=\"dataframe\">\n  <thead>\n    <tr style=\"text-align: right;\">\n      <th></th>\n      <th>Country</th>\n      <th>2020</th>\n      <th>2019[118]</th>\n      <th>2018</th>\n      <th>2017</th>\n      <th>2016[17][119]</th>\n      <th>2015[120][121]</th>\n      <th>2014[122]</th>\n      <th>2013[123]</th>\n    </tr>\n  </thead>\n  <tbody>\n    <tr>\n      <th>0</th>\n      <td>Norway[90][92][93][124]</td>\n      <td>74.7%</td>\n      <td>55.9%</td>\n      <td>49.1%</td>\n      <td>39.2%</td>\n      <td>29.1%</td>\n      <td>22.4%</td>\n      <td>13.8%</td>\n      <td>6.1%</td>\n    </tr>\n    <tr>\n      <th>1</th>\n      <td>Iceland[125][126][127][128][129]</td>\n      <td>45.0%</td>\n      <td>22.6%</td>\n      <td>19%</td>\n      <td>14.05%</td>\n      <td>4.6%</td>\n      <td>2.93%</td>\n      <td>2.71%</td>\n      <td>0.94%</td>\n    </tr>\n    <tr>\n      <th>2</th>\n      <td>Sweden[106][130][131][132]</td>\n      <td>32.2%</td>\n      <td>11.4%</td>\n      <td>8.2%</td>\n      <td>5.2%</td>\n      <td>3.5%</td>\n      <td>2.62%</td>\n      <td>1.53%</td>\n      <td>0.71%</td>\n    </tr>\n    <tr>\n      <th>3</th>\n      <td>Netherlands[133][134][75]</td>\n      <td>24.6%</td>\n      <td>14.9%</td>\n      <td>6.2%</td>\n      <td>2.2%</td>\n      <td>6.7%</td>\n      <td>9.9%</td>\n      <td>3.87%</td>\n      <td>5.55%</td>\n    </tr>\n    <tr>\n      <th>4</th>\n      <td>Finland[125][135][136][137]</td>\n      <td>18.1%</td>\n      <td>6.9%</td>\n      <td>4.7%</td>\n      <td>2.57%</td>\n      <td>1.2%</td>\n      <td>NaN</td>\n      <td>NaN</td>\n      <td>NaN</td>\n    </tr>\n  </tbody>\n</table>\n</div>"
     },
     "metadata": {},
     "execution_count": 81
    }
   ],
   "source": [
    "#Select table regarding EV Market Share since 2013\n",
    "market_share_df = tables[4]\n",
    "market_share_df.head()"
   ]
  },
  {
   "source": [
    "# Transform (T) - Clean the data"
   ],
   "cell_type": "markdown",
   "metadata": {}
  },
  {
   "cell_type": "code",
   "execution_count": 82,
   "metadata": {},
   "outputs": [
    {
     "output_type": "execute_result",
     "data": {
      "text/plain": [
       "                                              Country  \\\n",
       "22                                                  0   \n",
       "23                               California[110][182]   \n",
       "24      Europe[109][125][183][184][185][186][164][ii]   \n",
       "25                           Hong Kong[187][188][189]   \n",
       "26  Notes ^ For 2015 and before, the French market...   \n",
       "\n",
       "                                                 2020  \\\n",
       "22                                                  0   \n",
       "23                                               8.1%   \n",
       "24                                              11.4%   \n",
       "25                                                14%   \n",
       "26  Notes ^ For 2015 and before, the French market...   \n",
       "\n",
       "                                            2019[118]  \\\n",
       "22                                                  0   \n",
       "23                                               7.6%   \n",
       "24                                               3.6%   \n",
       "25                                                 5%   \n",
       "26  Notes ^ For 2015 and before, the French market...   \n",
       "\n",
       "                                                 2018  \\\n",
       "22                                                  0   \n",
       "23                                               7.6%   \n",
       "24                                               2.5%   \n",
       "25                                                  0   \n",
       "26  Notes ^ For 2015 and before, the French market...   \n",
       "\n",
       "                                                 2017  \\\n",
       "22                                                  0   \n",
       "23                                               4.9%   \n",
       "24                                              1.74%   \n",
       "25                                                  0   \n",
       "26  Notes ^ For 2015 and before, the French market...   \n",
       "\n",
       "                                        2016[17][119]  \\\n",
       "22                                                  0   \n",
       "23                                               3.6%   \n",
       "24                                               1.3%   \n",
       "25                                                 5%   \n",
       "26  Notes ^ For 2015 and before, the French market...   \n",
       "\n",
       "                                       2015[120][121]  \\\n",
       "22                                                  0   \n",
       "23                                               3.1%   \n",
       "24                                              1.41%   \n",
       "25                                              4.84%   \n",
       "26  Notes ^ For 2015 and before, the French market...   \n",
       "\n",
       "                                            2014[122]  \\\n",
       "22                                                  0   \n",
       "23                                               3.2%   \n",
       "24                                              0.66%   \n",
       "25                                                  0   \n",
       "26  Notes ^ For 2015 and before, the French market...   \n",
       "\n",
       "                                            2013[123]  \n",
       "22                                                  0  \n",
       "23                                               2.5%  \n",
       "24                                              0.49%  \n",
       "25                                              0.39%  \n",
       "26  Notes ^ For 2015 and before, the French market...  "
      ],
      "text/html": "<div>\n<style scoped>\n    .dataframe tbody tr th:only-of-type {\n        vertical-align: middle;\n    }\n\n    .dataframe tbody tr th {\n        vertical-align: top;\n    }\n\n    .dataframe thead th {\n        text-align: right;\n    }\n</style>\n<table border=\"1\" class=\"dataframe\">\n  <thead>\n    <tr style=\"text-align: right;\">\n      <th></th>\n      <th>Country</th>\n      <th>2020</th>\n      <th>2019[118]</th>\n      <th>2018</th>\n      <th>2017</th>\n      <th>2016[17][119]</th>\n      <th>2015[120][121]</th>\n      <th>2014[122]</th>\n      <th>2013[123]</th>\n    </tr>\n  </thead>\n  <tbody>\n    <tr>\n      <th>22</th>\n      <td>0</td>\n      <td>0</td>\n      <td>0</td>\n      <td>0</td>\n      <td>0</td>\n      <td>0</td>\n      <td>0</td>\n      <td>0</td>\n      <td>0</td>\n    </tr>\n    <tr>\n      <th>23</th>\n      <td>California[110][182]</td>\n      <td>8.1%</td>\n      <td>7.6%</td>\n      <td>7.6%</td>\n      <td>4.9%</td>\n      <td>3.6%</td>\n      <td>3.1%</td>\n      <td>3.2%</td>\n      <td>2.5%</td>\n    </tr>\n    <tr>\n      <th>24</th>\n      <td>Europe[109][125][183][184][185][186][164][ii]</td>\n      <td>11.4%</td>\n      <td>3.6%</td>\n      <td>2.5%</td>\n      <td>1.74%</td>\n      <td>1.3%</td>\n      <td>1.41%</td>\n      <td>0.66%</td>\n      <td>0.49%</td>\n    </tr>\n    <tr>\n      <th>25</th>\n      <td>Hong Kong[187][188][189]</td>\n      <td>14%</td>\n      <td>5%</td>\n      <td>0</td>\n      <td>0</td>\n      <td>5%</td>\n      <td>4.84%</td>\n      <td>0</td>\n      <td>0.39%</td>\n    </tr>\n    <tr>\n      <th>26</th>\n      <td>Notes ^ For 2015 and before, the French market...</td>\n      <td>Notes ^ For 2015 and before, the French market...</td>\n      <td>Notes ^ For 2015 and before, the French market...</td>\n      <td>Notes ^ For 2015 and before, the French market...</td>\n      <td>Notes ^ For 2015 and before, the French market...</td>\n      <td>Notes ^ For 2015 and before, the French market...</td>\n      <td>Notes ^ For 2015 and before, the French market...</td>\n      <td>Notes ^ For 2015 and before, the French market...</td>\n      <td>Notes ^ For 2015 and before, the French market...</td>\n    </tr>\n  </tbody>\n</table>\n</div>"
     },
     "metadata": {},
     "execution_count": 82
    }
   ],
   "source": [
    "# Replace/Fill NaN entries with '0'\n",
    "market_share_clean_df = market_share_df\n",
    "market_share_clean_df = market_share_clean_df.fillna(0)\n",
    "market_share_clean_df.tail()"
   ]
  },
  {
   "cell_type": "code",
   "execution_count": 83,
   "metadata": {},
   "outputs": [
    {
     "output_type": "execute_result",
     "data": {
      "text/plain": [
       "                                       Country  2020 2019[118]   2018   2017  \\\n",
       "17                            Canada[107][171]     0      3.0%   2.2%  0.92%   \n",
       "18                            New Zealand[172]     0      2.8%  0.96%  0.72%   \n",
       "19  United States[173][174][85][175][176][177]  1.9%      2.0%   2.1%   1.1%   \n",
       "20                        Japan[178][102][179]     0      0.9%   1.0%   1.1%   \n",
       "21           Global average[6][7][8][180][181]  4.2%      2.5%   2.1%   1.3%   \n",
       "\n",
       "   2016[17][119] 2015[120][121] 2014[122] 2013[123]  \n",
       "17         0.58%          0.35%     0.28%     0.18%  \n",
       "18         0.50%          0.23%     0.21%         0  \n",
       "19         0.90%          0.66%     0.72%     0.60%  \n",
       "20         0.59%          0.68%     1.06%     0.91%  \n",
       "21         0.86%           0.7%      0.4%      0.3%  "
      ],
      "text/html": "<div>\n<style scoped>\n    .dataframe tbody tr th:only-of-type {\n        vertical-align: middle;\n    }\n\n    .dataframe tbody tr th {\n        vertical-align: top;\n    }\n\n    .dataframe thead th {\n        text-align: right;\n    }\n</style>\n<table border=\"1\" class=\"dataframe\">\n  <thead>\n    <tr style=\"text-align: right;\">\n      <th></th>\n      <th>Country</th>\n      <th>2020</th>\n      <th>2019[118]</th>\n      <th>2018</th>\n      <th>2017</th>\n      <th>2016[17][119]</th>\n      <th>2015[120][121]</th>\n      <th>2014[122]</th>\n      <th>2013[123]</th>\n    </tr>\n  </thead>\n  <tbody>\n    <tr>\n      <th>17</th>\n      <td>Canada[107][171]</td>\n      <td>0</td>\n      <td>3.0%</td>\n      <td>2.2%</td>\n      <td>0.92%</td>\n      <td>0.58%</td>\n      <td>0.35%</td>\n      <td>0.28%</td>\n      <td>0.18%</td>\n    </tr>\n    <tr>\n      <th>18</th>\n      <td>New Zealand[172]</td>\n      <td>0</td>\n      <td>2.8%</td>\n      <td>0.96%</td>\n      <td>0.72%</td>\n      <td>0.50%</td>\n      <td>0.23%</td>\n      <td>0.21%</td>\n      <td>0</td>\n    </tr>\n    <tr>\n      <th>19</th>\n      <td>United States[173][174][85][175][176][177]</td>\n      <td>1.9%</td>\n      <td>2.0%</td>\n      <td>2.1%</td>\n      <td>1.1%</td>\n      <td>0.90%</td>\n      <td>0.66%</td>\n      <td>0.72%</td>\n      <td>0.60%</td>\n    </tr>\n    <tr>\n      <th>20</th>\n      <td>Japan[178][102][179]</td>\n      <td>0</td>\n      <td>0.9%</td>\n      <td>1.0%</td>\n      <td>1.1%</td>\n      <td>0.59%</td>\n      <td>0.68%</td>\n      <td>1.06%</td>\n      <td>0.91%</td>\n    </tr>\n    <tr>\n      <th>21</th>\n      <td>Global average[6][7][8][180][181]</td>\n      <td>4.2%</td>\n      <td>2.5%</td>\n      <td>2.1%</td>\n      <td>1.3%</td>\n      <td>0.86%</td>\n      <td>0.7%</td>\n      <td>0.4%</td>\n      <td>0.3%</td>\n    </tr>\n  </tbody>\n</table>\n</div>"
     },
     "metadata": {},
     "execution_count": 83
    }
   ],
   "source": [
    "# Drop irrelevant rows. axis=0:row axis = 1:column\n",
    "market_share_clean_df = market_share_clean_df.drop(market_share_clean_df.index[22:], axis=0) \n",
    "market_share_clean_df.tail()"
   ]
  },
  {
   "cell_type": "code",
   "execution_count": 84,
   "metadata": {},
   "outputs": [
    {
     "output_type": "execute_result",
     "data": {
      "text/plain": [
       "           Country  2020 2019[118]  2018   2017 2016[17][119] 2015[120][121]  \\\n",
       "0           Norway  74.7      55.9  49.1   39.2          29.1           22.4   \n",
       "1          Iceland  45.0      22.6    19  14.05           4.6           2.93   \n",
       "2           Sweden  32.2      11.4   8.2    5.2           3.5           2.62   \n",
       "3      Netherlands  24.6      14.9   6.2    2.2           6.7            9.9   \n",
       "4          Finland  18.1       6.9   4.7   2.57           1.2              0   \n",
       "5          Denmark  16.4       4.2     2    0.4           0.6           2.29   \n",
       "6      Switzerland  14.3       5.5   3.2   2.55           1.8           1.98   \n",
       "7          Germany  13.5       3.0   1.9   1.58           1.1           0.73   \n",
       "8         Portugal  13.5       5.7   3.6    1.9             0              0   \n",
       "9           France  11.2       2.8  2.11   1.98           1.4           1.19   \n",
       "10              UK  10.7       2.9  2.53   1.86          1.37           1.07   \n",
       "11         Belgium  10.7       3.2   2.5    2.7           1.8              0   \n",
       "12         Austria   9.5       3.5   2.6   2.06           1.6           0.90   \n",
       "13         Ireland   7.4       4.1  1.57   0.72          0.48           0.46   \n",
       "14           China   5.4       4.9   4.2    2.1          1.31           0.84   \n",
       "15           Spain   4.8       1.4   0.9    0.6          0.32              0   \n",
       "16           Italy   4.3       0.6  0.26    0.1          0.08           0.09   \n",
       "17          Canada     0       3.0   2.2   0.92          0.58           0.35   \n",
       "18     New Zealand     0       2.8  0.96   0.72          0.50           0.23   \n",
       "19   United States   1.9       2.0   2.1    1.1          0.90           0.66   \n",
       "20           Japan     0       0.9   1.0    1.1          0.59           0.68   \n",
       "21  Global average   4.2       2.5   2.1    1.3          0.86            0.7   \n",
       "\n",
       "   2014[122] 2013[123]  \n",
       "0       13.8       6.1  \n",
       "1       2.71      0.94  \n",
       "2       1.53      0.71  \n",
       "3       3.87      5.55  \n",
       "4          0         0  \n",
       "5       0.88      0.29  \n",
       "6       0.75      0.44  \n",
       "7       0.43      0.25  \n",
       "8          0         0  \n",
       "9       0.70      0.83  \n",
       "10      0.59      0.16  \n",
       "11         0         0  \n",
       "12         0         0  \n",
       "13      0.27         0  \n",
       "14      0.23      0.08  \n",
       "15         0         0  \n",
       "16      0.08      0.07  \n",
       "17      0.28      0.18  \n",
       "18      0.21         0  \n",
       "19      0.72      0.60  \n",
       "20      1.06      0.91  \n",
       "21       0.4       0.3  "
      ],
      "text/html": "<div>\n<style scoped>\n    .dataframe tbody tr th:only-of-type {\n        vertical-align: middle;\n    }\n\n    .dataframe tbody tr th {\n        vertical-align: top;\n    }\n\n    .dataframe thead th {\n        text-align: right;\n    }\n</style>\n<table border=\"1\" class=\"dataframe\">\n  <thead>\n    <tr style=\"text-align: right;\">\n      <th></th>\n      <th>Country</th>\n      <th>2020</th>\n      <th>2019[118]</th>\n      <th>2018</th>\n      <th>2017</th>\n      <th>2016[17][119]</th>\n      <th>2015[120][121]</th>\n      <th>2014[122]</th>\n      <th>2013[123]</th>\n    </tr>\n  </thead>\n  <tbody>\n    <tr>\n      <th>0</th>\n      <td>Norway</td>\n      <td>74.7</td>\n      <td>55.9</td>\n      <td>49.1</td>\n      <td>39.2</td>\n      <td>29.1</td>\n      <td>22.4</td>\n      <td>13.8</td>\n      <td>6.1</td>\n    </tr>\n    <tr>\n      <th>1</th>\n      <td>Iceland</td>\n      <td>45.0</td>\n      <td>22.6</td>\n      <td>19</td>\n      <td>14.05</td>\n      <td>4.6</td>\n      <td>2.93</td>\n      <td>2.71</td>\n      <td>0.94</td>\n    </tr>\n    <tr>\n      <th>2</th>\n      <td>Sweden</td>\n      <td>32.2</td>\n      <td>11.4</td>\n      <td>8.2</td>\n      <td>5.2</td>\n      <td>3.5</td>\n      <td>2.62</td>\n      <td>1.53</td>\n      <td>0.71</td>\n    </tr>\n    <tr>\n      <th>3</th>\n      <td>Netherlands</td>\n      <td>24.6</td>\n      <td>14.9</td>\n      <td>6.2</td>\n      <td>2.2</td>\n      <td>6.7</td>\n      <td>9.9</td>\n      <td>3.87</td>\n      <td>5.55</td>\n    </tr>\n    <tr>\n      <th>4</th>\n      <td>Finland</td>\n      <td>18.1</td>\n      <td>6.9</td>\n      <td>4.7</td>\n      <td>2.57</td>\n      <td>1.2</td>\n      <td>0</td>\n      <td>0</td>\n      <td>0</td>\n    </tr>\n    <tr>\n      <th>5</th>\n      <td>Denmark</td>\n      <td>16.4</td>\n      <td>4.2</td>\n      <td>2</td>\n      <td>0.4</td>\n      <td>0.6</td>\n      <td>2.29</td>\n      <td>0.88</td>\n      <td>0.29</td>\n    </tr>\n    <tr>\n      <th>6</th>\n      <td>Switzerland</td>\n      <td>14.3</td>\n      <td>5.5</td>\n      <td>3.2</td>\n      <td>2.55</td>\n      <td>1.8</td>\n      <td>1.98</td>\n      <td>0.75</td>\n      <td>0.44</td>\n    </tr>\n    <tr>\n      <th>7</th>\n      <td>Germany</td>\n      <td>13.5</td>\n      <td>3.0</td>\n      <td>1.9</td>\n      <td>1.58</td>\n      <td>1.1</td>\n      <td>0.73</td>\n      <td>0.43</td>\n      <td>0.25</td>\n    </tr>\n    <tr>\n      <th>8</th>\n      <td>Portugal</td>\n      <td>13.5</td>\n      <td>5.7</td>\n      <td>3.6</td>\n      <td>1.9</td>\n      <td>0</td>\n      <td>0</td>\n      <td>0</td>\n      <td>0</td>\n    </tr>\n    <tr>\n      <th>9</th>\n      <td>France</td>\n      <td>11.2</td>\n      <td>2.8</td>\n      <td>2.11</td>\n      <td>1.98</td>\n      <td>1.4</td>\n      <td>1.19</td>\n      <td>0.70</td>\n      <td>0.83</td>\n    </tr>\n    <tr>\n      <th>10</th>\n      <td>UK</td>\n      <td>10.7</td>\n      <td>2.9</td>\n      <td>2.53</td>\n      <td>1.86</td>\n      <td>1.37</td>\n      <td>1.07</td>\n      <td>0.59</td>\n      <td>0.16</td>\n    </tr>\n    <tr>\n      <th>11</th>\n      <td>Belgium</td>\n      <td>10.7</td>\n      <td>3.2</td>\n      <td>2.5</td>\n      <td>2.7</td>\n      <td>1.8</td>\n      <td>0</td>\n      <td>0</td>\n      <td>0</td>\n    </tr>\n    <tr>\n      <th>12</th>\n      <td>Austria</td>\n      <td>9.5</td>\n      <td>3.5</td>\n      <td>2.6</td>\n      <td>2.06</td>\n      <td>1.6</td>\n      <td>0.90</td>\n      <td>0</td>\n      <td>0</td>\n    </tr>\n    <tr>\n      <th>13</th>\n      <td>Ireland</td>\n      <td>7.4</td>\n      <td>4.1</td>\n      <td>1.57</td>\n      <td>0.72</td>\n      <td>0.48</td>\n      <td>0.46</td>\n      <td>0.27</td>\n      <td>0</td>\n    </tr>\n    <tr>\n      <th>14</th>\n      <td>China</td>\n      <td>5.4</td>\n      <td>4.9</td>\n      <td>4.2</td>\n      <td>2.1</td>\n      <td>1.31</td>\n      <td>0.84</td>\n      <td>0.23</td>\n      <td>0.08</td>\n    </tr>\n    <tr>\n      <th>15</th>\n      <td>Spain</td>\n      <td>4.8</td>\n      <td>1.4</td>\n      <td>0.9</td>\n      <td>0.6</td>\n      <td>0.32</td>\n      <td>0</td>\n      <td>0</td>\n      <td>0</td>\n    </tr>\n    <tr>\n      <th>16</th>\n      <td>Italy</td>\n      <td>4.3</td>\n      <td>0.6</td>\n      <td>0.26</td>\n      <td>0.1</td>\n      <td>0.08</td>\n      <td>0.09</td>\n      <td>0.08</td>\n      <td>0.07</td>\n    </tr>\n    <tr>\n      <th>17</th>\n      <td>Canada</td>\n      <td>0</td>\n      <td>3.0</td>\n      <td>2.2</td>\n      <td>0.92</td>\n      <td>0.58</td>\n      <td>0.35</td>\n      <td>0.28</td>\n      <td>0.18</td>\n    </tr>\n    <tr>\n      <th>18</th>\n      <td>New Zealand</td>\n      <td>0</td>\n      <td>2.8</td>\n      <td>0.96</td>\n      <td>0.72</td>\n      <td>0.50</td>\n      <td>0.23</td>\n      <td>0.21</td>\n      <td>0</td>\n    </tr>\n    <tr>\n      <th>19</th>\n      <td>United States</td>\n      <td>1.9</td>\n      <td>2.0</td>\n      <td>2.1</td>\n      <td>1.1</td>\n      <td>0.90</td>\n      <td>0.66</td>\n      <td>0.72</td>\n      <td>0.60</td>\n    </tr>\n    <tr>\n      <th>20</th>\n      <td>Japan</td>\n      <td>0</td>\n      <td>0.9</td>\n      <td>1.0</td>\n      <td>1.1</td>\n      <td>0.59</td>\n      <td>0.68</td>\n      <td>1.06</td>\n      <td>0.91</td>\n    </tr>\n    <tr>\n      <th>21</th>\n      <td>Global average</td>\n      <td>4.2</td>\n      <td>2.5</td>\n      <td>2.1</td>\n      <td>1.3</td>\n      <td>0.86</td>\n      <td>0.7</td>\n      <td>0.4</td>\n      <td>0.3</td>\n    </tr>\n  </tbody>\n</table>\n</div>"
     },
     "metadata": {},
     "execution_count": 84
    }
   ],
   "source": [
    "#Remove '[xxx]', and '%' from certain values note [',']' are regex char and must be escaped with \\\n",
    "# Test your regex at: https://regexr.com/\n",
    "market_share_clean_df = market_share_clean_df.replace('\\[(\\w)+\\]','',regex=True).replace('%','',regex=True)\n",
    "market_share_clean_df"
   ]
  },
  {
   "cell_type": "code",
   "execution_count": 85,
   "metadata": {},
   "outputs": [
    {
     "output_type": "execute_result",
     "data": {
      "text/plain": [
       "           Country  2020  2019  2018   2017  2016  2015  2014  2013\n",
       "0           Norway  74.7  55.9  49.1   39.2  29.1  22.4  13.8   6.1\n",
       "1          Iceland  45.0  22.6    19  14.05   4.6  2.93  2.71  0.94\n",
       "2           Sweden  32.2  11.4   8.2    5.2   3.5  2.62  1.53  0.71\n",
       "3      Netherlands  24.6  14.9   6.2    2.2   6.7   9.9  3.87  5.55\n",
       "4          Finland  18.1   6.9   4.7   2.57   1.2     0     0     0\n",
       "5          Denmark  16.4   4.2     2    0.4   0.6  2.29  0.88  0.29\n",
       "6      Switzerland  14.3   5.5   3.2   2.55   1.8  1.98  0.75  0.44\n",
       "7          Germany  13.5   3.0   1.9   1.58   1.1  0.73  0.43  0.25\n",
       "8         Portugal  13.5   5.7   3.6    1.9     0     0     0     0\n",
       "9           France  11.2   2.8  2.11   1.98   1.4  1.19  0.70  0.83\n",
       "10              UK  10.7   2.9  2.53   1.86  1.37  1.07  0.59  0.16\n",
       "11         Belgium  10.7   3.2   2.5    2.7   1.8     0     0     0\n",
       "12         Austria   9.5   3.5   2.6   2.06   1.6  0.90     0     0\n",
       "13         Ireland   7.4   4.1  1.57   0.72  0.48  0.46  0.27     0\n",
       "14           China   5.4   4.9   4.2    2.1  1.31  0.84  0.23  0.08\n",
       "15           Spain   4.8   1.4   0.9    0.6  0.32     0     0     0\n",
       "16           Italy   4.3   0.6  0.26    0.1  0.08  0.09  0.08  0.07\n",
       "17          Canada     0   3.0   2.2   0.92  0.58  0.35  0.28  0.18\n",
       "18     New Zealand     0   2.8  0.96   0.72  0.50  0.23  0.21     0\n",
       "19   United States   1.9   2.0   2.1    1.1  0.90  0.66  0.72  0.60\n",
       "20           Japan     0   0.9   1.0    1.1  0.59  0.68  1.06  0.91\n",
       "21  Global average   4.2   2.5   2.1    1.3  0.86   0.7   0.4   0.3"
      ],
      "text/html": "<div>\n<style scoped>\n    .dataframe tbody tr th:only-of-type {\n        vertical-align: middle;\n    }\n\n    .dataframe tbody tr th {\n        vertical-align: top;\n    }\n\n    .dataframe thead th {\n        text-align: right;\n    }\n</style>\n<table border=\"1\" class=\"dataframe\">\n  <thead>\n    <tr style=\"text-align: right;\">\n      <th></th>\n      <th>Country</th>\n      <th>2020</th>\n      <th>2019</th>\n      <th>2018</th>\n      <th>2017</th>\n      <th>2016</th>\n      <th>2015</th>\n      <th>2014</th>\n      <th>2013</th>\n    </tr>\n  </thead>\n  <tbody>\n    <tr>\n      <th>0</th>\n      <td>Norway</td>\n      <td>74.7</td>\n      <td>55.9</td>\n      <td>49.1</td>\n      <td>39.2</td>\n      <td>29.1</td>\n      <td>22.4</td>\n      <td>13.8</td>\n      <td>6.1</td>\n    </tr>\n    <tr>\n      <th>1</th>\n      <td>Iceland</td>\n      <td>45.0</td>\n      <td>22.6</td>\n      <td>19</td>\n      <td>14.05</td>\n      <td>4.6</td>\n      <td>2.93</td>\n      <td>2.71</td>\n      <td>0.94</td>\n    </tr>\n    <tr>\n      <th>2</th>\n      <td>Sweden</td>\n      <td>32.2</td>\n      <td>11.4</td>\n      <td>8.2</td>\n      <td>5.2</td>\n      <td>3.5</td>\n      <td>2.62</td>\n      <td>1.53</td>\n      <td>0.71</td>\n    </tr>\n    <tr>\n      <th>3</th>\n      <td>Netherlands</td>\n      <td>24.6</td>\n      <td>14.9</td>\n      <td>6.2</td>\n      <td>2.2</td>\n      <td>6.7</td>\n      <td>9.9</td>\n      <td>3.87</td>\n      <td>5.55</td>\n    </tr>\n    <tr>\n      <th>4</th>\n      <td>Finland</td>\n      <td>18.1</td>\n      <td>6.9</td>\n      <td>4.7</td>\n      <td>2.57</td>\n      <td>1.2</td>\n      <td>0</td>\n      <td>0</td>\n      <td>0</td>\n    </tr>\n    <tr>\n      <th>5</th>\n      <td>Denmark</td>\n      <td>16.4</td>\n      <td>4.2</td>\n      <td>2</td>\n      <td>0.4</td>\n      <td>0.6</td>\n      <td>2.29</td>\n      <td>0.88</td>\n      <td>0.29</td>\n    </tr>\n    <tr>\n      <th>6</th>\n      <td>Switzerland</td>\n      <td>14.3</td>\n      <td>5.5</td>\n      <td>3.2</td>\n      <td>2.55</td>\n      <td>1.8</td>\n      <td>1.98</td>\n      <td>0.75</td>\n      <td>0.44</td>\n    </tr>\n    <tr>\n      <th>7</th>\n      <td>Germany</td>\n      <td>13.5</td>\n      <td>3.0</td>\n      <td>1.9</td>\n      <td>1.58</td>\n      <td>1.1</td>\n      <td>0.73</td>\n      <td>0.43</td>\n      <td>0.25</td>\n    </tr>\n    <tr>\n      <th>8</th>\n      <td>Portugal</td>\n      <td>13.5</td>\n      <td>5.7</td>\n      <td>3.6</td>\n      <td>1.9</td>\n      <td>0</td>\n      <td>0</td>\n      <td>0</td>\n      <td>0</td>\n    </tr>\n    <tr>\n      <th>9</th>\n      <td>France</td>\n      <td>11.2</td>\n      <td>2.8</td>\n      <td>2.11</td>\n      <td>1.98</td>\n      <td>1.4</td>\n      <td>1.19</td>\n      <td>0.70</td>\n      <td>0.83</td>\n    </tr>\n    <tr>\n      <th>10</th>\n      <td>UK</td>\n      <td>10.7</td>\n      <td>2.9</td>\n      <td>2.53</td>\n      <td>1.86</td>\n      <td>1.37</td>\n      <td>1.07</td>\n      <td>0.59</td>\n      <td>0.16</td>\n    </tr>\n    <tr>\n      <th>11</th>\n      <td>Belgium</td>\n      <td>10.7</td>\n      <td>3.2</td>\n      <td>2.5</td>\n      <td>2.7</td>\n      <td>1.8</td>\n      <td>0</td>\n      <td>0</td>\n      <td>0</td>\n    </tr>\n    <tr>\n      <th>12</th>\n      <td>Austria</td>\n      <td>9.5</td>\n      <td>3.5</td>\n      <td>2.6</td>\n      <td>2.06</td>\n      <td>1.6</td>\n      <td>0.90</td>\n      <td>0</td>\n      <td>0</td>\n    </tr>\n    <tr>\n      <th>13</th>\n      <td>Ireland</td>\n      <td>7.4</td>\n      <td>4.1</td>\n      <td>1.57</td>\n      <td>0.72</td>\n      <td>0.48</td>\n      <td>0.46</td>\n      <td>0.27</td>\n      <td>0</td>\n    </tr>\n    <tr>\n      <th>14</th>\n      <td>China</td>\n      <td>5.4</td>\n      <td>4.9</td>\n      <td>4.2</td>\n      <td>2.1</td>\n      <td>1.31</td>\n      <td>0.84</td>\n      <td>0.23</td>\n      <td>0.08</td>\n    </tr>\n    <tr>\n      <th>15</th>\n      <td>Spain</td>\n      <td>4.8</td>\n      <td>1.4</td>\n      <td>0.9</td>\n      <td>0.6</td>\n      <td>0.32</td>\n      <td>0</td>\n      <td>0</td>\n      <td>0</td>\n    </tr>\n    <tr>\n      <th>16</th>\n      <td>Italy</td>\n      <td>4.3</td>\n      <td>0.6</td>\n      <td>0.26</td>\n      <td>0.1</td>\n      <td>0.08</td>\n      <td>0.09</td>\n      <td>0.08</td>\n      <td>0.07</td>\n    </tr>\n    <tr>\n      <th>17</th>\n      <td>Canada</td>\n      <td>0</td>\n      <td>3.0</td>\n      <td>2.2</td>\n      <td>0.92</td>\n      <td>0.58</td>\n      <td>0.35</td>\n      <td>0.28</td>\n      <td>0.18</td>\n    </tr>\n    <tr>\n      <th>18</th>\n      <td>New Zealand</td>\n      <td>0</td>\n      <td>2.8</td>\n      <td>0.96</td>\n      <td>0.72</td>\n      <td>0.50</td>\n      <td>0.23</td>\n      <td>0.21</td>\n      <td>0</td>\n    </tr>\n    <tr>\n      <th>19</th>\n      <td>United States</td>\n      <td>1.9</td>\n      <td>2.0</td>\n      <td>2.1</td>\n      <td>1.1</td>\n      <td>0.90</td>\n      <td>0.66</td>\n      <td>0.72</td>\n      <td>0.60</td>\n    </tr>\n    <tr>\n      <th>20</th>\n      <td>Japan</td>\n      <td>0</td>\n      <td>0.9</td>\n      <td>1.0</td>\n      <td>1.1</td>\n      <td>0.59</td>\n      <td>0.68</td>\n      <td>1.06</td>\n      <td>0.91</td>\n    </tr>\n    <tr>\n      <th>21</th>\n      <td>Global average</td>\n      <td>4.2</td>\n      <td>2.5</td>\n      <td>2.1</td>\n      <td>1.3</td>\n      <td>0.86</td>\n      <td>0.7</td>\n      <td>0.4</td>\n      <td>0.3</td>\n    </tr>\n  </tbody>\n</table>\n</div>"
     },
     "metadata": {},
     "execution_count": 85
    }
   ],
   "source": [
    "# Rename column names\n",
    "market_share_clean_df.columns = ['Country','2020','2019','2018','2017','2016','2015','2014','2013']\n",
    "market_share_clean_df"
   ]
  },
  {
   "source": [
    "# Load the data into MongoDB (L)"
   ],
   "cell_type": "markdown",
   "metadata": {}
  },
  {
   "cell_type": "code",
   "execution_count": 86,
   "metadata": {},
   "outputs": [],
   "source": [
    "#Connection string \n",
    "conn = 'mongodb://localhost:27017'#local host\n",
    "#Create pymongo object instance of connection to the new client\n",
    "client = pymongo.MongoClient(conn)\n",
    "\n",
    "# Define the 'electric_vehicles' database in Mongo\n",
    "db = client.electric_vehicles\n",
    "# Define new collections to load cleaned data into\n",
    "global_market_share_coll = db.global_market_share"
   ]
  },
  {
   "cell_type": "code",
   "execution_count": 87,
   "metadata": {},
   "outputs": [
    {
     "output_type": "execute_result",
     "data": {
      "text/plain": [
       "[{'Country': 'Norway',\n",
       "  '2020': '74.7',\n",
       "  '2019': '55.9',\n",
       "  '2018': '49.1',\n",
       "  '2017': '39.2',\n",
       "  '2016': '29.1',\n",
       "  '2015': '22.4',\n",
       "  '2014': '13.8',\n",
       "  '2013': '6.1'},\n",
       " {'Country': 'Iceland',\n",
       "  '2020': '45.0',\n",
       "  '2019': '22.6',\n",
       "  '2018': '19',\n",
       "  '2017': '14.05',\n",
       "  '2016': '4.6',\n",
       "  '2015': '2.93',\n",
       "  '2014': '2.71',\n",
       "  '2013': '0.94'},\n",
       " {'Country': 'Sweden',\n",
       "  '2020': '32.2',\n",
       "  '2019': '11.4',\n",
       "  '2018': '8.2',\n",
       "  '2017': '5.2',\n",
       "  '2016': '3.5',\n",
       "  '2015': '2.62',\n",
       "  '2014': '1.53',\n",
       "  '2013': '0.71'},\n",
       " {'Country': 'Netherlands',\n",
       "  '2020': '24.6',\n",
       "  '2019': '14.9',\n",
       "  '2018': '6.2',\n",
       "  '2017': '2.2',\n",
       "  '2016': '6.7',\n",
       "  '2015': '9.9',\n",
       "  '2014': '3.87',\n",
       "  '2013': '5.55'},\n",
       " {'Country': 'Finland',\n",
       "  '2020': '18.1',\n",
       "  '2019': '6.9',\n",
       "  '2018': '4.7',\n",
       "  '2017': '2.57',\n",
       "  '2016': '1.2',\n",
       "  '2015': 0,\n",
       "  '2014': 0,\n",
       "  '2013': 0}]"
      ]
     },
     "metadata": {},
     "execution_count": 87
    }
   ],
   "source": [
    "market_share_clean_dict = market_share_clean_df.to_dict('records')\n",
    "market_share_clean_dict[:5]"
   ]
  },
  {
   "cell_type": "code",
   "execution_count": null,
   "metadata": {},
   "outputs": [],
   "source": [
    "#Clear collection of existing documents\n",
    "global_market_share_coll.delete_many({})\n",
    "# Insert new documents in empty collection\n",
    "global_market_share_coll.insert_many(market_share_clean_dict)"
   ]
  }
 ]
}