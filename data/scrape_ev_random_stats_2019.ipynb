{
 "metadata": {
  "language_info": {
   "codemirror_mode": {
    "name": "ipython",
    "version": 3
   },
   "file_extension": ".py",
   "mimetype": "text/x-python",
   "name": "python",
   "nbconvert_exporter": "python",
   "pygments_lexer": "ipython3",
   "version": "3.8.5"
  },
  "orig_nbformat": 2,
  "kernelspec": {
   "name": "python385jvsc74a57bd02c3c5b7e521ed385cd317e5adc75c961fe301f41d1ed6ee19f28764a4ab100bf",
   "display_name": "Python 3.8.5 64-bit (conda)"
  }
 },
 "nbformat": 4,
 "nbformat_minor": 2,
 "cells": [
  {
   "source": [
    "## (E) Extract - Raw Data from sources\n",
    "\n",
    "This notebook has been used to scrap data from website\n",
    "\n",
    "Web Scraping:\n",
    "* Electric Vehicle Statistics and Trends as of 2019\n",
    "\n",
    "Source: https://www.findthebestcarprice.com/electric-vehicle-statistics-trends/\n"
   ],
   "cell_type": "markdown",
   "metadata": {}
  },
  {
   "cell_type": "code",
   "execution_count": 10,
   "metadata": {},
   "outputs": [],
   "source": [
    "# Import Request, BeautifulSoup and Pymongo\n",
    "import requests\n",
    "from bs4 import BeautifulSoup as soup\n",
    "import pymongo\n",
    "import time\n"
   ]
  },
  {
   "cell_type": "code",
   "execution_count": null,
   "metadata": {},
   "outputs": [],
   "source": []
  },
  {
   "cell_type": "code",
   "execution_count": 11,
   "metadata": {},
   "outputs": [],
   "source": [
    "# visit the url site\n",
    "url = 'https://www.findthebestcarprice.com/electric-vehicle-statistics-trends/'\n",
    "reqs = requests.get(url)\n",
    "time.sleep(1)\n"
   ]
  },
  {
   "cell_type": "code",
   "execution_count": 12,
   "metadata": {
    "tags": [
     "outputPrepend"
    ]
   },
   "outputs": [
    {
     "output_type": "stream",
     "name": "stdout",
     "text": [
      "aboxplugin-icon-color .sab-github{border-color:#264874}.saboxplugin-socials.sabox-colored .saboxplugin-icon-color .sab-google{border-color:#0b51c5}.saboxplugin-socials.sabox-colored .saboxplugin-icon-color .sab-googleplus{border-color:#96271a}.saboxplugin-socials.sabox-colored .saboxplugin-icon-color .sab-html5{border-color:#902e13}.saboxplugin-socials.sabox-colored .saboxplugin-icon-color .sab-instagram{border-color:#1630aa}.saboxplugin-socials.sabox-colored .saboxplugin-icon-color .sab-linkedin{border-color:#00344f}.saboxplugin-socials.sabox-colored .saboxplugin-icon-color .sab-pinterest{border-color:#5b040e}.saboxplugin-socials.sabox-colored .saboxplugin-icon-color .sab-reddit{border-color:#992900}.saboxplugin-socials.sabox-colored .saboxplugin-icon-color .sab-rss{border-color:#a43b0a}.saboxplugin-socials.sabox-colored .saboxplugin-icon-color .sab-sharethis{border-color:#5d8420}.saboxplugin-socials.sabox-colored .saboxplugin-icon-color .sab-skype{border-color:#00658a}.saboxplugin-socials.sabox-colored .saboxplugin-icon-color .sab-soundcloud{border-color:#995200}.saboxplugin-socials.sabox-colored .saboxplugin-icon-color .sab-spotify{border-color:#0f612c}.saboxplugin-socials.sabox-colored .saboxplugin-icon-color .sab-stackoverflow{border-color:#a95009}.saboxplugin-socials.sabox-colored .saboxplugin-icon-color .sab-steam{border-color:#006388}.saboxplugin-socials.sabox-colored .saboxplugin-icon-color .sab-user_email{border-color:#b84e05}.saboxplugin-socials.sabox-colored .saboxplugin-icon-color .sab-stumbleUpon{border-color:#9b280e}.saboxplugin-socials.sabox-colored .saboxplugin-icon-color .sab-tumblr{border-color:#10151b}.saboxplugin-socials.sabox-colored .saboxplugin-icon-color .sab-twitter{border-color:#0967a0}.saboxplugin-socials.sabox-colored .saboxplugin-icon-color .sab-vimeo{border-color:#0d7091}.saboxplugin-socials.sabox-colored .saboxplugin-icon-color .sab-windows{border-color:#003f71}.saboxplugin-socials.sabox-colored .saboxplugin-icon-color .sab-whatsapp{border-color:#003f71}.saboxplugin-socials.sabox-colored .saboxplugin-icon-color .sab-wordpress{border-color:#0f3647}.saboxplugin-socials.sabox-colored .saboxplugin-icon-color .sab-yahoo{border-color:#14002d}.saboxplugin-socials.sabox-colored .saboxplugin-icon-color .sab-youtube{border-color:#900}.saboxplugin-socials.sabox-colored .saboxplugin-icon-color .sab-xing{border-color:#000202}.saboxplugin-socials.sabox-colored .saboxplugin-icon-color .sab-mixcloud{border-color:#2475a0}.saboxplugin-socials.sabox-colored .saboxplugin-icon-color .sab-vk{border-color:#243549}.saboxplugin-socials.sabox-colored .saboxplugin-icon-color .sab-medium{border-color:#00452c}.saboxplugin-socials.sabox-colored .saboxplugin-icon-color .sab-quora{border-color:#420e00}.saboxplugin-socials.sabox-colored .saboxplugin-icon-color .sab-meetup{border-color:#9b181c}.saboxplugin-socials.sabox-colored .saboxplugin-icon-color .sab-goodreads{border-color:#000}.saboxplugin-socials.sabox-colored .saboxplugin-icon-color .sab-snapchat{border-color:#999700}.saboxplugin-socials.sabox-colored .saboxplugin-icon-color .sab-500px{border-color:#00557f}.saboxplugin-socials.sabox-colored .saboxplugin-icon-color .sab-mastodont{border-color:#185886}.sabox-plus-item{margin-bottom:20px}@media screen and (max-width:480px){.saboxplugin-wrap{text-align:center}.saboxplugin-wrap .saboxplugin-gravatar{float:none;padding:20px 0;text-align:center;margin:0 auto;display:block}.saboxplugin-wrap .saboxplugin-gravatar img{float:none;display:inline-block;display:-moz-inline-stack;vertical-align:middle;zoom:1}.saboxplugin-wrap .saboxplugin-desc{margin:0 10px 20px;text-align:center}.saboxplugin-wrap .saboxplugin-authorname{text-align:center;margin:10px 0 20px}}body .saboxplugin-authorname a,body .saboxplugin-authorname a:hover{box-shadow:none;-webkit-box-shadow:none}a.sab-profile-edit{font-size:16px!important;line-height:1!important}.sab-edit-settings a,a.sab-profile-edit{color:#0073aa!important;box-shadow:none!important;-webkit-box-shadow:none!important}.sab-edit-settings{margin-right:15px;position:absolute;right:0;z-index:2;bottom:10px;line-height:20px}.sab-edit-settings i{margin-left:5px}.saboxplugin-socials{line-height:1!important}.rtl .saboxplugin-wrap .saboxplugin-gravatar{float:right}.rtl .saboxplugin-wrap .saboxplugin-authorname{display:flex;align-items:center}.rtl .saboxplugin-wrap .saboxplugin-authorname .sab-profile-edit{margin-right:10px}.rtl .sab-edit-settings{right:auto;left:0}img.sab-custom-avatar{max-width:75px;}.saboxplugin-wrap .saboxplugin-gravatar img {-webkit-border-radius:50%;-moz-border-radius:50%;-ms-border-radius:50%;-o-border-radius:50%;border-radius:50%;}.saboxplugin-wrap {margin-top:0px; margin-bottom:0px; padding: 0px 0px }.saboxplugin-wrap .saboxplugin-authorname {font-size:14px; line-height:21px;}.saboxplugin-wrap .saboxplugin-desc p, .saboxplugin-wrap .saboxplugin-desc {font-size:14px !important; line-height:21px !important;}.saboxplugin-wrap .saboxplugin-web {font-size:14px;}.saboxplugin-wrap .saboxplugin-socials a svg {width:18px;height:18px;}</style><link href=\"https://www.findthebestcarprice.com/wp-content/uploads/so-css/so-css-best-car.css?ver=1617897256\" id=\"so-css-best-car-css\" media=\"all\" rel=\"stylesheet\" type=\"text/css\"/>\n<link href=\"https://www.findthebestcarprice.com/wp-content/uploads/siteorigin-widgets/sow-image-default-d6014b76747a.css?ver=67a9bb891b4071ed9767af342dfcdcb5\" id=\"sow-image-default-d6014b76747a-css\" media=\"all\" rel=\"stylesheet\" type=\"text/css\"/>\n<script id=\"jquery-ui-widget-js\" src=\"https://www.findthebestcarprice.com/wp-content/plugins/enable-jquery-migrate-helper/js/jquery-ui/widget.min.js?ver=1.11.4-wp\" type=\"text/javascript\"></script>\n<script id=\"jquery-ui-mouse-js\" src=\"https://www.findthebestcarprice.com/wp-content/plugins/enable-jquery-migrate-helper/js/jquery-ui/mouse.min.js?ver=1.11.4-wp\" type=\"text/javascript\"></script>\n<script id=\"jquery-ui-sortable-js\" src=\"https://www.findthebestcarprice.com/wp-content/plugins/enable-jquery-migrate-helper/js/jquery-ui/sortable.min.js?ver=1.11.4-wp\" type=\"text/javascript\"></script>\n<script id=\"car-finder-js-js-extra\" type=\"text/javascript\">\n/* <![CDATA[ */\nvar wpAjaxObject = {\"ajax_url\":\"https:\\/\\/www.findthebestcarprice.com\\/wp-admin\\/admin-ajax.php\"};\nvar wpAjaxObject = {\"ajax_url\":\"https:\\/\\/www.findthebestcarprice.com\\/wp-admin\\/admin-ajax.php\"};\n/* ]]> */\n</script>\n<script id=\"car-finder-js-js\" src=\"https://www.findthebestcarprice.com/wp-content/plugins/car-finder/assets/js/car-finder.js?ver=1.0.1\" type=\"text/javascript\"></script>\n<script id=\"wp-polyfill-js\" src=\"https://www.findthebestcarprice.com/wp-includes/js/dist/vendor/wp-polyfill.min.js?ver=7.4.4\" type=\"text/javascript\"></script>\n<script id=\"wp-polyfill-js-after\" type=\"text/javascript\">\n( 'fetch' in window ) || document.write( '<script src=\"https://www.findthebestcarprice.com/wp-includes/js/dist/vendor/wp-polyfill-fetch.min.js?ver=3.0.0\"></scr' + 'ipt>' );( document.contains ) || document.write( '<script src=\"https://www.findthebestcarprice.com/wp-includes/js/dist/vendor/wp-polyfill-node-contains.min.js?ver=3.42.0\"></scr' + 'ipt>' );( window.DOMRect ) || document.write( '<script src=\"https://www.findthebestcarprice.com/wp-includes/js/dist/vendor/wp-polyfill-dom-rect.min.js?ver=3.42.0\"></scr' + 'ipt>' );( window.URL && window.URL.prototype && window.URLSearchParams ) || document.write( '<script src=\"https://www.findthebestcarprice.com/wp-includes/js/dist/vendor/wp-polyfill-url.min.js?ver=3.6.4\"></scr' + 'ipt>' );( window.FormData && window.FormData.prototype.keys ) || document.write( '<script src=\"https://www.findthebestcarprice.com/wp-includes/js/dist/vendor/wp-polyfill-formdata.min.js?ver=3.0.12\"></scr' + 'ipt>' );( Element.prototype.matches && Element.prototype.closest ) || document.write( '<script src=\"https://www.findthebestcarprice.com/wp-includes/js/dist/vendor/wp-polyfill-element-closest.min.js?ver=2.0.2\"></scr' + 'ipt>' );( 'objectFit' in document.documentElement.style ) || document.write( '<script src=\"https://www.findthebestcarprice.com/wp-includes/js/dist/vendor/wp-polyfill-object-fit.min.js?ver=2.3.4\"></scr' + 'ipt>' );\n</script>\n<script id=\"wp-hooks-js\" src=\"https://www.findthebestcarprice.com/wp-includes/js/dist/hooks.min.js?ver=50e23bed88bcb9e6e14023e9961698c1\" type=\"text/javascript\"></script>\n<script id=\"wp-i18n-js\" src=\"https://www.findthebestcarprice.com/wp-includes/js/dist/i18n.min.js?ver=db9a9a37da262883343e941c3731bc67\" type=\"text/javascript\"></script>\n<script id=\"wp-i18n-js-after\" type=\"text/javascript\">\nwp.i18n.setLocaleData( { 'text direction\\u0004ltr': [ 'ltr' ] } );\n</script>\n<script id=\"lodash-js\" src=\"https://www.findthebestcarprice.com/wp-includes/js/dist/vendor/lodash.min.js?ver=4.17.19\" type=\"text/javascript\"></script>\n<script id=\"lodash-js-after\" type=\"text/javascript\">\nwindow.lodash = _.noConflict();\n</script>\n<script id=\"wp-url-js\" src=\"https://www.findthebestcarprice.com/wp-includes/js/dist/url.min.js?ver=0ac7e0472c46121366e7ce07244be1ac\" type=\"text/javascript\"></script>\n<script id=\"wp-api-fetch-js-translations\" type=\"text/javascript\">\n( function( domain, translations ) {\n\tvar localeData = translations.locale_data[ domain ] || translations.locale_data.messages;\n\tlocaleData[\"\"].domain = domain;\n\twp.i18n.setLocaleData( localeData, domain );\n} )( \"default\", { \"locale_data\": { \"messages\": { \"\": {} } } } );\n</script>\n<script id=\"wp-api-fetch-js\" src=\"https://www.findthebestcarprice.com/wp-includes/js/dist/api-fetch.min.js?ver=a783d1f442d2abefc7d6dbd156a44561\" type=\"text/javascript\"></script>\n<script id=\"wp-api-fetch-js-after\" type=\"text/javascript\">\nwp.apiFetch.use( wp.apiFetch.createRootURLMiddleware( \"https://www.findthebestcarprice.com/wp-json/\" ) );\nwp.apiFetch.nonceMiddleware = wp.apiFetch.createNonceMiddleware( \"eeb2904722\" );\nwp.apiFetch.use( wp.apiFetch.nonceMiddleware );\nwp.apiFetch.use( wp.apiFetch.mediaUploadMiddleware );\nwp.apiFetch.nonceEndpoint = \"https://www.findthebestcarprice.com/wp-admin/admin-ajax.php?action=rest-nonce\";\n</script>\n<script id=\"contact-form-7-js-extra\" type=\"text/javascript\">\n/* <![CDATA[ */\nvar wpcf7 = {\"cached\":\"1\"};\nvar wpcf7 = {\"cached\":\"1\"};\n/* ]]> */\n</script>\n<script id=\"contact-form-7-js\" src=\"https://www.findthebestcarprice.com/wp-content/plugins/contact-form-7/includes/js/index.js?ver=5.4\" type=\"text/javascript\"></script>\n<script id=\"wpil-frontend-script-js-extra\" type=\"text/javascript\">\n/* <![CDATA[ */\nvar wpilFrontend = {\"ajaxUrl\":\"https:\\/\\/www.findthebestcarprice.com\\/wp-admin\\/admin-ajax.php\",\"postType\":\"post\",\"openInternalInNewTab\":\"0\",\"openExternalInNewTab\":\"0\"};\nvar wpilFrontend = {\"ajaxUrl\":\"https:\\/\\/www.findthebestcarprice.com\\/wp-admin\\/admin-ajax.php\",\"postType\":\"post\",\"openInternalInNewTab\":\"0\",\"openExternalInNewTab\":\"0\"};\n/* ]]> */\n</script>\n<script id=\"wpil-frontend-script-js\" src=\"https://www.findthebestcarprice.com/wp-content/plugins/link-whisper-premium/js/frontend.js?ver=1617771719\" type=\"text/javascript\"></script>\n<script id=\"toc-front-js-extra\" type=\"text/javascript\">\n/* <![CDATA[ */\nvar tocplus = {\"visibility_show\":\"show\",\"visibility_hide\":\"hide\",\"width\":\"Auto\"};\nvar tocplus = {\"visibility_show\":\"show\",\"visibility_hide\":\"hide\",\"width\":\"Auto\"};\n/* ]]> */\n</script>\n<script id=\"toc-front-js\" src=\"https://www.findthebestcarprice.com/wp-content/plugins/table-of-contents-plus/front.min.js?ver=2002\" type=\"text/javascript\"></script>\n<script id=\"imagesloaded-js\" src=\"https://www.findthebestcarprice.com/wp-includes/js/imagesloaded.min.js?ver=4.1.4\" type=\"text/javascript\"></script>\n<script id=\"masonry-js\" src=\"https://www.findthebestcarprice.com/wp-includes/js/masonry.min.js?ver=4.2.2\" type=\"text/javascript\"></script>\n<script id=\"jquery-masonry-js\" src=\"https://www.findthebestcarprice.com/wp-includes/js/jquery/jquery.masonry.min.js?ver=3.1.2b\" type=\"text/javascript\"></script>\n<script id=\"tve_frontend-js-extra\" type=\"text/javascript\">\n/* <![CDATA[ */\nvar tve_frontend_options = {\"is_editor_page\":\"\",\"page_events\":[],\"is_single\":\"1\",\"ajaxurl\":\"https:\\/\\/www.findthebestcarprice.com\\/wp-admin\\/admin-ajax.php\",\"social_fb_app_id\":\"\",\"dash_url\":\"https:\\/\\/www.findthebestcarprice.com\\/wp-content\\/plugins\\/thrive-leads\\/thrive-dashboard\",\"translations\":{\"Copy\":\"Copy\"},\"post_id\":\"19064\",\"ip\":\"60.242.12.38\",\"current_user\":[],\"post_title\":\"40 Interesting Electric Vehicle, Statistics, & Trends\",\"post_type\":\"post\",\"post_url\":\"https:\\/\\/www.findthebestcarprice.com\\/electric-vehicle-statistics-trends\\/\",\"is_lp\":\"\",\"post_request_data\":[]};\n/* ]]> */\n</script>\n<script id=\"tve_frontend-js\" src=\"https://www.findthebestcarprice.com/wp-content/plugins/thrive-leads/tcb/editor/js/dist/frontend.min.js?ver=2.6.8.1\" type=\"text/javascript\"></script>\n<script id=\"tve_leads_frontend-js\" src=\"//www.findthebestcarprice.com/wp-content/plugins/thrive-leads/js/frontend.min.js?ver=2.4.0.1\" type=\"text/javascript\"></script>\n<script id=\"bootstrap-js-js\" src=\"https://www.findthebestcarprice.com/wp-content/themes/best-car/js/bootstrap.js?ver=3.3.0\" type=\"text/javascript\"></script>\n<script id=\"ie-10-viewport-bug-workaround-js-js\" src=\"https://www.findthebestcarprice.com/wp-content/themes/best-car/js/ie10-viewport-bug-workaround.js?ver=3.3.0\" type=\"text/javascript\"></script>\n<script id=\"scripts-js-js\" src=\"https://www.findthebestcarprice.com/wp-content/themes/best-car/js/scripts.js?ver=67a9bb891b4071ed9767af342dfcdcb5\" type=\"text/javascript\"></script>\n<script id=\"tve-dash-frontend-js-extra\" type=\"text/javascript\">\n/* <![CDATA[ */\nvar tve_dash_front = {\"ajaxurl\":\"https:\\/\\/www.findthebestcarprice.com\\/wp-admin\\/admin-ajax.php\",\"force_ajax_send\":\"1\",\"is_crawler\":\"\",\"recaptcha\":[]};\nvar tve_dash_front = {\"ajaxurl\":\"https:\\/\\/www.findthebestcarprice.com\\/wp-admin\\/admin-ajax.php\",\"force_ajax_send\":\"1\",\"is_crawler\":\"\",\"recaptcha\":[]};\n/* ]]> */\n</script>\n<script id=\"tve-dash-frontend-js\" src=\"https://www.findthebestcarprice.com/wp-content/plugins/thrive-leads/thrive-dashboard/js/dist/frontend.min.js?ver=2.4.0.1\" type=\"text/javascript\"></script>\n<script id=\"car-finder-js_vs-js-extra\" type=\"text/javascript\">\n/* <![CDATA[ */\nvar wpAjaxObject = {\"ajax_url\":\"https:\\/\\/www.findthebestcarprice.com\\/wp-content\\/themes\\/best-car\\/custom-ajax.php\"};\nvar wpAjaxObject = {\"ajax_url\":\"https:\\/\\/www.findthebestcarprice.com\\/wp-content\\/themes\\/best-car\\/custom-ajax.php\"};\n/* ]]> */\n</script>\n<script id=\"car-finder-js_vs-js\" src=\"https://www.findthebestcarprice.com/wp-content/plugins/car-finder-form/assets/js/car-finder-form.js?ver=1.1.0\" type=\"text/javascript\"></script>\n<script id=\"q2w3_fixed_widget-js-extra\" type=\"text/javascript\">\n/* <![CDATA[ */\nvar q2w3_sidebar_options = [{\"sidebar\":\"primary-widget-area\",\"margin_top\":89,\"margin_bottom\":350,\"stop_id\":\"blog-footer\",\"screen_max_width\":767,\"screen_max_height\":0,\"width_inherit\":true,\"refresh_interval\":1500,\"window_load_hook\":true,\"disable_mo_api\":false,\"widgets\":[\"custom_html-4\"]}];\nvar q2w3_sidebar_options = [{\"sidebar\":\"primary-widget-area\",\"margin_top\":89,\"margin_bottom\":350,\"stop_id\":\"blog-footer\",\"screen_max_width\":767,\"screen_max_height\":0,\"width_inherit\":true,\"refresh_interval\":1500,\"window_load_hook\":true,\"disable_mo_api\":false,\"widgets\":[\"custom_html-4\"]}];\n/* ]]> */\n</script>\n<script id=\"q2w3_fixed_widget-js\" src=\"https://www.findthebestcarprice.com/wp-content/plugins/q2w3-fixed-widget/js/q2w3-fixed-widget.min.js?ver=5.3.0\" type=\"text/javascript\"></script>\n<script id=\"google-recaptcha-js\" src=\"https://www.google.com/recaptcha/api.js?render=6LfzbqoUAAAAABsEmwiJHDTeYQDN80SjhqEgDJA7&amp;ver=3.0\" type=\"text/javascript\"></script>\n<script id=\"wpcf7-recaptcha-js-extra\" type=\"text/javascript\">\n/* <![CDATA[ */\nvar wpcf7_recaptcha = {\"sitekey\":\"6LfzbqoUAAAAABsEmwiJHDTeYQDN80SjhqEgDJA7\",\"actions\":{\"homepage\":\"homepage\",\"contactform\":\"contactform\"}};\nvar wpcf7_recaptcha = {\"sitekey\":\"6LfzbqoUAAAAABsEmwiJHDTeYQDN80SjhqEgDJA7\",\"actions\":{\"homepage\":\"homepage\",\"contactform\":\"contactform\"}};\n/* ]]> */\n</script>\n<script id=\"wpcf7-recaptcha-js\" src=\"https://www.findthebestcarprice.com/wp-content/plugins/contact-form-7/modules/recaptcha/index.js?ver=5.4\" type=\"text/javascript\"></script>\n<script id=\"wp-embed-js\" src=\"https://www.findthebestcarprice.com/wp-includes/js/wp-embed.min.js?ver=67a9bb891b4071ed9767af342dfcdcb5\" type=\"text/javascript\"></script>\n<script type=\"text/javascript\">var tcb_post_lists=JSON.parse('[]');</script><script type=\"text/javascript\">/*<![CDATA[*/if ( !window.TL_Const ) {var TL_Const={\"security\":\"1bfa222441\",\"ajax_url\":\"https:\\/\\/www.findthebestcarprice.com\\/wp-admin\\/admin-ajax.php\",\"forms\":[],\"action_conversion\":\"tve_leads_ajax_conversion\",\"action_impression\":\"tve_leads_ajax_impression\",\"ajax_load\":1,\"main_group_id\":8898,\"display_options\":{\"allowed_post_types\":[],\"flag_url_match\":false},\"custom_post_data\":[],\"current_screen\":{\"screen_type\":4,\"screen_id\":19064},\"ignored_fields\":[\"email\",\"_captcha_size\",\"_captcha_theme\",\"_captcha_type\",\"_submit_option\",\"_use_captcha\",\"g-recaptcha-response\",\"__tcb_lg_fc\",\"__tcb_lg_msg\",\"_state\",\"_form_type\",\"_error_message_option\",\"_back_url\",\"_submit_option\",\"url\",\"_asset_group\",\"_asset_option\",\"mailchimp_optin\",\"tcb_token\",\"tve_labels\",\"tve_mapping\",\"_api_custom_fields\",\"_sendParams\",\"_autofill\"]};} else {ThriveGlobal.$j.extend(true, TL_Const, {\"security\":\"1bfa222441\",\"ajax_url\":\"https:\\/\\/www.findthebestcarprice.com\\/wp-admin\\/admin-ajax.php\",\"forms\":[],\"action_conversion\":\"tve_leads_ajax_conversion\",\"action_impression\":\"tve_leads_ajax_impression\",\"ajax_load\":1,\"main_group_id\":8898,\"display_options\":{\"allowed_post_types\":[],\"flag_url_match\":false},\"custom_post_data\":[],\"current_screen\":{\"screen_type\":4,\"screen_id\":19064},\"ignored_fields\":[\"email\",\"_captcha_size\",\"_captcha_theme\",\"_captcha_type\",\"_submit_option\",\"_use_captcha\",\"g-recaptcha-response\",\"__tcb_lg_fc\",\"__tcb_lg_msg\",\"_state\",\"_form_type\",\"_error_message_option\",\"_back_url\",\"_submit_option\",\"url\",\"_asset_group\",\"_asset_option\",\"mailchimp_optin\",\"tcb_token\",\"tve_labels\",\"tve_mapping\",\"_api_custom_fields\",\"_sendParams\",\"_autofill\"]})} /*]]> */</script><script type=\"text/javascript\">document.body.className = document.body.className.replace(\"siteorigin-panels-before-js\",\"\");</script><script>\n(function($) {\n$( document ).ready(function() {\n    $(window).scroll(function() {\n      var fixedFormY = 120;\n      if($('body.home').length){\n        fixedFormY = 510;\n      }\n      if ($(document).scrollTop() > fixedFormY) {\n        $('.car-form').addClass('fixed-form');\n      } else {\n        $('.car-form').removeClass('fixed-form');\n      }\n  });\n});\n})( jQuery );\n</script>\n<!-- Google Code for Remarketing Tag -->\n<!--------------------------------------------------\nRemarketing tags may not be associated with personally identifiable information or placed on pages related to sensitive categories. See more information and instructions on how to setup the tag on: http://google.com/ads/remarketingsetup\n--------------------------------------------------->\n<script type=\"text/javascript\">\n/* <![CDATA[ */\nvar google_conversion_id = 846216873;\nvar google_custom_params = window.google_tag_params;\nvar google_remarketing_only = true;\n/* ]]> */\n</script>\n<script src=\"//www.googleadservices.com/pagead/conversion.js\" type=\"text/javascript\">\n</script>\n<noscript>\n<div style=\"display:inline;\">\n<img alt=\"\" height=\"1\" src=\"//googleads.g.doubleclick.net/pagead/viewthroughconversion/846216873/?guid=ON&amp;script=0\" style=\"border-style:none;\" width=\"1\"/>\n</div>\n</noscript>\n<script>\njQuery('.cust_form_link').mousedown(function (event) {\n  event.preventDefault();\n  \n\t\t\tvar urlchange = jQuery(this).attr('href');\n\t\t\tvar urlchange = urlchange+\"&zipcode=6009\";\n      jQuery(this).attr('href',urlchange);\n\t\t\t//window.open(urlchange,\"_self\");\n});\n</script>\n</body>\n</html>\n<!--\nPerformance optimized by W3 Total Cache. Learn more: https://www.boldgrid.com/w3-total-cache/\n\nPage Caching using disk: enhanced (DONOTCACHEPAGE constant is defined) \n\nServed from: www.findthebestcarprice.com @ 2021-04-28 06:38:36 by W3 Total Cache\n-->\n"
     ]
    }
   ],
   "source": [
    "# Convert the browser html to a soup object\n",
    "ev_soup = soup(reqs.text, 'lxml')\n",
    "print(ev_soup)"
   ]
  },
  {
   "cell_type": "code",
   "execution_count": 13,
   "metadata": {},
   "outputs": [
    {
     "output_type": "execute_result",
     "data": {
      "text/plain": [
       "[<li><a href=\"#The_Current_State_of_EVs\">The Current State of EVs</a></li>,\n",
       " <li><a href=\"#EV_Car_Buying_Consumer_Habits_Trends\">EV Car Buying Consumer Habits &amp; Trends</a></li>,\n",
       " <li><a href=\"#EV_Demographics\">EV Demographics</a></li>,\n",
       " <li><a href=\"#The_Future_of_EVs\">The Future of EVs</a></li>,\n",
       " <li><a href=\"#Overall_EV_Trends_and_Analysis\">Overall EV Trends and Analysis</a></li>,\n",
       " <li><a href=\"#Best_Car_Deals_by_Category\">Best Car Deals by Category</a></li>,\n",
       " <li><a href=\"#Frequently_Asked_Questions\">Frequently Asked Questions</a></li>,\n",
       " <li>EV costs are falling quickly: battery pack prices in 2019 were an average of $156/kWh, which is down from $1,100/kWh in 2010. 1 kWh = ~4 miles of range. (IEA)<img alt=\"ev costs falling\" class=\"aligncenter size-full wp-image-19211\" height=\"209\" loading=\"lazy\" sizes=\"(max-width: 491px) 100vw, 491px\" src=\"https://www.findthebestcarprice.com/wp-content/uploads/ev-costs-falling.jpg\" srcset=\"https://www.findthebestcarprice.com/wp-content/uploads/ev-costs-falling.jpg 491w, https://www.findthebestcarprice.com/wp-content/uploads/ev-costs-falling-300x128.jpg 300w\" width=\"491\"/></li>,\n",
       " <li>The average pack size for a BEV/PHEV increased, up to 44 kWh in 2019 from 37 kWh in 2018. Battery electric vehicles in most countries are now in the 50-70 kWh range – or 200-280 miles of range per full charge. (IEA)<img alt=\"battery pack size\" class=\"aligncenter size-full wp-image-19218\" height=\"239\" loading=\"lazy\" sizes=\"(max-width: 492px) 100vw, 492px\" src=\"https://www.findthebestcarprice.com/wp-content/uploads/battery-pack-size-1.jpg\" srcset=\"https://www.findthebestcarprice.com/wp-content/uploads/battery-pack-size-1.jpg 492w, https://www.findthebestcarprice.com/wp-content/uploads/battery-pack-size-1-300x146.jpg 300w\" width=\"492\"/></li>,\n",
       " <li>The national average of EV charging is $0.15 per kWh (which is $9 to fill up a Chevy Bolt EV – 250 miles). The low is $0.08 per kWh and the high is $0.27 per kWh. (NREL)<img alt=\"average charging price\" class=\"aligncenter size-full wp-image-19217\" height=\"205\" loading=\"lazy\" sizes=\"(max-width: 329px) 100vw, 329px\" src=\"https://www.findthebestcarprice.com/wp-content/uploads/average-charging-price.jpg\" srcset=\"https://www.findthebestcarprice.com/wp-content/uploads/average-charging-price.jpg 329w, https://www.findthebestcarprice.com/wp-content/uploads/average-charging-price-300x187.jpg 300w\" width=\"329\"/></li>,\n",
       " <li>The lifetime fueling cost (15 years) for EVs is between $3,000 to $10,500 lower than the costs of a traditional gasoline-powered vehicle. (NREL)<img alt=\"save fueling costs\" class=\"aligncenter wp-image-19250\" height=\"300\" loading=\"lazy\" sizes=\"(max-width: 302px) 100vw, 302px\" src=\"https://www.findthebestcarprice.com/wp-content/uploads/save-fueling-costs.jpg\" srcset=\"https://www.findthebestcarprice.com/wp-content/uploads/save-fueling-costs.jpg 341w, https://www.findthebestcarprice.com/wp-content/uploads/save-fueling-costs-300x298.jpg 300w\" width=\"302\"/></li>,\n",
       " <li>The significant growth of EVs leading up to 2030 will present major opportunities and challenges for traditional original equipment manufacturers (OEMs), new-entrant OEMs, captive finance companies, and dealerships. (Deloitte)</li>,\n",
       " <li>After an encouraging start to 2019, falling fuel prices in the United States (a market that already enjoys comparatively cheap private transportation) led to the disappointing second half of the year for EV sales. (Deloitte)</li>,\n",
       " <li>In 2010, there were only 17,000 electric cars on the world’s roads. By 2019, there were 7.2 million, with 47% in China. (IEA)<img alt=\"ev sales over 2 million\" class=\"wp-image-19212 alignright\" height=\"237\" loading=\"lazy\" sizes=\"(max-width: 236px) 100vw, 236px\" src=\"https://www.findthebestcarprice.com/wp-content/uploads/ev-sales-over-2-million.jpg\" srcset=\"https://www.findthebestcarprice.com/wp-content/uploads/ev-sales-over-2-million.jpg 276w, https://www.findthebestcarprice.com/wp-content/uploads/ev-sales-over-2-million-275x275.jpg 275w\" width=\"236\"/></li>,\n",
       " <li>The sales of battery-electric (BEV) and plug-in hybrid (PHEV) electric cars tipped over the two-million-vehicle mark for the first time in 2019. It is on track to hit 3% of global vehicle sales in 2020. (Deloitte)</li>,\n",
       " <li>The global electric vehicle market is dominated by major players such as Tesla (US), BYD (China), BMW (Germany), Volkswagen (Germany), and Nissan (Japan). (Markets and Markets)</li>,\n",
       " <li>Most EV sales in the US are in markets with some combination of the following: ZEV regulation, incentives, an extensive charging network, and city/utility promotions. (The ICCT)</li>,\n",
       " <li>Scheduled maintenance costs will be 40% lower for the E-Transit compared to the gas model over eight years or 100,000 miles. (AutoNews)</li>,\n",
       " <li>The United States EV market is almost singlehandedly being carried by the success of the Tesla Model 3 – which is responsible for almost half of all EV sales. (Deloitte)</li>,\n",
       " <li>Tesla set a record for EV deliveries in Q3 of 2020 (almost 140k vehicles sold), with the company estimating to hit half a million deliveries in 2020. This is a 36% increase over 2019 even with the current pandemic and the phasing out of <a href=\"https://www.findthebestcarprice.com/electric-car-incentives/\"><strong>federal tax incentives</strong></a>. (Tesla)</li>,\n",
       " <li>The top reasons that the US lags behind the rest of the world in terms of EV sales are a lack of government commitment to EVs, insufficient or unsuitable charging infrastructure, unavailability of EVs, and cultural differences regarding mobility models. (Deloitte)<img alt=\"us ev sales behind\" class=\"aligncenter wp-image-19103\" height=\"222\" loading=\"lazy\" sizes=\"(max-width: 678px) 100vw, 678px\" src=\"https://www.findthebestcarprice.com/wp-content/uploads/us-ev-sales-behind.jpeg\" srcset=\"https://www.findthebestcarprice.com/wp-content/uploads/us-ev-sales-behind.jpeg 693w, https://www.findthebestcarprice.com/wp-content/uploads/us-ev-sales-behind-300x98.jpeg 300w\" width=\"678\"/></li>,\n",
       " <li>In 2018 in the US, cost/price premium was the biggest barrier for entry for adopting EVs (26% in 2018 to 18% in 2020). In 2020, the biggest concern was the lack of electric vehicle charging infrastructure (22% in 2018 to 29% in 2020). (Deloitte)<img alt=\"ev barriers\" class=\"aligncenter size-full wp-image-19210\" height=\"293\" loading=\"lazy\" sizes=\"(max-width: 585px) 100vw, 585px\" src=\"https://www.findthebestcarprice.com/wp-content/uploads/ev-barriers.jpg\" srcset=\"https://www.findthebestcarprice.com/wp-content/uploads/ev-barriers.jpg 585w, https://www.findthebestcarprice.com/wp-content/uploads/ev-barriers-300x150.jpg 300w\" width=\"585\"/></li>,\n",
       " <li>In the Northeast, 83% of people surveyed believe that there are not enough charging stations available. (Drive Change Drive Electric)</li>,\n",
       " <li>8 out of 10 people surveyed said they have concerns about the distance you can drive an electric vehicle before needing to recharge it. (Drive Change Drive Electric)<img alt=\"driving range concern\" class=\"aligncenter size-full wp-image-19209\" height=\"265\" loading=\"lazy\" src=\"https://www.findthebestcarprice.com/wp-content/uploads/driving-range-concern.jpg\" width=\"231\"/></li>,\n",
       " <li>The top areas driving the market for consumers are technology (batteries improving), policies, economics, and companies accelerating investments in EVs. (BNEF)<img alt=\"improve evs\" class=\"aligncenter size-full wp-image-19249\" height=\"287\" loading=\"lazy\" sizes=\"(max-width: 654px) 100vw, 654px\" src=\"https://www.findthebestcarprice.com/wp-content/uploads/improve-evs.jpg\" srcset=\"https://www.findthebestcarprice.com/wp-content/uploads/improve-evs.jpg 654w, https://www.findthebestcarprice.com/wp-content/uploads/improve-evs-300x132.jpg 300w\" width=\"654\"/></li>,\n",
       " <li>Automakers should note, traditional features such as safety and design should not be overlooked. Consumer target needs must be understood; incentives are important to middle-class buyers. (IPSOS)</li>,\n",
       " <li>According to Ford's telematics data, commercial businesses use their vehicles for an average of 74 miles a day, well within the E-Transit's range, even after accounting for cold weather or heavy cargo loads. (AutoNews)</li>,\n",
       " <li>Today’s consumer profile in the electric car market is evolving from early adopters and technophile purchasers to mass adoption. (IEA)</li>,\n",
       " <li>Millennials are more accepting of electric cars than Baby Boomers in the Northeast. 63% of Millennials consider an EV when shopping for a new vehicle, versus only 38% of Baby Boomers. (Drive Change Drive Electric)<img alt=\"millennials consider evs\" class=\"aligncenter size-full wp-image-19213\" height=\"291\" loading=\"lazy\" sizes=\"(max-width: 614px) 100vw, 614px\" src=\"https://www.findthebestcarprice.com/wp-content/uploads/millennials-consider-evs.jpg\" srcset=\"https://www.findthebestcarprice.com/wp-content/uploads/millennials-consider-evs.jpg 614w, https://www.findthebestcarprice.com/wp-content/uploads/millennials-consider-evs-300x142.jpg 300w\" width=\"614\"/></li>,\n",
       " <li>Despite differences in electric car knowledge, both Millennials and Baby Boomers are eager to see <a href=\"https://www.findthebestcarprice.com/ev-adoption-new-segments/\">more electric vehicles introduced</a>. (Drive Change Drive Electric)</li>,\n",
       " <li>One of the biggest purchase motivators is incentives from the state or federal government. (Drive Change Drive Electric)<img alt=\"state and federal incentives\" class=\"wp-image-19215 aligncenter\" height=\"207\" loading=\"lazy\" src=\"https://www.findthebestcarprice.com/wp-content/uploads/state-and-federal-incentives.jpg\" width=\"270\"/></li>,\n",
       " <li>According to Julia Rege, senior director of environment and energy at the Global Association of Automakers, “to date, electric car sales have been dominated by Gen-X men. However, with two out of three Millennials considering an electric car for their next vehicle, we could see a substantial shift in the marketplace.”. (Smart Energy)<img alt=\"target millennials for evs\" class=\"wp-image-19216 alignright\" height=\"333\" loading=\"lazy\" sizes=\"(max-width: 193px) 100vw, 193px\" src=\"https://www.findthebestcarprice.com/wp-content/uploads/target-millennials-for-evs.jpg\" srcset=\"https://www.findthebestcarprice.com/wp-content/uploads/target-millennials-for-evs.jpg 205w, https://www.findthebestcarprice.com/wp-content/uploads/target-millennials-for-evs-174x300.jpg 174w\" width=\"193\"/></li>,\n",
       " <li>The results of the Drive Change Drive Electric study suggest that the technology revolution for EVs will be driven by Millennials. Additionally, Baby Boomers may take longer to learn about technology, but they will also come to participate in the change. (Drive Change Drive Electric)</li>,\n",
       " <li>Automakers can confidently target millennials, who have an early adoption attitude and broad tech knowledge. (IPSOS)</li>,\n",
       " <li>Deloitte’s global EV forecast is for a compound annual growth rate of 29% achieved over the next ten years. (Deloitte)</li>,\n",
       " <li>Automakers are accelerating their EV launch plans, partly to comply with increasingly stringent regulations in Europe and China. (BNEF)</li>,\n",
       " <li>By the end of 2022, Hyundai will have three new hybrid vehicles, two plug-in crossovers, three battery EVs, and the current Nexo fuel-cell crossover. (AutoNews)</li>,\n",
       " <li>In the United States, IHS Markit predicts there will be 130 available models by 2026, offered by 43 brands. (Deloitte)<img alt=\"future ev models\" class=\"aligncenter size-full wp-image-19118\" height=\"225\" loading=\"lazy\" sizes=\"(max-width: 412px) 100vw, 412px\" src=\"https://www.findthebestcarprice.com/wp-content/uploads/future-ev-models.jpeg\" srcset=\"https://www.findthebestcarprice.com/wp-content/uploads/future-ev-models.jpeg 412w, https://www.findthebestcarprice.com/wp-content/uploads/future-ev-models-300x164.jpeg 300w\" width=\"412\"/></li>,\n",
       " <li>Hyundai's EV ambitions in the U.S. align with the expected pro-environmental policies of President-elect Joe Biden and even the new California policy of requiring all new cars sold in the state to be EVs by 2035. (AutoNews)</li>,\n",
       " <li>\"I think for us, it's (California’s 2035 mandate all new cars sold in the state be zero-emission vehicles) very good. We are just launching more battery EV cars, we have a plan to more than double [the models] in three years, so we are set for success.\" from CEO of Hyundai USA. (AutoNews)<img alt=\"zero emission target\" class=\"wp-image-19122 alignright\" height=\"192\" loading=\"lazy\" src=\"https://www.findthebestcarprice.com/wp-content/uploads/zero-emission-target.jpg\" width=\"143\"/></li>,\n",
       " <li>To date, 17 countries have announced 100% zero-emission vehicle targets or the phase-out of internal combustion engine vehicles through 2050. (IEA)</li>,\n",
       " <li>The vehicle (Ford Motor Co.'s 2022 E-Transit van) is part of Ford's $11.5 billion global bets on electrification. (AutoNews)</li>,\n",
       " <li>European emissions standards persuaded manufacturers to favor the production of zero-emissions, which has prompted the rise of BEVs in 2019 which accounted for 74% of global EV sales. In just one year, the percentage of BEVs increased by 6. (Deloitte)</li>,\n",
       " <li>EV sales demonstrate regional disparities. Sales of BEVs increased by 93% in Europe, 17% in China, and 22% in other regions. In the US, the market for BEVs fell by 2%. The speed of recovery after COVID-19 is also expected to vary by region. (Deloitte)<img alt=\"global bev sales\" class=\"aligncenter size-full wp-image-19119\" height=\"234\" loading=\"lazy\" sizes=\"(max-width: 679px) 100vw, 679px\" src=\"https://www.findthebestcarprice.com/wp-content/uploads/global-bev-sales.jpeg\" srcset=\"https://www.findthebestcarprice.com/wp-content/uploads/global-bev-sales.jpeg 679w, https://www.findthebestcarprice.com/wp-content/uploads/global-bev-sales-300x103.jpeg 300w\" width=\"679\"/></li>,\n",
       " <li>Within the next few years, Deloitte estimates some barriers for EVs will be obsolete. Specifically, the driving range is fast catching up to ICE vehicles, price is reaching parity (when considering subsidies), and the number of models available is increasing. (Deloitte)</li>,\n",
       " <li>Globally, the number of publicly accessible chargers (slow and fast) increased by 60% in 2019 compared to the previous year. (IEA)<img alt=\"chargers increase\" class=\"wp-image-19117 alignright\" height=\"179\" loading=\"lazy\" src=\"https://www.findthebestcarprice.com/wp-content/uploads/chargers-increase.jpg\" width=\"236\"/></li>,\n",
       " <li>China accounts for the largest share of global EV sales as it looks to reduce energy imports, clean up urban air quality, build its domestic auto industry, and attract manufacturing investment. (BNEF)</li>]"
      ]
     },
     "metadata": {},
     "execution_count": 13
    }
   ],
   "source": [
    "# Scrap list of stats\n",
    "ev_stat_soup = ev_soup.find(class_='siteorigin-widget-tinymce textwidget').find_all('li')\n",
    "ev_stat_soup"
   ]
  },
  {
   "source": [
    "# Transform (T) - Clean the data"
   ],
   "cell_type": "markdown",
   "metadata": {}
  },
  {
   "cell_type": "code",
   "execution_count": 14,
   "metadata": {},
   "outputs": [
    {
     "output_type": "execute_result",
     "data": {
      "text/plain": [
       "['EV costs are falling quickly: battery pack prices in 2019 were an average of $156/kWh, which is down from $1,100/kWh in 2010. 1 kWh = ~4 miles of range. (IEA)',\n",
       " 'The average pack size for a BEV/PHEV increased, up to 44 kWh in 2019 from 37 kWh in 2018. Battery electric vehicles in most countries are now in the 50-70 kWh range – or 200-280 miles of range per full charge. (IEA)',\n",
       " 'The national average of EV charging is $0.15 per kWh (which is $9 to fill up a Chevy Bolt EV – 250 miles). The low is $0.08 per kWh and the high is $0.27 per kWh. (NREL)',\n",
       " 'The lifetime fueling cost (15 years) for EVs is between $3,000 to $10,500 lower than the costs of a traditional gasoline-powered vehicle. (NREL)',\n",
       " 'The significant growth of EVs leading up to 2030 will present major opportunities and challenges for traditional original equipment manufacturers (OEMs), new-entrant OEMs, captive finance companies, and dealerships. (Deloitte)',\n",
       " 'After an encouraging start to 2019, falling fuel prices in the United States (a market that already enjoys comparatively cheap private transportation) led to the disappointing second half of the year for EV sales. (Deloitte)',\n",
       " 'In 2010, there were only 17,000 electric cars on the world’s roads. By 2019, there were 7.2 million, with 47% in China. (IEA)',\n",
       " 'The sales of battery-electric (BEV) and plug-in hybrid (PHEV) electric cars tipped over the two-million-vehicle mark for the first time in 2019. It is on track to hit 3% of global vehicle sales in 2020. (Deloitte)',\n",
       " 'The global electric vehicle market is dominated by major players such as Tesla (US), BYD (China), BMW (Germany), Volkswagen (Germany), and Nissan (Japan). (Markets and Markets)',\n",
       " 'Most EV sales in the US are in markets with some combination of the following: ZEV regulation, incentives, an extensive charging network, and city/utility promotions. (The ICCT)',\n",
       " 'Scheduled maintenance costs will be 40% lower for the E-Transit compared to the gas model over eight years or 100,000 miles. (AutoNews)',\n",
       " 'The United States EV market is almost singlehandedly being carried by the success of the Tesla Model 3 – which is responsible for almost half of all EV sales. (Deloitte)',\n",
       " 'Tesla set a record for EV deliveries in Q3 of 2020 (almost 140k vehicles sold), with the company estimating to hit half a million deliveries in 2020. This is a 36% increase over 2019 even with the current pandemic and the phasing out of federal tax incentives. (Tesla)',\n",
       " 'The top reasons that the US lags behind the rest of the world in terms of EV sales are a lack of government commitment to EVs, insufficient or unsuitable charging infrastructure, unavailability of EVs, and cultural differences regarding mobility models. (Deloitte)',\n",
       " 'In 2018 in the US, cost/price premium was the biggest barrier for entry for adopting EVs (26% in 2018 to 18% in 2020). In 2020, the biggest concern was the lack of electric vehicle charging infrastructure (22% in 2018 to 29% in 2020). (Deloitte)',\n",
       " 'In the Northeast, 83% of people surveyed believe that there are not enough charging stations available. (Drive Change Drive Electric)',\n",
       " '8 out of 10 people surveyed said they have concerns about the distance you can drive an electric vehicle before needing to recharge it. (Drive Change Drive Electric)',\n",
       " 'The top areas driving the market for consumers are technology (batteries improving), policies, economics, and companies accelerating investments in EVs. (BNEF)',\n",
       " 'Automakers should note, traditional features such as safety and design should not be overlooked. Consumer target needs must be understood; incentives are important to middle-class buyers. (IPSOS)',\n",
       " \"According to Ford's telematics data, commercial businesses use their vehicles for an average of 74 miles a day, well within the E-Transit's range, even after accounting for cold weather or heavy cargo loads. (AutoNews)\",\n",
       " 'Today’s consumer profile in the electric car market is evolving from early adopters and technophile purchasers to mass adoption. (IEA)',\n",
       " 'Millennials are more accepting of electric cars than Baby Boomers in the Northeast. 63% of Millennials consider an EV when shopping for a new vehicle, versus only 38% of Baby Boomers. (Drive Change Drive Electric)',\n",
       " 'Despite differences in electric car knowledge, both Millennials and Baby Boomers are eager to see more electric vehicles introduced. (Drive Change Drive Electric)',\n",
       " 'One of the biggest purchase motivators is incentives from the state or federal government. (Drive Change Drive Electric)',\n",
       " 'According to Julia Rege, senior director of environment and energy at the Global Association of Automakers, “to date, electric car sales have been dominated by Gen-X men. However, with two out of three Millennials considering an electric car for their next vehicle, we could see a substantial shift in the marketplace.”. (Smart Energy)',\n",
       " 'The results of the Drive Change Drive Electric study suggest that the technology revolution for EVs will be driven by Millennials. Additionally, Baby Boomers may take longer to learn about technology, but they will also come to participate in the change. (Drive Change Drive Electric)',\n",
       " 'Automakers can confidently target millennials, who have an early adoption attitude and broad tech knowledge. (IPSOS)',\n",
       " 'Deloitte’s global EV forecast is for a compound annual growth rate of 29% achieved over the next ten years. (Deloitte)',\n",
       " 'Automakers are accelerating their EV launch plans, partly to comply with increasingly stringent regulations in Europe and China. (BNEF)',\n",
       " 'By the end of 2022, Hyundai will have three new hybrid vehicles, two plug-in crossovers, three battery EVs, and the current Nexo fuel-cell crossover. (AutoNews)',\n",
       " 'In the United States, IHS Markit predicts there will be 130 available models by 2026, offered by 43 brands. (Deloitte)',\n",
       " \"Hyundai's EV ambitions in the U.S. align with the expected pro-environmental policies of President-elect Joe Biden and even the new California policy of requiring all new cars sold in the state to be EVs by 2035. (AutoNews)\",\n",
       " '\"I think for us, it\\'s (California’s 2035 mandate all new cars sold in the state be zero-emission vehicles) very good. We are just launching more battery EV cars, we have a plan to more than double [the models] in three years, so we are set for success.\" from CEO of Hyundai USA. (AutoNews)',\n",
       " 'To date, 17 countries have announced 100% zero-emission vehicle targets or the phase-out of internal combustion engine vehicles through 2050. (IEA)',\n",
       " \"The vehicle (Ford Motor Co.'s 2022 E-Transit van) is part of Ford's $11.5 billion global bets on electrification. (AutoNews)\",\n",
       " 'European emissions standards persuaded manufacturers to favor the production of zero-emissions, which has prompted the rise of BEVs in 2019 which accounted for 74% of global EV sales. In just one year, the percentage of BEVs increased by 6. (Deloitte)',\n",
       " 'EV sales demonstrate regional disparities. Sales of BEVs increased by 93% in Europe, 17% in China, and 22% in other regions. In the US, the market for BEVs fell by 2%. The speed of recovery after COVID-19 is also expected to vary by region. (Deloitte)',\n",
       " 'Within the next few years, Deloitte estimates some barriers for EVs will be obsolete. Specifically, the driving range is fast catching up to ICE vehicles, price is reaching parity (when considering subsidies), and the number of models available is increasing. (Deloitte)',\n",
       " 'Globally, the number of publicly accessible chargers (slow and fast) increased by 60% in 2019 compared to the previous year. (IEA)',\n",
       " 'China accounts for the largest share of global EV sales as it looks to reduce energy imports, clean up urban air quality, build its domestic auto industry, and attract manufacturing investment. (BNEF)']"
      ]
     },
     "metadata": {},
     "execution_count": 14
    }
   ],
   "source": [
    "# Get relevant random stats from list\n",
    "ev_stat_soup = ev_stat_soup[7:]\n",
    "ev_random_stats = []\n",
    "for stat in ev_stat_soup: ev_random_stats.append(stat.text)\n",
    "ev_random_stats"
   ]
  },
  {
   "source": [
    "# Load the data into MongoDB (L)"
   ],
   "cell_type": "markdown",
   "metadata": {}
  },
  {
   "cell_type": "code",
   "execution_count": 15,
   "metadata": {},
   "outputs": [],
   "source": [
    "#Connection string \n",
    "conn = 'mongodb://localhost:27017'#local host\n",
    "#Create pymongo object instance of connection to the new client\n",
    "client = pymongo.MongoClient(conn)\n",
    "\n",
    "# Define the 'electric_vehicles' database in Mongo\n",
    "db = client.electric_vehicles\n",
    "# Define new collections to load cleaned data into\n",
    "ev_random_stats_coll = db.ev_random_stats"
   ]
  },
  {
   "cell_type": "code",
   "execution_count": 16,
   "metadata": {},
   "outputs": [
    {
     "output_type": "execute_result",
     "data": {
      "text/plain": [
       "{'0': 'EV costs are falling quickly: battery pack prices in 2019 were an average of $156/kWh, which is down from $1,100/kWh in 2010. 1 kWh = ~4 miles of range. (IEA)',\n",
       " '1': 'The average pack size for a BEV/PHEV increased, up to 44 kWh in 2019 from 37 kWh in 2018. Battery electric vehicles in most countries are now in the 50-70 kWh range – or 200-280 miles of range per full charge. (IEA)',\n",
       " '2': 'The national average of EV charging is $0.15 per kWh (which is $9 to fill up a Chevy Bolt EV – 250 miles). The low is $0.08 per kWh and the high is $0.27 per kWh. (NREL)',\n",
       " '3': 'The lifetime fueling cost (15 years) for EVs is between $3,000 to $10,500 lower than the costs of a traditional gasoline-powered vehicle. (NREL)',\n",
       " '4': 'The significant growth of EVs leading up to 2030 will present major opportunities and challenges for traditional original equipment manufacturers (OEMs), new-entrant OEMs, captive finance companies, and dealerships. (Deloitte)',\n",
       " '5': 'After an encouraging start to 2019, falling fuel prices in the United States (a market that already enjoys comparatively cheap private transportation) led to the disappointing second half of the year for EV sales. (Deloitte)',\n",
       " '6': 'In 2010, there were only 17,000 electric cars on the world’s roads. By 2019, there were 7.2 million, with 47% in China. (IEA)',\n",
       " '7': 'The sales of battery-electric (BEV) and plug-in hybrid (PHEV) electric cars tipped over the two-million-vehicle mark for the first time in 2019. It is on track to hit 3% of global vehicle sales in 2020. (Deloitte)',\n",
       " '8': 'The global electric vehicle market is dominated by major players such as Tesla (US), BYD (China), BMW (Germany), Volkswagen (Germany), and Nissan (Japan). (Markets and Markets)',\n",
       " '9': 'Most EV sales in the US are in markets with some combination of the following: ZEV regulation, incentives, an extensive charging network, and city/utility promotions. (The ICCT)',\n",
       " '10': 'Scheduled maintenance costs will be 40% lower for the E-Transit compared to the gas model over eight years or 100,000 miles. (AutoNews)',\n",
       " '11': 'The United States EV market is almost singlehandedly being carried by the success of the Tesla Model 3 – which is responsible for almost half of all EV sales. (Deloitte)',\n",
       " '12': 'Tesla set a record for EV deliveries in Q3 of 2020 (almost 140k vehicles sold), with the company estimating to hit half a million deliveries in 2020. This is a 36% increase over 2019 even with the current pandemic and the phasing out of federal tax incentives. (Tesla)',\n",
       " '13': 'The top reasons that the US lags behind the rest of the world in terms of EV sales are a lack of government commitment to EVs, insufficient or unsuitable charging infrastructure, unavailability of EVs, and cultural differences regarding mobility models. (Deloitte)',\n",
       " '14': 'In 2018 in the US, cost/price premium was the biggest barrier for entry for adopting EVs (26% in 2018 to 18% in 2020). In 2020, the biggest concern was the lack of electric vehicle charging infrastructure (22% in 2018 to 29% in 2020). (Deloitte)',\n",
       " '15': 'In the Northeast, 83% of people surveyed believe that there are not enough charging stations available. (Drive Change Drive Electric)',\n",
       " '16': '8 out of 10 people surveyed said they have concerns about the distance you can drive an electric vehicle before needing to recharge it. (Drive Change Drive Electric)',\n",
       " '17': 'The top areas driving the market for consumers are technology (batteries improving), policies, economics, and companies accelerating investments in EVs. (BNEF)',\n",
       " '18': 'Automakers should note, traditional features such as safety and design should not be overlooked. Consumer target needs must be understood; incentives are important to middle-class buyers. (IPSOS)',\n",
       " '19': \"According to Ford's telematics data, commercial businesses use their vehicles for an average of 74 miles a day, well within the E-Transit's range, even after accounting for cold weather or heavy cargo loads. (AutoNews)\",\n",
       " '20': 'Today’s consumer profile in the electric car market is evolving from early adopters and technophile purchasers to mass adoption. (IEA)',\n",
       " '21': 'Millennials are more accepting of electric cars than Baby Boomers in the Northeast. 63% of Millennials consider an EV when shopping for a new vehicle, versus only 38% of Baby Boomers. (Drive Change Drive Electric)',\n",
       " '22': 'Despite differences in electric car knowledge, both Millennials and Baby Boomers are eager to see more electric vehicles introduced. (Drive Change Drive Electric)',\n",
       " '23': 'One of the biggest purchase motivators is incentives from the state or federal government. (Drive Change Drive Electric)',\n",
       " '24': 'According to Julia Rege, senior director of environment and energy at the Global Association of Automakers, “to date, electric car sales have been dominated by Gen-X men. However, with two out of three Millennials considering an electric car for their next vehicle, we could see a substantial shift in the marketplace.”. (Smart Energy)',\n",
       " '25': 'The results of the Drive Change Drive Electric study suggest that the technology revolution for EVs will be driven by Millennials. Additionally, Baby Boomers may take longer to learn about technology, but they will also come to participate in the change. (Drive Change Drive Electric)',\n",
       " '26': 'Automakers can confidently target millennials, who have an early adoption attitude and broad tech knowledge. (IPSOS)',\n",
       " '27': 'Deloitte’s global EV forecast is for a compound annual growth rate of 29% achieved over the next ten years. (Deloitte)',\n",
       " '28': 'Automakers are accelerating their EV launch plans, partly to comply with increasingly stringent regulations in Europe and China. (BNEF)',\n",
       " '29': 'By the end of 2022, Hyundai will have three new hybrid vehicles, two plug-in crossovers, three battery EVs, and the current Nexo fuel-cell crossover. (AutoNews)',\n",
       " '30': 'In the United States, IHS Markit predicts there will be 130 available models by 2026, offered by 43 brands. (Deloitte)',\n",
       " '31': \"Hyundai's EV ambitions in the U.S. align with the expected pro-environmental policies of President-elect Joe Biden and even the new California policy of requiring all new cars sold in the state to be EVs by 2035. (AutoNews)\",\n",
       " '32': '\"I think for us, it\\'s (California’s 2035 mandate all new cars sold in the state be zero-emission vehicles) very good. We are just launching more battery EV cars, we have a plan to more than double [the models] in three years, so we are set for success.\" from CEO of Hyundai USA. (AutoNews)',\n",
       " '33': 'To date, 17 countries have announced 100% zero-emission vehicle targets or the phase-out of internal combustion engine vehicles through 2050. (IEA)',\n",
       " '34': \"The vehicle (Ford Motor Co.'s 2022 E-Transit van) is part of Ford's $11.5 billion global bets on electrification. (AutoNews)\",\n",
       " '35': 'European emissions standards persuaded manufacturers to favor the production of zero-emissions, which has prompted the rise of BEVs in 2019 which accounted for 74% of global EV sales. In just one year, the percentage of BEVs increased by 6. (Deloitte)',\n",
       " '36': 'EV sales demonstrate regional disparities. Sales of BEVs increased by 93% in Europe, 17% in China, and 22% in other regions. In the US, the market for BEVs fell by 2%. The speed of recovery after COVID-19 is also expected to vary by region. (Deloitte)',\n",
       " '37': 'Within the next few years, Deloitte estimates some barriers for EVs will be obsolete. Specifically, the driving range is fast catching up to ICE vehicles, price is reaching parity (when considering subsidies), and the number of models available is increasing. (Deloitte)',\n",
       " '38': 'Globally, the number of publicly accessible chargers (slow and fast) increased by 60% in 2019 compared to the previous year. (IEA)',\n",
       " '39': 'China accounts for the largest share of global EV sales as it looks to reduce energy imports, clean up urban air quality, build its domestic auto industry, and attract manufacturing investment. (BNEF)'}"
      ]
     },
     "metadata": {},
     "execution_count": 16
    }
   ],
   "source": [
    "#Convert list to dict for MongoDb upload\n",
    "ev_random_stats_dict = {}\n",
    "for index, stat in enumerate(ev_random_stats): #enumerate exposes the index\n",
    "   ev_random_stats_dict[str(index)] = stat #key must be of type string to before being loaded in MongoDB\n",
    "ev_random_stats_dict"
   ]
  },
  {
   "cell_type": "code",
   "execution_count": 17,
   "metadata": {},
   "outputs": [
    {
     "output_type": "execute_result",
     "data": {
      "text/plain": [
       "<pymongo.results.InsertManyResult at 0x1d4ec69cc00>"
      ]
     },
     "metadata": {},
     "execution_count": 17
    }
   ],
   "source": [
    "#Clear collection of existing documents\n",
    "ev_random_stats_coll.delete_many({})\n",
    "# Insert new documents in empty collection \n",
    "ev_random_stats_coll.insert_many([ev_random_stats_dict]) # must be list of dicts"
   ]
  },
  {
   "cell_type": "code",
   "execution_count": 19,
   "metadata": {},
   "outputs": [
    {
     "output_type": "stream",
     "name": "stdout",
     "text": [
      "range(0, 10)\n"
     ]
    }
   ],
   "source": []
  },
  {
   "cell_type": "code",
   "execution_count": null,
   "metadata": {},
   "outputs": [],
   "source": []
  }
 ]
}