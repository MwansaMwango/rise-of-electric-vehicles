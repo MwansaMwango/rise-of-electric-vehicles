{
 "metadata": {
  "language_info": {
   "codemirror_mode": {
    "name": "ipython",
    "version": 3
   },
   "file_extension": ".py",
   "mimetype": "text/x-python",
   "name": "python",
   "nbconvert_exporter": "python",
   "pygments_lexer": "ipython3",
   "version": "3.8.5-final"
  },
  "orig_nbformat": 2,
  "kernelspec": {
   "name": "python385jvsc74a57bd02c3c5b7e521ed385cd317e5adc75c961fe301f41d1ed6ee19f28764a4ab100bf",
   "display_name": "Python 3.8.5 64-bit (conda)"
  }
 },
 "nbformat": 4,
 "nbformat_minor": 2,
 "cells": [
  {
   "cell_type": "code",
   "execution_count": 313,
   "metadata": {},
   "outputs": [],
   "source": [
    "#Import dependencies\n",
    "import pandas as pd\n",
    "import pymongo\n",
    "import json"
   ]
  },
  {
   "source": [
    "## (E) Extract - Scrape Raw Data from sources"
   ],
   "cell_type": "markdown",
   "metadata": {}
  },
  {
   "cell_type": "code",
   "execution_count": 314,
   "metadata": {},
   "outputs": [],
   "source": [
    "# Define url to scrape\n",
    "tesla_wiki_url = 'https://en.wikipedia.org/wiki/History_of_Tesla,_Inc.#Timeline_of_production_and_sales'\n"
   ]
  },
  {
   "cell_type": "code",
   "execution_count": 315,
   "metadata": {},
   "outputs": [
    {
     "output_type": "execute_result",
     "data": {
      "text/plain": [
       "                                                                                                                                                                                                                                                                                                                                                                                                                                                                                                                                                                                                \n",
       " 9   Deepak Ahuja (two-time CFO) Ze'ev Drori (secon...                                                                                                                                                                                                                                                                                                                                                                                                                                                                                                                                                                                                                                                                                                                                                                                                                                                                                                                      \n",
       " 10  Tesla Factory (Fremont, California) European d...                                                                                                                                                                                                                                                                                                                                                                                                                                                                                                                                                                                                                                                                                                                                                                                                                                                                                                                      \n",
       " 11  Criticism of Tesla Lawsuits (list) Dealership ...                                                                                                                                                                                                                                                                                                                                                                                                                                                                                                                                                                                                                                                                                                                                                                                                                                                                                                                      \n",
       " 12  History Timeline SolarCity Tesla Roadster in s...                                                                                                                                                                                                                                                                                                                                                                                                                                                                                                                                                                                                                                                                                                                                                                                                                                                                                                                      \n",
       " 13                                           Category                                                                                                                                                                                                                                                                                                                                                                                                                                                                                                                                                                                                                                                                                                                                                                                                                                                                                                                      \n",
       " \n",
       "    .mw-parser-output .navbar{display:inline;font-size:88%;font-weight:normal}.mw-parser-output .navbar-collapse{float:left;text-align:left}.mw-parser-output .navbar-boxtext{word-spacing:0}.mw-parser-output .navbar ul{display:inline-block;white-space:nowrap;line-height:inherit}.mw-parser-output .navbar-brackets::before{margin-right:-0.125em;content:\"[ \"}.mw-parser-output .navbar-brackets::after{margin-left:-0.125em;content:\" ]\"}.mw-parser-output .navbar li{word-spacing:-0.125em}.mw-parser-output .navbar-mini abbr{font-variant:small-caps;border-bottom:none;text-decoration:none;cursor:inherit}.mw-parser-output .navbar-ct-full{font-size:114%;margin:0 7em}.mw-parser-output .navbar-ct-mini{font-size:114%;margin:0 4em}.mw-parser-output .infobox .navbar{font-size:100%}.mw-parser-output .navbox .navbar{display:block;font-size:100%}.mw-parser-output .navbox-title .navbar{float:left;text-align:left;margin-right:0.5em}vteTesla, Inc..2  \n",
       " 0                                                 NaN                                                                                                                                                                                                                                                                                                                                                                                                                                                                                                                                                                                                                                                                                                                                                                                                                                                                                                                     \n",
       " 1                                                 NaN                                                                                                                                                                                                                                                                                                                                                                                                                                                                                                                                                                                                                                                                                                                                                                                                                                                                                                                     \n",
       " 2                                                 NaN                                                                                                                                                                                                                                                                                                                                                                                                                                                                                                                                                                                                                                                                                                                                                                                                                                                                                                                     \n",
       " 3                                                 NaN                                                                                                                                                                                                                                                                                                                                                                                                                                                                                                                                                                                                                                                                                                                                                                                                                                                                                                                     \n",
       " 4                                                 NaN                                                                                                                                                                                                                                                                                                                                                                                                                                                                                                                                                                                                                                                                                                                                                                                                                                                                                                                     \n",
       " 5                                                 NaN                                                                                                                                                                                                                                                                                                                                                                                                                                                                                                                                                                                                                                                                                                                                                                                                                                                                                                                     \n",
       " 6                                                 NaN                                                                                                                                                                                                                                                                                                                                                                                                                                                                                                                                                                                                                                                                                                                                                                                                                                                                                                                     \n",
       " 7                                                 NaN                                                                                                                                                                                                                                                                                                                                                                                                                                                                                                                                                                                                                                                                                                                                                                                                                                                                                                                     \n",
       " 8                                                 NaN                                                                                                                                                                                                                                                                                                                                                                                                                                                                                                                                                                                                                                                                                                                                                                                                                                                                                                                     \n",
       " 9                                                 NaN                                                                                                                                                                                                                                                                                                                                                                                                                                                                                                                                                                                                                                                                                                                                                                                                                                                                                                                     \n",
       " 10                                                NaN                                                                                                                                                                                                                                                                                                                                                                                                                                                                                                                                                                                                                                                                                                                                                                                                                                                                                                                     \n",
       " 11                                                NaN                                                                                                                                                                                                                                                                                                                                                                                                                                                                                                                                                                                                                                                                                                                                                                                                                                                                                                                     \n",
       " 12                                                NaN                                                                                                                                                                                                                                                                                                                                                                                                                                                                                                                                                                                                                                                                                                                                                                                                                                                                                                                     \n",
       " 13                                           Category                                                                                                                                                                                                                                                                                                                                                                                                                                                                                                                                                                                                                                                                                                                                                                                                                                                                                                                     ,\n",
       "                 0                                                  1\n",
       " 0         Current                    Model S Model 3 Model X Model Y\n",
       " 1          Future  Cybertruck ATV/Cyberquad Roadster (2nd generat...\n",
       " 2    Discontinued                          Roadster (1st generation)\n",
       " 3  Joint projects  Mercedes A-Class E-Cell Mercedes-Benz B-Class ...,\n",
       "             0                                                  1\n",
       " 0  Executives  Robyn Denholm (Chairman) Elon Musk (CEO) Zach ...\n",
       " 1      Others  Larry Ellison (board) Hiromichi Mizuno (board)...\n",
       " 2      Former  Deepak Ahuja (two-time CFO) Ze'ev Drori (secon...]"
      ]
     },
     "metadata": {},
     "execution_count": 315
    }
   ],
   "source": [
    "# Use Panda's `read_html` to parse the url\n",
    "tables = pd.read_html(tesla_wiki_url)\n",
    "tables"
   ]
  },
  {
   "cell_type": "code",
   "execution_count": 316,
   "metadata": {},
   "outputs": [
    {
     "output_type": "execute_result",
     "data": {
      "text/plain": [
       "   Quarter Cumulativeproduction Totalproduction Model Ssales Model Xsales  \\\n",
       "0  Q3 2012                  NaN             350         250+          NaN   \n",
       "1  Q4 2012                  NaN          2,750+         2400          NaN   \n",
       "2  Q1 2013                  NaN          5,000+         4900          NaN   \n",
       "3  Q2 2013                  NaN             NaN         5150          NaN   \n",
       "4  Q3 2013                  NaN             NaN       5,500+          NaN   \n",
       "\n",
       "   Model 3sales  Model Ysales[a] Totalsales[b] In transit[c] Source  \n",
       "0           NaN              NaN          250+           NaN  [187]  \n",
       "1           NaN              NaN          2400           NaN  [188]  \n",
       "2           NaN              NaN          4900           NaN  [189]  \n",
       "3           NaN              NaN          5150           NaN  [190]  \n",
       "4           NaN              NaN        5,500+           NaN  [191]  "
      ],
      "text/html": "<div>\n<style scoped>\n    .dataframe tbody tr th:only-of-type {\n        vertical-align: middle;\n    }\n\n    .dataframe tbody tr th {\n        vertical-align: top;\n    }\n\n    .dataframe thead th {\n        text-align: right;\n    }\n</style>\n<table border=\"1\" class=\"dataframe\">\n  <thead>\n    <tr style=\"text-align: right;\">\n      <th></th>\n      <th>Quarter</th>\n      <th>Cumulativeproduction</th>\n      <th>Totalproduction</th>\n      <th>Model Ssales</th>\n      <th>Model Xsales</th>\n      <th>Model 3sales</th>\n      <th>Model Ysales[a]</th>\n      <th>Totalsales[b]</th>\n      <th>In transit[c]</th>\n      <th>Source</th>\n    </tr>\n  </thead>\n  <tbody>\n    <tr>\n      <th>0</th>\n      <td>Q3 2012</td>\n      <td>NaN</td>\n      <td>350</td>\n      <td>250+</td>\n      <td>NaN</td>\n      <td>NaN</td>\n      <td>NaN</td>\n      <td>250+</td>\n      <td>NaN</td>\n      <td>[187]</td>\n    </tr>\n    <tr>\n      <th>1</th>\n      <td>Q4 2012</td>\n      <td>NaN</td>\n      <td>2,750+</td>\n      <td>2400</td>\n      <td>NaN</td>\n      <td>NaN</td>\n      <td>NaN</td>\n      <td>2400</td>\n      <td>NaN</td>\n      <td>[188]</td>\n    </tr>\n    <tr>\n      <th>2</th>\n      <td>Q1 2013</td>\n      <td>NaN</td>\n      <td>5,000+</td>\n      <td>4900</td>\n      <td>NaN</td>\n      <td>NaN</td>\n      <td>NaN</td>\n      <td>4900</td>\n      <td>NaN</td>\n      <td>[189]</td>\n    </tr>\n    <tr>\n      <th>3</th>\n      <td>Q2 2013</td>\n      <td>NaN</td>\n      <td>NaN</td>\n      <td>5150</td>\n      <td>NaN</td>\n      <td>NaN</td>\n      <td>NaN</td>\n      <td>5150</td>\n      <td>NaN</td>\n      <td>[190]</td>\n    </tr>\n    <tr>\n      <th>4</th>\n      <td>Q3 2013</td>\n      <td>NaN</td>\n      <td>NaN</td>\n      <td>5,500+</td>\n      <td>NaN</td>\n      <td>NaN</td>\n      <td>NaN</td>\n      <td>5,500+</td>\n      <td>NaN</td>\n      <td>[191]</td>\n    </tr>\n  </tbody>\n</table>\n</div>"
     },
     "metadata": {},
     "execution_count": 316
    }
   ],
   "source": [
    "#Select table regarding Total Tesla production and sales since 2012\n",
    "tesla_prod_df = tables[4]\n",
    "tesla_prod_df.head()"
   ]
  },
  {
   "source": [
    "## (T) Transform - Clean Data"
   ],
   "cell_type": "markdown",
   "metadata": {}
  },
  {
   "cell_type": "code",
   "execution_count": 317,
   "metadata": {},
   "outputs": [
    {
     "output_type": "execute_result",
     "data": {
      "text/plain": [
       "   Quarter Cumulativeproduction Totalproduction Model Ssales Model Xsales  \\\n",
       "0  Q3 2012                    0             350         250+            0   \n",
       "1  Q4 2012                    0          2,750+         2400            0   \n",
       "2  Q1 2013                    0          5,000+         4900            0   \n",
       "3  Q2 2013                    0               0         5150            0   \n",
       "4  Q3 2013                    0               0       5,500+            0   \n",
       "\n",
       "   Model 3sales  Model Ysales[a] Totalsales[b] In transit[c] Source  \n",
       "0           0.0              0.0          250+             0  [187]  \n",
       "1           0.0              0.0          2400             0  [188]  \n",
       "2           0.0              0.0          4900             0  [189]  \n",
       "3           0.0              0.0          5150             0  [190]  \n",
       "4           0.0              0.0        5,500+             0  [191]  "
      ],
      "text/html": "<div>\n<style scoped>\n    .dataframe tbody tr th:only-of-type {\n        vertical-align: middle;\n    }\n\n    .dataframe tbody tr th {\n        vertical-align: top;\n    }\n\n    .dataframe thead th {\n        text-align: right;\n    }\n</style>\n<table border=\"1\" class=\"dataframe\">\n  <thead>\n    <tr style=\"text-align: right;\">\n      <th></th>\n      <th>Quarter</th>\n      <th>Cumulativeproduction</th>\n      <th>Totalproduction</th>\n      <th>Model Ssales</th>\n      <th>Model Xsales</th>\n      <th>Model 3sales</th>\n      <th>Model Ysales[a]</th>\n      <th>Totalsales[b]</th>\n      <th>In transit[c]</th>\n      <th>Source</th>\n    </tr>\n  </thead>\n  <tbody>\n    <tr>\n      <th>0</th>\n      <td>Q3 2012</td>\n      <td>0</td>\n      <td>350</td>\n      <td>250+</td>\n      <td>0</td>\n      <td>0.0</td>\n      <td>0.0</td>\n      <td>250+</td>\n      <td>0</td>\n      <td>[187]</td>\n    </tr>\n    <tr>\n      <th>1</th>\n      <td>Q4 2012</td>\n      <td>0</td>\n      <td>2,750+</td>\n      <td>2400</td>\n      <td>0</td>\n      <td>0.0</td>\n      <td>0.0</td>\n      <td>2400</td>\n      <td>0</td>\n      <td>[188]</td>\n    </tr>\n    <tr>\n      <th>2</th>\n      <td>Q1 2013</td>\n      <td>0</td>\n      <td>5,000+</td>\n      <td>4900</td>\n      <td>0</td>\n      <td>0.0</td>\n      <td>0.0</td>\n      <td>4900</td>\n      <td>0</td>\n      <td>[189]</td>\n    </tr>\n    <tr>\n      <th>3</th>\n      <td>Q2 2013</td>\n      <td>0</td>\n      <td>0</td>\n      <td>5150</td>\n      <td>0</td>\n      <td>0.0</td>\n      <td>0.0</td>\n      <td>5150</td>\n      <td>0</td>\n      <td>[190]</td>\n    </tr>\n    <tr>\n      <th>4</th>\n      <td>Q3 2013</td>\n      <td>0</td>\n      <td>0</td>\n      <td>5,500+</td>\n      <td>0</td>\n      <td>0.0</td>\n      <td>0.0</td>\n      <td>5,500+</td>\n      <td>0</td>\n      <td>[191]</td>\n    </tr>\n  </tbody>\n</table>\n</div>"
     },
     "metadata": {},
     "execution_count": 317
    }
   ],
   "source": [
    "# Replace/Fill NaN entries with '0'\n",
    "tesla_prod_clean_df = tesla_prod_df.fillna(0)\n",
    "tesla_prod_clean_df.head()"
   ]
  },
  {
   "cell_type": "code",
   "execution_count": 318,
   "metadata": {},
   "outputs": [
    {
     "output_type": "execute_result",
     "data": {
      "text/plain": [
       "   Quarter Cumulativeproduction Totalproduction Model Ssales Model Xsales  \\\n",
       "0  Q3 2012                    0             350         250+            0   \n",
       "1  Q4 2012                    0          2,750+         2400            0   \n",
       "2  Q1 2013                    0          5,000+         4900            0   \n",
       "3  Q2 2013                    0               0         5150            0   \n",
       "4  Q3 2013                    0               0       5,500+            0   \n",
       "\n",
       "   Model 3sales  Model Ysales[a] Totalsales[b]  \n",
       "0           0.0              0.0          250+  \n",
       "1           0.0              0.0          2400  \n",
       "2           0.0              0.0          4900  \n",
       "3           0.0              0.0          5150  \n",
       "4           0.0              0.0        5,500+  "
      ],
      "text/html": "<div>\n<style scoped>\n    .dataframe tbody tr th:only-of-type {\n        vertical-align: middle;\n    }\n\n    .dataframe tbody tr th {\n        vertical-align: top;\n    }\n\n    .dataframe thead th {\n        text-align: right;\n    }\n</style>\n<table border=\"1\" class=\"dataframe\">\n  <thead>\n    <tr style=\"text-align: right;\">\n      <th></th>\n      <th>Quarter</th>\n      <th>Cumulativeproduction</th>\n      <th>Totalproduction</th>\n      <th>Model Ssales</th>\n      <th>Model Xsales</th>\n      <th>Model 3sales</th>\n      <th>Model Ysales[a]</th>\n      <th>Totalsales[b]</th>\n    </tr>\n  </thead>\n  <tbody>\n    <tr>\n      <th>0</th>\n      <td>Q3 2012</td>\n      <td>0</td>\n      <td>350</td>\n      <td>250+</td>\n      <td>0</td>\n      <td>0.0</td>\n      <td>0.0</td>\n      <td>250+</td>\n    </tr>\n    <tr>\n      <th>1</th>\n      <td>Q4 2012</td>\n      <td>0</td>\n      <td>2,750+</td>\n      <td>2400</td>\n      <td>0</td>\n      <td>0.0</td>\n      <td>0.0</td>\n      <td>2400</td>\n    </tr>\n    <tr>\n      <th>2</th>\n      <td>Q1 2013</td>\n      <td>0</td>\n      <td>5,000+</td>\n      <td>4900</td>\n      <td>0</td>\n      <td>0.0</td>\n      <td>0.0</td>\n      <td>4900</td>\n    </tr>\n    <tr>\n      <th>3</th>\n      <td>Q2 2013</td>\n      <td>0</td>\n      <td>0</td>\n      <td>5150</td>\n      <td>0</td>\n      <td>0.0</td>\n      <td>0.0</td>\n      <td>5150</td>\n    </tr>\n    <tr>\n      <th>4</th>\n      <td>Q3 2013</td>\n      <td>0</td>\n      <td>0</td>\n      <td>5,500+</td>\n      <td>0</td>\n      <td>0.0</td>\n      <td>0.0</td>\n      <td>5,500+</td>\n    </tr>\n  </tbody>\n</table>\n</div>"
     },
     "metadata": {},
     "execution_count": 318
    }
   ],
   "source": [
    "# Drop irrelevant columns. axis=0:row axis = 1:column\n",
    "tesla_prod_clean_df = tesla_prod_clean_df.drop(['Source', 'In transit[c]'], axis=1) \n",
    "tesla_prod_clean_df.head()"
   ]
  },
  {
   "cell_type": "code",
   "execution_count": 319,
   "metadata": {},
   "outputs": [
    {
     "output_type": "execute_result",
     "data": {
      "text/plain": [
       "       Quarter Cumulative_Prod Total_Prod Model_S_Sales ModelX_Sales  \\\n",
       "0      Q3 2012               0        350          250+            0   \n",
       "1      Q4 2012               0     2,750+          2400            0   \n",
       "2      Q1 2013               0     5,000+          4900            0   \n",
       "3      Q2 2013               0          0          5150            0   \n",
       "4      Q3 2013               0          0        5,500+            0   \n",
       "5      Q4 2013         ~34,851       6587          6892            0   \n",
       "6      Q1 2014         ~41,438       7535          6457            0   \n",
       "7      Q2 2014         ~48,973       8763          7579            0   \n",
       "8      Q3 2014         ~57,736     ~7,075          7785            0   \n",
       "9      Q4 2014           64811      11627          9834            0   \n",
       "10     Q1 2015           76438      11160         10045            0   \n",
       "11     Q2 2015           89245      12807         11532            0   \n",
       "12     Q3 2015          102336      13091         11597            6   \n",
       "13     Q4 2015          116373      14037         17272          206   \n",
       "14     Q1 2016          131883      15510         12420         2400   \n",
       "15     Q2 2016          150228      18345          9764         4638   \n",
       "16     Q3 2016          175413      25185         16047         8774   \n",
       "17  Q4 2016[d]          200295      24882         12700         9500   \n",
       "18     Q1 2017          225713      25418       ~13,450      ~11,550   \n",
       "19     Q2 2017          251421      25708       ~12,000      ~10,000   \n",
       "20     Q3 2017          276757      25336         14065        11865   \n",
       "21     Q4 2017          301322      24565       ~15,200      ~13,120   \n",
       "22     Q1 2018          335816      34494         11730        10070   \n",
       "23     Q2 2018          389155      53339         10930        11370   \n",
       "24     Q3 2018          469297      80142         14470        13190   \n",
       "25     Q4 2018          555852      86555         13500        14050   \n",
       "26     Q1 2019          632952      77100         12100        12100   \n",
       "27     Q2 2019          720000      87048         17650        17650   \n",
       "28     Q3 2019          816155      96155         17483        17483   \n",
       "29     Q4 2019          921046     104891         19475        19475   \n",
       "30     Q1 2020         1023718     102672         12230        12230   \n",
       "31     Q2 2020         1105990      82272         10614        10614   \n",
       "32     Q3 2020         1251026     145036         15275        15275   \n",
       "33     Q4 2020         1430783     179757         18966        18966   \n",
       "34     Q1 2021         1611121     180338      2,020[e]     2,020[e]   \n",
       "\n",
       "    Model_3_Sales  Model_Y_Sales Total_Sales  \n",
       "0             0.0            0.0        250+  \n",
       "1             0.0            0.0        2400  \n",
       "2             0.0            0.0        4900  \n",
       "3             0.0            0.0        5150  \n",
       "4             0.0            0.0      5,500+  \n",
       "5             0.0            0.0        6892  \n",
       "6             0.0            0.0        6457  \n",
       "7             0.0            0.0        7579  \n",
       "8             0.0            0.0        7785  \n",
       "9             0.0            0.0        9834  \n",
       "10            0.0            0.0       10045  \n",
       "11            0.0            0.0       11532  \n",
       "12            0.0            0.0       11603  \n",
       "13            0.0            0.0       17478  \n",
       "14            0.0            0.0       14820  \n",
       "15            0.0            0.0       14402  \n",
       "16            0.0            0.0       24821  \n",
       "17            0.0            0.0       22254  \n",
       "18            0.0            0.0       25051  \n",
       "19            0.0            0.0       22026  \n",
       "20          222.0            0.0       26137  \n",
       "21         1542.0            0.0       29967  \n",
       "22         8182.0            0.0       29997  \n",
       "23        18440.0            0.0       40740  \n",
       "24        56065.0            0.0       83725  \n",
       "25        63359.0            0.0       90700  \n",
       "26        50900.0            0.0       63000  \n",
       "27        77550.0            0.0       95200  \n",
       "28        79703.0            0.0       97186  \n",
       "29        92620.0            0.0      112095  \n",
       "30        76266.0        76266.0       88496  \n",
       "31        80277.0        80277.0       90891  \n",
       "32       124318.0       124318.0      139593  \n",
       "33       161701.0       161701.0      180667  \n",
       "34       182780.0       182780.0      184800  "
      ],
      "text/html": "<div>\n<style scoped>\n    .dataframe tbody tr th:only-of-type {\n        vertical-align: middle;\n    }\n\n    .dataframe tbody tr th {\n        vertical-align: top;\n    }\n\n    .dataframe thead th {\n        text-align: right;\n    }\n</style>\n<table border=\"1\" class=\"dataframe\">\n  <thead>\n    <tr style=\"text-align: right;\">\n      <th></th>\n      <th>Quarter</th>\n      <th>Cumulative_Prod</th>\n      <th>Total_Prod</th>\n      <th>Model_S_Sales</th>\n      <th>ModelX_Sales</th>\n      <th>Model_3_Sales</th>\n      <th>Model_Y_Sales</th>\n      <th>Total_Sales</th>\n    </tr>\n  </thead>\n  <tbody>\n    <tr>\n      <th>0</th>\n      <td>Q3 2012</td>\n      <td>0</td>\n      <td>350</td>\n      <td>250+</td>\n      <td>0</td>\n      <td>0.0</td>\n      <td>0.0</td>\n      <td>250+</td>\n    </tr>\n    <tr>\n      <th>1</th>\n      <td>Q4 2012</td>\n      <td>0</td>\n      <td>2,750+</td>\n      <td>2400</td>\n      <td>0</td>\n      <td>0.0</td>\n      <td>0.0</td>\n      <td>2400</td>\n    </tr>\n    <tr>\n      <th>2</th>\n      <td>Q1 2013</td>\n      <td>0</td>\n      <td>5,000+</td>\n      <td>4900</td>\n      <td>0</td>\n      <td>0.0</td>\n      <td>0.0</td>\n      <td>4900</td>\n    </tr>\n    <tr>\n      <th>3</th>\n      <td>Q2 2013</td>\n      <td>0</td>\n      <td>0</td>\n      <td>5150</td>\n      <td>0</td>\n      <td>0.0</td>\n      <td>0.0</td>\n      <td>5150</td>\n    </tr>\n    <tr>\n      <th>4</th>\n      <td>Q3 2013</td>\n      <td>0</td>\n      <td>0</td>\n      <td>5,500+</td>\n      <td>0</td>\n      <td>0.0</td>\n      <td>0.0</td>\n      <td>5,500+</td>\n    </tr>\n    <tr>\n      <th>5</th>\n      <td>Q4 2013</td>\n      <td>~34,851</td>\n      <td>6587</td>\n      <td>6892</td>\n      <td>0</td>\n      <td>0.0</td>\n      <td>0.0</td>\n      <td>6892</td>\n    </tr>\n    <tr>\n      <th>6</th>\n      <td>Q1 2014</td>\n      <td>~41,438</td>\n      <td>7535</td>\n      <td>6457</td>\n      <td>0</td>\n      <td>0.0</td>\n      <td>0.0</td>\n      <td>6457</td>\n    </tr>\n    <tr>\n      <th>7</th>\n      <td>Q2 2014</td>\n      <td>~48,973</td>\n      <td>8763</td>\n      <td>7579</td>\n      <td>0</td>\n      <td>0.0</td>\n      <td>0.0</td>\n      <td>7579</td>\n    </tr>\n    <tr>\n      <th>8</th>\n      <td>Q3 2014</td>\n      <td>~57,736</td>\n      <td>~7,075</td>\n      <td>7785</td>\n      <td>0</td>\n      <td>0.0</td>\n      <td>0.0</td>\n      <td>7785</td>\n    </tr>\n    <tr>\n      <th>9</th>\n      <td>Q4 2014</td>\n      <td>64811</td>\n      <td>11627</td>\n      <td>9834</td>\n      <td>0</td>\n      <td>0.0</td>\n      <td>0.0</td>\n      <td>9834</td>\n    </tr>\n    <tr>\n      <th>10</th>\n      <td>Q1 2015</td>\n      <td>76438</td>\n      <td>11160</td>\n      <td>10045</td>\n      <td>0</td>\n      <td>0.0</td>\n      <td>0.0</td>\n      <td>10045</td>\n    </tr>\n    <tr>\n      <th>11</th>\n      <td>Q2 2015</td>\n      <td>89245</td>\n      <td>12807</td>\n      <td>11532</td>\n      <td>0</td>\n      <td>0.0</td>\n      <td>0.0</td>\n      <td>11532</td>\n    </tr>\n    <tr>\n      <th>12</th>\n      <td>Q3 2015</td>\n      <td>102336</td>\n      <td>13091</td>\n      <td>11597</td>\n      <td>6</td>\n      <td>0.0</td>\n      <td>0.0</td>\n      <td>11603</td>\n    </tr>\n    <tr>\n      <th>13</th>\n      <td>Q4 2015</td>\n      <td>116373</td>\n      <td>14037</td>\n      <td>17272</td>\n      <td>206</td>\n      <td>0.0</td>\n      <td>0.0</td>\n      <td>17478</td>\n    </tr>\n    <tr>\n      <th>14</th>\n      <td>Q1 2016</td>\n      <td>131883</td>\n      <td>15510</td>\n      <td>12420</td>\n      <td>2400</td>\n      <td>0.0</td>\n      <td>0.0</td>\n      <td>14820</td>\n    </tr>\n    <tr>\n      <th>15</th>\n      <td>Q2 2016</td>\n      <td>150228</td>\n      <td>18345</td>\n      <td>9764</td>\n      <td>4638</td>\n      <td>0.0</td>\n      <td>0.0</td>\n      <td>14402</td>\n    </tr>\n    <tr>\n      <th>16</th>\n      <td>Q3 2016</td>\n      <td>175413</td>\n      <td>25185</td>\n      <td>16047</td>\n      <td>8774</td>\n      <td>0.0</td>\n      <td>0.0</td>\n      <td>24821</td>\n    </tr>\n    <tr>\n      <th>17</th>\n      <td>Q4 2016[d]</td>\n      <td>200295</td>\n      <td>24882</td>\n      <td>12700</td>\n      <td>9500</td>\n      <td>0.0</td>\n      <td>0.0</td>\n      <td>22254</td>\n    </tr>\n    <tr>\n      <th>18</th>\n      <td>Q1 2017</td>\n      <td>225713</td>\n      <td>25418</td>\n      <td>~13,450</td>\n      <td>~11,550</td>\n      <td>0.0</td>\n      <td>0.0</td>\n      <td>25051</td>\n    </tr>\n    <tr>\n      <th>19</th>\n      <td>Q2 2017</td>\n      <td>251421</td>\n      <td>25708</td>\n      <td>~12,000</td>\n      <td>~10,000</td>\n      <td>0.0</td>\n      <td>0.0</td>\n      <td>22026</td>\n    </tr>\n    <tr>\n      <th>20</th>\n      <td>Q3 2017</td>\n      <td>276757</td>\n      <td>25336</td>\n      <td>14065</td>\n      <td>11865</td>\n      <td>222.0</td>\n      <td>0.0</td>\n      <td>26137</td>\n    </tr>\n    <tr>\n      <th>21</th>\n      <td>Q4 2017</td>\n      <td>301322</td>\n      <td>24565</td>\n      <td>~15,200</td>\n      <td>~13,120</td>\n      <td>1542.0</td>\n      <td>0.0</td>\n      <td>29967</td>\n    </tr>\n    <tr>\n      <th>22</th>\n      <td>Q1 2018</td>\n      <td>335816</td>\n      <td>34494</td>\n      <td>11730</td>\n      <td>10070</td>\n      <td>8182.0</td>\n      <td>0.0</td>\n      <td>29997</td>\n    </tr>\n    <tr>\n      <th>23</th>\n      <td>Q2 2018</td>\n      <td>389155</td>\n      <td>53339</td>\n      <td>10930</td>\n      <td>11370</td>\n      <td>18440.0</td>\n      <td>0.0</td>\n      <td>40740</td>\n    </tr>\n    <tr>\n      <th>24</th>\n      <td>Q3 2018</td>\n      <td>469297</td>\n      <td>80142</td>\n      <td>14470</td>\n      <td>13190</td>\n      <td>56065.0</td>\n      <td>0.0</td>\n      <td>83725</td>\n    </tr>\n    <tr>\n      <th>25</th>\n      <td>Q4 2018</td>\n      <td>555852</td>\n      <td>86555</td>\n      <td>13500</td>\n      <td>14050</td>\n      <td>63359.0</td>\n      <td>0.0</td>\n      <td>90700</td>\n    </tr>\n    <tr>\n      <th>26</th>\n      <td>Q1 2019</td>\n      <td>632952</td>\n      <td>77100</td>\n      <td>12100</td>\n      <td>12100</td>\n      <td>50900.0</td>\n      <td>0.0</td>\n      <td>63000</td>\n    </tr>\n    <tr>\n      <th>27</th>\n      <td>Q2 2019</td>\n      <td>720000</td>\n      <td>87048</td>\n      <td>17650</td>\n      <td>17650</td>\n      <td>77550.0</td>\n      <td>0.0</td>\n      <td>95200</td>\n    </tr>\n    <tr>\n      <th>28</th>\n      <td>Q3 2019</td>\n      <td>816155</td>\n      <td>96155</td>\n      <td>17483</td>\n      <td>17483</td>\n      <td>79703.0</td>\n      <td>0.0</td>\n      <td>97186</td>\n    </tr>\n    <tr>\n      <th>29</th>\n      <td>Q4 2019</td>\n      <td>921046</td>\n      <td>104891</td>\n      <td>19475</td>\n      <td>19475</td>\n      <td>92620.0</td>\n      <td>0.0</td>\n      <td>112095</td>\n    </tr>\n    <tr>\n      <th>30</th>\n      <td>Q1 2020</td>\n      <td>1023718</td>\n      <td>102672</td>\n      <td>12230</td>\n      <td>12230</td>\n      <td>76266.0</td>\n      <td>76266.0</td>\n      <td>88496</td>\n    </tr>\n    <tr>\n      <th>31</th>\n      <td>Q2 2020</td>\n      <td>1105990</td>\n      <td>82272</td>\n      <td>10614</td>\n      <td>10614</td>\n      <td>80277.0</td>\n      <td>80277.0</td>\n      <td>90891</td>\n    </tr>\n    <tr>\n      <th>32</th>\n      <td>Q3 2020</td>\n      <td>1251026</td>\n      <td>145036</td>\n      <td>15275</td>\n      <td>15275</td>\n      <td>124318.0</td>\n      <td>124318.0</td>\n      <td>139593</td>\n    </tr>\n    <tr>\n      <th>33</th>\n      <td>Q4 2020</td>\n      <td>1430783</td>\n      <td>179757</td>\n      <td>18966</td>\n      <td>18966</td>\n      <td>161701.0</td>\n      <td>161701.0</td>\n      <td>180667</td>\n    </tr>\n    <tr>\n      <th>34</th>\n      <td>Q1 2021</td>\n      <td>1611121</td>\n      <td>180338</td>\n      <td>2,020[e]</td>\n      <td>2,020[e]</td>\n      <td>182780.0</td>\n      <td>182780.0</td>\n      <td>184800</td>\n    </tr>\n  </tbody>\n</table>\n</div>"
     },
     "metadata": {},
     "execution_count": 319
    }
   ],
   "source": [
    "# Rename column names\n",
    "tesla_prod_clean_df.columns = ['Quarter','Cumulative_Prod','Total_Prod','Model_S_Sales','ModelX_Sales','Model_3_Sales','Model_Y_Sales','Total_Sales']\n",
    "tesla_prod_clean_df\n"
   ]
  },
  {
   "cell_type": "code",
   "execution_count": 320,
   "metadata": {},
   "outputs": [
    {
     "output_type": "execute_result",
     "data": {
      "text/plain": [
       "       Quarter Cumulative_Prod Total_Prod Model_S_Sales ModelX_Sales  \\\n",
       "0      Q3 2012               0        350           250            0   \n",
       "1      Q4 2012               0       2750          2400            0   \n",
       "2      Q1 2013               0       5000          4900            0   \n",
       "3      Q2 2013               0          0          5150            0   \n",
       "4      Q3 2013               0          0          5500            0   \n",
       "5      Q4 2013           34851       6587          6892            0   \n",
       "6      Q1 2014           41438       7535          6457            0   \n",
       "7      Q2 2014           48973       8763          7579            0   \n",
       "8      Q3 2014           57736       7075          7785            0   \n",
       "9      Q4 2014           64811      11627          9834            0   \n",
       "10     Q1 2015           76438      11160         10045            0   \n",
       "11     Q2 2015           89245      12807         11532            0   \n",
       "12     Q3 2015          102336      13091         11597            6   \n",
       "13     Q4 2015          116373      14037         17272          206   \n",
       "14     Q1 2016          131883      15510         12420         2400   \n",
       "15     Q2 2016          150228      18345          9764         4638   \n",
       "16     Q3 2016          175413      25185         16047         8774   \n",
       "17  Q4 2016[d]          200295      24882         12700         9500   \n",
       "18     Q1 2017          225713      25418         13450        11550   \n",
       "19     Q2 2017          251421      25708         12000        10000   \n",
       "20     Q3 2017          276757      25336         14065        11865   \n",
       "21     Q4 2017          301322      24565         15200        13120   \n",
       "22     Q1 2018          335816      34494         11730        10070   \n",
       "23     Q2 2018          389155      53339         10930        11370   \n",
       "24     Q3 2018          469297      80142         14470        13190   \n",
       "25     Q4 2018          555852      86555         13500        14050   \n",
       "26     Q1 2019          632952      77100         12100        12100   \n",
       "27     Q2 2019          720000      87048         17650        17650   \n",
       "28     Q3 2019          816155      96155         17483        17483   \n",
       "29     Q4 2019          921046     104891         19475        19475   \n",
       "30     Q1 2020         1023718     102672         12230        12230   \n",
       "31     Q2 2020         1105990      82272         10614        10614   \n",
       "32     Q3 2020         1251026     145036         15275        15275   \n",
       "33     Q4 2020         1430783     179757         18966        18966   \n",
       "34     Q1 2021         1611121     180338          2020         2020   \n",
       "\n",
       "    Model_3_Sales  Model_Y_Sales Total_Sales  \n",
       "0             0.0            0.0         250  \n",
       "1             0.0            0.0        2400  \n",
       "2             0.0            0.0        4900  \n",
       "3             0.0            0.0        5150  \n",
       "4             0.0            0.0        5500  \n",
       "5             0.0            0.0        6892  \n",
       "6             0.0            0.0        6457  \n",
       "7             0.0            0.0        7579  \n",
       "8             0.0            0.0        7785  \n",
       "9             0.0            0.0        9834  \n",
       "10            0.0            0.0       10045  \n",
       "11            0.0            0.0       11532  \n",
       "12            0.0            0.0       11603  \n",
       "13            0.0            0.0       17478  \n",
       "14            0.0            0.0       14820  \n",
       "15            0.0            0.0       14402  \n",
       "16            0.0            0.0       24821  \n",
       "17            0.0            0.0       22254  \n",
       "18            0.0            0.0       25051  \n",
       "19            0.0            0.0       22026  \n",
       "20          222.0            0.0       26137  \n",
       "21         1542.0            0.0       29967  \n",
       "22         8182.0            0.0       29997  \n",
       "23        18440.0            0.0       40740  \n",
       "24        56065.0            0.0       83725  \n",
       "25        63359.0            0.0       90700  \n",
       "26        50900.0            0.0       63000  \n",
       "27        77550.0            0.0       95200  \n",
       "28        79703.0            0.0       97186  \n",
       "29        92620.0            0.0      112095  \n",
       "30        76266.0        76266.0       88496  \n",
       "31        80277.0        80277.0       90891  \n",
       "32       124318.0       124318.0      139593  \n",
       "33       161701.0       161701.0      180667  \n",
       "34       182780.0       182780.0      184800  "
      ],
      "text/html": "<div>\n<style scoped>\n    .dataframe tbody tr th:only-of-type {\n        vertical-align: middle;\n    }\n\n    .dataframe tbody tr th {\n        vertical-align: top;\n    }\n\n    .dataframe thead th {\n        text-align: right;\n    }\n</style>\n<table border=\"1\" class=\"dataframe\">\n  <thead>\n    <tr style=\"text-align: right;\">\n      <th></th>\n      <th>Quarter</th>\n      <th>Cumulative_Prod</th>\n      <th>Total_Prod</th>\n      <th>Model_S_Sales</th>\n      <th>ModelX_Sales</th>\n      <th>Model_3_Sales</th>\n      <th>Model_Y_Sales</th>\n      <th>Total_Sales</th>\n    </tr>\n  </thead>\n  <tbody>\n    <tr>\n      <th>0</th>\n      <td>Q3 2012</td>\n      <td>0</td>\n      <td>350</td>\n      <td>250</td>\n      <td>0</td>\n      <td>0.0</td>\n      <td>0.0</td>\n      <td>250</td>\n    </tr>\n    <tr>\n      <th>1</th>\n      <td>Q4 2012</td>\n      <td>0</td>\n      <td>2750</td>\n      <td>2400</td>\n      <td>0</td>\n      <td>0.0</td>\n      <td>0.0</td>\n      <td>2400</td>\n    </tr>\n    <tr>\n      <th>2</th>\n      <td>Q1 2013</td>\n      <td>0</td>\n      <td>5000</td>\n      <td>4900</td>\n      <td>0</td>\n      <td>0.0</td>\n      <td>0.0</td>\n      <td>4900</td>\n    </tr>\n    <tr>\n      <th>3</th>\n      <td>Q2 2013</td>\n      <td>0</td>\n      <td>0</td>\n      <td>5150</td>\n      <td>0</td>\n      <td>0.0</td>\n      <td>0.0</td>\n      <td>5150</td>\n    </tr>\n    <tr>\n      <th>4</th>\n      <td>Q3 2013</td>\n      <td>0</td>\n      <td>0</td>\n      <td>5500</td>\n      <td>0</td>\n      <td>0.0</td>\n      <td>0.0</td>\n      <td>5500</td>\n    </tr>\n    <tr>\n      <th>5</th>\n      <td>Q4 2013</td>\n      <td>34851</td>\n      <td>6587</td>\n      <td>6892</td>\n      <td>0</td>\n      <td>0.0</td>\n      <td>0.0</td>\n      <td>6892</td>\n    </tr>\n    <tr>\n      <th>6</th>\n      <td>Q1 2014</td>\n      <td>41438</td>\n      <td>7535</td>\n      <td>6457</td>\n      <td>0</td>\n      <td>0.0</td>\n      <td>0.0</td>\n      <td>6457</td>\n    </tr>\n    <tr>\n      <th>7</th>\n      <td>Q2 2014</td>\n      <td>48973</td>\n      <td>8763</td>\n      <td>7579</td>\n      <td>0</td>\n      <td>0.0</td>\n      <td>0.0</td>\n      <td>7579</td>\n    </tr>\n    <tr>\n      <th>8</th>\n      <td>Q3 2014</td>\n      <td>57736</td>\n      <td>7075</td>\n      <td>7785</td>\n      <td>0</td>\n      <td>0.0</td>\n      <td>0.0</td>\n      <td>7785</td>\n    </tr>\n    <tr>\n      <th>9</th>\n      <td>Q4 2014</td>\n      <td>64811</td>\n      <td>11627</td>\n      <td>9834</td>\n      <td>0</td>\n      <td>0.0</td>\n      <td>0.0</td>\n      <td>9834</td>\n    </tr>\n    <tr>\n      <th>10</th>\n      <td>Q1 2015</td>\n      <td>76438</td>\n      <td>11160</td>\n      <td>10045</td>\n      <td>0</td>\n      <td>0.0</td>\n      <td>0.0</td>\n      <td>10045</td>\n    </tr>\n    <tr>\n      <th>11</th>\n      <td>Q2 2015</td>\n      <td>89245</td>\n      <td>12807</td>\n      <td>11532</td>\n      <td>0</td>\n      <td>0.0</td>\n      <td>0.0</td>\n      <td>11532</td>\n    </tr>\n    <tr>\n      <th>12</th>\n      <td>Q3 2015</td>\n      <td>102336</td>\n      <td>13091</td>\n      <td>11597</td>\n      <td>6</td>\n      <td>0.0</td>\n      <td>0.0</td>\n      <td>11603</td>\n    </tr>\n    <tr>\n      <th>13</th>\n      <td>Q4 2015</td>\n      <td>116373</td>\n      <td>14037</td>\n      <td>17272</td>\n      <td>206</td>\n      <td>0.0</td>\n      <td>0.0</td>\n      <td>17478</td>\n    </tr>\n    <tr>\n      <th>14</th>\n      <td>Q1 2016</td>\n      <td>131883</td>\n      <td>15510</td>\n      <td>12420</td>\n      <td>2400</td>\n      <td>0.0</td>\n      <td>0.0</td>\n      <td>14820</td>\n    </tr>\n    <tr>\n      <th>15</th>\n      <td>Q2 2016</td>\n      <td>150228</td>\n      <td>18345</td>\n      <td>9764</td>\n      <td>4638</td>\n      <td>0.0</td>\n      <td>0.0</td>\n      <td>14402</td>\n    </tr>\n    <tr>\n      <th>16</th>\n      <td>Q3 2016</td>\n      <td>175413</td>\n      <td>25185</td>\n      <td>16047</td>\n      <td>8774</td>\n      <td>0.0</td>\n      <td>0.0</td>\n      <td>24821</td>\n    </tr>\n    <tr>\n      <th>17</th>\n      <td>Q4 2016[d]</td>\n      <td>200295</td>\n      <td>24882</td>\n      <td>12700</td>\n      <td>9500</td>\n      <td>0.0</td>\n      <td>0.0</td>\n      <td>22254</td>\n    </tr>\n    <tr>\n      <th>18</th>\n      <td>Q1 2017</td>\n      <td>225713</td>\n      <td>25418</td>\n      <td>13450</td>\n      <td>11550</td>\n      <td>0.0</td>\n      <td>0.0</td>\n      <td>25051</td>\n    </tr>\n    <tr>\n      <th>19</th>\n      <td>Q2 2017</td>\n      <td>251421</td>\n      <td>25708</td>\n      <td>12000</td>\n      <td>10000</td>\n      <td>0.0</td>\n      <td>0.0</td>\n      <td>22026</td>\n    </tr>\n    <tr>\n      <th>20</th>\n      <td>Q3 2017</td>\n      <td>276757</td>\n      <td>25336</td>\n      <td>14065</td>\n      <td>11865</td>\n      <td>222.0</td>\n      <td>0.0</td>\n      <td>26137</td>\n    </tr>\n    <tr>\n      <th>21</th>\n      <td>Q4 2017</td>\n      <td>301322</td>\n      <td>24565</td>\n      <td>15200</td>\n      <td>13120</td>\n      <td>1542.0</td>\n      <td>0.0</td>\n      <td>29967</td>\n    </tr>\n    <tr>\n      <th>22</th>\n      <td>Q1 2018</td>\n      <td>335816</td>\n      <td>34494</td>\n      <td>11730</td>\n      <td>10070</td>\n      <td>8182.0</td>\n      <td>0.0</td>\n      <td>29997</td>\n    </tr>\n    <tr>\n      <th>23</th>\n      <td>Q2 2018</td>\n      <td>389155</td>\n      <td>53339</td>\n      <td>10930</td>\n      <td>11370</td>\n      <td>18440.0</td>\n      <td>0.0</td>\n      <td>40740</td>\n    </tr>\n    <tr>\n      <th>24</th>\n      <td>Q3 2018</td>\n      <td>469297</td>\n      <td>80142</td>\n      <td>14470</td>\n      <td>13190</td>\n      <td>56065.0</td>\n      <td>0.0</td>\n      <td>83725</td>\n    </tr>\n    <tr>\n      <th>25</th>\n      <td>Q4 2018</td>\n      <td>555852</td>\n      <td>86555</td>\n      <td>13500</td>\n      <td>14050</td>\n      <td>63359.0</td>\n      <td>0.0</td>\n      <td>90700</td>\n    </tr>\n    <tr>\n      <th>26</th>\n      <td>Q1 2019</td>\n      <td>632952</td>\n      <td>77100</td>\n      <td>12100</td>\n      <td>12100</td>\n      <td>50900.0</td>\n      <td>0.0</td>\n      <td>63000</td>\n    </tr>\n    <tr>\n      <th>27</th>\n      <td>Q2 2019</td>\n      <td>720000</td>\n      <td>87048</td>\n      <td>17650</td>\n      <td>17650</td>\n      <td>77550.0</td>\n      <td>0.0</td>\n      <td>95200</td>\n    </tr>\n    <tr>\n      <th>28</th>\n      <td>Q3 2019</td>\n      <td>816155</td>\n      <td>96155</td>\n      <td>17483</td>\n      <td>17483</td>\n      <td>79703.0</td>\n      <td>0.0</td>\n      <td>97186</td>\n    </tr>\n    <tr>\n      <th>29</th>\n      <td>Q4 2019</td>\n      <td>921046</td>\n      <td>104891</td>\n      <td>19475</td>\n      <td>19475</td>\n      <td>92620.0</td>\n      <td>0.0</td>\n      <td>112095</td>\n    </tr>\n    <tr>\n      <th>30</th>\n      <td>Q1 2020</td>\n      <td>1023718</td>\n      <td>102672</td>\n      <td>12230</td>\n      <td>12230</td>\n      <td>76266.0</td>\n      <td>76266.0</td>\n      <td>88496</td>\n    </tr>\n    <tr>\n      <th>31</th>\n      <td>Q2 2020</td>\n      <td>1105990</td>\n      <td>82272</td>\n      <td>10614</td>\n      <td>10614</td>\n      <td>80277.0</td>\n      <td>80277.0</td>\n      <td>90891</td>\n    </tr>\n    <tr>\n      <th>32</th>\n      <td>Q3 2020</td>\n      <td>1251026</td>\n      <td>145036</td>\n      <td>15275</td>\n      <td>15275</td>\n      <td>124318.0</td>\n      <td>124318.0</td>\n      <td>139593</td>\n    </tr>\n    <tr>\n      <th>33</th>\n      <td>Q4 2020</td>\n      <td>1430783</td>\n      <td>179757</td>\n      <td>18966</td>\n      <td>18966</td>\n      <td>161701.0</td>\n      <td>161701.0</td>\n      <td>180667</td>\n    </tr>\n    <tr>\n      <th>34</th>\n      <td>Q1 2021</td>\n      <td>1611121</td>\n      <td>180338</td>\n      <td>2020</td>\n      <td>2020</td>\n      <td>182780.0</td>\n      <td>182780.0</td>\n      <td>184800</td>\n    </tr>\n  </tbody>\n</table>\n</div>"
     },
     "metadata": {},
     "execution_count": 320
    }
   ],
   "source": [
    "#Remove '+', ',' '~' from certain values note '+','[',']' are regex char and must be escaped with \\\n",
    "# tesla_prod_clean_df['Total_Sales'] = tesla_sales_df['Total_Sales'].replace({'5,500+': '5500', '250+': '250'})\n",
    "tesla_prod_clean_df = tesla_prod_clean_df.replace('~','',regex=True).replace('\\+','',regex=True).replace(',','',regex=True).replace('\\[e\\]','',regex=True)\n",
    "tesla_prod_clean_df"
   ]
  },
  {
   "source": [
    "## (E) Extract 'US EV Sales Data' from Downloaded Spreadsheet"
   ],
   "cell_type": "markdown",
   "metadata": {}
  },
  {
   "cell_type": "code",
   "execution_count": 321,
   "metadata": {},
   "outputs": [
    {
     "output_type": "execute_result",
     "data": {
      "text/plain": [
       "                                                    Unnamed: 0  Type    2011  \\\n",
       "Vehicle                                                                        \n",
       "Chevy Volt                                                 NaN  PHEV  7671.0   \n",
       "Nissan Leaf                                                NaN    EV  9674.0   \n",
       "Smart ED                                                   NaN    EV   342.0   \n",
       "Mitsubishi I EV                                            NaN    EV    76.0   \n",
       "BMW Active E                                               NaN    EV     0.0   \n",
       "...                                                        ...   ...     ...   \n",
       "Last updated: January 2020                                 NaN   NaN     NaN   \n",
       "Acronyms:                                                  NaN   NaN     NaN   \n",
       "EV: All-electric vehicle                                   NaN   NaN     NaN   \n",
       "PEV: Plug-in electric vehicle. These include bo...         NaN   NaN     NaN   \n",
       "PHEV: Plug-in hybrid electric vehicle. These in...         NaN   NaN     NaN   \n",
       "\n",
       "                                                       2012     2013     2014  \\\n",
       "Vehicle                                                                         \n",
       "Chevy Volt                                          23461.0  23094.0  18805.0   \n",
       "Nissan Leaf                                          9819.0  22610.0  30200.0   \n",
       "Smart ED                                              139.0    923.0   2594.0   \n",
       "Mitsubishi I EV                                       588.0   1029.0    196.0   \n",
       "BMW Active E                                          673.0      0.0      0.0   \n",
       "...                                                     ...      ...      ...   \n",
       "Last updated: January 2020                              NaN      NaN      NaN   \n",
       "Acronyms:                                               NaN      NaN      NaN   \n",
       "EV: All-electric vehicle                                NaN      NaN      NaN   \n",
       "PEV: Plug-in electric vehicle. These include bo...      NaN      NaN      NaN   \n",
       "PHEV: Plug-in hybrid electric vehicle. These in...      NaN      NaN      NaN   \n",
       "\n",
       "                                                       2015     2016     2017  \\\n",
       "Vehicle                                                                         \n",
       "Chevy Volt                                          15393.0  24739.0  20349.0   \n",
       "Nissan Leaf                                         17269.0  14006.0  11230.0   \n",
       "Smart ED                                             1387.0    657.0    544.0   \n",
       "Mitsubishi I EV                                       115.0     94.0      6.0   \n",
       "BMW Active E                                            0.0      0.0      0.0   \n",
       "...                                                     ...      ...      ...   \n",
       "Last updated: January 2020                              NaN      NaN      NaN   \n",
       "Acronyms:                                               NaN      NaN      NaN   \n",
       "EV: All-electric vehicle                                NaN      NaN      NaN   \n",
       "PEV: Plug-in electric vehicle. These include bo...      NaN      NaN      NaN   \n",
       "PHEV: Plug-in hybrid electric vehicle. These in...      NaN      NaN      NaN   \n",
       "\n",
       "                                                       2018     2019     Total  \n",
       "Vehicle                                                                         \n",
       "Chevy Volt                                          18306.0   4915.0  156733.0  \n",
       "Nissan Leaf                                         14715.0  12365.0  141888.0  \n",
       "Smart ED                                             1219.0    680.0    8485.0  \n",
       "Mitsubishi I EV                                         0.0      0.0    2104.0  \n",
       "BMW Active E                                            0.0      0.0     673.0  \n",
       "...                                                     ...      ...       ...  \n",
       "Last updated: January 2020                              NaN      NaN       NaN  \n",
       "Acronyms:                                               NaN      NaN       NaN  \n",
       "EV: All-electric vehicle                                NaN      NaN       NaN  \n",
       "PEV: Plug-in electric vehicle. These include bo...      NaN      NaN       NaN  \n",
       "PHEV: Plug-in hybrid electric vehicle. These in...      NaN      NaN       NaN  \n",
       "\n",
       "[66 rows x 12 columns]"
      ],
      "text/html": "<div>\n<style scoped>\n    .dataframe tbody tr th:only-of-type {\n        vertical-align: middle;\n    }\n\n    .dataframe tbody tr th {\n        vertical-align: top;\n    }\n\n    .dataframe thead th {\n        text-align: right;\n    }\n</style>\n<table border=\"1\" class=\"dataframe\">\n  <thead>\n    <tr style=\"text-align: right;\">\n      <th></th>\n      <th>Unnamed: 0</th>\n      <th>Type</th>\n      <th>2011</th>\n      <th>2012</th>\n      <th>2013</th>\n      <th>2014</th>\n      <th>2015</th>\n      <th>2016</th>\n      <th>2017</th>\n      <th>2018</th>\n      <th>2019</th>\n      <th>Total</th>\n    </tr>\n    <tr>\n      <th>Vehicle</th>\n      <th></th>\n      <th></th>\n      <th></th>\n      <th></th>\n      <th></th>\n      <th></th>\n      <th></th>\n      <th></th>\n      <th></th>\n      <th></th>\n      <th></th>\n      <th></th>\n    </tr>\n  </thead>\n  <tbody>\n    <tr>\n      <th>Chevy Volt</th>\n      <td>NaN</td>\n      <td>PHEV</td>\n      <td>7671.0</td>\n      <td>23461.0</td>\n      <td>23094.0</td>\n      <td>18805.0</td>\n      <td>15393.0</td>\n      <td>24739.0</td>\n      <td>20349.0</td>\n      <td>18306.0</td>\n      <td>4915.0</td>\n      <td>156733.0</td>\n    </tr>\n    <tr>\n      <th>Nissan Leaf</th>\n      <td>NaN</td>\n      <td>EV</td>\n      <td>9674.0</td>\n      <td>9819.0</td>\n      <td>22610.0</td>\n      <td>30200.0</td>\n      <td>17269.0</td>\n      <td>14006.0</td>\n      <td>11230.0</td>\n      <td>14715.0</td>\n      <td>12365.0</td>\n      <td>141888.0</td>\n    </tr>\n    <tr>\n      <th>Smart ED</th>\n      <td>NaN</td>\n      <td>EV</td>\n      <td>342.0</td>\n      <td>139.0</td>\n      <td>923.0</td>\n      <td>2594.0</td>\n      <td>1387.0</td>\n      <td>657.0</td>\n      <td>544.0</td>\n      <td>1219.0</td>\n      <td>680.0</td>\n      <td>8485.0</td>\n    </tr>\n    <tr>\n      <th>Mitsubishi I EV</th>\n      <td>NaN</td>\n      <td>EV</td>\n      <td>76.0</td>\n      <td>588.0</td>\n      <td>1029.0</td>\n      <td>196.0</td>\n      <td>115.0</td>\n      <td>94.0</td>\n      <td>6.0</td>\n      <td>0.0</td>\n      <td>0.0</td>\n      <td>2104.0</td>\n    </tr>\n    <tr>\n      <th>BMW Active E</th>\n      <td>NaN</td>\n      <td>EV</td>\n      <td>0.0</td>\n      <td>673.0</td>\n      <td>0.0</td>\n      <td>0.0</td>\n      <td>0.0</td>\n      <td>0.0</td>\n      <td>0.0</td>\n      <td>0.0</td>\n      <td>0.0</td>\n      <td>673.0</td>\n    </tr>\n    <tr>\n      <th>...</th>\n      <td>...</td>\n      <td>...</td>\n      <td>...</td>\n      <td>...</td>\n      <td>...</td>\n      <td>...</td>\n      <td>...</td>\n      <td>...</td>\n      <td>...</td>\n      <td>...</td>\n      <td>...</td>\n      <td>...</td>\n    </tr>\n    <tr>\n      <th>Last updated: January 2020</th>\n      <td>NaN</td>\n      <td>NaN</td>\n      <td>NaN</td>\n      <td>NaN</td>\n      <td>NaN</td>\n      <td>NaN</td>\n      <td>NaN</td>\n      <td>NaN</td>\n      <td>NaN</td>\n      <td>NaN</td>\n      <td>NaN</td>\n      <td>NaN</td>\n    </tr>\n    <tr>\n      <th>Acronyms:</th>\n      <td>NaN</td>\n      <td>NaN</td>\n      <td>NaN</td>\n      <td>NaN</td>\n      <td>NaN</td>\n      <td>NaN</td>\n      <td>NaN</td>\n      <td>NaN</td>\n      <td>NaN</td>\n      <td>NaN</td>\n      <td>NaN</td>\n      <td>NaN</td>\n    </tr>\n    <tr>\n      <th>EV: All-electric vehicle</th>\n      <td>NaN</td>\n      <td>NaN</td>\n      <td>NaN</td>\n      <td>NaN</td>\n      <td>NaN</td>\n      <td>NaN</td>\n      <td>NaN</td>\n      <td>NaN</td>\n      <td>NaN</td>\n      <td>NaN</td>\n      <td>NaN</td>\n      <td>NaN</td>\n    </tr>\n    <tr>\n      <th>PEV: Plug-in electric vehicle. These include both all-electric and plug-in hybrid electric vehicles.</th>\n      <td>NaN</td>\n      <td>NaN</td>\n      <td>NaN</td>\n      <td>NaN</td>\n      <td>NaN</td>\n      <td>NaN</td>\n      <td>NaN</td>\n      <td>NaN</td>\n      <td>NaN</td>\n      <td>NaN</td>\n      <td>NaN</td>\n      <td>NaN</td>\n    </tr>\n    <tr>\n      <th>PHEV: Plug-in hybrid electric vehicle. These include any vehicle that has both an electric motor and gasoline engine, including extended-range electric vehicles.</th>\n      <td>NaN</td>\n      <td>NaN</td>\n      <td>NaN</td>\n      <td>NaN</td>\n      <td>NaN</td>\n      <td>NaN</td>\n      <td>NaN</td>\n      <td>NaN</td>\n      <td>NaN</td>\n      <td>NaN</td>\n      <td>NaN</td>\n      <td>NaN</td>\n    </tr>\n  </tbody>\n</table>\n<p>66 rows × 12 columns</p>\n</div>"
     },
     "metadata": {},
     "execution_count": 321
    }
   ],
   "source": [
    "# Reas US EV Sales from Spreadsheet\n",
    "excel_file = \"10567_pev_sales_2-28-20.xlsx\"\n",
    "us_ev_sales_df = pd.read_excel(excel_file, 'PEV Sales Final 2019', header=2,index_col=1)\n",
    "us_ev_sales_df"
   ]
  },
  {
   "cell_type": "code",
   "execution_count": 322,
   "metadata": {},
   "outputs": [
    {
     "output_type": "execute_result",
     "data": {
      "text/plain": [
       "                                                    Type    2011     2012  \\\n",
       "Vehicle                                                                     \n",
       "Chevy Volt                                          PHEV  7671.0  23461.0   \n",
       "Nissan Leaf                                           EV  9674.0   9819.0   \n",
       "Smart ED                                              EV   342.0    139.0   \n",
       "Mitsubishi I EV                                       EV    76.0    588.0   \n",
       "BMW Active E                                          EV     0.0    673.0   \n",
       "...                                                  ...     ...      ...   \n",
       "Last updated: January 2020                           NaN     NaN      NaN   \n",
       "Acronyms:                                            NaN     NaN      NaN   \n",
       "EV: All-electric vehicle                             NaN     NaN      NaN   \n",
       "PEV: Plug-in electric vehicle. These include bo...   NaN     NaN      NaN   \n",
       "PHEV: Plug-in hybrid electric vehicle. These in...   NaN     NaN      NaN   \n",
       "\n",
       "                                                       2013     2014     2015  \\\n",
       "Vehicle                                                                         \n",
       "Chevy Volt                                          23094.0  18805.0  15393.0   \n",
       "Nissan Leaf                                         22610.0  30200.0  17269.0   \n",
       "Smart ED                                              923.0   2594.0   1387.0   \n",
       "Mitsubishi I EV                                      1029.0    196.0    115.0   \n",
       "BMW Active E                                            0.0      0.0      0.0   \n",
       "...                                                     ...      ...      ...   \n",
       "Last updated: January 2020                              NaN      NaN      NaN   \n",
       "Acronyms:                                               NaN      NaN      NaN   \n",
       "EV: All-electric vehicle                                NaN      NaN      NaN   \n",
       "PEV: Plug-in electric vehicle. These include bo...      NaN      NaN      NaN   \n",
       "PHEV: Plug-in hybrid electric vehicle. These in...      NaN      NaN      NaN   \n",
       "\n",
       "                                                       2016     2017     2018  \\\n",
       "Vehicle                                                                         \n",
       "Chevy Volt                                          24739.0  20349.0  18306.0   \n",
       "Nissan Leaf                                         14006.0  11230.0  14715.0   \n",
       "Smart ED                                              657.0    544.0   1219.0   \n",
       "Mitsubishi I EV                                        94.0      6.0      0.0   \n",
       "BMW Active E                                            0.0      0.0      0.0   \n",
       "...                                                     ...      ...      ...   \n",
       "Last updated: January 2020                              NaN      NaN      NaN   \n",
       "Acronyms:                                               NaN      NaN      NaN   \n",
       "EV: All-electric vehicle                                NaN      NaN      NaN   \n",
       "PEV: Plug-in electric vehicle. These include bo...      NaN      NaN      NaN   \n",
       "PHEV: Plug-in hybrid electric vehicle. These in...      NaN      NaN      NaN   \n",
       "\n",
       "                                                       2019     Total  \n",
       "Vehicle                                                                \n",
       "Chevy Volt                                           4915.0  156733.0  \n",
       "Nissan Leaf                                         12365.0  141888.0  \n",
       "Smart ED                                              680.0    8485.0  \n",
       "Mitsubishi I EV                                         0.0    2104.0  \n",
       "BMW Active E                                            0.0     673.0  \n",
       "...                                                     ...       ...  \n",
       "Last updated: January 2020                              NaN       NaN  \n",
       "Acronyms:                                               NaN       NaN  \n",
       "EV: All-electric vehicle                                NaN       NaN  \n",
       "PEV: Plug-in electric vehicle. These include bo...      NaN       NaN  \n",
       "PHEV: Plug-in hybrid electric vehicle. These in...      NaN       NaN  \n",
       "\n",
       "[66 rows x 11 columns]"
      ],
      "text/html": "<div>\n<style scoped>\n    .dataframe tbody tr th:only-of-type {\n        vertical-align: middle;\n    }\n\n    .dataframe tbody tr th {\n        vertical-align: top;\n    }\n\n    .dataframe thead th {\n        text-align: right;\n    }\n</style>\n<table border=\"1\" class=\"dataframe\">\n  <thead>\n    <tr style=\"text-align: right;\">\n      <th></th>\n      <th>Type</th>\n      <th>2011</th>\n      <th>2012</th>\n      <th>2013</th>\n      <th>2014</th>\n      <th>2015</th>\n      <th>2016</th>\n      <th>2017</th>\n      <th>2018</th>\n      <th>2019</th>\n      <th>Total</th>\n    </tr>\n    <tr>\n      <th>Vehicle</th>\n      <th></th>\n      <th></th>\n      <th></th>\n      <th></th>\n      <th></th>\n      <th></th>\n      <th></th>\n      <th></th>\n      <th></th>\n      <th></th>\n      <th></th>\n    </tr>\n  </thead>\n  <tbody>\n    <tr>\n      <th>Chevy Volt</th>\n      <td>PHEV</td>\n      <td>7671.0</td>\n      <td>23461.0</td>\n      <td>23094.0</td>\n      <td>18805.0</td>\n      <td>15393.0</td>\n      <td>24739.0</td>\n      <td>20349.0</td>\n      <td>18306.0</td>\n      <td>4915.0</td>\n      <td>156733.0</td>\n    </tr>\n    <tr>\n      <th>Nissan Leaf</th>\n      <td>EV</td>\n      <td>9674.0</td>\n      <td>9819.0</td>\n      <td>22610.0</td>\n      <td>30200.0</td>\n      <td>17269.0</td>\n      <td>14006.0</td>\n      <td>11230.0</td>\n      <td>14715.0</td>\n      <td>12365.0</td>\n      <td>141888.0</td>\n    </tr>\n    <tr>\n      <th>Smart ED</th>\n      <td>EV</td>\n      <td>342.0</td>\n      <td>139.0</td>\n      <td>923.0</td>\n      <td>2594.0</td>\n      <td>1387.0</td>\n      <td>657.0</td>\n      <td>544.0</td>\n      <td>1219.0</td>\n      <td>680.0</td>\n      <td>8485.0</td>\n    </tr>\n    <tr>\n      <th>Mitsubishi I EV</th>\n      <td>EV</td>\n      <td>76.0</td>\n      <td>588.0</td>\n      <td>1029.0</td>\n      <td>196.0</td>\n      <td>115.0</td>\n      <td>94.0</td>\n      <td>6.0</td>\n      <td>0.0</td>\n      <td>0.0</td>\n      <td>2104.0</td>\n    </tr>\n    <tr>\n      <th>BMW Active E</th>\n      <td>EV</td>\n      <td>0.0</td>\n      <td>673.0</td>\n      <td>0.0</td>\n      <td>0.0</td>\n      <td>0.0</td>\n      <td>0.0</td>\n      <td>0.0</td>\n      <td>0.0</td>\n      <td>0.0</td>\n      <td>673.0</td>\n    </tr>\n    <tr>\n      <th>...</th>\n      <td>...</td>\n      <td>...</td>\n      <td>...</td>\n      <td>...</td>\n      <td>...</td>\n      <td>...</td>\n      <td>...</td>\n      <td>...</td>\n      <td>...</td>\n      <td>...</td>\n      <td>...</td>\n    </tr>\n    <tr>\n      <th>Last updated: January 2020</th>\n      <td>NaN</td>\n      <td>NaN</td>\n      <td>NaN</td>\n      <td>NaN</td>\n      <td>NaN</td>\n      <td>NaN</td>\n      <td>NaN</td>\n      <td>NaN</td>\n      <td>NaN</td>\n      <td>NaN</td>\n      <td>NaN</td>\n    </tr>\n    <tr>\n      <th>Acronyms:</th>\n      <td>NaN</td>\n      <td>NaN</td>\n      <td>NaN</td>\n      <td>NaN</td>\n      <td>NaN</td>\n      <td>NaN</td>\n      <td>NaN</td>\n      <td>NaN</td>\n      <td>NaN</td>\n      <td>NaN</td>\n      <td>NaN</td>\n    </tr>\n    <tr>\n      <th>EV: All-electric vehicle</th>\n      <td>NaN</td>\n      <td>NaN</td>\n      <td>NaN</td>\n      <td>NaN</td>\n      <td>NaN</td>\n      <td>NaN</td>\n      <td>NaN</td>\n      <td>NaN</td>\n      <td>NaN</td>\n      <td>NaN</td>\n      <td>NaN</td>\n    </tr>\n    <tr>\n      <th>PEV: Plug-in electric vehicle. These include both all-electric and plug-in hybrid electric vehicles.</th>\n      <td>NaN</td>\n      <td>NaN</td>\n      <td>NaN</td>\n      <td>NaN</td>\n      <td>NaN</td>\n      <td>NaN</td>\n      <td>NaN</td>\n      <td>NaN</td>\n      <td>NaN</td>\n      <td>NaN</td>\n      <td>NaN</td>\n    </tr>\n    <tr>\n      <th>PHEV: Plug-in hybrid electric vehicle. These include any vehicle that has both an electric motor and gasoline engine, including extended-range electric vehicles.</th>\n      <td>NaN</td>\n      <td>NaN</td>\n      <td>NaN</td>\n      <td>NaN</td>\n      <td>NaN</td>\n      <td>NaN</td>\n      <td>NaN</td>\n      <td>NaN</td>\n      <td>NaN</td>\n      <td>NaN</td>\n      <td>NaN</td>\n    </tr>\n  </tbody>\n</table>\n<p>66 rows × 11 columns</p>\n</div>"
     },
     "metadata": {},
     "execution_count": 322
    }
   ],
   "source": [
    "#Remove first column\n",
    "us_ev_sales_df = us_ev_sales_df.drop(us_ev_sales_df.columns[0], axis=1)\n",
    "us_ev_sales_df"
   ]
  },
  {
   "cell_type": "code",
   "execution_count": 323,
   "metadata": {},
   "outputs": [
    {
     "output_type": "execute_result",
     "data": {
      "text/plain": [
       "                         Type     2011     2012     2013      2014      2015  \\\n",
       "Vehicle                                                                        \n",
       "Hyundai Kona Electric      EV      0.0      0.0      0.0       0.0       0.0   \n",
       "Subaru Crosstrek Hybrid  PHEV      0.0      0.0      0.0       0.0       0.0   \n",
       "Audi e-tron                EV      0.0      0.0      0.0       0.0       0.0   \n",
       "Kia Niro EV                EV      0.0      0.0      0.0       0.0       0.0   \n",
       "Total                     NaN  17763.0  53171.0  97102.0  118882.0  114023.0   \n",
       "\n",
       "                             2016      2017      2018      2019      Total  \n",
       "Vehicle                                                                     \n",
       "Hyundai Kona Electric         0.0       0.0       0.0    1721.0     1721.0  \n",
       "Subaru Crosstrek Hybrid       0.0       0.0       0.0     880.0      880.0  \n",
       "Audi e-tron                   0.0       0.0       0.0    5369.0     5369.0  \n",
       "Kia Niro EV                   0.0       0.0       0.0    1562.0     1562.0  \n",
       "Total                    159616.0  195581.0  361315.0  326644.0  1444097.0  "
      ],
      "text/html": "<div>\n<style scoped>\n    .dataframe tbody tr th:only-of-type {\n        vertical-align: middle;\n    }\n\n    .dataframe tbody tr th {\n        vertical-align: top;\n    }\n\n    .dataframe thead th {\n        text-align: right;\n    }\n</style>\n<table border=\"1\" class=\"dataframe\">\n  <thead>\n    <tr style=\"text-align: right;\">\n      <th></th>\n      <th>Type</th>\n      <th>2011</th>\n      <th>2012</th>\n      <th>2013</th>\n      <th>2014</th>\n      <th>2015</th>\n      <th>2016</th>\n      <th>2017</th>\n      <th>2018</th>\n      <th>2019</th>\n      <th>Total</th>\n    </tr>\n    <tr>\n      <th>Vehicle</th>\n      <th></th>\n      <th></th>\n      <th></th>\n      <th></th>\n      <th></th>\n      <th></th>\n      <th></th>\n      <th></th>\n      <th></th>\n      <th></th>\n      <th></th>\n    </tr>\n  </thead>\n  <tbody>\n    <tr>\n      <th>Hyundai Kona Electric</th>\n      <td>EV</td>\n      <td>0.0</td>\n      <td>0.0</td>\n      <td>0.0</td>\n      <td>0.0</td>\n      <td>0.0</td>\n      <td>0.0</td>\n      <td>0.0</td>\n      <td>0.0</td>\n      <td>1721.0</td>\n      <td>1721.0</td>\n    </tr>\n    <tr>\n      <th>Subaru Crosstrek Hybrid</th>\n      <td>PHEV</td>\n      <td>0.0</td>\n      <td>0.0</td>\n      <td>0.0</td>\n      <td>0.0</td>\n      <td>0.0</td>\n      <td>0.0</td>\n      <td>0.0</td>\n      <td>0.0</td>\n      <td>880.0</td>\n      <td>880.0</td>\n    </tr>\n    <tr>\n      <th>Audi e-tron</th>\n      <td>EV</td>\n      <td>0.0</td>\n      <td>0.0</td>\n      <td>0.0</td>\n      <td>0.0</td>\n      <td>0.0</td>\n      <td>0.0</td>\n      <td>0.0</td>\n      <td>0.0</td>\n      <td>5369.0</td>\n      <td>5369.0</td>\n    </tr>\n    <tr>\n      <th>Kia Niro EV</th>\n      <td>EV</td>\n      <td>0.0</td>\n      <td>0.0</td>\n      <td>0.0</td>\n      <td>0.0</td>\n      <td>0.0</td>\n      <td>0.0</td>\n      <td>0.0</td>\n      <td>0.0</td>\n      <td>1562.0</td>\n      <td>1562.0</td>\n    </tr>\n    <tr>\n      <th>Total</th>\n      <td>NaN</td>\n      <td>17763.0</td>\n      <td>53171.0</td>\n      <td>97102.0</td>\n      <td>118882.0</td>\n      <td>114023.0</td>\n      <td>159616.0</td>\n      <td>195581.0</td>\n      <td>361315.0</td>\n      <td>326644.0</td>\n      <td>1444097.0</td>\n    </tr>\n  </tbody>\n</table>\n</div>"
     },
     "metadata": {},
     "execution_count": 323
    }
   ],
   "source": [
    "# Remove redundant last rows\n",
    "us_ev_sales_df = us_ev_sales_df.drop(us_ev_sales_df.index[56:], axis=0)\n",
    "us_ev_sales_df.tail()"
   ]
  },
  {
   "cell_type": "code",
   "execution_count": 324,
   "metadata": {},
   "outputs": [
    {
     "output_type": "execute_result",
     "data": {
      "text/plain": [
       "                             Vehicle  Type     2011     2012     2013  \\\n",
       "0                         Chevy Volt  PHEV   7671.0  23461.0  23094.0   \n",
       "1                        Nissan Leaf    EV   9674.0   9819.0  22610.0   \n",
       "2                           Smart ED    EV    342.0    139.0    923.0   \n",
       "3                    Mitsubishi I EV    EV     76.0    588.0   1029.0   \n",
       "4                       BMW Active E    EV      0.0    673.0      0.0   \n",
       "5                         Prius PHEV  PHEV      0.0  12749.0  12088.0   \n",
       "6                      Ford Focus EV    EV      0.0    683.0   1738.0   \n",
       "7                       Honda Fit EV    EV      0.0     93.0    569.0   \n",
       "8                      Tesla Model S    EV      0.0   2400.0  19400.0   \n",
       "9                     Toyota RAV4 EV    EV      0.0    192.0   1005.0   \n",
       "10                 Ford C-Max Energi  PHEV      0.0   2374.0   7154.0   \n",
       "11                      Honda Accord  PHEV      0.0      0.0    526.0   \n",
       "12                Ford Fusion Energi  PHEV      0.0      0.0   6089.0   \n",
       "13                       Chevy Spark    EV      0.0      0.0    560.0   \n",
       "14                         Fiat 500E    EV      0.0      0.0    260.0   \n",
       "15       Porsche Panamera S E-Hybrid  PHEV      0.0      0.0     51.0   \n",
       "16                      Cadillac ELR  PHEV      0.0      0.0      6.0   \n",
       "17                            BMW i3    EV      0.0      0.0      0.0   \n",
       "18          Mercedes B-Class (B250e)    EV      0.0      0.0      0.0   \n",
       "19                            BMW i8  PHEV      0.0      0.0      0.0   \n",
       "20                         VW e-Golf    EV      0.0      0.0      0.0   \n",
       "21                       Kia Soul EV    EV      0.0      0.0      0.0   \n",
       "22        Porsche Cayenne S E-Hybrid  PHEV      0.0      0.0      0.0   \n",
       "23                Mercedes S550 Plug  PHEV      0.0      0.0      0.0   \n",
       "24                Volvo-XC90 Plug In  PHEV      0.0      0.0      0.0   \n",
       "25                     Tesla Model X    EV      0.0      0.0      0.0   \n",
       "26                            BMW X5  PHEV      0.0      0.0      0.0   \n",
       "27            Hyundai Sonata Plug In  PHEV      0.0      0.0      0.0   \n",
       "28                   Audi A3 Plug In  PHEV      0.0      0.0      0.0   \n",
       "29              BMW 3-series Plug-In  PHEV      0.0      0.0      0.0   \n",
       "30                 Mercedes GLE 550e  PHEV      0.0      0.0      0.0   \n",
       "31              BMW 7-series Plug-in  PHEV      0.0      0.0      0.0   \n",
       "32                   Mercedes C350We  PHEV      0.0      0.0      0.0   \n",
       "33                        Chevy Bolt    EV      0.0      0.0      0.0   \n",
       "34                Kia Optima Plug-in  PHEV      0.0      0.0      0.0   \n",
       "35                  Hyundai Ioniq EV    EV      0.0      0.0      0.0   \n",
       "36  Chrysler Pacifica Plug-in Hybrid  PHEV      0.0      0.0      0.0   \n",
       "37                      Cadillac CT6  PHEV      0.0      0.0      0.0   \n",
       "38              BMW 5-Series Plug in  PHEV      0.0      0.0      0.0   \n",
       "39               MINI Countryman S E  PHEV      0.0      0.0      0.0   \n",
       "40            Porsche Panamera 4 E-H  PHEV      0.0      0.0      0.0   \n",
       "41                     Tesla Model 3    EV      0.0      0.0      0.0   \n",
       "42                 Honda Clarity BEV    EV      0.0      0.0      0.0   \n",
       "43                Volvo XC60 Plug In  PHEV      0.0      0.0      0.0   \n",
       "44                 Volvo S90 Plug In  PHEV      0.0      0.0      0.0   \n",
       "45             Honda Clarity Plug-in  PHEV      0.0      0.0      0.0   \n",
       "46      Mitsubishi Outlander Plug In  PHEV      0.0      0.0      0.0   \n",
       "47             Hyundai Ioniq Plug-In  PHEV      0.0      0.0      0.0   \n",
       "48                  Kia Niro Plug In  PHEV      0.0      0.0      0.0   \n",
       "49          Mercedes GLC 350e Hybrid  PHEV      0.0      0.0      0.0   \n",
       "50                     Jaguar I-Pace    EV      0.0      0.0      0.0   \n",
       "51             Hyundai Kona Electric    EV      0.0      0.0      0.0   \n",
       "52           Subaru Crosstrek Hybrid  PHEV      0.0      0.0      0.0   \n",
       "53                       Audi e-tron    EV      0.0      0.0      0.0   \n",
       "54                       Kia Niro EV    EV      0.0      0.0      0.0   \n",
       "55                             Total   NaN  17763.0  53171.0  97102.0   \n",
       "\n",
       "        2014      2015      2016      2017      2018      2019      Total  \n",
       "0    18805.0   15393.0   24739.0   20349.0   18306.0    4915.0   156733.0  \n",
       "1    30200.0   17269.0   14006.0   11230.0   14715.0   12365.0   141888.0  \n",
       "2     2594.0    1387.0     657.0     544.0    1219.0     680.0     8485.0  \n",
       "3      196.0     115.0      94.0       6.0       0.0       0.0     2104.0  \n",
       "4        0.0       0.0       0.0       0.0       0.0       0.0      673.0  \n",
       "5    13264.0    4191.0    2474.0   20936.0   27595.0   23630.0   116927.0  \n",
       "6     1964.0    1582.0     901.0    1817.0     560.0       0.0     9245.0  \n",
       "7      407.0       2.0       0.0       0.0       0.0       0.0     1071.0  \n",
       "8    16750.0   26200.0   30200.0   26500.0   25745.0   15090.0   162285.0  \n",
       "9     1184.0      18.0       0.0       0.0       0.0       0.0     2399.0  \n",
       "10    8433.0    7591.0    7957.0    8140.0     582.0       0.0    42231.0  \n",
       "11     449.0      64.0       0.0       0.0       0.0       0.0     1039.0  \n",
       "12   11550.0    9750.0   15938.0    9632.0    8074.0    7476.0    68509.0  \n",
       "13    1145.0    2629.0    3035.0      23.0       7.0       0.0     7399.0  \n",
       "14    1503.0    3477.0    3737.0    3336.0    2250.0     632.0    15195.0  \n",
       "15     879.0     407.0     393.0      18.0    2036.0    1958.0     5742.0  \n",
       "16    1310.0    1024.0     534.0      17.0       1.0       0.0     2892.0  \n",
       "17    6092.0   11024.0    7625.0    6276.0    6117.0    4854.0    41988.0  \n",
       "18     774.0    1906.0     632.0     744.0     135.0       9.0     4200.0  \n",
       "19     555.0    2265.0    1594.0     488.0     772.0    1102.0     6776.0  \n",
       "20     357.0    4232.0    3937.0    3534.0    1354.0    4863.0    18277.0  \n",
       "21     359.0    1015.0    1728.0    2157.0    1134.0     114.0     6507.0  \n",
       "22     112.0    1163.0    2111.0    1574.0    1022.0    1140.0     7122.0  \n",
       "23       0.0     118.0     550.0     666.0      96.0     371.0     1801.0  \n",
       "24       0.0      86.0    2015.0    2358.0    1387.0    1710.0     7556.0  \n",
       "25       0.0     208.0   19600.0   21700.0   26100.0   19425.0    87033.0  \n",
       "26       0.0     892.0    5995.0    5349.0    4434.0     167.0    16837.0  \n",
       "27       0.0      15.0    3000.0    2254.0     460.0     456.0     6185.0  \n",
       "28       0.0       0.0    4280.0    2877.0    2597.0     437.0    10191.0  \n",
       "29       0.0       0.0     880.0    4141.0    2600.0     705.0     8326.0  \n",
       "30       0.0       0.0     231.0     463.0     966.0    1509.0     3169.0  \n",
       "31       0.0       0.0      23.0     707.0     339.0      80.0     1149.0  \n",
       "32       0.0       0.0     171.0     817.0    1721.0    2172.0     4881.0  \n",
       "33       0.0       0.0     579.0   23297.0   18019.0   16313.0    58208.0  \n",
       "34       0.0       0.0       0.0    1512.0     965.0     350.0     2827.0  \n",
       "35       0.0       0.0       0.0     432.0     345.0     739.0     1516.0  \n",
       "36       0.0       0.0       0.0    2981.0    7062.0    5811.0    15854.0  \n",
       "37       0.0       0.0       0.0     205.0     231.0      25.0      461.0  \n",
       "38       0.0       0.0       0.0    3759.0    8664.0    5442.0    17865.0  \n",
       "39       0.0       0.0       0.0     475.0    1564.0     494.0     2533.0  \n",
       "40       0.0       0.0       0.0       0.0       0.0       0.0        0.0  \n",
       "41       0.0       0.0       0.0    1770.0  139782.0  154840.0   296392.0  \n",
       "42       0.0       0.0       0.0    1126.0     948.0     742.0     2816.0  \n",
       "43       0.0       0.0       0.0     356.0    2267.0    1682.0     4305.0  \n",
       "44       0.0       0.0       0.0     112.0     437.0     407.0      956.0  \n",
       "45       0.0       0.0       0.0     903.0   18602.0   10728.0    30233.0  \n",
       "46       0.0       0.0       0.0       0.0    4166.0    2810.0     6976.0  \n",
       "47       0.0       0.0       0.0       0.0    1590.0    1765.0     3355.0  \n",
       "48       0.0       0.0       0.0       0.0    3389.0    4051.0     7440.0  \n",
       "49       0.0       0.0       0.0       0.0     567.0    2459.0     3026.0  \n",
       "50       0.0       0.0       0.0       0.0     393.0    2594.0     2987.0  \n",
       "51       0.0       0.0       0.0       0.0       0.0    1721.0     1721.0  \n",
       "52       0.0       0.0       0.0       0.0       0.0     880.0      880.0  \n",
       "53       0.0       0.0       0.0       0.0       0.0    5369.0     5369.0  \n",
       "54       0.0       0.0       0.0       0.0       0.0    1562.0     1562.0  \n",
       "55  118882.0  114023.0  159616.0  195581.0  361315.0  326644.0  1444097.0  "
      ],
      "text/html": "<div>\n<style scoped>\n    .dataframe tbody tr th:only-of-type {\n        vertical-align: middle;\n    }\n\n    .dataframe tbody tr th {\n        vertical-align: top;\n    }\n\n    .dataframe thead th {\n        text-align: right;\n    }\n</style>\n<table border=\"1\" class=\"dataframe\">\n  <thead>\n    <tr style=\"text-align: right;\">\n      <th></th>\n      <th>Vehicle</th>\n      <th>Type</th>\n      <th>2011</th>\n      <th>2012</th>\n      <th>2013</th>\n      <th>2014</th>\n      <th>2015</th>\n      <th>2016</th>\n      <th>2017</th>\n      <th>2018</th>\n      <th>2019</th>\n      <th>Total</th>\n    </tr>\n  </thead>\n  <tbody>\n    <tr>\n      <th>0</th>\n      <td>Chevy Volt</td>\n      <td>PHEV</td>\n      <td>7671.0</td>\n      <td>23461.0</td>\n      <td>23094.0</td>\n      <td>18805.0</td>\n      <td>15393.0</td>\n      <td>24739.0</td>\n      <td>20349.0</td>\n      <td>18306.0</td>\n      <td>4915.0</td>\n      <td>156733.0</td>\n    </tr>\n    <tr>\n      <th>1</th>\n      <td>Nissan Leaf</td>\n      <td>EV</td>\n      <td>9674.0</td>\n      <td>9819.0</td>\n      <td>22610.0</td>\n      <td>30200.0</td>\n      <td>17269.0</td>\n      <td>14006.0</td>\n      <td>11230.0</td>\n      <td>14715.0</td>\n      <td>12365.0</td>\n      <td>141888.0</td>\n    </tr>\n    <tr>\n      <th>2</th>\n      <td>Smart ED</td>\n      <td>EV</td>\n      <td>342.0</td>\n      <td>139.0</td>\n      <td>923.0</td>\n      <td>2594.0</td>\n      <td>1387.0</td>\n      <td>657.0</td>\n      <td>544.0</td>\n      <td>1219.0</td>\n      <td>680.0</td>\n      <td>8485.0</td>\n    </tr>\n    <tr>\n      <th>3</th>\n      <td>Mitsubishi I EV</td>\n      <td>EV</td>\n      <td>76.0</td>\n      <td>588.0</td>\n      <td>1029.0</td>\n      <td>196.0</td>\n      <td>115.0</td>\n      <td>94.0</td>\n      <td>6.0</td>\n      <td>0.0</td>\n      <td>0.0</td>\n      <td>2104.0</td>\n    </tr>\n    <tr>\n      <th>4</th>\n      <td>BMW Active E</td>\n      <td>EV</td>\n      <td>0.0</td>\n      <td>673.0</td>\n      <td>0.0</td>\n      <td>0.0</td>\n      <td>0.0</td>\n      <td>0.0</td>\n      <td>0.0</td>\n      <td>0.0</td>\n      <td>0.0</td>\n      <td>673.0</td>\n    </tr>\n    <tr>\n      <th>5</th>\n      <td>Prius PHEV</td>\n      <td>PHEV</td>\n      <td>0.0</td>\n      <td>12749.0</td>\n      <td>12088.0</td>\n      <td>13264.0</td>\n      <td>4191.0</td>\n      <td>2474.0</td>\n      <td>20936.0</td>\n      <td>27595.0</td>\n      <td>23630.0</td>\n      <td>116927.0</td>\n    </tr>\n    <tr>\n      <th>6</th>\n      <td>Ford Focus EV</td>\n      <td>EV</td>\n      <td>0.0</td>\n      <td>683.0</td>\n      <td>1738.0</td>\n      <td>1964.0</td>\n      <td>1582.0</td>\n      <td>901.0</td>\n      <td>1817.0</td>\n      <td>560.0</td>\n      <td>0.0</td>\n      <td>9245.0</td>\n    </tr>\n    <tr>\n      <th>7</th>\n      <td>Honda Fit EV</td>\n      <td>EV</td>\n      <td>0.0</td>\n      <td>93.0</td>\n      <td>569.0</td>\n      <td>407.0</td>\n      <td>2.0</td>\n      <td>0.0</td>\n      <td>0.0</td>\n      <td>0.0</td>\n      <td>0.0</td>\n      <td>1071.0</td>\n    </tr>\n    <tr>\n      <th>8</th>\n      <td>Tesla Model S</td>\n      <td>EV</td>\n      <td>0.0</td>\n      <td>2400.0</td>\n      <td>19400.0</td>\n      <td>16750.0</td>\n      <td>26200.0</td>\n      <td>30200.0</td>\n      <td>26500.0</td>\n      <td>25745.0</td>\n      <td>15090.0</td>\n      <td>162285.0</td>\n    </tr>\n    <tr>\n      <th>9</th>\n      <td>Toyota RAV4 EV</td>\n      <td>EV</td>\n      <td>0.0</td>\n      <td>192.0</td>\n      <td>1005.0</td>\n      <td>1184.0</td>\n      <td>18.0</td>\n      <td>0.0</td>\n      <td>0.0</td>\n      <td>0.0</td>\n      <td>0.0</td>\n      <td>2399.0</td>\n    </tr>\n    <tr>\n      <th>10</th>\n      <td>Ford C-Max Energi</td>\n      <td>PHEV</td>\n      <td>0.0</td>\n      <td>2374.0</td>\n      <td>7154.0</td>\n      <td>8433.0</td>\n      <td>7591.0</td>\n      <td>7957.0</td>\n      <td>8140.0</td>\n      <td>582.0</td>\n      <td>0.0</td>\n      <td>42231.0</td>\n    </tr>\n    <tr>\n      <th>11</th>\n      <td>Honda Accord</td>\n      <td>PHEV</td>\n      <td>0.0</td>\n      <td>0.0</td>\n      <td>526.0</td>\n      <td>449.0</td>\n      <td>64.0</td>\n      <td>0.0</td>\n      <td>0.0</td>\n      <td>0.0</td>\n      <td>0.0</td>\n      <td>1039.0</td>\n    </tr>\n    <tr>\n      <th>12</th>\n      <td>Ford Fusion Energi</td>\n      <td>PHEV</td>\n      <td>0.0</td>\n      <td>0.0</td>\n      <td>6089.0</td>\n      <td>11550.0</td>\n      <td>9750.0</td>\n      <td>15938.0</td>\n      <td>9632.0</td>\n      <td>8074.0</td>\n      <td>7476.0</td>\n      <td>68509.0</td>\n    </tr>\n    <tr>\n      <th>13</th>\n      <td>Chevy Spark</td>\n      <td>EV</td>\n      <td>0.0</td>\n      <td>0.0</td>\n      <td>560.0</td>\n      <td>1145.0</td>\n      <td>2629.0</td>\n      <td>3035.0</td>\n      <td>23.0</td>\n      <td>7.0</td>\n      <td>0.0</td>\n      <td>7399.0</td>\n    </tr>\n    <tr>\n      <th>14</th>\n      <td>Fiat 500E</td>\n      <td>EV</td>\n      <td>0.0</td>\n      <td>0.0</td>\n      <td>260.0</td>\n      <td>1503.0</td>\n      <td>3477.0</td>\n      <td>3737.0</td>\n      <td>3336.0</td>\n      <td>2250.0</td>\n      <td>632.0</td>\n      <td>15195.0</td>\n    </tr>\n    <tr>\n      <th>15</th>\n      <td>Porsche Panamera S E-Hybrid</td>\n      <td>PHEV</td>\n      <td>0.0</td>\n      <td>0.0</td>\n      <td>51.0</td>\n      <td>879.0</td>\n      <td>407.0</td>\n      <td>393.0</td>\n      <td>18.0</td>\n      <td>2036.0</td>\n      <td>1958.0</td>\n      <td>5742.0</td>\n    </tr>\n    <tr>\n      <th>16</th>\n      <td>Cadillac ELR</td>\n      <td>PHEV</td>\n      <td>0.0</td>\n      <td>0.0</td>\n      <td>6.0</td>\n      <td>1310.0</td>\n      <td>1024.0</td>\n      <td>534.0</td>\n      <td>17.0</td>\n      <td>1.0</td>\n      <td>0.0</td>\n      <td>2892.0</td>\n    </tr>\n    <tr>\n      <th>17</th>\n      <td>BMW i3</td>\n      <td>EV</td>\n      <td>0.0</td>\n      <td>0.0</td>\n      <td>0.0</td>\n      <td>6092.0</td>\n      <td>11024.0</td>\n      <td>7625.0</td>\n      <td>6276.0</td>\n      <td>6117.0</td>\n      <td>4854.0</td>\n      <td>41988.0</td>\n    </tr>\n    <tr>\n      <th>18</th>\n      <td>Mercedes B-Class (B250e)</td>\n      <td>EV</td>\n      <td>0.0</td>\n      <td>0.0</td>\n      <td>0.0</td>\n      <td>774.0</td>\n      <td>1906.0</td>\n      <td>632.0</td>\n      <td>744.0</td>\n      <td>135.0</td>\n      <td>9.0</td>\n      <td>4200.0</td>\n    </tr>\n    <tr>\n      <th>19</th>\n      <td>BMW i8</td>\n      <td>PHEV</td>\n      <td>0.0</td>\n      <td>0.0</td>\n      <td>0.0</td>\n      <td>555.0</td>\n      <td>2265.0</td>\n      <td>1594.0</td>\n      <td>488.0</td>\n      <td>772.0</td>\n      <td>1102.0</td>\n      <td>6776.0</td>\n    </tr>\n    <tr>\n      <th>20</th>\n      <td>VW e-Golf</td>\n      <td>EV</td>\n      <td>0.0</td>\n      <td>0.0</td>\n      <td>0.0</td>\n      <td>357.0</td>\n      <td>4232.0</td>\n      <td>3937.0</td>\n      <td>3534.0</td>\n      <td>1354.0</td>\n      <td>4863.0</td>\n      <td>18277.0</td>\n    </tr>\n    <tr>\n      <th>21</th>\n      <td>Kia Soul EV</td>\n      <td>EV</td>\n      <td>0.0</td>\n      <td>0.0</td>\n      <td>0.0</td>\n      <td>359.0</td>\n      <td>1015.0</td>\n      <td>1728.0</td>\n      <td>2157.0</td>\n      <td>1134.0</td>\n      <td>114.0</td>\n      <td>6507.0</td>\n    </tr>\n    <tr>\n      <th>22</th>\n      <td>Porsche Cayenne S E-Hybrid</td>\n      <td>PHEV</td>\n      <td>0.0</td>\n      <td>0.0</td>\n      <td>0.0</td>\n      <td>112.0</td>\n      <td>1163.0</td>\n      <td>2111.0</td>\n      <td>1574.0</td>\n      <td>1022.0</td>\n      <td>1140.0</td>\n      <td>7122.0</td>\n    </tr>\n    <tr>\n      <th>23</th>\n      <td>Mercedes S550 Plug</td>\n      <td>PHEV</td>\n      <td>0.0</td>\n      <td>0.0</td>\n      <td>0.0</td>\n      <td>0.0</td>\n      <td>118.0</td>\n      <td>550.0</td>\n      <td>666.0</td>\n      <td>96.0</td>\n      <td>371.0</td>\n      <td>1801.0</td>\n    </tr>\n    <tr>\n      <th>24</th>\n      <td>Volvo-XC90 Plug In</td>\n      <td>PHEV</td>\n      <td>0.0</td>\n      <td>0.0</td>\n      <td>0.0</td>\n      <td>0.0</td>\n      <td>86.0</td>\n      <td>2015.0</td>\n      <td>2358.0</td>\n      <td>1387.0</td>\n      <td>1710.0</td>\n      <td>7556.0</td>\n    </tr>\n    <tr>\n      <th>25</th>\n      <td>Tesla Model X</td>\n      <td>EV</td>\n      <td>0.0</td>\n      <td>0.0</td>\n      <td>0.0</td>\n      <td>0.0</td>\n      <td>208.0</td>\n      <td>19600.0</td>\n      <td>21700.0</td>\n      <td>26100.0</td>\n      <td>19425.0</td>\n      <td>87033.0</td>\n    </tr>\n    <tr>\n      <th>26</th>\n      <td>BMW X5</td>\n      <td>PHEV</td>\n      <td>0.0</td>\n      <td>0.0</td>\n      <td>0.0</td>\n      <td>0.0</td>\n      <td>892.0</td>\n      <td>5995.0</td>\n      <td>5349.0</td>\n      <td>4434.0</td>\n      <td>167.0</td>\n      <td>16837.0</td>\n    </tr>\n    <tr>\n      <th>27</th>\n      <td>Hyundai Sonata Plug In</td>\n      <td>PHEV</td>\n      <td>0.0</td>\n      <td>0.0</td>\n      <td>0.0</td>\n      <td>0.0</td>\n      <td>15.0</td>\n      <td>3000.0</td>\n      <td>2254.0</td>\n      <td>460.0</td>\n      <td>456.0</td>\n      <td>6185.0</td>\n    </tr>\n    <tr>\n      <th>28</th>\n      <td>Audi A3 Plug In</td>\n      <td>PHEV</td>\n      <td>0.0</td>\n      <td>0.0</td>\n      <td>0.0</td>\n      <td>0.0</td>\n      <td>0.0</td>\n      <td>4280.0</td>\n      <td>2877.0</td>\n      <td>2597.0</td>\n      <td>437.0</td>\n      <td>10191.0</td>\n    </tr>\n    <tr>\n      <th>29</th>\n      <td>BMW 3-series Plug-In</td>\n      <td>PHEV</td>\n      <td>0.0</td>\n      <td>0.0</td>\n      <td>0.0</td>\n      <td>0.0</td>\n      <td>0.0</td>\n      <td>880.0</td>\n      <td>4141.0</td>\n      <td>2600.0</td>\n      <td>705.0</td>\n      <td>8326.0</td>\n    </tr>\n    <tr>\n      <th>30</th>\n      <td>Mercedes GLE 550e</td>\n      <td>PHEV</td>\n      <td>0.0</td>\n      <td>0.0</td>\n      <td>0.0</td>\n      <td>0.0</td>\n      <td>0.0</td>\n      <td>231.0</td>\n      <td>463.0</td>\n      <td>966.0</td>\n      <td>1509.0</td>\n      <td>3169.0</td>\n    </tr>\n    <tr>\n      <th>31</th>\n      <td>BMW 7-series Plug-in</td>\n      <td>PHEV</td>\n      <td>0.0</td>\n      <td>0.0</td>\n      <td>0.0</td>\n      <td>0.0</td>\n      <td>0.0</td>\n      <td>23.0</td>\n      <td>707.0</td>\n      <td>339.0</td>\n      <td>80.0</td>\n      <td>1149.0</td>\n    </tr>\n    <tr>\n      <th>32</th>\n      <td>Mercedes C350We</td>\n      <td>PHEV</td>\n      <td>0.0</td>\n      <td>0.0</td>\n      <td>0.0</td>\n      <td>0.0</td>\n      <td>0.0</td>\n      <td>171.0</td>\n      <td>817.0</td>\n      <td>1721.0</td>\n      <td>2172.0</td>\n      <td>4881.0</td>\n    </tr>\n    <tr>\n      <th>33</th>\n      <td>Chevy Bolt</td>\n      <td>EV</td>\n      <td>0.0</td>\n      <td>0.0</td>\n      <td>0.0</td>\n      <td>0.0</td>\n      <td>0.0</td>\n      <td>579.0</td>\n      <td>23297.0</td>\n      <td>18019.0</td>\n      <td>16313.0</td>\n      <td>58208.0</td>\n    </tr>\n    <tr>\n      <th>34</th>\n      <td>Kia Optima Plug-in</td>\n      <td>PHEV</td>\n      <td>0.0</td>\n      <td>0.0</td>\n      <td>0.0</td>\n      <td>0.0</td>\n      <td>0.0</td>\n      <td>0.0</td>\n      <td>1512.0</td>\n      <td>965.0</td>\n      <td>350.0</td>\n      <td>2827.0</td>\n    </tr>\n    <tr>\n      <th>35</th>\n      <td>Hyundai Ioniq EV</td>\n      <td>EV</td>\n      <td>0.0</td>\n      <td>0.0</td>\n      <td>0.0</td>\n      <td>0.0</td>\n      <td>0.0</td>\n      <td>0.0</td>\n      <td>432.0</td>\n      <td>345.0</td>\n      <td>739.0</td>\n      <td>1516.0</td>\n    </tr>\n    <tr>\n      <th>36</th>\n      <td>Chrysler Pacifica Plug-in Hybrid</td>\n      <td>PHEV</td>\n      <td>0.0</td>\n      <td>0.0</td>\n      <td>0.0</td>\n      <td>0.0</td>\n      <td>0.0</td>\n      <td>0.0</td>\n      <td>2981.0</td>\n      <td>7062.0</td>\n      <td>5811.0</td>\n      <td>15854.0</td>\n    </tr>\n    <tr>\n      <th>37</th>\n      <td>Cadillac CT6</td>\n      <td>PHEV</td>\n      <td>0.0</td>\n      <td>0.0</td>\n      <td>0.0</td>\n      <td>0.0</td>\n      <td>0.0</td>\n      <td>0.0</td>\n      <td>205.0</td>\n      <td>231.0</td>\n      <td>25.0</td>\n      <td>461.0</td>\n    </tr>\n    <tr>\n      <th>38</th>\n      <td>BMW 5-Series Plug in</td>\n      <td>PHEV</td>\n      <td>0.0</td>\n      <td>0.0</td>\n      <td>0.0</td>\n      <td>0.0</td>\n      <td>0.0</td>\n      <td>0.0</td>\n      <td>3759.0</td>\n      <td>8664.0</td>\n      <td>5442.0</td>\n      <td>17865.0</td>\n    </tr>\n    <tr>\n      <th>39</th>\n      <td>MINI Countryman S E</td>\n      <td>PHEV</td>\n      <td>0.0</td>\n      <td>0.0</td>\n      <td>0.0</td>\n      <td>0.0</td>\n      <td>0.0</td>\n      <td>0.0</td>\n      <td>475.0</td>\n      <td>1564.0</td>\n      <td>494.0</td>\n      <td>2533.0</td>\n    </tr>\n    <tr>\n      <th>40</th>\n      <td>Porsche Panamera 4 E-H</td>\n      <td>PHEV</td>\n      <td>0.0</td>\n      <td>0.0</td>\n      <td>0.0</td>\n      <td>0.0</td>\n      <td>0.0</td>\n      <td>0.0</td>\n      <td>0.0</td>\n      <td>0.0</td>\n      <td>0.0</td>\n      <td>0.0</td>\n    </tr>\n    <tr>\n      <th>41</th>\n      <td>Tesla Model 3</td>\n      <td>EV</td>\n      <td>0.0</td>\n      <td>0.0</td>\n      <td>0.0</td>\n      <td>0.0</td>\n      <td>0.0</td>\n      <td>0.0</td>\n      <td>1770.0</td>\n      <td>139782.0</td>\n      <td>154840.0</td>\n      <td>296392.0</td>\n    </tr>\n    <tr>\n      <th>42</th>\n      <td>Honda Clarity BEV</td>\n      <td>EV</td>\n      <td>0.0</td>\n      <td>0.0</td>\n      <td>0.0</td>\n      <td>0.0</td>\n      <td>0.0</td>\n      <td>0.0</td>\n      <td>1126.0</td>\n      <td>948.0</td>\n      <td>742.0</td>\n      <td>2816.0</td>\n    </tr>\n    <tr>\n      <th>43</th>\n      <td>Volvo XC60 Plug In</td>\n      <td>PHEV</td>\n      <td>0.0</td>\n      <td>0.0</td>\n      <td>0.0</td>\n      <td>0.0</td>\n      <td>0.0</td>\n      <td>0.0</td>\n      <td>356.0</td>\n      <td>2267.0</td>\n      <td>1682.0</td>\n      <td>4305.0</td>\n    </tr>\n    <tr>\n      <th>44</th>\n      <td>Volvo S90 Plug In</td>\n      <td>PHEV</td>\n      <td>0.0</td>\n      <td>0.0</td>\n      <td>0.0</td>\n      <td>0.0</td>\n      <td>0.0</td>\n      <td>0.0</td>\n      <td>112.0</td>\n      <td>437.0</td>\n      <td>407.0</td>\n      <td>956.0</td>\n    </tr>\n    <tr>\n      <th>45</th>\n      <td>Honda Clarity Plug-in</td>\n      <td>PHEV</td>\n      <td>0.0</td>\n      <td>0.0</td>\n      <td>0.0</td>\n      <td>0.0</td>\n      <td>0.0</td>\n      <td>0.0</td>\n      <td>903.0</td>\n      <td>18602.0</td>\n      <td>10728.0</td>\n      <td>30233.0</td>\n    </tr>\n    <tr>\n      <th>46</th>\n      <td>Mitsubishi Outlander Plug In</td>\n      <td>PHEV</td>\n      <td>0.0</td>\n      <td>0.0</td>\n      <td>0.0</td>\n      <td>0.0</td>\n      <td>0.0</td>\n      <td>0.0</td>\n      <td>0.0</td>\n      <td>4166.0</td>\n      <td>2810.0</td>\n      <td>6976.0</td>\n    </tr>\n    <tr>\n      <th>47</th>\n      <td>Hyundai Ioniq Plug-In</td>\n      <td>PHEV</td>\n      <td>0.0</td>\n      <td>0.0</td>\n      <td>0.0</td>\n      <td>0.0</td>\n      <td>0.0</td>\n      <td>0.0</td>\n      <td>0.0</td>\n      <td>1590.0</td>\n      <td>1765.0</td>\n      <td>3355.0</td>\n    </tr>\n    <tr>\n      <th>48</th>\n      <td>Kia Niro Plug In</td>\n      <td>PHEV</td>\n      <td>0.0</td>\n      <td>0.0</td>\n      <td>0.0</td>\n      <td>0.0</td>\n      <td>0.0</td>\n      <td>0.0</td>\n      <td>0.0</td>\n      <td>3389.0</td>\n      <td>4051.0</td>\n      <td>7440.0</td>\n    </tr>\n    <tr>\n      <th>49</th>\n      <td>Mercedes GLC 350e Hybrid</td>\n      <td>PHEV</td>\n      <td>0.0</td>\n      <td>0.0</td>\n      <td>0.0</td>\n      <td>0.0</td>\n      <td>0.0</td>\n      <td>0.0</td>\n      <td>0.0</td>\n      <td>567.0</td>\n      <td>2459.0</td>\n      <td>3026.0</td>\n    </tr>\n    <tr>\n      <th>50</th>\n      <td>Jaguar I-Pace</td>\n      <td>EV</td>\n      <td>0.0</td>\n      <td>0.0</td>\n      <td>0.0</td>\n      <td>0.0</td>\n      <td>0.0</td>\n      <td>0.0</td>\n      <td>0.0</td>\n      <td>393.0</td>\n      <td>2594.0</td>\n      <td>2987.0</td>\n    </tr>\n    <tr>\n      <th>51</th>\n      <td>Hyundai Kona Electric</td>\n      <td>EV</td>\n      <td>0.0</td>\n      <td>0.0</td>\n      <td>0.0</td>\n      <td>0.0</td>\n      <td>0.0</td>\n      <td>0.0</td>\n      <td>0.0</td>\n      <td>0.0</td>\n      <td>1721.0</td>\n      <td>1721.0</td>\n    </tr>\n    <tr>\n      <th>52</th>\n      <td>Subaru Crosstrek Hybrid</td>\n      <td>PHEV</td>\n      <td>0.0</td>\n      <td>0.0</td>\n      <td>0.0</td>\n      <td>0.0</td>\n      <td>0.0</td>\n      <td>0.0</td>\n      <td>0.0</td>\n      <td>0.0</td>\n      <td>880.0</td>\n      <td>880.0</td>\n    </tr>\n    <tr>\n      <th>53</th>\n      <td>Audi e-tron</td>\n      <td>EV</td>\n      <td>0.0</td>\n      <td>0.0</td>\n      <td>0.0</td>\n      <td>0.0</td>\n      <td>0.0</td>\n      <td>0.0</td>\n      <td>0.0</td>\n      <td>0.0</td>\n      <td>5369.0</td>\n      <td>5369.0</td>\n    </tr>\n    <tr>\n      <th>54</th>\n      <td>Kia Niro EV</td>\n      <td>EV</td>\n      <td>0.0</td>\n      <td>0.0</td>\n      <td>0.0</td>\n      <td>0.0</td>\n      <td>0.0</td>\n      <td>0.0</td>\n      <td>0.0</td>\n      <td>0.0</td>\n      <td>1562.0</td>\n      <td>1562.0</td>\n    </tr>\n    <tr>\n      <th>55</th>\n      <td>Total</td>\n      <td>NaN</td>\n      <td>17763.0</td>\n      <td>53171.0</td>\n      <td>97102.0</td>\n      <td>118882.0</td>\n      <td>114023.0</td>\n      <td>159616.0</td>\n      <td>195581.0</td>\n      <td>361315.0</td>\n      <td>326644.0</td>\n      <td>1444097.0</td>\n    </tr>\n  </tbody>\n</table>\n</div>"
     },
     "metadata": {},
     "execution_count": 324
    }
   ],
   "source": [
    "us_ev_sales_df = us_ev_sales_df.reset_index('Vehicle')\n",
    "us_ev_sales_df"
   ]
  },
  {
   "source": [
    "## (L) Loading - Upload Clean Data into Mongo Database"
   ],
   "cell_type": "markdown",
   "metadata": {}
  },
  {
   "source": [
    "#Connection string \n",
    "conn = 'mongodb://localhost:27017'#local host\n",
    "#Create pymongo object instance of connection to the new client\n",
    "client = pymongo.MongoClient(conn)\n",
    "\n",
    "# Define the 'electric_vehicles' database in Mongo\n",
    "db = client.electric_vehicles\n",
    "# Define new collections to load cleaned data into\n",
    "tesla_prod_coll = db.tesla_production_sales\n",
    "us_ev_sales_coll = db.us_ev_sales"
   ],
   "cell_type": "code",
   "metadata": {},
   "execution_count": 325,
   "outputs": []
  },
  {
   "cell_type": "code",
   "execution_count": 326,
   "metadata": {},
   "outputs": [
    {
     "output_type": "execute_result",
     "data": {
      "text/plain": [
       "[{'Quarter': 'Q3 2012',\n",
       "  'Cumulative_Prod': 0,\n",
       "  'Total_Prod': '350',\n",
       "  'Model_S_Sales': '250',\n",
       "  'ModelX_Sales': 0,\n",
       "  'Model_3_Sales': 0.0,\n",
       "  'Model_Y_Sales': 0.0,\n",
       "  'Total_Sales': '250'},\n",
       " {'Quarter': 'Q4 2012',\n",
       "  'Cumulative_Prod': 0,\n",
       "  'Total_Prod': '2750',\n",
       "  'Model_S_Sales': '2400',\n",
       "  'ModelX_Sales': 0,\n",
       "  'Model_3_Sales': 0.0,\n",
       "  'Model_Y_Sales': 0.0,\n",
       "  'Total_Sales': '2400'},\n",
       " {'Quarter': 'Q1 2013',\n",
       "  'Cumulative_Prod': 0,\n",
       "  'Total_Prod': '5000',\n",
       "  'Model_S_Sales': '4900',\n",
       "  'ModelX_Sales': 0,\n",
       "  'Model_3_Sales': 0.0,\n",
       "  'Model_Y_Sales': 0.0,\n",
       "  'Total_Sales': '4900'},\n",
       " {'Quarter': 'Q2 2013',\n",
       "  'Cumulative_Prod': 0,\n",
       "  'Total_Prod': 0,\n",
       "  'Model_S_Sales': '5150',\n",
       "  'ModelX_Sales': 0,\n",
       "  'Model_3_Sales': 0.0,\n",
       "  'Model_Y_Sales': 0.0,\n",
       "  'Total_Sales': '5150'},\n",
       " {'Quarter': 'Q3 2013',\n",
       "  'Cumulative_Prod': 0,\n",
       "  'Total_Prod': 0,\n",
       "  'Model_S_Sales': '5500',\n",
       "  'ModelX_Sales': 0,\n",
       "  'Model_3_Sales': 0.0,\n",
       "  'Model_Y_Sales': 0.0,\n",
       "  'Total_Sales': '5500'}]"
      ]
     },
     "metadata": {},
     "execution_count": 326
    }
   ],
   "source": [
    "tesla_prod_dict = tesla_prod_clean_df.to_dict('records')\n",
    "tesla_prod_dict[:5]"
   ]
  },
  {
   "cell_type": "code",
   "execution_count": 327,
   "metadata": {},
   "outputs": [
    {
     "output_type": "execute_result",
     "data": {
      "text/plain": [
       "<pymongo.results.InsertManyResult at 0x21664694040>"
      ]
     },
     "metadata": {},
     "execution_count": 327
    }
   ],
   "source": [
    "\n",
    "#Clear collection of existing documents\n",
    "tesla_prod_coll.delete_many({})\n",
    "# Insert new documents in empty collection\n",
    "tesla_prod_coll.insert_many(tesla_prod_dict)"
   ]
  },
  {
   "cell_type": "code",
   "execution_count": 328,
   "metadata": {},
   "outputs": [
    {
     "output_type": "stream",
     "name": "stdout",
     "text": [
      "Index(['Vehicle',    'Type',      2011,      2012,      2013,      2014,\n            2015,      2016,      2017,      2018,      2019,   'Total'],\n      dtype='object')\n"
     ]
    }
   ],
   "source": [
    "# Check column types\n",
    "print(us_ev_sales_df.columns)\n"
   ]
  },
  {
   "cell_type": "code",
   "execution_count": 335,
   "metadata": {},
   "outputs": [
    {
     "output_type": "stream",
     "name": "stdout",
     "text": [
      "Index(['Vehicle', 'Type', '2011', '2012', '2013', '2014', '2015', '2016',\n       '2017', '2018', '2019', 'Total'],\n      dtype='object')\n"
     ]
    }
   ],
   "source": [
    "#Convert column names / keys data types to string due to Pymongo insert error: documents must have only string keys, key was '2011'\n",
    "us_ev_sales_df.columns = ['Vehicle',    'Type',      '2011',      '2012',      '2013',      '2014',\n",
    "            '2015',      '2016',      '2017',      '2018',      '2019',   'Total']\n",
    "print(us_ev_sales_df.columns)"
   ]
  },
  {
   "cell_type": "code",
   "execution_count": 336,
   "metadata": {},
   "outputs": [
    {
     "output_type": "execute_result",
     "data": {
      "text/plain": [
       "[{'Vehicle': 'Chevy Volt',\n",
       "  'Type': 'PHEV',\n",
       "  '2011': 7671.0,\n",
       "  '2012': 23461.0,\n",
       "  '2013': 23094.0,\n",
       "  '2014': 18805.0,\n",
       "  '2015': 15393.0,\n",
       "  '2016': 24739.0,\n",
       "  '2017': 20349.0,\n",
       "  '2018': 18306.0,\n",
       "  '2019': 4915.0,\n",
       "  'Total': 156733.0},\n",
       " {'Vehicle': 'Nissan Leaf',\n",
       "  'Type': 'EV',\n",
       "  '2011': 9674.0,\n",
       "  '2012': 9819.0,\n",
       "  '2013': 22610.0,\n",
       "  '2014': 30200.0,\n",
       "  '2015': 17269.0,\n",
       "  '2016': 14006.0,\n",
       "  '2017': 11230.0,\n",
       "  '2018': 14715.0,\n",
       "  '2019': 12365.0,\n",
       "  'Total': 141888.0},\n",
       " {'Vehicle': 'Smart ED',\n",
       "  'Type': 'EV',\n",
       "  '2011': 342.0,\n",
       "  '2012': 139.0,\n",
       "  '2013': 923.0,\n",
       "  '2014': 2594.0,\n",
       "  '2015': 1387.0,\n",
       "  '2016': 657.0,\n",
       "  '2017': 544.0,\n",
       "  '2018': 1219.0,\n",
       "  '2019': 680.0,\n",
       "  'Total': 8485.0},\n",
       " {'Vehicle': 'Mitsubishi I EV',\n",
       "  'Type': 'EV',\n",
       "  '2011': 76.0,\n",
       "  '2012': 588.0,\n",
       "  '2013': 1029.0,\n",
       "  '2014': 196.0,\n",
       "  '2015': 115.0,\n",
       "  '2016': 94.0,\n",
       "  '2017': 6.0,\n",
       "  '2018': 0.0,\n",
       "  '2019': 0.0,\n",
       "  'Total': 2104.0},\n",
       " {'Vehicle': 'BMW Active E',\n",
       "  'Type': 'EV',\n",
       "  '2011': 0.0,\n",
       "  '2012': 673.0,\n",
       "  '2013': 0.0,\n",
       "  '2014': 0.0,\n",
       "  '2015': 0.0,\n",
       "  '2016': 0.0,\n",
       "  '2017': 0.0,\n",
       "  '2018': 0.0,\n",
       "  '2019': 0.0,\n",
       "  'Total': 673.0}]"
      ]
     },
     "metadata": {},
     "execution_count": 336
    }
   ],
   "source": [
    "us_ev_sales_dict = us_ev_sales_df.to_dict('records')\n",
    "us_ev_sales_dict[:5]"
   ]
  },
  {
   "cell_type": "code",
   "execution_count": 337,
   "metadata": {},
   "outputs": [
    {
     "output_type": "execute_result",
     "data": {
      "text/plain": [
       "<pymongo.results.InsertManyResult at 0x2166415e3c0>"
      ]
     },
     "metadata": {},
     "execution_count": 337
    }
   ],
   "source": [
    "#Clear collection of existing documents\n",
    "us_ev_sales_coll.delete_many({})\n",
    "# Insert new documents in empty collection\n",
    "us_ev_sales_coll.insert_many(us_ev_sales_dict)"
   ]
  },
  {
   "cell_type": "code",
   "execution_count": null,
   "metadata": {},
   "outputs": [],
   "source": []
  }
 ]
}