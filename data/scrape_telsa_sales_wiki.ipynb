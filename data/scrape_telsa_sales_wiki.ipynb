{
 "metadata": {
  "language_info": {
   "codemirror_mode": {
    "name": "ipython",
    "version": 3
   },
   "file_extension": ".py",
   "mimetype": "text/x-python",
   "name": "python",
   "nbconvert_exporter": "python",
   "pygments_lexer": "ipython3",
   "version": "3.8.5-final"
  },
  "orig_nbformat": 2,
  "kernelspec": {
   "name": "python385jvsc74a57bd02c3c5b7e521ed385cd317e5adc75c961fe301f41d1ed6ee19f28764a4ab100bf",
   "display_name": "Python 3.8.5 64-bit (conda)"
  }
 },
 "nbformat": 4,
 "nbformat_minor": 2,
 "cells": [
  {
   "cell_type": "code",
   "execution_count": 3,
   "metadata": {},
   "outputs": [],
   "source": [
    "#Import dependencies\n",
    "import pandas as pd"
   ]
  },
  {
   "source": [
    "### Tesla Wikipedia"
   ],
   "cell_type": "markdown",
   "metadata": {}
  },
  {
   "cell_type": "code",
   "execution_count": 4,
   "metadata": {},
   "outputs": [],
   "source": [
    "# Define url to scrape\n",
    "tesla_wiki_url = 'https://en.wikipedia.org/wiki/History_of_Tesla,_Inc.#Timeline_of_production_and_sales'\n"
   ]
  },
  {
   "cell_type": "code",
   "execution_count": 5,
   "metadata": {},
   "outputs": [
    {
     "output_type": "execute_result",
     "data": {
      "text/plain": [
       "                                                                                                                                                                                                                                                                                                                                                                                                                                                                                                                                                                                                \n",
       " 9   Deepak Ahuja (two-time CFO) Ze'ev Drori (secon...                                                                                                                                                                                                                                                                                                                                                                                                                                                                                                                                                                                                                                                                                                                                                                                                                                                                                                                      \n",
       " 10  Tesla Factory (Fremont, California) European d...                                                                                                                                                                                                                                                                                                                                                                                                                                                                                                                                                                                                                                                                                                                                                                                                                                                                                                                      \n",
       " 11  Criticism of Tesla Lawsuits (list) Dealership ...                                                                                                                                                                                                                                                                                                                                                                                                                                                                                                                                                                                                                                                                                                                                                                                                                                                                                                                      \n",
       " 12  History Timeline SolarCity Tesla Roadster in s...                                                                                                                                                                                                                                                                                                                                                                                                                                                                                                                                                                                                                                                                                                                                                                                                                                                                                                                      \n",
       " 13                                           Category                                                                                                                                                                                                                                                                                                                                                                                                                                                                                                                                                                                                                                                                                                                                                                                                                                                                                                                      \n",
       " \n",
       "    .mw-parser-output .navbar{display:inline;font-size:88%;font-weight:normal}.mw-parser-output .navbar-collapse{float:left;text-align:left}.mw-parser-output .navbar-boxtext{word-spacing:0}.mw-parser-output .navbar ul{display:inline-block;white-space:nowrap;line-height:inherit}.mw-parser-output .navbar-brackets::before{margin-right:-0.125em;content:\"[ \"}.mw-parser-output .navbar-brackets::after{margin-left:-0.125em;content:\" ]\"}.mw-parser-output .navbar li{word-spacing:-0.125em}.mw-parser-output .navbar-mini abbr{font-variant:small-caps;border-bottom:none;text-decoration:none;cursor:inherit}.mw-parser-output .navbar-ct-full{font-size:114%;margin:0 7em}.mw-parser-output .navbar-ct-mini{font-size:114%;margin:0 4em}.mw-parser-output .infobox .navbar{font-size:100%}.mw-parser-output .navbox .navbar{display:block;font-size:100%}.mw-parser-output .navbox-title .navbar{float:left;text-align:left;margin-right:0.5em}vteTesla, Inc..2  \n",
       " 0                                                 NaN                                                                                                                                                                                                                                                                                                                                                                                                                                                                                                                                                                                                                                                                                                                                                                                                                                                                                                                     \n",
       " 1                                                 NaN                                                                                                                                                                                                                                                                                                                                                                                                                                                                                                                                                                                                                                                                                                                                                                                                                                                                                                                     \n",
       " 2                                                 NaN                                                                                                                                                                                                                                                                                                                                                                                                                                                                                                                                                                                                                                                                                                                                                                                                                                                                                                                     \n",
       " 3                                                 NaN                                                                                                                                                                                                                                                                                                                                                                                                                                                                                                                                                                                                                                                                                                                                                                                                                                                                                                                     \n",
       " 4                                                 NaN                                                                                                                                                                                                                                                                                                                                                                                                                                                                                                                                                                                                                                                                                                                                                                                                                                                                                                                     \n",
       " 5                                                 NaN                                                                                                                                                                                                                                                                                                                                                                                                                                                                                                                                                                                                                                                                                                                                                                                                                                                                                                                     \n",
       " 6                                                 NaN                                                                                                                                                                                                                                                                                                                                                                                                                                                                                                                                                                                                                                                                                                                                                                                                                                                                                                                     \n",
       " 7                                                 NaN                                                                                                                                                                                                                                                                                                                                                                                                                                                                                                                                                                                                                                                                                                                                                                                                                                                                                                                     \n",
       " 8                                                 NaN                                                                                                                                                                                                                                                                                                                                                                                                                                                                                                                                                                                                                                                                                                                                                                                                                                                                                                                     \n",
       " 9                                                 NaN                                                                                                                                                                                                                                                                                                                                                                                                                                                                                                                                                                                                                                                                                                                                                                                                                                                                                                                     \n",
       " 10                                                NaN                                                                                                                                                                                                                                                                                                                                                                                                                                                                                                                                                                                                                                                                                                                                                                                                                                                                                                                     \n",
       " 11                                                NaN                                                                                                                                                                                                                                                                                                                                                                                                                                                                                                                                                                                                                                                                                                                                                                                                                                                                                                                     \n",
       " 12                                                NaN                                                                                                                                                                                                                                                                                                                                                                                                                                                                                                                                                                                                                                                                                                                                                                                                                                                                                                                     \n",
       " 13                                           Category                                                                                                                                                                                                                                                                                                                                                                                                                                                                                                                                                                                                                                                                                                                                                                                                                                                                                                                     ,\n",
       "                 0                                                  1\n",
       " 0         Current                    Model S Model 3 Model X Model Y\n",
       " 1          Future  Cybertruck ATV/Cyberquad Roadster (2nd generat...\n",
       " 2    Discontinued                          Roadster (1st generation)\n",
       " 3  Joint projects  Mercedes A-Class E-Cell Mercedes-Benz B-Class ...,\n",
       "             0                                                  1\n",
       " 0  Executives  Robyn Denholm (Chairman) Elon Musk (CEO) Zach ...\n",
       " 1      Others  Larry Ellison (board) Hiromichi Mizuno (board)...\n",
       " 2      Former  Deepak Ahuja (two-time CFO) Ze'ev Drori (secon...]"
      ]
     },
     "metadata": {},
     "execution_count": 5
    }
   ],
   "source": [
    "# Use Panda's `read_html` to parse the url\n",
    "tables = pd.read_html(tesla_wiki_url)\n",
    "tables"
   ]
  },
  {
   "cell_type": "code",
   "execution_count": 8,
   "metadata": {},
   "outputs": [
    {
     "output_type": "execute_result",
     "data": {
      "text/plain": [
       "       Quarter Cumulativeproduction Totalproduction Model Ssales Model Xsales  \\\n",
       "0      Q3 2012                  NaN             350         250+          NaN   \n",
       "1      Q4 2012                  NaN          2,750+         2400          NaN   \n",
       "2      Q1 2013                  NaN          5,000+         4900          NaN   \n",
       "3      Q2 2013                  NaN             NaN         5150          NaN   \n",
       "4      Q3 2013                  NaN             NaN       5,500+          NaN   \n",
       "5      Q4 2013              ~34,851            6587         6892          NaN   \n",
       "6      Q1 2014              ~41,438            7535         6457          NaN   \n",
       "7      Q2 2014              ~48,973            8763         7579          NaN   \n",
       "8      Q3 2014              ~57,736          ~7,075         7785          NaN   \n",
       "9      Q4 2014                64811           11627         9834          NaN   \n",
       "10     Q1 2015                76438           11160        10045          NaN   \n",
       "11     Q2 2015                89245           12807        11532          NaN   \n",
       "12     Q3 2015               102336           13091        11597            6   \n",
       "13     Q4 2015               116373           14037        17272          206   \n",
       "14     Q1 2016               131883           15510        12420         2400   \n",
       "15     Q2 2016               150228           18345         9764         4638   \n",
       "16     Q3 2016               175413           25185        16047         8774   \n",
       "17  Q4 2016[d]               200295           24882        12700         9500   \n",
       "18     Q1 2017               225713           25418      ~13,450      ~11,550   \n",
       "19     Q2 2017               251421           25708      ~12,000      ~10,000   \n",
       "20     Q3 2017               276757           25336        14065        11865   \n",
       "21     Q4 2017               301322           24565      ~15,200      ~13,120   \n",
       "22     Q1 2018               335816           34494        11730        10070   \n",
       "23     Q2 2018               389155           53339        10930        11370   \n",
       "24     Q3 2018               469297           80142        14470        13190   \n",
       "25     Q4 2018               555852           86555        13500        14050   \n",
       "26     Q1 2019               632952           77100        12100        12100   \n",
       "27     Q2 2019               720000           87048        17650        17650   \n",
       "28     Q3 2019               816155           96155        17483        17483   \n",
       "29     Q4 2019               921046          104891        19475        19475   \n",
       "30     Q1 2020              1023718          102672        12230        12230   \n",
       "31     Q2 2020              1105990           82272        10614        10614   \n",
       "32     Q3 2020              1251026          145036        15275        15275   \n",
       "33     Q4 2020              1430783          179757        18966        18966   \n",
       "34     Q1 2021              1611121          180338     2,020[e]     2,020[e]   \n",
       "\n",
       "    Model 3sales  Model Ysales[a] Totalsales[b] In transit[c]           Source  \n",
       "0            NaN              NaN          250+           NaN            [187]  \n",
       "1            NaN              NaN          2400           NaN            [188]  \n",
       "2            NaN              NaN          4900           NaN            [189]  \n",
       "3            NaN              NaN          5150           NaN            [190]  \n",
       "4            NaN              NaN        5,500+           NaN            [191]  \n",
       "5            NaN              NaN          6892           NaN            [192]  \n",
       "6            NaN              NaN          6457           NaN            [193]  \n",
       "7            NaN              NaN          7579           NaN            [194]  \n",
       "8            NaN              NaN          7785           NaN            [195]  \n",
       "9            NaN              NaN          9834           NaN            [196]  \n",
       "10           NaN              NaN         10045           NaN            [197]  \n",
       "11           NaN              NaN         11532           NaN            [198]  \n",
       "12           NaN              NaN         11603           NaN            [199]  \n",
       "13           NaN              NaN         17478           NaN            [200]  \n",
       "14           NaN              NaN         14820          2615            [117]  \n",
       "15           NaN              NaN         14402          5150       [201][202]  \n",
       "16           NaN              NaN         24821          5065            [203]  \n",
       "17           NaN              NaN         22254          6450       [204][205]  \n",
       "18           NaN              NaN         25051        ~4,650            [206]  \n",
       "19           NaN              NaN         22026        ~3,500       [207][208]  \n",
       "20         222.0              NaN         26137          4820       [209][181]  \n",
       "21        1542.0              NaN         29967          3380  [210][211][212]  \n",
       "22        8182.0              NaN         29997          6100            [213]  \n",
       "23       18440.0              NaN         40740         15058       [214][215]  \n",
       "24       56065.0              NaN         83725         11824       [216][217]  \n",
       "25       63359.0              NaN         90700          2907       [218][219]  \n",
       "26       50900.0              NaN         63000         10600            [220]  \n",
       "27       77550.0              NaN         95200          7400       [221][222]  \n",
       "28       79703.0              NaN         97186           NaN            [223]  \n",
       "29       92620.0              NaN        112095           NaN            [224]  \n",
       "30       76266.0          76266.0         88496           NaN            [224]  \n",
       "31       80277.0          80277.0         90891           NaN            [225]  \n",
       "32      124318.0         124318.0        139593           NaN            [224]  \n",
       "33      161701.0         161701.0        180667           NaN            [224]  \n",
       "34      182780.0         182780.0        184800           NaN            [226]  "
      ],
      "text/html": "<div>\n<style scoped>\n    .dataframe tbody tr th:only-of-type {\n        vertical-align: middle;\n    }\n\n    .dataframe tbody tr th {\n        vertical-align: top;\n    }\n\n    .dataframe thead th {\n        text-align: right;\n    }\n</style>\n<table border=\"1\" class=\"dataframe\">\n  <thead>\n    <tr style=\"text-align: right;\">\n      <th></th>\n      <th>Quarter</th>\n      <th>Cumulativeproduction</th>\n      <th>Totalproduction</th>\n      <th>Model Ssales</th>\n      <th>Model Xsales</th>\n      <th>Model 3sales</th>\n      <th>Model Ysales[a]</th>\n      <th>Totalsales[b]</th>\n      <th>In transit[c]</th>\n      <th>Source</th>\n    </tr>\n  </thead>\n  <tbody>\n    <tr>\n      <th>0</th>\n      <td>Q3 2012</td>\n      <td>NaN</td>\n      <td>350</td>\n      <td>250+</td>\n      <td>NaN</td>\n      <td>NaN</td>\n      <td>NaN</td>\n      <td>250+</td>\n      <td>NaN</td>\n      <td>[187]</td>\n    </tr>\n    <tr>\n      <th>1</th>\n      <td>Q4 2012</td>\n      <td>NaN</td>\n      <td>2,750+</td>\n      <td>2400</td>\n      <td>NaN</td>\n      <td>NaN</td>\n      <td>NaN</td>\n      <td>2400</td>\n      <td>NaN</td>\n      <td>[188]</td>\n    </tr>\n    <tr>\n      <th>2</th>\n      <td>Q1 2013</td>\n      <td>NaN</td>\n      <td>5,000+</td>\n      <td>4900</td>\n      <td>NaN</td>\n      <td>NaN</td>\n      <td>NaN</td>\n      <td>4900</td>\n      <td>NaN</td>\n      <td>[189]</td>\n    </tr>\n    <tr>\n      <th>3</th>\n      <td>Q2 2013</td>\n      <td>NaN</td>\n      <td>NaN</td>\n      <td>5150</td>\n      <td>NaN</td>\n      <td>NaN</td>\n      <td>NaN</td>\n      <td>5150</td>\n      <td>NaN</td>\n      <td>[190]</td>\n    </tr>\n    <tr>\n      <th>4</th>\n      <td>Q3 2013</td>\n      <td>NaN</td>\n      <td>NaN</td>\n      <td>5,500+</td>\n      <td>NaN</td>\n      <td>NaN</td>\n      <td>NaN</td>\n      <td>5,500+</td>\n      <td>NaN</td>\n      <td>[191]</td>\n    </tr>\n    <tr>\n      <th>5</th>\n      <td>Q4 2013</td>\n      <td>~34,851</td>\n      <td>6587</td>\n      <td>6892</td>\n      <td>NaN</td>\n      <td>NaN</td>\n      <td>NaN</td>\n      <td>6892</td>\n      <td>NaN</td>\n      <td>[192]</td>\n    </tr>\n    <tr>\n      <th>6</th>\n      <td>Q1 2014</td>\n      <td>~41,438</td>\n      <td>7535</td>\n      <td>6457</td>\n      <td>NaN</td>\n      <td>NaN</td>\n      <td>NaN</td>\n      <td>6457</td>\n      <td>NaN</td>\n      <td>[193]</td>\n    </tr>\n    <tr>\n      <th>7</th>\n      <td>Q2 2014</td>\n      <td>~48,973</td>\n      <td>8763</td>\n      <td>7579</td>\n      <td>NaN</td>\n      <td>NaN</td>\n      <td>NaN</td>\n      <td>7579</td>\n      <td>NaN</td>\n      <td>[194]</td>\n    </tr>\n    <tr>\n      <th>8</th>\n      <td>Q3 2014</td>\n      <td>~57,736</td>\n      <td>~7,075</td>\n      <td>7785</td>\n      <td>NaN</td>\n      <td>NaN</td>\n      <td>NaN</td>\n      <td>7785</td>\n      <td>NaN</td>\n      <td>[195]</td>\n    </tr>\n    <tr>\n      <th>9</th>\n      <td>Q4 2014</td>\n      <td>64811</td>\n      <td>11627</td>\n      <td>9834</td>\n      <td>NaN</td>\n      <td>NaN</td>\n      <td>NaN</td>\n      <td>9834</td>\n      <td>NaN</td>\n      <td>[196]</td>\n    </tr>\n    <tr>\n      <th>10</th>\n      <td>Q1 2015</td>\n      <td>76438</td>\n      <td>11160</td>\n      <td>10045</td>\n      <td>NaN</td>\n      <td>NaN</td>\n      <td>NaN</td>\n      <td>10045</td>\n      <td>NaN</td>\n      <td>[197]</td>\n    </tr>\n    <tr>\n      <th>11</th>\n      <td>Q2 2015</td>\n      <td>89245</td>\n      <td>12807</td>\n      <td>11532</td>\n      <td>NaN</td>\n      <td>NaN</td>\n      <td>NaN</td>\n      <td>11532</td>\n      <td>NaN</td>\n      <td>[198]</td>\n    </tr>\n    <tr>\n      <th>12</th>\n      <td>Q3 2015</td>\n      <td>102336</td>\n      <td>13091</td>\n      <td>11597</td>\n      <td>6</td>\n      <td>NaN</td>\n      <td>NaN</td>\n      <td>11603</td>\n      <td>NaN</td>\n      <td>[199]</td>\n    </tr>\n    <tr>\n      <th>13</th>\n      <td>Q4 2015</td>\n      <td>116373</td>\n      <td>14037</td>\n      <td>17272</td>\n      <td>206</td>\n      <td>NaN</td>\n      <td>NaN</td>\n      <td>17478</td>\n      <td>NaN</td>\n      <td>[200]</td>\n    </tr>\n    <tr>\n      <th>14</th>\n      <td>Q1 2016</td>\n      <td>131883</td>\n      <td>15510</td>\n      <td>12420</td>\n      <td>2400</td>\n      <td>NaN</td>\n      <td>NaN</td>\n      <td>14820</td>\n      <td>2615</td>\n      <td>[117]</td>\n    </tr>\n    <tr>\n      <th>15</th>\n      <td>Q2 2016</td>\n      <td>150228</td>\n      <td>18345</td>\n      <td>9764</td>\n      <td>4638</td>\n      <td>NaN</td>\n      <td>NaN</td>\n      <td>14402</td>\n      <td>5150</td>\n      <td>[201][202]</td>\n    </tr>\n    <tr>\n      <th>16</th>\n      <td>Q3 2016</td>\n      <td>175413</td>\n      <td>25185</td>\n      <td>16047</td>\n      <td>8774</td>\n      <td>NaN</td>\n      <td>NaN</td>\n      <td>24821</td>\n      <td>5065</td>\n      <td>[203]</td>\n    </tr>\n    <tr>\n      <th>17</th>\n      <td>Q4 2016[d]</td>\n      <td>200295</td>\n      <td>24882</td>\n      <td>12700</td>\n      <td>9500</td>\n      <td>NaN</td>\n      <td>NaN</td>\n      <td>22254</td>\n      <td>6450</td>\n      <td>[204][205]</td>\n    </tr>\n    <tr>\n      <th>18</th>\n      <td>Q1 2017</td>\n      <td>225713</td>\n      <td>25418</td>\n      <td>~13,450</td>\n      <td>~11,550</td>\n      <td>NaN</td>\n      <td>NaN</td>\n      <td>25051</td>\n      <td>~4,650</td>\n      <td>[206]</td>\n    </tr>\n    <tr>\n      <th>19</th>\n      <td>Q2 2017</td>\n      <td>251421</td>\n      <td>25708</td>\n      <td>~12,000</td>\n      <td>~10,000</td>\n      <td>NaN</td>\n      <td>NaN</td>\n      <td>22026</td>\n      <td>~3,500</td>\n      <td>[207][208]</td>\n    </tr>\n    <tr>\n      <th>20</th>\n      <td>Q3 2017</td>\n      <td>276757</td>\n      <td>25336</td>\n      <td>14065</td>\n      <td>11865</td>\n      <td>222.0</td>\n      <td>NaN</td>\n      <td>26137</td>\n      <td>4820</td>\n      <td>[209][181]</td>\n    </tr>\n    <tr>\n      <th>21</th>\n      <td>Q4 2017</td>\n      <td>301322</td>\n      <td>24565</td>\n      <td>~15,200</td>\n      <td>~13,120</td>\n      <td>1542.0</td>\n      <td>NaN</td>\n      <td>29967</td>\n      <td>3380</td>\n      <td>[210][211][212]</td>\n    </tr>\n    <tr>\n      <th>22</th>\n      <td>Q1 2018</td>\n      <td>335816</td>\n      <td>34494</td>\n      <td>11730</td>\n      <td>10070</td>\n      <td>8182.0</td>\n      <td>NaN</td>\n      <td>29997</td>\n      <td>6100</td>\n      <td>[213]</td>\n    </tr>\n    <tr>\n      <th>23</th>\n      <td>Q2 2018</td>\n      <td>389155</td>\n      <td>53339</td>\n      <td>10930</td>\n      <td>11370</td>\n      <td>18440.0</td>\n      <td>NaN</td>\n      <td>40740</td>\n      <td>15058</td>\n      <td>[214][215]</td>\n    </tr>\n    <tr>\n      <th>24</th>\n      <td>Q3 2018</td>\n      <td>469297</td>\n      <td>80142</td>\n      <td>14470</td>\n      <td>13190</td>\n      <td>56065.0</td>\n      <td>NaN</td>\n      <td>83725</td>\n      <td>11824</td>\n      <td>[216][217]</td>\n    </tr>\n    <tr>\n      <th>25</th>\n      <td>Q4 2018</td>\n      <td>555852</td>\n      <td>86555</td>\n      <td>13500</td>\n      <td>14050</td>\n      <td>63359.0</td>\n      <td>NaN</td>\n      <td>90700</td>\n      <td>2907</td>\n      <td>[218][219]</td>\n    </tr>\n    <tr>\n      <th>26</th>\n      <td>Q1 2019</td>\n      <td>632952</td>\n      <td>77100</td>\n      <td>12100</td>\n      <td>12100</td>\n      <td>50900.0</td>\n      <td>NaN</td>\n      <td>63000</td>\n      <td>10600</td>\n      <td>[220]</td>\n    </tr>\n    <tr>\n      <th>27</th>\n      <td>Q2 2019</td>\n      <td>720000</td>\n      <td>87048</td>\n      <td>17650</td>\n      <td>17650</td>\n      <td>77550.0</td>\n      <td>NaN</td>\n      <td>95200</td>\n      <td>7400</td>\n      <td>[221][222]</td>\n    </tr>\n    <tr>\n      <th>28</th>\n      <td>Q3 2019</td>\n      <td>816155</td>\n      <td>96155</td>\n      <td>17483</td>\n      <td>17483</td>\n      <td>79703.0</td>\n      <td>NaN</td>\n      <td>97186</td>\n      <td>NaN</td>\n      <td>[223]</td>\n    </tr>\n    <tr>\n      <th>29</th>\n      <td>Q4 2019</td>\n      <td>921046</td>\n      <td>104891</td>\n      <td>19475</td>\n      <td>19475</td>\n      <td>92620.0</td>\n      <td>NaN</td>\n      <td>112095</td>\n      <td>NaN</td>\n      <td>[224]</td>\n    </tr>\n    <tr>\n      <th>30</th>\n      <td>Q1 2020</td>\n      <td>1023718</td>\n      <td>102672</td>\n      <td>12230</td>\n      <td>12230</td>\n      <td>76266.0</td>\n      <td>76266.0</td>\n      <td>88496</td>\n      <td>NaN</td>\n      <td>[224]</td>\n    </tr>\n    <tr>\n      <th>31</th>\n      <td>Q2 2020</td>\n      <td>1105990</td>\n      <td>82272</td>\n      <td>10614</td>\n      <td>10614</td>\n      <td>80277.0</td>\n      <td>80277.0</td>\n      <td>90891</td>\n      <td>NaN</td>\n      <td>[225]</td>\n    </tr>\n    <tr>\n      <th>32</th>\n      <td>Q3 2020</td>\n      <td>1251026</td>\n      <td>145036</td>\n      <td>15275</td>\n      <td>15275</td>\n      <td>124318.0</td>\n      <td>124318.0</td>\n      <td>139593</td>\n      <td>NaN</td>\n      <td>[224]</td>\n    </tr>\n    <tr>\n      <th>33</th>\n      <td>Q4 2020</td>\n      <td>1430783</td>\n      <td>179757</td>\n      <td>18966</td>\n      <td>18966</td>\n      <td>161701.0</td>\n      <td>161701.0</td>\n      <td>180667</td>\n      <td>NaN</td>\n      <td>[224]</td>\n    </tr>\n    <tr>\n      <th>34</th>\n      <td>Q1 2021</td>\n      <td>1611121</td>\n      <td>180338</td>\n      <td>2,020[e]</td>\n      <td>2,020[e]</td>\n      <td>182780.0</td>\n      <td>182780.0</td>\n      <td>184800</td>\n      <td>NaN</td>\n      <td>[226]</td>\n    </tr>\n  </tbody>\n</table>\n</div>"
     },
     "metadata": {},
     "execution_count": 8
    }
   ],
   "source": [
    "#Select table regarding Total Tesla production and sales since 2012\n",
    "tesla_prod_df = tables[4]\n",
    "tesla_prod_df"
   ]
  },
  {
   "cell_type": "code",
   "execution_count": 24,
   "metadata": {},
   "outputs": [
    {
     "output_type": "execute_result",
     "data": {
      "text/plain": [
       "       Quarter Totalsales[b]\n",
       "0      Q3 2012          250+\n",
       "1      Q4 2012          2400\n",
       "2      Q1 2013          4900\n",
       "3      Q2 2013          5150\n",
       "4      Q3 2013        5,500+\n",
       "5      Q4 2013          6892\n",
       "6      Q1 2014          6457\n",
       "7      Q2 2014          7579\n",
       "8      Q3 2014          7785\n",
       "9      Q4 2014          9834\n",
       "10     Q1 2015         10045\n",
       "11     Q2 2015         11532\n",
       "12     Q3 2015         11603\n",
       "13     Q4 2015         17478\n",
       "14     Q1 2016         14820\n",
       "15     Q2 2016         14402\n",
       "16     Q3 2016         24821\n",
       "17  Q4 2016[d]         22254\n",
       "18     Q1 2017         25051\n",
       "19     Q2 2017         22026\n",
       "20     Q3 2017         26137\n",
       "21     Q4 2017         29967\n",
       "22     Q1 2018         29997\n",
       "23     Q2 2018         40740\n",
       "24     Q3 2018         83725\n",
       "25     Q4 2018         90700\n",
       "26     Q1 2019         63000\n",
       "27     Q2 2019         95200\n",
       "28     Q3 2019         97186\n",
       "29     Q4 2019        112095\n",
       "30     Q1 2020         88496\n",
       "31     Q2 2020         90891\n",
       "32     Q3 2020        139593\n",
       "33     Q4 2020        180667\n",
       "34     Q1 2021        184800"
      ],
      "text/html": "<div>\n<style scoped>\n    .dataframe tbody tr th:only-of-type {\n        vertical-align: middle;\n    }\n\n    .dataframe tbody tr th {\n        vertical-align: top;\n    }\n\n    .dataframe thead th {\n        text-align: right;\n    }\n</style>\n<table border=\"1\" class=\"dataframe\">\n  <thead>\n    <tr style=\"text-align: right;\">\n      <th></th>\n      <th>Quarter</th>\n      <th>Totalsales[b]</th>\n    </tr>\n  </thead>\n  <tbody>\n    <tr>\n      <th>0</th>\n      <td>Q3 2012</td>\n      <td>250+</td>\n    </tr>\n    <tr>\n      <th>1</th>\n      <td>Q4 2012</td>\n      <td>2400</td>\n    </tr>\n    <tr>\n      <th>2</th>\n      <td>Q1 2013</td>\n      <td>4900</td>\n    </tr>\n    <tr>\n      <th>3</th>\n      <td>Q2 2013</td>\n      <td>5150</td>\n    </tr>\n    <tr>\n      <th>4</th>\n      <td>Q3 2013</td>\n      <td>5,500+</td>\n    </tr>\n    <tr>\n      <th>5</th>\n      <td>Q4 2013</td>\n      <td>6892</td>\n    </tr>\n    <tr>\n      <th>6</th>\n      <td>Q1 2014</td>\n      <td>6457</td>\n    </tr>\n    <tr>\n      <th>7</th>\n      <td>Q2 2014</td>\n      <td>7579</td>\n    </tr>\n    <tr>\n      <th>8</th>\n      <td>Q3 2014</td>\n      <td>7785</td>\n    </tr>\n    <tr>\n      <th>9</th>\n      <td>Q4 2014</td>\n      <td>9834</td>\n    </tr>\n    <tr>\n      <th>10</th>\n      <td>Q1 2015</td>\n      <td>10045</td>\n    </tr>\n    <tr>\n      <th>11</th>\n      <td>Q2 2015</td>\n      <td>11532</td>\n    </tr>\n    <tr>\n      <th>12</th>\n      <td>Q3 2015</td>\n      <td>11603</td>\n    </tr>\n    <tr>\n      <th>13</th>\n      <td>Q4 2015</td>\n      <td>17478</td>\n    </tr>\n    <tr>\n      <th>14</th>\n      <td>Q1 2016</td>\n      <td>14820</td>\n    </tr>\n    <tr>\n      <th>15</th>\n      <td>Q2 2016</td>\n      <td>14402</td>\n    </tr>\n    <tr>\n      <th>16</th>\n      <td>Q3 2016</td>\n      <td>24821</td>\n    </tr>\n    <tr>\n      <th>17</th>\n      <td>Q4 2016[d]</td>\n      <td>22254</td>\n    </tr>\n    <tr>\n      <th>18</th>\n      <td>Q1 2017</td>\n      <td>25051</td>\n    </tr>\n    <tr>\n      <th>19</th>\n      <td>Q2 2017</td>\n      <td>22026</td>\n    </tr>\n    <tr>\n      <th>20</th>\n      <td>Q3 2017</td>\n      <td>26137</td>\n    </tr>\n    <tr>\n      <th>21</th>\n      <td>Q4 2017</td>\n      <td>29967</td>\n    </tr>\n    <tr>\n      <th>22</th>\n      <td>Q1 2018</td>\n      <td>29997</td>\n    </tr>\n    <tr>\n      <th>23</th>\n      <td>Q2 2018</td>\n      <td>40740</td>\n    </tr>\n    <tr>\n      <th>24</th>\n      <td>Q3 2018</td>\n      <td>83725</td>\n    </tr>\n    <tr>\n      <th>25</th>\n      <td>Q4 2018</td>\n      <td>90700</td>\n    </tr>\n    <tr>\n      <th>26</th>\n      <td>Q1 2019</td>\n      <td>63000</td>\n    </tr>\n    <tr>\n      <th>27</th>\n      <td>Q2 2019</td>\n      <td>95200</td>\n    </tr>\n    <tr>\n      <th>28</th>\n      <td>Q3 2019</td>\n      <td>97186</td>\n    </tr>\n    <tr>\n      <th>29</th>\n      <td>Q4 2019</td>\n      <td>112095</td>\n    </tr>\n    <tr>\n      <th>30</th>\n      <td>Q1 2020</td>\n      <td>88496</td>\n    </tr>\n    <tr>\n      <th>31</th>\n      <td>Q2 2020</td>\n      <td>90891</td>\n    </tr>\n    <tr>\n      <th>32</th>\n      <td>Q3 2020</td>\n      <td>139593</td>\n    </tr>\n    <tr>\n      <th>33</th>\n      <td>Q4 2020</td>\n      <td>180667</td>\n    </tr>\n    <tr>\n      <th>34</th>\n      <td>Q1 2021</td>\n      <td>184800</td>\n    </tr>\n  </tbody>\n</table>\n</div>"
     },
     "metadata": {},
     "execution_count": 24
    }
   ],
   "source": [
    "# Get relevant sales columns columns and create new df\n",
    "tesla_sales_df = tesla_prod_df[['Quarter','Totalsales[b]']]\n",
    "tesla_sales_df"
   ]
  },
  {
   "cell_type": "code",
   "execution_count": 28,
   "metadata": {},
   "outputs": [
    {
     "output_type": "execute_result",
     "data": {
      "text/plain": [
       "    Quarter_Yr Total_Sales\n",
       "0      Q3 2012        250+\n",
       "1      Q4 2012        2400\n",
       "2      Q1 2013        4900\n",
       "3      Q2 2013        5150\n",
       "4      Q3 2013      5,500+\n",
       "5      Q4 2013        6892\n",
       "6      Q1 2014        6457\n",
       "7      Q2 2014        7579\n",
       "8      Q3 2014        7785\n",
       "9      Q4 2014        9834\n",
       "10     Q1 2015       10045\n",
       "11     Q2 2015       11532\n",
       "12     Q3 2015       11603\n",
       "13     Q4 2015       17478\n",
       "14     Q1 2016       14820\n",
       "15     Q2 2016       14402\n",
       "16     Q3 2016       24821\n",
       "17  Q4 2016[d]       22254\n",
       "18     Q1 2017       25051\n",
       "19     Q2 2017       22026\n",
       "20     Q3 2017       26137\n",
       "21     Q4 2017       29967\n",
       "22     Q1 2018       29997\n",
       "23     Q2 2018       40740\n",
       "24     Q3 2018       83725\n",
       "25     Q4 2018       90700\n",
       "26     Q1 2019       63000\n",
       "27     Q2 2019       95200\n",
       "28     Q3 2019       97186\n",
       "29     Q4 2019      112095\n",
       "30     Q1 2020       88496\n",
       "31     Q2 2020       90891\n",
       "32     Q3 2020      139593\n",
       "33     Q4 2020      180667\n",
       "34     Q1 2021      184800"
      ],
      "text/html": "<div>\n<style scoped>\n    .dataframe tbody tr th:only-of-type {\n        vertical-align: middle;\n    }\n\n    .dataframe tbody tr th {\n        vertical-align: top;\n    }\n\n    .dataframe thead th {\n        text-align: right;\n    }\n</style>\n<table border=\"1\" class=\"dataframe\">\n  <thead>\n    <tr style=\"text-align: right;\">\n      <th></th>\n      <th>Quarter_Yr</th>\n      <th>Total_Sales</th>\n    </tr>\n  </thead>\n  <tbody>\n    <tr>\n      <th>0</th>\n      <td>Q3 2012</td>\n      <td>250+</td>\n    </tr>\n    <tr>\n      <th>1</th>\n      <td>Q4 2012</td>\n      <td>2400</td>\n    </tr>\n    <tr>\n      <th>2</th>\n      <td>Q1 2013</td>\n      <td>4900</td>\n    </tr>\n    <tr>\n      <th>3</th>\n      <td>Q2 2013</td>\n      <td>5150</td>\n    </tr>\n    <tr>\n      <th>4</th>\n      <td>Q3 2013</td>\n      <td>5,500+</td>\n    </tr>\n    <tr>\n      <th>5</th>\n      <td>Q4 2013</td>\n      <td>6892</td>\n    </tr>\n    <tr>\n      <th>6</th>\n      <td>Q1 2014</td>\n      <td>6457</td>\n    </tr>\n    <tr>\n      <th>7</th>\n      <td>Q2 2014</td>\n      <td>7579</td>\n    </tr>\n    <tr>\n      <th>8</th>\n      <td>Q3 2014</td>\n      <td>7785</td>\n    </tr>\n    <tr>\n      <th>9</th>\n      <td>Q4 2014</td>\n      <td>9834</td>\n    </tr>\n    <tr>\n      <th>10</th>\n      <td>Q1 2015</td>\n      <td>10045</td>\n    </tr>\n    <tr>\n      <th>11</th>\n      <td>Q2 2015</td>\n      <td>11532</td>\n    </tr>\n    <tr>\n      <th>12</th>\n      <td>Q3 2015</td>\n      <td>11603</td>\n    </tr>\n    <tr>\n      <th>13</th>\n      <td>Q4 2015</td>\n      <td>17478</td>\n    </tr>\n    <tr>\n      <th>14</th>\n      <td>Q1 2016</td>\n      <td>14820</td>\n    </tr>\n    <tr>\n      <th>15</th>\n      <td>Q2 2016</td>\n      <td>14402</td>\n    </tr>\n    <tr>\n      <th>16</th>\n      <td>Q3 2016</td>\n      <td>24821</td>\n    </tr>\n    <tr>\n      <th>17</th>\n      <td>Q4 2016[d]</td>\n      <td>22254</td>\n    </tr>\n    <tr>\n      <th>18</th>\n      <td>Q1 2017</td>\n      <td>25051</td>\n    </tr>\n    <tr>\n      <th>19</th>\n      <td>Q2 2017</td>\n      <td>22026</td>\n    </tr>\n    <tr>\n      <th>20</th>\n      <td>Q3 2017</td>\n      <td>26137</td>\n    </tr>\n    <tr>\n      <th>21</th>\n      <td>Q4 2017</td>\n      <td>29967</td>\n    </tr>\n    <tr>\n      <th>22</th>\n      <td>Q1 2018</td>\n      <td>29997</td>\n    </tr>\n    <tr>\n      <th>23</th>\n      <td>Q2 2018</td>\n      <td>40740</td>\n    </tr>\n    <tr>\n      <th>24</th>\n      <td>Q3 2018</td>\n      <td>83725</td>\n    </tr>\n    <tr>\n      <th>25</th>\n      <td>Q4 2018</td>\n      <td>90700</td>\n    </tr>\n    <tr>\n      <th>26</th>\n      <td>Q1 2019</td>\n      <td>63000</td>\n    </tr>\n    <tr>\n      <th>27</th>\n      <td>Q2 2019</td>\n      <td>95200</td>\n    </tr>\n    <tr>\n      <th>28</th>\n      <td>Q3 2019</td>\n      <td>97186</td>\n    </tr>\n    <tr>\n      <th>29</th>\n      <td>Q4 2019</td>\n      <td>112095</td>\n    </tr>\n    <tr>\n      <th>30</th>\n      <td>Q1 2020</td>\n      <td>88496</td>\n    </tr>\n    <tr>\n      <th>31</th>\n      <td>Q2 2020</td>\n      <td>90891</td>\n    </tr>\n    <tr>\n      <th>32</th>\n      <td>Q3 2020</td>\n      <td>139593</td>\n    </tr>\n    <tr>\n      <th>33</th>\n      <td>Q4 2020</td>\n      <td>180667</td>\n    </tr>\n    <tr>\n      <th>34</th>\n      <td>Q1 2021</td>\n      <td>184800</td>\n    </tr>\n  </tbody>\n</table>\n</div>"
     },
     "metadata": {},
     "execution_count": 28
    }
   ],
   "source": [
    "#Rename columns\n",
    "tesla_sales_df = tesla_sales_df.rename(columns = {'Quarter':'Quarter_Yr','Totalsales[b]':'Total_Sales'})\n",
    "tesla_sales_df"
   ]
  },
  {
   "cell_type": "code",
   "execution_count": 30,
   "metadata": {},
   "outputs": [
    {
     "output_type": "execute_result",
     "data": {
      "text/plain": [
       "dtype('O')"
      ]
     },
     "metadata": {},
     "execution_count": 30
    }
   ],
   "source": [
    "#Check data types\n",
    "tesla_sales_df['Total_Sales'].dtype"
   ]
  },
  {
   "cell_type": "code",
   "execution_count": 18,
   "metadata": {},
   "outputs": [],
   "source": []
  }
 ]
}