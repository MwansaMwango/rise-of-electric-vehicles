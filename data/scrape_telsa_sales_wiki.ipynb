{
 "metadata": {
  "language_info": {
   "codemirror_mode": {
    "name": "ipython",
    "version": 3
   },
   "file_extension": ".py",
   "mimetype": "text/x-python",
   "name": "python",
   "nbconvert_exporter": "python",
   "pygments_lexer": "ipython3",
   "version": "3.8.5-final"
  },
  "orig_nbformat": 2,
  "kernelspec": {
   "name": "python385jvsc74a57bd02c3c5b7e521ed385cd317e5adc75c961fe301f41d1ed6ee19f28764a4ab100bf",
   "display_name": "Python 3.8.5 64-bit (conda)"
  }
 },
 "nbformat": 4,
 "nbformat_minor": 2,
 "cells": [
  {
   "cell_type": "code",
   "execution_count": null,
   "metadata": {},
   "outputs": [],
   "source": [
    "#Import dependencies\n",
    "import pandas as pd\n",
    "import pymongo\n",
    "import json"
   ]
  },
  {
   "source": [
    "## (E) Extract - Scrape Raw Data from sources"
   ],
   "cell_type": "markdown",
   "metadata": {}
  },
  {
   "cell_type": "code",
   "execution_count": null,
   "metadata": {},
   "outputs": [],
   "source": [
    "# Define url to scrape\n",
    "tesla_wiki_url = 'https://en.wikipedia.org/wiki/History_of_Tesla,_Inc.#Timeline_of_production_and_sales'\n"
   ]
  },
  {
   "cell_type": "code",
   "execution_count": null,
   "metadata": {},
   "outputs": [],
   "source": [
    "# Use Panda's `read_html` to parse the url\n",
    "tables = pd.read_html(tesla_wiki_url)\n",
    "tables"
   ]
  },
  {
   "cell_type": "code",
   "execution_count": null,
   "metadata": {},
   "outputs": [],
   "source": [
    "#Select table regarding Total Tesla production and sales since 2012\n",
    "tesla_prod_df = tables[4]\n",
    "tesla_prod_df"
   ]
  },
  {
   "source": [
    "## (T) Transform - Clean Data"
   ],
   "cell_type": "markdown",
   "metadata": {}
  },
  {
   "cell_type": "code",
   "execution_count": null,
   "metadata": {},
   "outputs": [],
   "source": [
    "# Get relevant sales columns columns and create new df\n",
    "tesla_sales_df = tesla_prod_df[['Quarter','Totalsales[b]']]\n",
    "tesla_sales_df"
   ]
  },
  {
   "cell_type": "code",
   "execution_count": null,
   "metadata": {},
   "outputs": [],
   "source": [
    "#Rename columns\n",
    "tesla_sales_df = tesla_sales_df.rename(columns = {'Quarter':'Quarter_Yr','Totalsales[b]':'Total_Sales'})\n",
    "# tesla_sales_df.columns = ['Quarter_Yr', 'Total_Sales']\n",
    "tesla_sales_df"
   ]
  },
  {
   "cell_type": "code",
   "execution_count": null,
   "metadata": {},
   "outputs": [],
   "source": [
    "#Check data types\n",
    "tesla_sales_df['Total_Sales'].dtype"
   ]
  },
  {
   "source": [
    "conn = 'mongodb://localhost:27017'\n",
    "client = pymongo.MongoClient(conn)\n",
    "\n",
    "# Define the 'electric_vehicles' database in Mongo\n",
    "db = client.electric_vehicles"
   ],
   "cell_type": "code",
   "metadata": {},
   "execution_count": null,
   "outputs": []
  },
  {
   "cell_type": "code",
   "execution_count": 95,
   "metadata": {},
   "outputs": [
    {
     "output_type": "execute_result",
     "data": {
      "text/plain": [
       "           Total_Sales\n",
       "Quarter_Yr            \n",
       "Q3 2012            250\n",
       "Q4 2012           2400\n",
       "Q1 2013           4900\n",
       "Q2 2013           5150\n",
       "Q3 2013           5500\n",
       "Q4 2013           6892\n",
       "Q1 2014           6457\n",
       "Q2 2014           7579\n",
       "Q3 2014           7785\n",
       "Q4 2014           9834\n",
       "Q1 2015          10045\n",
       "Q2 2015          11532\n",
       "Q3 2015          11603\n",
       "Q4 2015          17478\n",
       "Q1 2016          14820\n",
       "Q2 2016          14402\n",
       "Q3 2016          24821\n",
       "Q4 2016          22254\n",
       "Q1 2017          25051\n",
       "Q2 2017          22026\n",
       "Q3 2017          26137\n",
       "Q4 2017          29967\n",
       "Q1 2018          29997\n",
       "Q2 2018          40740\n",
       "Q3 2018          83725\n",
       "Q4 2018          90700\n",
       "Q1 2019          63000\n",
       "Q2 2019          95200\n",
       "Q3 2019          97186\n",
       "Q4 2019         112095\n",
       "Q1 2020          88496\n",
       "Q2 2020          90891\n",
       "Q3 2020         139593\n",
       "Q4 2020         180667\n",
       "Q1 2021         184800"
      ],
      "text/html": "<div>\n<style scoped>\n    .dataframe tbody tr th:only-of-type {\n        vertical-align: middle;\n    }\n\n    .dataframe tbody tr th {\n        vertical-align: top;\n    }\n\n    .dataframe thead th {\n        text-align: right;\n    }\n</style>\n<table border=\"1\" class=\"dataframe\">\n  <thead>\n    <tr style=\"text-align: right;\">\n      <th></th>\n      <th>Total_Sales</th>\n    </tr>\n    <tr>\n      <th>Quarter_Yr</th>\n      <th></th>\n    </tr>\n  </thead>\n  <tbody>\n    <tr>\n      <th>Q3 2012</th>\n      <td>250</td>\n    </tr>\n    <tr>\n      <th>Q4 2012</th>\n      <td>2400</td>\n    </tr>\n    <tr>\n      <th>Q1 2013</th>\n      <td>4900</td>\n    </tr>\n    <tr>\n      <th>Q2 2013</th>\n      <td>5150</td>\n    </tr>\n    <tr>\n      <th>Q3 2013</th>\n      <td>5500</td>\n    </tr>\n    <tr>\n      <th>Q4 2013</th>\n      <td>6892</td>\n    </tr>\n    <tr>\n      <th>Q1 2014</th>\n      <td>6457</td>\n    </tr>\n    <tr>\n      <th>Q2 2014</th>\n      <td>7579</td>\n    </tr>\n    <tr>\n      <th>Q3 2014</th>\n      <td>7785</td>\n    </tr>\n    <tr>\n      <th>Q4 2014</th>\n      <td>9834</td>\n    </tr>\n    <tr>\n      <th>Q1 2015</th>\n      <td>10045</td>\n    </tr>\n    <tr>\n      <th>Q2 2015</th>\n      <td>11532</td>\n    </tr>\n    <tr>\n      <th>Q3 2015</th>\n      <td>11603</td>\n    </tr>\n    <tr>\n      <th>Q4 2015</th>\n      <td>17478</td>\n    </tr>\n    <tr>\n      <th>Q1 2016</th>\n      <td>14820</td>\n    </tr>\n    <tr>\n      <th>Q2 2016</th>\n      <td>14402</td>\n    </tr>\n    <tr>\n      <th>Q3 2016</th>\n      <td>24821</td>\n    </tr>\n    <tr>\n      <th>Q4 2016</th>\n      <td>22254</td>\n    </tr>\n    <tr>\n      <th>Q1 2017</th>\n      <td>25051</td>\n    </tr>\n    <tr>\n      <th>Q2 2017</th>\n      <td>22026</td>\n    </tr>\n    <tr>\n      <th>Q3 2017</th>\n      <td>26137</td>\n    </tr>\n    <tr>\n      <th>Q4 2017</th>\n      <td>29967</td>\n    </tr>\n    <tr>\n      <th>Q1 2018</th>\n      <td>29997</td>\n    </tr>\n    <tr>\n      <th>Q2 2018</th>\n      <td>40740</td>\n    </tr>\n    <tr>\n      <th>Q3 2018</th>\n      <td>83725</td>\n    </tr>\n    <tr>\n      <th>Q4 2018</th>\n      <td>90700</td>\n    </tr>\n    <tr>\n      <th>Q1 2019</th>\n      <td>63000</td>\n    </tr>\n    <tr>\n      <th>Q2 2019</th>\n      <td>95200</td>\n    </tr>\n    <tr>\n      <th>Q3 2019</th>\n      <td>97186</td>\n    </tr>\n    <tr>\n      <th>Q4 2019</th>\n      <td>112095</td>\n    </tr>\n    <tr>\n      <th>Q1 2020</th>\n      <td>88496</td>\n    </tr>\n    <tr>\n      <th>Q2 2020</th>\n      <td>90891</td>\n    </tr>\n    <tr>\n      <th>Q3 2020</th>\n      <td>139593</td>\n    </tr>\n    <tr>\n      <th>Q4 2020</th>\n      <td>180667</td>\n    </tr>\n    <tr>\n      <th>Q1 2021</th>\n      <td>184800</td>\n    </tr>\n  </tbody>\n</table>\n</div>"
     },
     "metadata": {},
     "execution_count": 95
    }
   ],
   "source": [
    "tesla_sales_df['Total_Sales'] = tesla_sales_df['Total_Sales'].replace(\n",
    "    {'5,500+': '5500', '250+': '250'})\n",
    "tesla_sales_df['Quarter_Yr'] = tesla_sales_df['Quarter_Yr'].replace(\n",
    "    {'Q4 2016[d]': 'Q4 2016'})\n",
    "tesla_sales_clean_df = tesla_sales_df\n",
    "tesla_sales_clean_df.set_index('Quarter_Yr')\n"
   ]
  },
  {
   "source": [
    "## (L) Loading - Upload Clean Data into Mongo Database"
   ],
   "cell_type": "code",
   "metadata": {},
   "execution_count": null,
   "outputs": []
  },
  {
   "cell_type": "code",
   "execution_count": 89,
   "metadata": {},
   "outputs": [
    {
     "output_type": "error",
     "ename": "NameError",
     "evalue": "name 'dtype' is not defined",
     "traceback": [
      "\u001b[1;31m---------------------------------------------------------------------------\u001b[0m",
      "\u001b[1;31mNameError\u001b[0m                                 Traceback (most recent call last)",
      "\u001b[1;32m<ipython-input-89-0bfc46d67d09>\u001b[0m in \u001b[0;36m<module>\u001b[1;34m\u001b[0m\n\u001b[0;32m      1\u001b[0m \u001b[0mtesla_sales_json\u001b[0m \u001b[1;33m=\u001b[0m \u001b[0mtesla_sales_clean_df\u001b[0m\u001b[1;33m.\u001b[0m\u001b[0mto_json\u001b[0m\u001b[1;33m(\u001b[0m\u001b[1;33m)\u001b[0m\u001b[1;33m\u001b[0m\u001b[1;33m\u001b[0m\u001b[0m\n\u001b[1;32m----> 2\u001b[1;33m \u001b[0mdtype\u001b[0m\u001b[1;33m(\u001b[0m\u001b[0mtesla_sales_json\u001b[0m\u001b[1;33m)\u001b[0m\u001b[1;33m\u001b[0m\u001b[1;33m\u001b[0m\u001b[0m\n\u001b[0m",
      "\u001b[1;31mNameError\u001b[0m: name 'dtype' is not defined"
     ]
    }
   ],
   "source": [
    "# Verify that the Amount column datatype has been made numeric\n",
    "# df['Amount'].dtype"
   ]
  },
  {
   "cell_type": "code",
   "execution_count": 100,
   "metadata": {},
   "outputs": [],
   "source": [
    "tesla_sales_dict = tesla_sales_clean_df.to_dict('records')\n",
    "tesla_sales_dict"
   ]
  },
  {
   "cell_type": "code",
   "execution_count": 102,
   "metadata": {},
   "outputs": [
    {
     "output_type": "error",
     "ename": "SyntaxError",
     "evalue": "invalid syntax (<ipython-input-102-a6242dfbad02>, line 1)",
     "traceback": [
      "\u001b[1;36m  File \u001b[1;32m\"<ipython-input-102-a6242dfbad02>\"\u001b[1;36m, line \u001b[1;32m1\u001b[0m\n\u001b[1;33m    db.electric_vehicles.insert_many(tesla_sales_dict, upsert: True,)\u001b[0m\n\u001b[1;37m                                                             ^\u001b[0m\n\u001b[1;31mSyntaxError\u001b[0m\u001b[1;31m:\u001b[0m invalid syntax\n"
     ]
    }
   ],
   "source": [
    "db.electric_vehicles.insert_many(tesla_sales_dict)"
   ]
  },
  {
   "cell_type": "code",
   "execution_count": null,
   "metadata": {},
   "outputs": [],
   "source": []
  }
 ]
}