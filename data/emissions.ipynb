{
 "cells": [
  {
   "cell_type": "code",
   "execution_count": 1,
   "metadata": {
    "collapsed": true
   },
   "outputs": [],
   "source": [
    "# Dependencies\n",
    "import pandas as pd\n",
    "import pymongo"
   ]
  },
  {
   "cell_type": "code",
   "execution_count": 2,
   "metadata": {
    "collapsed": true
   },
   "outputs": [],
   "source": [
    "# Store filepath in a variable\n",
    "emissions = \"emissions.csv\""
   ]
  },
  {
   "cell_type": "code",
   "execution_count": 3,
   "metadata": {
    "collapsed": true
   },
   "outputs": [],
   "source": [
    "# Read our Data file with the pandas library\n",
    "# Not every CSV requires an encoding, but be aware this can come up\n",
    "emissions_df = pd.read_csv(emissions)"
   ]
  },
  {
   "cell_type": "code",
   "execution_count": 4,
   "metadata": {},
   "outputs": [
    {
     "output_type": "execute_result",
     "data": {
      "text/plain": [
       "  Country Name Country Code      Indicator Name  Indicator Code        1960  \\\n",
       "0        Aruba          ABW  CO2 emissions (kt)  EN.ATM.CO2E.KT  11092.6750   \n",
       "1  Afghanistan          AFG  CO2 emissions (kt)  EN.ATM.CO2E.KT    414.3710   \n",
       "2       Angola          AGO  CO2 emissions (kt)  EN.ATM.CO2E.KT    550.0500   \n",
       "3      Albania          ALB  CO2 emissions (kt)  EN.ATM.CO2E.KT   2024.1840   \n",
       "4   Arab World          ARB  CO2 emissions (kt)  EN.ATM.CO2E.KT  56005.2998   \n",
       "\n",
       "          1961         1962         1963         1964         1965  ...  \\\n",
       "0  11576.71900  12713.48900  12178.10700  11840.74300   10623.2990  ...   \n",
       "1    491.37800    689.39600    707.73100    839.74300    1008.4250  ...   \n",
       "2    454.70800   1180.77400   1151.43800   1224.77800    1188.1080  ...   \n",
       "3   2280.87400   2464.22400   2082.85600   2016.85000    2174.5310  ...   \n",
       "4  62578.60559  70562.05073  85085.75151  99693.91377  120039.5355  ...   \n",
       "\n",
       "          2011         2012         2013         2014         2015  \\\n",
       "0     2500.894     1349.456      861.745      872.746      898.415   \n",
       "1    12240.446    10755.311     9050.156     8467.103     9035.488   \n",
       "2    30586.447    34176.440    33692.396    44851.077    34583.477   \n",
       "3     5240.143     4924.781     4913.780     5489.499     4616.753   \n",
       "4  1660509.275  1841219.035  1823115.056  1932296.314  1953773.933   \n",
       "\n",
       "          2016  2017  2018  2019  2020  \n",
       "0      883.747   NaN   NaN   NaN   NaN  \n",
       "1     8672.455   NaN   NaN   NaN   NaN  \n",
       "2    34693.487   NaN   NaN   NaN   NaN  \n",
       "3     4536.079   NaN   NaN   NaN   NaN  \n",
       "4  1904104.418   NaN   NaN   NaN   NaN  \n",
       "\n",
       "[5 rows x 65 columns]"
      ],
      "text/html": "<div>\n<style scoped>\n    .dataframe tbody tr th:only-of-type {\n        vertical-align: middle;\n    }\n\n    .dataframe tbody tr th {\n        vertical-align: top;\n    }\n\n    .dataframe thead th {\n        text-align: right;\n    }\n</style>\n<table border=\"1\" class=\"dataframe\">\n  <thead>\n    <tr style=\"text-align: right;\">\n      <th></th>\n      <th>Country Name</th>\n      <th>Country Code</th>\n      <th>Indicator Name</th>\n      <th>Indicator Code</th>\n      <th>1960</th>\n      <th>1961</th>\n      <th>1962</th>\n      <th>1963</th>\n      <th>1964</th>\n      <th>1965</th>\n      <th>...</th>\n      <th>2011</th>\n      <th>2012</th>\n      <th>2013</th>\n      <th>2014</th>\n      <th>2015</th>\n      <th>2016</th>\n      <th>2017</th>\n      <th>2018</th>\n      <th>2019</th>\n      <th>2020</th>\n    </tr>\n  </thead>\n  <tbody>\n    <tr>\n      <th>0</th>\n      <td>Aruba</td>\n      <td>ABW</td>\n      <td>CO2 emissions (kt)</td>\n      <td>EN.ATM.CO2E.KT</td>\n      <td>11092.6750</td>\n      <td>11576.71900</td>\n      <td>12713.48900</td>\n      <td>12178.10700</td>\n      <td>11840.74300</td>\n      <td>10623.2990</td>\n      <td>...</td>\n      <td>2500.894</td>\n      <td>1349.456</td>\n      <td>861.745</td>\n      <td>872.746</td>\n      <td>898.415</td>\n      <td>883.747</td>\n      <td>NaN</td>\n      <td>NaN</td>\n      <td>NaN</td>\n      <td>NaN</td>\n    </tr>\n    <tr>\n      <th>1</th>\n      <td>Afghanistan</td>\n      <td>AFG</td>\n      <td>CO2 emissions (kt)</td>\n      <td>EN.ATM.CO2E.KT</td>\n      <td>414.3710</td>\n      <td>491.37800</td>\n      <td>689.39600</td>\n      <td>707.73100</td>\n      <td>839.74300</td>\n      <td>1008.4250</td>\n      <td>...</td>\n      <td>12240.446</td>\n      <td>10755.311</td>\n      <td>9050.156</td>\n      <td>8467.103</td>\n      <td>9035.488</td>\n      <td>8672.455</td>\n      <td>NaN</td>\n      <td>NaN</td>\n      <td>NaN</td>\n      <td>NaN</td>\n    </tr>\n    <tr>\n      <th>2</th>\n      <td>Angola</td>\n      <td>AGO</td>\n      <td>CO2 emissions (kt)</td>\n      <td>EN.ATM.CO2E.KT</td>\n      <td>550.0500</td>\n      <td>454.70800</td>\n      <td>1180.77400</td>\n      <td>1151.43800</td>\n      <td>1224.77800</td>\n      <td>1188.1080</td>\n      <td>...</td>\n      <td>30586.447</td>\n      <td>34176.440</td>\n      <td>33692.396</td>\n      <td>44851.077</td>\n      <td>34583.477</td>\n      <td>34693.487</td>\n      <td>NaN</td>\n      <td>NaN</td>\n      <td>NaN</td>\n      <td>NaN</td>\n    </tr>\n    <tr>\n      <th>3</th>\n      <td>Albania</td>\n      <td>ALB</td>\n      <td>CO2 emissions (kt)</td>\n      <td>EN.ATM.CO2E.KT</td>\n      <td>2024.1840</td>\n      <td>2280.87400</td>\n      <td>2464.22400</td>\n      <td>2082.85600</td>\n      <td>2016.85000</td>\n      <td>2174.5310</td>\n      <td>...</td>\n      <td>5240.143</td>\n      <td>4924.781</td>\n      <td>4913.780</td>\n      <td>5489.499</td>\n      <td>4616.753</td>\n      <td>4536.079</td>\n      <td>NaN</td>\n      <td>NaN</td>\n      <td>NaN</td>\n      <td>NaN</td>\n    </tr>\n    <tr>\n      <th>4</th>\n      <td>Arab World</td>\n      <td>ARB</td>\n      <td>CO2 emissions (kt)</td>\n      <td>EN.ATM.CO2E.KT</td>\n      <td>56005.2998</td>\n      <td>62578.60559</td>\n      <td>70562.05073</td>\n      <td>85085.75151</td>\n      <td>99693.91377</td>\n      <td>120039.5355</td>\n      <td>...</td>\n      <td>1660509.275</td>\n      <td>1841219.035</td>\n      <td>1823115.056</td>\n      <td>1932296.314</td>\n      <td>1953773.933</td>\n      <td>1904104.418</td>\n      <td>NaN</td>\n      <td>NaN</td>\n      <td>NaN</td>\n      <td>NaN</td>\n    </tr>\n  </tbody>\n</table>\n<p>5 rows × 65 columns</p>\n</div>"
     },
     "metadata": {},
     "execution_count": 4
    }
   ],
   "source": [
    "# Show just the header\n",
    "emissions_df.head()"
   ]
  },
  {
   "cell_type": "code",
   "execution_count": 5,
   "metadata": {},
   "outputs": [
    {
     "output_type": "execute_result",
     "data": {
      "text/plain": [
       "  Country Name Country Code      Indicator Name  Indicator Code        1960  \\\n",
       "0        Aruba          ABW  CO2 emissions (kt)  EN.ATM.CO2E.KT  11092.6750   \n",
       "1  Afghanistan          AFG  CO2 emissions (kt)  EN.ATM.CO2E.KT    414.3710   \n",
       "2       Angola          AGO  CO2 emissions (kt)  EN.ATM.CO2E.KT    550.0500   \n",
       "3      Albania          ALB  CO2 emissions (kt)  EN.ATM.CO2E.KT   2024.1840   \n",
       "4   Arab World          ARB  CO2 emissions (kt)  EN.ATM.CO2E.KT  56005.2998   \n",
       "\n",
       "          1961         1962         1963         1964         1965  ...  \\\n",
       "0  11576.71900  12713.48900  12178.10700  11840.74300   10623.2990  ...   \n",
       "1    491.37800    689.39600    707.73100    839.74300    1008.4250  ...   \n",
       "2    454.70800   1180.77400   1151.43800   1224.77800    1188.1080  ...   \n",
       "3   2280.87400   2464.22400   2082.85600   2016.85000    2174.5310  ...   \n",
       "4  62578.60559  70562.05073  85085.75151  99693.91377  120039.5355  ...   \n",
       "\n",
       "          2007         2008         2009         2010         2011  \\\n",
       "0     2823.590     2658.575     2629.239     2508.228     2500.894   \n",
       "1     2273.540     4206.049     6769.282     8463.436    12240.446   \n",
       "2    25151.953    25709.337    27792.193    29057.308    30586.447   \n",
       "3     3927.357     4374.731     4378.398     4598.418     5240.143   \n",
       "4  1360284.651  1491783.271  1581643.106  1643369.717  1660509.275   \n",
       "\n",
       "          2012         2013         2014         2015         2016  \n",
       "0     1349.456      861.745      872.746      898.415      883.747  \n",
       "1    10755.311     9050.156     8467.103     9035.488     8672.455  \n",
       "2    34176.440    33692.396    44851.077    34583.477    34693.487  \n",
       "3     4924.781     4913.780     5489.499     4616.753     4536.079  \n",
       "4  1841219.035  1823115.056  1932296.314  1953773.933  1904104.418  \n",
       "\n",
       "[5 rows x 61 columns]"
      ],
      "text/html": "<div>\n<style scoped>\n    .dataframe tbody tr th:only-of-type {\n        vertical-align: middle;\n    }\n\n    .dataframe tbody tr th {\n        vertical-align: top;\n    }\n\n    .dataframe thead th {\n        text-align: right;\n    }\n</style>\n<table border=\"1\" class=\"dataframe\">\n  <thead>\n    <tr style=\"text-align: right;\">\n      <th></th>\n      <th>Country Name</th>\n      <th>Country Code</th>\n      <th>Indicator Name</th>\n      <th>Indicator Code</th>\n      <th>1960</th>\n      <th>1961</th>\n      <th>1962</th>\n      <th>1963</th>\n      <th>1964</th>\n      <th>1965</th>\n      <th>...</th>\n      <th>2007</th>\n      <th>2008</th>\n      <th>2009</th>\n      <th>2010</th>\n      <th>2011</th>\n      <th>2012</th>\n      <th>2013</th>\n      <th>2014</th>\n      <th>2015</th>\n      <th>2016</th>\n    </tr>\n  </thead>\n  <tbody>\n    <tr>\n      <th>0</th>\n      <td>Aruba</td>\n      <td>ABW</td>\n      <td>CO2 emissions (kt)</td>\n      <td>EN.ATM.CO2E.KT</td>\n      <td>11092.6750</td>\n      <td>11576.71900</td>\n      <td>12713.48900</td>\n      <td>12178.10700</td>\n      <td>11840.74300</td>\n      <td>10623.2990</td>\n      <td>...</td>\n      <td>2823.590</td>\n      <td>2658.575</td>\n      <td>2629.239</td>\n      <td>2508.228</td>\n      <td>2500.894</td>\n      <td>1349.456</td>\n      <td>861.745</td>\n      <td>872.746</td>\n      <td>898.415</td>\n      <td>883.747</td>\n    </tr>\n    <tr>\n      <th>1</th>\n      <td>Afghanistan</td>\n      <td>AFG</td>\n      <td>CO2 emissions (kt)</td>\n      <td>EN.ATM.CO2E.KT</td>\n      <td>414.3710</td>\n      <td>491.37800</td>\n      <td>689.39600</td>\n      <td>707.73100</td>\n      <td>839.74300</td>\n      <td>1008.4250</td>\n      <td>...</td>\n      <td>2273.540</td>\n      <td>4206.049</td>\n      <td>6769.282</td>\n      <td>8463.436</td>\n      <td>12240.446</td>\n      <td>10755.311</td>\n      <td>9050.156</td>\n      <td>8467.103</td>\n      <td>9035.488</td>\n      <td>8672.455</td>\n    </tr>\n    <tr>\n      <th>2</th>\n      <td>Angola</td>\n      <td>AGO</td>\n      <td>CO2 emissions (kt)</td>\n      <td>EN.ATM.CO2E.KT</td>\n      <td>550.0500</td>\n      <td>454.70800</td>\n      <td>1180.77400</td>\n      <td>1151.43800</td>\n      <td>1224.77800</td>\n      <td>1188.1080</td>\n      <td>...</td>\n      <td>25151.953</td>\n      <td>25709.337</td>\n      <td>27792.193</td>\n      <td>29057.308</td>\n      <td>30586.447</td>\n      <td>34176.440</td>\n      <td>33692.396</td>\n      <td>44851.077</td>\n      <td>34583.477</td>\n      <td>34693.487</td>\n    </tr>\n    <tr>\n      <th>3</th>\n      <td>Albania</td>\n      <td>ALB</td>\n      <td>CO2 emissions (kt)</td>\n      <td>EN.ATM.CO2E.KT</td>\n      <td>2024.1840</td>\n      <td>2280.87400</td>\n      <td>2464.22400</td>\n      <td>2082.85600</td>\n      <td>2016.85000</td>\n      <td>2174.5310</td>\n      <td>...</td>\n      <td>3927.357</td>\n      <td>4374.731</td>\n      <td>4378.398</td>\n      <td>4598.418</td>\n      <td>5240.143</td>\n      <td>4924.781</td>\n      <td>4913.780</td>\n      <td>5489.499</td>\n      <td>4616.753</td>\n      <td>4536.079</td>\n    </tr>\n    <tr>\n      <th>4</th>\n      <td>Arab World</td>\n      <td>ARB</td>\n      <td>CO2 emissions (kt)</td>\n      <td>EN.ATM.CO2E.KT</td>\n      <td>56005.2998</td>\n      <td>62578.60559</td>\n      <td>70562.05073</td>\n      <td>85085.75151</td>\n      <td>99693.91377</td>\n      <td>120039.5355</td>\n      <td>...</td>\n      <td>1360284.651</td>\n      <td>1491783.271</td>\n      <td>1581643.106</td>\n      <td>1643369.717</td>\n      <td>1660509.275</td>\n      <td>1841219.035</td>\n      <td>1823115.056</td>\n      <td>1932296.314</td>\n      <td>1953773.933</td>\n      <td>1904104.418</td>\n    </tr>\n  </tbody>\n</table>\n<p>5 rows × 61 columns</p>\n</div>"
     },
     "metadata": {},
     "execution_count": 5
    }
   ],
   "source": [
    "# Delete extraneous column\n",
    "del emissions_df['2017']\n",
    "del emissions_df['2018']\n",
    "del emissions_df['2019']\n",
    "del emissions_df['2020']\n",
    "\n",
    "emissions_df.head()"
   ]
  },
  {
   "cell_type": "code",
   "execution_count": 6,
   "metadata": {},
   "outputs": [
    {
     "output_type": "execute_result",
     "data": {
      "text/plain": [
       "       country iso3code      indicator_name  indicator_code        1960  \\\n",
       "0        Aruba      ABW  CO2 emissions (kt)  EN.ATM.CO2E.KT  11092.6750   \n",
       "1  Afghanistan      AFG  CO2 emissions (kt)  EN.ATM.CO2E.KT    414.3710   \n",
       "2       Angola      AGO  CO2 emissions (kt)  EN.ATM.CO2E.KT    550.0500   \n",
       "3      Albania      ALB  CO2 emissions (kt)  EN.ATM.CO2E.KT   2024.1840   \n",
       "4   Arab World      ARB  CO2 emissions (kt)  EN.ATM.CO2E.KT  56005.2998   \n",
       "\n",
       "          1961         1962         1963         1964         1965  ...  \\\n",
       "0  11576.71900  12713.48900  12178.10700  11840.74300   10623.2990  ...   \n",
       "1    491.37800    689.39600    707.73100    839.74300    1008.4250  ...   \n",
       "2    454.70800   1180.77400   1151.43800   1224.77800    1188.1080  ...   \n",
       "3   2280.87400   2464.22400   2082.85600   2016.85000    2174.5310  ...   \n",
       "4  62578.60559  70562.05073  85085.75151  99693.91377  120039.5355  ...   \n",
       "\n",
       "          2007         2008         2009         2010         2011  \\\n",
       "0     2823.590     2658.575     2629.239     2508.228     2500.894   \n",
       "1     2273.540     4206.049     6769.282     8463.436    12240.446   \n",
       "2    25151.953    25709.337    27792.193    29057.308    30586.447   \n",
       "3     3927.357     4374.731     4378.398     4598.418     5240.143   \n",
       "4  1360284.651  1491783.271  1581643.106  1643369.717  1660509.275   \n",
       "\n",
       "          2012         2013         2014         2015         2016  \n",
       "0     1349.456      861.745      872.746      898.415      883.747  \n",
       "1    10755.311     9050.156     8467.103     9035.488     8672.455  \n",
       "2    34176.440    33692.396    44851.077    34583.477    34693.487  \n",
       "3     4924.781     4913.780     5489.499     4616.753     4536.079  \n",
       "4  1841219.035  1823115.056  1932296.314  1953773.933  1904104.418  \n",
       "\n",
       "[5 rows x 61 columns]"
      ],
      "text/html": "<div>\n<style scoped>\n    .dataframe tbody tr th:only-of-type {\n        vertical-align: middle;\n    }\n\n    .dataframe tbody tr th {\n        vertical-align: top;\n    }\n\n    .dataframe thead th {\n        text-align: right;\n    }\n</style>\n<table border=\"1\" class=\"dataframe\">\n  <thead>\n    <tr style=\"text-align: right;\">\n      <th></th>\n      <th>country</th>\n      <th>iso3code</th>\n      <th>indicator_name</th>\n      <th>indicator_code</th>\n      <th>1960</th>\n      <th>1961</th>\n      <th>1962</th>\n      <th>1963</th>\n      <th>1964</th>\n      <th>1965</th>\n      <th>...</th>\n      <th>2007</th>\n      <th>2008</th>\n      <th>2009</th>\n      <th>2010</th>\n      <th>2011</th>\n      <th>2012</th>\n      <th>2013</th>\n      <th>2014</th>\n      <th>2015</th>\n      <th>2016</th>\n    </tr>\n  </thead>\n  <tbody>\n    <tr>\n      <th>0</th>\n      <td>Aruba</td>\n      <td>ABW</td>\n      <td>CO2 emissions (kt)</td>\n      <td>EN.ATM.CO2E.KT</td>\n      <td>11092.6750</td>\n      <td>11576.71900</td>\n      <td>12713.48900</td>\n      <td>12178.10700</td>\n      <td>11840.74300</td>\n      <td>10623.2990</td>\n      <td>...</td>\n      <td>2823.590</td>\n      <td>2658.575</td>\n      <td>2629.239</td>\n      <td>2508.228</td>\n      <td>2500.894</td>\n      <td>1349.456</td>\n      <td>861.745</td>\n      <td>872.746</td>\n      <td>898.415</td>\n      <td>883.747</td>\n    </tr>\n    <tr>\n      <th>1</th>\n      <td>Afghanistan</td>\n      <td>AFG</td>\n      <td>CO2 emissions (kt)</td>\n      <td>EN.ATM.CO2E.KT</td>\n      <td>414.3710</td>\n      <td>491.37800</td>\n      <td>689.39600</td>\n      <td>707.73100</td>\n      <td>839.74300</td>\n      <td>1008.4250</td>\n      <td>...</td>\n      <td>2273.540</td>\n      <td>4206.049</td>\n      <td>6769.282</td>\n      <td>8463.436</td>\n      <td>12240.446</td>\n      <td>10755.311</td>\n      <td>9050.156</td>\n      <td>8467.103</td>\n      <td>9035.488</td>\n      <td>8672.455</td>\n    </tr>\n    <tr>\n      <th>2</th>\n      <td>Angola</td>\n      <td>AGO</td>\n      <td>CO2 emissions (kt)</td>\n      <td>EN.ATM.CO2E.KT</td>\n      <td>550.0500</td>\n      <td>454.70800</td>\n      <td>1180.77400</td>\n      <td>1151.43800</td>\n      <td>1224.77800</td>\n      <td>1188.1080</td>\n      <td>...</td>\n      <td>25151.953</td>\n      <td>25709.337</td>\n      <td>27792.193</td>\n      <td>29057.308</td>\n      <td>30586.447</td>\n      <td>34176.440</td>\n      <td>33692.396</td>\n      <td>44851.077</td>\n      <td>34583.477</td>\n      <td>34693.487</td>\n    </tr>\n    <tr>\n      <th>3</th>\n      <td>Albania</td>\n      <td>ALB</td>\n      <td>CO2 emissions (kt)</td>\n      <td>EN.ATM.CO2E.KT</td>\n      <td>2024.1840</td>\n      <td>2280.87400</td>\n      <td>2464.22400</td>\n      <td>2082.85600</td>\n      <td>2016.85000</td>\n      <td>2174.5310</td>\n      <td>...</td>\n      <td>3927.357</td>\n      <td>4374.731</td>\n      <td>4378.398</td>\n      <td>4598.418</td>\n      <td>5240.143</td>\n      <td>4924.781</td>\n      <td>4913.780</td>\n      <td>5489.499</td>\n      <td>4616.753</td>\n      <td>4536.079</td>\n    </tr>\n    <tr>\n      <th>4</th>\n      <td>Arab World</td>\n      <td>ARB</td>\n      <td>CO2 emissions (kt)</td>\n      <td>EN.ATM.CO2E.KT</td>\n      <td>56005.2998</td>\n      <td>62578.60559</td>\n      <td>70562.05073</td>\n      <td>85085.75151</td>\n      <td>99693.91377</td>\n      <td>120039.5355</td>\n      <td>...</td>\n      <td>1360284.651</td>\n      <td>1491783.271</td>\n      <td>1581643.106</td>\n      <td>1643369.717</td>\n      <td>1660509.275</td>\n      <td>1841219.035</td>\n      <td>1823115.056</td>\n      <td>1932296.314</td>\n      <td>1953773.933</td>\n      <td>1904104.418</td>\n    </tr>\n  </tbody>\n</table>\n<p>5 rows × 61 columns</p>\n</div>"
     },
     "metadata": {},
     "execution_count": 6
    }
   ],
   "source": [
    "emissions_df = emissions_df.rename(columns={\"Country Name\":\"country\", \"Country Code\":\"iso3code\", \"Indicator Name\":\"indicator_name\", \"Indicator Code\":\"indicator_code\"})\n",
    "\n",
    "emissions_df.head()"
   ]
  },
  {
   "cell_type": "code",
   "execution_count": 7,
   "metadata": {},
   "outputs": [
    {
     "output_type": "execute_result",
     "data": {
      "text/plain": [
       "<pymongo.results.InsertManyResult at 0x29f9e68e848>"
      ]
     },
     "metadata": {},
     "execution_count": 7
    }
   ],
   "source": [
    "# Insert into Mongo\n",
    "conn = 'mongodb://localhost:27017'\n",
    "client = pymongo.MongoClient(conn)\n",
    "\n",
    "# Define the 'electric_vehicles' database in Mongo\n",
    "db = client.electric_vehicles\n",
    "\n",
    "# Drop the 'emissions' collection if it exists\n",
    "db['emissions'].drop()\n",
    "\n",
    "# Insert Emission data\n",
    "\n",
    "data = emissions_df.to_dict(orient='records')  # Here's our added param..\n",
    "db.emissions.insert_many(data)"
   ]
  },
  {
   "cell_type": "code",
   "execution_count": null,
   "metadata": {},
   "outputs": [],
   "source": []
  }
 ],
 "metadata": {
  "anaconda-cloud": {},
  "kernelspec": {
   "name": "python3610jvsc74a57bd02bf60f7f62a9b17f7cccd910bdb7d19f5f505debd48b14e89e2e5eef6906d64c",
   "display_name": "Python 3.6.10 64-bit ('PythonData': conda)"
  },
  "language_info": {
   "codemirror_mode": {
    "name": "ipython",
    "version": 3
   },
   "file_extension": ".py",
   "mimetype": "text/x-python",
   "name": "python",
   "nbconvert_exporter": "python",
   "pygments_lexer": "ipython3",
   "version": "3.6.10"
  }
 },
 "nbformat": 4,
 "nbformat_minor": 2
}